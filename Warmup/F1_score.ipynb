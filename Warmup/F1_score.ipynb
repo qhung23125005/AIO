{
  "nbformat": 4,
  "nbformat_minor": 0,
  "metadata": {
    "colab": {
      "provenance": []
    },
    "kernelspec": {
      "name": "python3",
      "display_name": "Python 3"
    },
    "language_info": {
      "name": "python"
    }
  },
  "cells": [
    {
      "cell_type": "markdown",
      "source": [
        "#Calculate precision"
      ],
      "metadata": {
        "id": "3aoSKrUMNkdf"
      }
    },
    {
      "cell_type": "code",
      "execution_count": null,
      "metadata": {
        "id": "Y-nZS1ENLKP8"
      },
      "outputs": [],
      "source": [
        "def compute_precision(TP, FP):\n",
        "  if TP + FP == 0:\n",
        "    return 0 #Check for edge case\n",
        "  return TP/(TP + FP)"
      ]
    },
    {
      "cell_type": "markdown",
      "source": [
        "#Calculate recall"
      ],
      "metadata": {
        "id": "AH6F5NyuNo7t"
      }
    },
    {
      "cell_type": "code",
      "source": [
        "def compute_recall(TP, FN):\n",
        "  if TP + FN == 0:\n",
        "    return 0 #Check for edge case\n",
        "  return TP/(TP + FN)"
      ],
      "metadata": {
        "id": "olU8JtvKNriO"
      },
      "execution_count": null,
      "outputs": []
    },
    {
      "cell_type": "markdown",
      "source": [
        "#Calculate F1-score"
      ],
      "metadata": {
        "id": "rZDdzY7NN3jG"
      }
    },
    {
      "cell_type": "code",
      "source": [
        "def compute_f1_score(precision, recall):\n",
        "  if precision + recall == 0:\n",
        "    return 0 #Check for edge case\n",
        "  return 2*precision*recall/(precision + recall)"
      ],
      "metadata": {
        "id": "a5fOf5xuN6JG"
      },
      "execution_count": null,
      "outputs": []
    },
    {
      "cell_type": "markdown",
      "source": [
        "#Testing"
      ],
      "metadata": {
        "id": "YmCapSfzN9SE"
      }
    },
    {
      "cell_type": "code",
      "source": [
        "TP = 2\n",
        "TN = 3\n",
        "FP = 10\n",
        "FN = 20\n",
        "precision = compute_precision(TP, FP)\n",
        "recall = compute_recall(TP, FN)\n",
        "f1_score = compute_f1_score(precision, recall)\n",
        "print(\"Precision: \", precision)\n",
        "print(\"Recall: \", recall)\n",
        "print(\"F1-score: \", f1_score)"
      ],
      "metadata": {
        "colab": {
          "base_uri": "https://localhost:8080/"
        },
        "id": "8w1Dzf91N-iz",
        "outputId": "d30eb462-b239-4efa-cc74-c12c98f9823b"
      },
      "execution_count": null,
      "outputs": [
        {
          "output_type": "stream",
          "name": "stdout",
          "text": [
            "Precision:  0.16666666666666666\n",
            "Recall:  0.09090909090909091\n",
            "F1-score:  0.11764705882352942\n"
          ]
        }
      ]
    }
  ]
}