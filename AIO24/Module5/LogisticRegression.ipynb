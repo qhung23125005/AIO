{
  "nbformat": 4,
  "nbformat_minor": 0,
  "metadata": {
    "colab": {
      "provenance": [],
      "toc_visible": true,
      "authorship_tag": "ABX9TyOS5/oy4ZLyVCcvLypD8q8t",
      "include_colab_link": true
    },
    "kernelspec": {
      "name": "python3",
      "display_name": "Python 3"
    },
    "language_info": {
      "name": "python"
    }
  },
  "cells": [
    {
      "cell_type": "markdown",
      "metadata": {
        "id": "view-in-github",
        "colab_type": "text"
      },
      "source": [
        "<a href=\"https://colab.research.google.com/github/qhung23125005/AIO/blob/main/AIO24/Module5/LogisticRegression.ipynb\" target=\"_parent\"><img src=\"https://colab.research.google.com/assets/colab-badge.svg\" alt=\"Open In Colab\"/></a>"
      ]
    },
    {
      "cell_type": "markdown",
      "source": [
        "## **Logistic Regression**\n",
        "Logistic Regression is a supervised learning algorithm used for **binary** and **multiclass classification** tasks. Unlike **Linear Regression**, which predicts continuous values, **Logistic Regression** predicts the **probability** of a class label using the **sigmoid (logistic) function**. The sigmoid function maps any real-valued number to a range between **0 and 1**, making it ideal for classification.\n",
        "\n",
        "### **Formula:**\n",
        "$$ P(Y=1 | X) = \\frac{1}{1 + e^{-(\\beta_0 + \\beta_1X_1 + \\beta_2X_2 + ... + \\beta_nX_n)}} $$\n",
        "\n",
        "where:  \n",
        "- $ P(Y=1 | X) $ is the **probability** of the positive class.  \n",
        "- $ \\beta_0, \\beta_1, ..., \\beta_n $ are the **model coefficients (weights)**.  \n",
        "- $ X_1, X_2, ..., X_n $ are the **input features**.\n",
        "\n",
        "### **Loss Function: Binary Cross-Entropy (Log Loss)**\n",
        "Because the special properties of Logistic Regression, previous loss functions such as MSE cannot be used. Hence, Logistic Regression is trained using the **Binary Cross-Entropy (Log Loss)** function, which measures the difference between actual and predicted probabilities. It is defined as:\n",
        "\n",
        "$$\n",
        "\\mathcal{L} = -\\frac{1}{N} \\sum_{i=1}^{N} \\left[ y_i \\log(\\hat{y}_i) + (1 - y_i) \\log(1 - \\hat{y}_i) \\right]\n",
        "$$\n",
        "\n",
        "where:  \n",
        "- $ N $ is the number of samples.  \n",
        "- $ y_i $ is the actual label (0 or 1).  \n",
        "- $ \\hat{y}_i $ is the predicted probability for class **1**.\n",
        "\n",
        "This loss function penalizes incorrect predictions more when the predicted probability is far from the actual class, forcing the model to adjust its parameters for better classification.\n",
        "\n",
        "\n",
        "In this notebook, we will implement **Logistic Regression** to predict the output of different datasets\n"
      ],
      "metadata": {
        "id": "v4fFclmFnwU8"
      }
    },
    {
      "cell_type": "markdown",
      "source": [
        "#Titanic Survival Prediction"
      ],
      "metadata": {
        "id": "GICVvHFLoLV9"
      }
    },
    {
      "cell_type": "code",
      "source": [
        "import pandas as pd\n",
        "import numpy as np\n",
        "import matplotlib.pyplot as plt\n",
        "\n",
        "from sklearn.model_selection import train_test_split\n",
        "from sklearn.preprocessing import StandardScaler"
      ],
      "metadata": {
        "id": "XUucMfjWoRrR"
      },
      "execution_count": 1,
      "outputs": []
    },
    {
      "cell_type": "markdown",
      "source": [
        "##Data"
      ],
      "metadata": {
        "id": "jSO03g_AoOmy"
      }
    },
    {
      "cell_type": "markdown",
      "source": [
        "Load the data"
      ],
      "metadata": {
        "id": "HDwkfSfXox14"
      }
    },
    {
      "cell_type": "code",
      "execution_count": 3,
      "metadata": {
        "colab": {
          "base_uri": "https://localhost:8080/",
          "height": 237
        },
        "id": "CNX47Q-0nt4r",
        "outputId": "e1128b62-937b-43fd-d0c2-37e5e495daef"
      },
      "outputs": [
        {
          "output_type": "execute_result",
          "data": {
            "text/plain": [
              "             Pclass  Sex   Age  SibSp  Parch     Fare  Embarked  Title  \\\n",
              "PassengerId                                                              \n",
              "1                 3    0  22.0      1      0   7.2500         0      0   \n",
              "2                 1    1  38.0      1      0  71.2833         1      1   \n",
              "3                 3    1  26.0      0      0   7.9250         0      2   \n",
              "4                 1    1  35.0      1      0  53.1000         0      1   \n",
              "5                 3    0  35.0      0      0   8.0500         0      0   \n",
              "\n",
              "             Survived  \n",
              "PassengerId            \n",
              "1                   0  \n",
              "2                   1  \n",
              "3                   1  \n",
              "4                   1  \n",
              "5                   0  "
            ],
            "text/html": [
              "\n",
              "  <div id=\"df-04cbd787-6b6d-40ab-bbfe-6b335e84b3d2\" class=\"colab-df-container\">\n",
              "    <div>\n",
              "<style scoped>\n",
              "    .dataframe tbody tr th:only-of-type {\n",
              "        vertical-align: middle;\n",
              "    }\n",
              "\n",
              "    .dataframe tbody tr th {\n",
              "        vertical-align: top;\n",
              "    }\n",
              "\n",
              "    .dataframe thead th {\n",
              "        text-align: right;\n",
              "    }\n",
              "</style>\n",
              "<table border=\"1\" class=\"dataframe\">\n",
              "  <thead>\n",
              "    <tr style=\"text-align: right;\">\n",
              "      <th></th>\n",
              "      <th>Pclass</th>\n",
              "      <th>Sex</th>\n",
              "      <th>Age</th>\n",
              "      <th>SibSp</th>\n",
              "      <th>Parch</th>\n",
              "      <th>Fare</th>\n",
              "      <th>Embarked</th>\n",
              "      <th>Title</th>\n",
              "      <th>Survived</th>\n",
              "    </tr>\n",
              "    <tr>\n",
              "      <th>PassengerId</th>\n",
              "      <th></th>\n",
              "      <th></th>\n",
              "      <th></th>\n",
              "      <th></th>\n",
              "      <th></th>\n",
              "      <th></th>\n",
              "      <th></th>\n",
              "      <th></th>\n",
              "      <th></th>\n",
              "    </tr>\n",
              "  </thead>\n",
              "  <tbody>\n",
              "    <tr>\n",
              "      <th>1</th>\n",
              "      <td>3</td>\n",
              "      <td>0</td>\n",
              "      <td>22.0</td>\n",
              "      <td>1</td>\n",
              "      <td>0</td>\n",
              "      <td>7.2500</td>\n",
              "      <td>0</td>\n",
              "      <td>0</td>\n",
              "      <td>0</td>\n",
              "    </tr>\n",
              "    <tr>\n",
              "      <th>2</th>\n",
              "      <td>1</td>\n",
              "      <td>1</td>\n",
              "      <td>38.0</td>\n",
              "      <td>1</td>\n",
              "      <td>0</td>\n",
              "      <td>71.2833</td>\n",
              "      <td>1</td>\n",
              "      <td>1</td>\n",
              "      <td>1</td>\n",
              "    </tr>\n",
              "    <tr>\n",
              "      <th>3</th>\n",
              "      <td>3</td>\n",
              "      <td>1</td>\n",
              "      <td>26.0</td>\n",
              "      <td>0</td>\n",
              "      <td>0</td>\n",
              "      <td>7.9250</td>\n",
              "      <td>0</td>\n",
              "      <td>2</td>\n",
              "      <td>1</td>\n",
              "    </tr>\n",
              "    <tr>\n",
              "      <th>4</th>\n",
              "      <td>1</td>\n",
              "      <td>1</td>\n",
              "      <td>35.0</td>\n",
              "      <td>1</td>\n",
              "      <td>0</td>\n",
              "      <td>53.1000</td>\n",
              "      <td>0</td>\n",
              "      <td>1</td>\n",
              "      <td>1</td>\n",
              "    </tr>\n",
              "    <tr>\n",
              "      <th>5</th>\n",
              "      <td>3</td>\n",
              "      <td>0</td>\n",
              "      <td>35.0</td>\n",
              "      <td>0</td>\n",
              "      <td>0</td>\n",
              "      <td>8.0500</td>\n",
              "      <td>0</td>\n",
              "      <td>0</td>\n",
              "      <td>0</td>\n",
              "    </tr>\n",
              "  </tbody>\n",
              "</table>\n",
              "</div>\n",
              "    <div class=\"colab-df-buttons\">\n",
              "\n",
              "  <div class=\"colab-df-container\">\n",
              "    <button class=\"colab-df-convert\" onclick=\"convertToInteractive('df-04cbd787-6b6d-40ab-bbfe-6b335e84b3d2')\"\n",
              "            title=\"Convert this dataframe to an interactive table.\"\n",
              "            style=\"display:none;\">\n",
              "\n",
              "  <svg xmlns=\"http://www.w3.org/2000/svg\" height=\"24px\" viewBox=\"0 -960 960 960\">\n",
              "    <path d=\"M120-120v-720h720v720H120Zm60-500h600v-160H180v160Zm220 220h160v-160H400v160Zm0 220h160v-160H400v160ZM180-400h160v-160H180v160Zm440 0h160v-160H620v160ZM180-180h160v-160H180v160Zm440 0h160v-160H620v160Z\"/>\n",
              "  </svg>\n",
              "    </button>\n",
              "\n",
              "  <style>\n",
              "    .colab-df-container {\n",
              "      display:flex;\n",
              "      gap: 12px;\n",
              "    }\n",
              "\n",
              "    .colab-df-convert {\n",
              "      background-color: #E8F0FE;\n",
              "      border: none;\n",
              "      border-radius: 50%;\n",
              "      cursor: pointer;\n",
              "      display: none;\n",
              "      fill: #1967D2;\n",
              "      height: 32px;\n",
              "      padding: 0 0 0 0;\n",
              "      width: 32px;\n",
              "    }\n",
              "\n",
              "    .colab-df-convert:hover {\n",
              "      background-color: #E2EBFA;\n",
              "      box-shadow: 0px 1px 2px rgba(60, 64, 67, 0.3), 0px 1px 3px 1px rgba(60, 64, 67, 0.15);\n",
              "      fill: #174EA6;\n",
              "    }\n",
              "\n",
              "    .colab-df-buttons div {\n",
              "      margin-bottom: 4px;\n",
              "    }\n",
              "\n",
              "    [theme=dark] .colab-df-convert {\n",
              "      background-color: #3B4455;\n",
              "      fill: #D2E3FC;\n",
              "    }\n",
              "\n",
              "    [theme=dark] .colab-df-convert:hover {\n",
              "      background-color: #434B5C;\n",
              "      box-shadow: 0px 1px 3px 1px rgba(0, 0, 0, 0.15);\n",
              "      filter: drop-shadow(0px 1px 2px rgba(0, 0, 0, 0.3));\n",
              "      fill: #FFFFFF;\n",
              "    }\n",
              "  </style>\n",
              "\n",
              "    <script>\n",
              "      const buttonEl =\n",
              "        document.querySelector('#df-04cbd787-6b6d-40ab-bbfe-6b335e84b3d2 button.colab-df-convert');\n",
              "      buttonEl.style.display =\n",
              "        google.colab.kernel.accessAllowed ? 'block' : 'none';\n",
              "\n",
              "      async function convertToInteractive(key) {\n",
              "        const element = document.querySelector('#df-04cbd787-6b6d-40ab-bbfe-6b335e84b3d2');\n",
              "        const dataTable =\n",
              "          await google.colab.kernel.invokeFunction('convertToInteractive',\n",
              "                                                    [key], {});\n",
              "        if (!dataTable) return;\n",
              "\n",
              "        const docLinkHtml = 'Like what you see? Visit the ' +\n",
              "          '<a target=\"_blank\" href=https://colab.research.google.com/notebooks/data_table.ipynb>data table notebook</a>'\n",
              "          + ' to learn more about interactive tables.';\n",
              "        element.innerHTML = '';\n",
              "        dataTable['output_type'] = 'display_data';\n",
              "        await google.colab.output.renderOutput(dataTable, element);\n",
              "        const docLink = document.createElement('div');\n",
              "        docLink.innerHTML = docLinkHtml;\n",
              "        element.appendChild(docLink);\n",
              "      }\n",
              "    </script>\n",
              "  </div>\n",
              "\n",
              "\n",
              "<div id=\"df-878df7c4-1fed-4ef3-81bc-c494833e8e1c\">\n",
              "  <button class=\"colab-df-quickchart\" onclick=\"quickchart('df-878df7c4-1fed-4ef3-81bc-c494833e8e1c')\"\n",
              "            title=\"Suggest charts\"\n",
              "            style=\"display:none;\">\n",
              "\n",
              "<svg xmlns=\"http://www.w3.org/2000/svg\" height=\"24px\"viewBox=\"0 0 24 24\"\n",
              "     width=\"24px\">\n",
              "    <g>\n",
              "        <path d=\"M19 3H5c-1.1 0-2 .9-2 2v14c0 1.1.9 2 2 2h14c1.1 0 2-.9 2-2V5c0-1.1-.9-2-2-2zM9 17H7v-7h2v7zm4 0h-2V7h2v10zm4 0h-2v-4h2v4z\"/>\n",
              "    </g>\n",
              "</svg>\n",
              "  </button>\n",
              "\n",
              "<style>\n",
              "  .colab-df-quickchart {\n",
              "      --bg-color: #E8F0FE;\n",
              "      --fill-color: #1967D2;\n",
              "      --hover-bg-color: #E2EBFA;\n",
              "      --hover-fill-color: #174EA6;\n",
              "      --disabled-fill-color: #AAA;\n",
              "      --disabled-bg-color: #DDD;\n",
              "  }\n",
              "\n",
              "  [theme=dark] .colab-df-quickchart {\n",
              "      --bg-color: #3B4455;\n",
              "      --fill-color: #D2E3FC;\n",
              "      --hover-bg-color: #434B5C;\n",
              "      --hover-fill-color: #FFFFFF;\n",
              "      --disabled-bg-color: #3B4455;\n",
              "      --disabled-fill-color: #666;\n",
              "  }\n",
              "\n",
              "  .colab-df-quickchart {\n",
              "    background-color: var(--bg-color);\n",
              "    border: none;\n",
              "    border-radius: 50%;\n",
              "    cursor: pointer;\n",
              "    display: none;\n",
              "    fill: var(--fill-color);\n",
              "    height: 32px;\n",
              "    padding: 0;\n",
              "    width: 32px;\n",
              "  }\n",
              "\n",
              "  .colab-df-quickchart:hover {\n",
              "    background-color: var(--hover-bg-color);\n",
              "    box-shadow: 0 1px 2px rgba(60, 64, 67, 0.3), 0 1px 3px 1px rgba(60, 64, 67, 0.15);\n",
              "    fill: var(--button-hover-fill-color);\n",
              "  }\n",
              "\n",
              "  .colab-df-quickchart-complete:disabled,\n",
              "  .colab-df-quickchart-complete:disabled:hover {\n",
              "    background-color: var(--disabled-bg-color);\n",
              "    fill: var(--disabled-fill-color);\n",
              "    box-shadow: none;\n",
              "  }\n",
              "\n",
              "  .colab-df-spinner {\n",
              "    border: 2px solid var(--fill-color);\n",
              "    border-color: transparent;\n",
              "    border-bottom-color: var(--fill-color);\n",
              "    animation:\n",
              "      spin 1s steps(1) infinite;\n",
              "  }\n",
              "\n",
              "  @keyframes spin {\n",
              "    0% {\n",
              "      border-color: transparent;\n",
              "      border-bottom-color: var(--fill-color);\n",
              "      border-left-color: var(--fill-color);\n",
              "    }\n",
              "    20% {\n",
              "      border-color: transparent;\n",
              "      border-left-color: var(--fill-color);\n",
              "      border-top-color: var(--fill-color);\n",
              "    }\n",
              "    30% {\n",
              "      border-color: transparent;\n",
              "      border-left-color: var(--fill-color);\n",
              "      border-top-color: var(--fill-color);\n",
              "      border-right-color: var(--fill-color);\n",
              "    }\n",
              "    40% {\n",
              "      border-color: transparent;\n",
              "      border-right-color: var(--fill-color);\n",
              "      border-top-color: var(--fill-color);\n",
              "    }\n",
              "    60% {\n",
              "      border-color: transparent;\n",
              "      border-right-color: var(--fill-color);\n",
              "    }\n",
              "    80% {\n",
              "      border-color: transparent;\n",
              "      border-right-color: var(--fill-color);\n",
              "      border-bottom-color: var(--fill-color);\n",
              "    }\n",
              "    90% {\n",
              "      border-color: transparent;\n",
              "      border-bottom-color: var(--fill-color);\n",
              "    }\n",
              "  }\n",
              "</style>\n",
              "\n",
              "  <script>\n",
              "    async function quickchart(key) {\n",
              "      const quickchartButtonEl =\n",
              "        document.querySelector('#' + key + ' button');\n",
              "      quickchartButtonEl.disabled = true;  // To prevent multiple clicks.\n",
              "      quickchartButtonEl.classList.add('colab-df-spinner');\n",
              "      try {\n",
              "        const charts = await google.colab.kernel.invokeFunction(\n",
              "            'suggestCharts', [key], {});\n",
              "      } catch (error) {\n",
              "        console.error('Error during call to suggestCharts:', error);\n",
              "      }\n",
              "      quickchartButtonEl.classList.remove('colab-df-spinner');\n",
              "      quickchartButtonEl.classList.add('colab-df-quickchart-complete');\n",
              "    }\n",
              "    (() => {\n",
              "      let quickchartButtonEl =\n",
              "        document.querySelector('#df-878df7c4-1fed-4ef3-81bc-c494833e8e1c button');\n",
              "      quickchartButtonEl.style.display =\n",
              "        google.colab.kernel.accessAllowed ? 'block' : 'none';\n",
              "    })();\n",
              "  </script>\n",
              "</div>\n",
              "\n",
              "    </div>\n",
              "  </div>\n"
            ],
            "application/vnd.google.colaboratory.intrinsic+json": {
              "type": "dataframe",
              "variable_name": "df",
              "summary": "{\n  \"name\": \"df\",\n  \"rows\": 891,\n  \"fields\": [\n    {\n      \"column\": \"PassengerId\",\n      \"properties\": {\n        \"dtype\": \"number\",\n        \"std\": 257,\n        \"min\": 1,\n        \"max\": 891,\n        \"num_unique_values\": 891,\n        \"samples\": [\n          710,\n          440,\n          841\n        ],\n        \"semantic_type\": \"\",\n        \"description\": \"\"\n      }\n    },\n    {\n      \"column\": \"Pclass\",\n      \"properties\": {\n        \"dtype\": \"number\",\n        \"std\": 0,\n        \"min\": 1,\n        \"max\": 3,\n        \"num_unique_values\": 3,\n        \"samples\": [\n          3,\n          1,\n          2\n        ],\n        \"semantic_type\": \"\",\n        \"description\": \"\"\n      }\n    },\n    {\n      \"column\": \"Sex\",\n      \"properties\": {\n        \"dtype\": \"number\",\n        \"std\": 0,\n        \"min\": 0,\n        \"max\": 1,\n        \"num_unique_values\": 2,\n        \"samples\": [\n          1,\n          0\n        ],\n        \"semantic_type\": \"\",\n        \"description\": \"\"\n      }\n    },\n    {\n      \"column\": \"Age\",\n      \"properties\": {\n        \"dtype\": \"number\",\n        \"std\": 13.019696550973194,\n        \"min\": 0.42,\n        \"max\": 80.0,\n        \"num_unique_values\": 88,\n        \"samples\": [\n          0.75,\n          22.0\n        ],\n        \"semantic_type\": \"\",\n        \"description\": \"\"\n      }\n    },\n    {\n      \"column\": \"SibSp\",\n      \"properties\": {\n        \"dtype\": \"number\",\n        \"std\": 1,\n        \"min\": 0,\n        \"max\": 8,\n        \"num_unique_values\": 7,\n        \"samples\": [\n          1,\n          0\n        ],\n        \"semantic_type\": \"\",\n        \"description\": \"\"\n      }\n    },\n    {\n      \"column\": \"Parch\",\n      \"properties\": {\n        \"dtype\": \"number\",\n        \"std\": 0,\n        \"min\": 0,\n        \"max\": 6,\n        \"num_unique_values\": 7,\n        \"samples\": [\n          0,\n          1\n        ],\n        \"semantic_type\": \"\",\n        \"description\": \"\"\n      }\n    },\n    {\n      \"column\": \"Fare\",\n      \"properties\": {\n        \"dtype\": \"number\",\n        \"std\": 49.693428597180905,\n        \"min\": 0.0,\n        \"max\": 512.3292,\n        \"num_unique_values\": 248,\n        \"samples\": [\n          11.2417,\n          51.8625\n        ],\n        \"semantic_type\": \"\",\n        \"description\": \"\"\n      }\n    },\n    {\n      \"column\": \"Embarked\",\n      \"properties\": {\n        \"dtype\": \"number\",\n        \"std\": 0,\n        \"min\": -1,\n        \"max\": 2,\n        \"num_unique_values\": 4,\n        \"samples\": [\n          1,\n          -1\n        ],\n        \"semantic_type\": \"\",\n        \"description\": \"\"\n      }\n    },\n    {\n      \"column\": \"Title\",\n      \"properties\": {\n        \"dtype\": \"number\",\n        \"std\": 1,\n        \"min\": 0,\n        \"max\": 16,\n        \"num_unique_values\": 17,\n        \"samples\": [\n          0,\n          1\n        ],\n        \"semantic_type\": \"\",\n        \"description\": \"\"\n      }\n    },\n    {\n      \"column\": \"Survived\",\n      \"properties\": {\n        \"dtype\": \"number\",\n        \"std\": 0,\n        \"min\": 0,\n        \"max\": 1,\n        \"num_unique_values\": 2,\n        \"samples\": [\n          1,\n          0\n        ],\n        \"semantic_type\": \"\",\n        \"description\": \"\"\n      }\n    }\n  ]\n}"
            }
          },
          "metadata": {},
          "execution_count": 3
        }
      ],
      "source": [
        "df = pd.read_csv('./titanic_modified_dataset.csv', index_col = 'PassengerId')\n",
        "\n",
        "df.head()"
      ]
    },
    {
      "cell_type": "markdown",
      "source": [
        "Split the data to X and y"
      ],
      "metadata": {
        "id": "_jXfROIGozSH"
      }
    },
    {
      "cell_type": "code",
      "source": [
        "dataset_arr = df.to_numpy().astype(np.float64)\n",
        "\n",
        "X = dataset_arr[:, :-1]\n",
        "y = dataset_arr[:, -1]"
      ],
      "metadata": {
        "id": "xMnrRZVpo03t"
      },
      "execution_count": 5,
      "outputs": []
    },
    {
      "cell_type": "markdown",
      "source": [
        "Add bias to X"
      ],
      "metadata": {
        "id": "n7gL-d7fpMM1"
      }
    },
    {
      "cell_type": "code",
      "source": [
        "intercept = np.ones((X.shape[0], 1))\n",
        "\n",
        "X_b = np.concatenate((intercept, X), axis=1)\n",
        "\n",
        "X_b"
      ],
      "metadata": {
        "colab": {
          "base_uri": "https://localhost:8080/"
        },
        "id": "ick8wyoGpFuf",
        "outputId": "17d4ccf0-d4bd-44e1-ce25-017c9dd8eca8"
      },
      "execution_count": 55,
      "outputs": [
        {
          "output_type": "execute_result",
          "data": {
            "text/plain": [
              "array([[ 1.    ,  3.    ,  0.    , ...,  7.25  ,  0.    ,  0.    ],\n",
              "       [ 1.    ,  1.    ,  1.    , ..., 71.2833,  1.    ,  1.    ],\n",
              "       [ 1.    ,  3.    ,  1.    , ...,  7.925 ,  0.    ,  2.    ],\n",
              "       ...,\n",
              "       [ 1.    ,  3.    ,  1.    , ..., 23.45  ,  0.    ,  2.    ],\n",
              "       [ 1.    ,  1.    ,  0.    , ..., 30.    ,  1.    ,  0.    ],\n",
              "       [ 1.    ,  3.    ,  0.    , ...,  7.75  ,  2.    ,  0.    ]])"
            ]
          },
          "metadata": {},
          "execution_count": 55
        }
      ]
    },
    {
      "cell_type": "markdown",
      "source": [
        "Split to train, valid and test (7:2:1)"
      ],
      "metadata": {
        "id": "ZZZzuTw3pWAK"
      }
    },
    {
      "cell_type": "code",
      "source": [
        "val_size = 0.2\n",
        "test_size = 0.125\n",
        "random_state = 2\n",
        "is_shuffle = True\n",
        "\n",
        "X_train, X_val, y_train, y_val = train_test_split(X_b, y,\n",
        "                                                  test_size=val_size,\n",
        "                                                  random_state=random_state,\n",
        "                                                  shuffle=is_shuffle)\n",
        "\n",
        "X_train, X_test, y_train, y_test = train_test_split(X_train, y_train,\n",
        "                                                  test_size=test_size,\n",
        "                                                  random_state=random_state,\n",
        "                                                  shuffle=is_shuffle)"
      ],
      "metadata": {
        "id": "CThRoBQ8pZCd"
      },
      "execution_count": 39,
      "outputs": []
    },
    {
      "cell_type": "markdown",
      "source": [
        "Standardize the dataset"
      ],
      "metadata": {
        "id": "bWtYS0Ctp7xE"
      }
    },
    {
      "cell_type": "code",
      "source": [
        "scaler = StandardScaler()\n",
        "\n",
        "#We don't standardize the bias\n",
        "X_train[:, 1:] = scaler.fit_transform(X_train[:, 1:])\n",
        "X_val[:, 1:] = scaler.transform(X_val[:, 1:])\n",
        "X_test[:, 1:] = scaler.transform(X_test[:, 1:])"
      ],
      "metadata": {
        "id": "vAE-1rlPp9eK"
      },
      "execution_count": 40,
      "outputs": []
    },
    {
      "cell_type": "markdown",
      "source": [
        "##Model"
      ],
      "metadata": {
        "id": "YUQnB8eOqSX_"
      }
    },
    {
      "cell_type": "markdown",
      "source": [
        "###Core components"
      ],
      "metadata": {
        "id": "oc1fK4mJqWL1"
      }
    },
    {
      "cell_type": "markdown",
      "source": [
        "####1. Sigmoid function"
      ],
      "metadata": {
        "id": "M7fJ_XX92OOx"
      }
    },
    {
      "cell_type": "code",
      "source": [
        "def sigmoid(z):\n",
        "  return 1/(1 + np.exp(-z))"
      ],
      "metadata": {
        "id": "7usQNaLrqTvf"
      },
      "execution_count": 11,
      "outputs": []
    },
    {
      "cell_type": "markdown",
      "source": [
        "####2. Predict function"
      ],
      "metadata": {
        "id": "Qo6o_7_92S1i"
      }
    },
    {
      "cell_type": "code",
      "source": [
        "def predict(X, theta):\n",
        "  z = X.dot(theta)\n",
        "  y_pred = sigmoid(z)\n",
        "  return y_pred\n",
        "\n",
        "X_tmp = np.array([[22.3, -1.5, 1.1, 1]])\n",
        "theta = np.array([0.1, -0.15, 0.3, -0.2])\n",
        "predict(X_tmp, theta)"
      ],
      "metadata": {
        "colab": {
          "base_uri": "https://localhost:8080/"
        },
        "id": "FzgLa4lZqmOl",
        "outputId": "1fe06cc4-3bae-49d8-ee54-7dbe0d792c03"
      },
      "execution_count": 69,
      "outputs": [
        {
          "output_type": "execute_result",
          "data": {
            "text/plain": [
              "array([0.92988994])"
            ]
          },
          "metadata": {},
          "execution_count": 69
        }
      ]
    },
    {
      "cell_type": "markdown",
      "source": [
        "#### 3. Compute loss function"
      ],
      "metadata": {
        "id": "xBGtYGwf2VsR"
      }
    },
    {
      "cell_type": "code",
      "source": [
        "def compute_loss(y_hat, y):\n",
        "  y_hat = np.clip(y_hat, 1e-7, 1 - 1e-7)\n",
        "  return (\n",
        "    -y * \\\n",
        "    np.log(y_hat) - (1 - y) * \\\n",
        "    np.log(1 - y_hat)\n",
        "  ).mean ()\n",
        "  return loss\n",
        "\n",
        "y = np.array([1, 0, 0, 1])\n",
        "y_hat = np.array([0.8, 0.75, 0.3, 0.95])\n",
        "compute_loss(y_hat, y)"
      ],
      "metadata": {
        "colab": {
          "base_uri": "https://localhost:8080/"
        },
        "id": "d7-xy1VVq0yg",
        "outputId": "dd778eaf-fb56-496f-bbae-4b022ff2a9ea"
      },
      "execution_count": 70,
      "outputs": [
        {
          "output_type": "execute_result",
          "data": {
            "text/plain": [
              "0.5043515376900958"
            ]
          },
          "metadata": {},
          "execution_count": 70
        }
      ]
    },
    {
      "cell_type": "markdown",
      "source": [
        "####4. Compute gradient function"
      ],
      "metadata": {
        "id": "a2rUyx-p2ZCI"
      }
    },
    {
      "cell_type": "code",
      "source": [
        "def compute_gradient(X, y, y_hat):\n",
        "  gradient = np.dot(X.T, y_hat - y)/y.size\n",
        "  return gradient\n",
        "\n",
        "X = np.array([[1, 3], [2, 1], [3, 2], [1, 2]])\n",
        "y_true = np.array([1, 0, 1, 1])\n",
        "y_pred = np.array([0.7, 0.4, 0.6, 0.85])\n",
        "compute_gradient(X, y_true, y_pred)"
      ],
      "metadata": {
        "colab": {
          "base_uri": "https://localhost:8080/"
        },
        "id": "rW_pPy8xsaUY",
        "outputId": "c226ef00-5743-4f29-c6bf-ba3ef31258a4"
      },
      "execution_count": 79,
      "outputs": [
        {
          "output_type": "execute_result",
          "data": {
            "text/plain": [
              "array([-0.2125, -0.4   ])"
            ]
          },
          "metadata": {},
          "execution_count": 79
        }
      ]
    },
    {
      "cell_type": "markdown",
      "source": [
        "####5. Update theta function"
      ],
      "metadata": {
        "id": "bZ5gR-sZ2bay"
      }
    },
    {
      "cell_type": "code",
      "source": [
        "def update_theta(theta, gradient, learning_rate):\n",
        "  return theta - learning_rate*gradient"
      ],
      "metadata": {
        "id": "_oNEoQAYss9q"
      },
      "execution_count": 15,
      "outputs": []
    },
    {
      "cell_type": "markdown",
      "source": [
        "####6. Compute Accuracy"
      ],
      "metadata": {
        "id": "ahZ48IZK2dcA"
      }
    },
    {
      "cell_type": "code",
      "source": [
        "def compute_accuracy(X, y, theta):\n",
        "  y_hat = predict(X, theta ).round()\n",
        "  acc = ( y_hat == y).mean()\n",
        "  return acc\n",
        "\n",
        "y_true = np.array([1, 0, 1, 1])\n",
        "y_pred = np.array([0.85, 0.35, 0.9, 0.75])\n",
        "y_pred_rounded = np. round ( y_pred )\n",
        "accuracy = np. mean ( y_true == y_pred_rounded )\n",
        "print(accuracy)"
      ],
      "metadata": {
        "colab": {
          "base_uri": "https://localhost:8080/"
        },
        "id": "DPugCR3ls9yr",
        "outputId": "8240e8a4-92ac-4bc5-c711-dc3f0ee7eada"
      },
      "execution_count": 78,
      "outputs": [
        {
          "output_type": "stream",
          "name": "stdout",
          "text": [
            "1.0\n"
          ]
        }
      ]
    },
    {
      "cell_type": "markdown",
      "source": [
        "###Main model"
      ],
      "metadata": {
        "id": "IxFjiuxivmOd"
      }
    },
    {
      "cell_type": "code",
      "source": [
        "def LogisticRegression(X_train, y_train, X_val, y_val, old_theta,\n",
        "                       batch_size, learning_rate, num_iterations):\n",
        "  train_accs = []\n",
        "  train_losses = []\n",
        "  val_accs = []\n",
        "  val_losses = []\n",
        "  theta = old_theta.copy()\n",
        "  for epoch in range(num_iterations):\n",
        "    train_batch_losses = []\n",
        "    train_batch_accs = []\n",
        "    val_batch_losses = []\n",
        "    val_batch_accs = []\n",
        "    for i in range(0, X_train.shape[0], batch_size):\n",
        "      X_batch = X_train[i:i+batch_size]\n",
        "      y_batch = y_train[i:i+batch_size]\n",
        "      y_hat = predict(X_batch, theta)\n",
        "      loss = compute_loss(y_hat, y_batch)\n",
        "      gradient = compute_gradient(X_batch, y_batch, y_hat)\n",
        "      theta = update_theta(theta, gradient, learning_rate)\n",
        "\n",
        "      train_batch_losses.append(loss)\n",
        "      train_batch_acc = compute_accuracy(X_train, y_train, theta)\n",
        "      train_batch_accs.append(train_batch_acc)\n",
        "\n",
        "      val_batch_loss = compute_loss(predict(X_val, theta), y_val)\n",
        "      val_batch_losses.append(val_batch_loss)\n",
        "      val_batch_acc = compute_accuracy(X_val, y_val, theta)\n",
        "      val_batch_accs.append(val_batch_acc)\n",
        "\n",
        "    train_batch_loss = sum (train_batch_losses)/len(train_batch_losses)\n",
        "    train_batch_acc = sum (train_batch_accs)/len(train_batch_accs)\n",
        "    val_batch_loss = sum (val_batch_losses)/len(val_batch_losses)\n",
        "    val_batch_acc = sum (val_batch_accs)/len(val_batch_accs)\n",
        "\n",
        "    train_losses.append(train_batch_loss)\n",
        "    train_accs.append(train_batch_acc)\n",
        "    val_losses.append(val_batch_loss)\n",
        "    val_accs.append(val_batch_acc)\n",
        "    print (f'\\ nEPOCH {epoch + 1}:\\ tTraining loss : {train_batch_loss :.3f}\\ tValidation loss : { val_batch_loss :.3f}')\n",
        "\n",
        "  return train_losses, train_accs, val_losses, val_accs, theta"
      ],
      "metadata": {
        "id": "7rkRb22BtfTX"
      },
      "execution_count": 44,
      "outputs": []
    },
    {
      "cell_type": "markdown",
      "source": [
        "##Running"
      ],
      "metadata": {
        "id": "MycIh1xTvpsk"
      }
    },
    {
      "cell_type": "markdown",
      "source": [
        "###Running the model"
      ],
      "metadata": {
        "id": "0TlABNOj2hth"
      }
    },
    {
      "cell_type": "code",
      "source": [
        "learning_rate = 0.01\n",
        "epochs = 100\n",
        "batch_size = 16\n",
        "\n",
        "np.random.seed(random_state)\n",
        "theta = np.random.uniform(size = X_train.shape[1])"
      ],
      "metadata": {
        "id": "cYojyVH8vnoz"
      },
      "execution_count": 51,
      "outputs": []
    },
    {
      "cell_type": "code",
      "source": [
        "train_losses, train_accs, val_losses, val_accs, theta = LogisticRegression(X_train, y_train,\n",
        "                                                                         X_val, y_val,\n",
        "                                                                         theta, batch_size,\n",
        "                                                                        learning_rate,\n",
        "                                                                        epochs)"
      ],
      "metadata": {
        "colab": {
          "base_uri": "https://localhost:8080/"
        },
        "id": "p9R6UNNmwDMQ",
        "outputId": "bfb5b0c4-db39-4b43-d647-dd01d065f09a"
      },
      "execution_count": 52,
      "outputs": [
        {
          "output_type": "stream",
          "name": "stdout",
          "text": [
            "\\ nEPOCH 1:\\ tTraining loss : 0.703\\ tValidation loss : 0.599\n",
            "\\ nEPOCH 2:\\ tTraining loss : 0.670\\ tValidation loss : 0.582\n",
            "\\ nEPOCH 3:\\ tTraining loss : 0.640\\ tValidation loss : 0.567\n",
            "\\ nEPOCH 4:\\ tTraining loss : 0.614\\ tValidation loss : 0.555\n",
            "\\ nEPOCH 5:\\ tTraining loss : 0.592\\ tValidation loss : 0.544\n",
            "\\ nEPOCH 6:\\ tTraining loss : 0.572\\ tValidation loss : 0.535\n",
            "\\ nEPOCH 7:\\ tTraining loss : 0.554\\ tValidation loss : 0.528\n",
            "\\ nEPOCH 8:\\ tTraining loss : 0.539\\ tValidation loss : 0.522\n",
            "\\ nEPOCH 9:\\ tTraining loss : 0.526\\ tValidation loss : 0.517\n",
            "\\ nEPOCH 10:\\ tTraining loss : 0.514\\ tValidation loss : 0.513\n",
            "\\ nEPOCH 11:\\ tTraining loss : 0.504\\ tValidation loss : 0.509\n",
            "\\ nEPOCH 12:\\ tTraining loss : 0.495\\ tValidation loss : 0.507\n",
            "\\ nEPOCH 13:\\ tTraining loss : 0.487\\ tValidation loss : 0.505\n",
            "\\ nEPOCH 14:\\ tTraining loss : 0.480\\ tValidation loss : 0.503\n",
            "\\ nEPOCH 15:\\ tTraining loss : 0.474\\ tValidation loss : 0.502\n",
            "\\ nEPOCH 16:\\ tTraining loss : 0.468\\ tValidation loss : 0.501\n",
            "\\ nEPOCH 17:\\ tTraining loss : 0.463\\ tValidation loss : 0.500\n",
            "\\ nEPOCH 18:\\ tTraining loss : 0.459\\ tValidation loss : 0.500\n",
            "\\ nEPOCH 19:\\ tTraining loss : 0.455\\ tValidation loss : 0.500\n",
            "\\ nEPOCH 20:\\ tTraining loss : 0.452\\ tValidation loss : 0.500\n",
            "\\ nEPOCH 21:\\ tTraining loss : 0.449\\ tValidation loss : 0.499\n",
            "\\ nEPOCH 22:\\ tTraining loss : 0.446\\ tValidation loss : 0.500\n",
            "\\ nEPOCH 23:\\ tTraining loss : 0.443\\ tValidation loss : 0.500\n",
            "\\ nEPOCH 24:\\ tTraining loss : 0.441\\ tValidation loss : 0.500\n",
            "\\ nEPOCH 25:\\ tTraining loss : 0.439\\ tValidation loss : 0.500\n",
            "\\ nEPOCH 26:\\ tTraining loss : 0.437\\ tValidation loss : 0.500\n",
            "\\ nEPOCH 27:\\ tTraining loss : 0.435\\ tValidation loss : 0.501\n",
            "\\ nEPOCH 28:\\ tTraining loss : 0.434\\ tValidation loss : 0.501\n",
            "\\ nEPOCH 29:\\ tTraining loss : 0.432\\ tValidation loss : 0.502\n",
            "\\ nEPOCH 30:\\ tTraining loss : 0.431\\ tValidation loss : 0.502\n",
            "\\ nEPOCH 31:\\ tTraining loss : 0.430\\ tValidation loss : 0.502\n",
            "\\ nEPOCH 32:\\ tTraining loss : 0.429\\ tValidation loss : 0.503\n",
            "\\ nEPOCH 33:\\ tTraining loss : 0.428\\ tValidation loss : 0.503\n",
            "\\ nEPOCH 34:\\ tTraining loss : 0.427\\ tValidation loss : 0.504\n",
            "\\ nEPOCH 35:\\ tTraining loss : 0.426\\ tValidation loss : 0.504\n",
            "\\ nEPOCH 36:\\ tTraining loss : 0.425\\ tValidation loss : 0.504\n",
            "\\ nEPOCH 37:\\ tTraining loss : 0.424\\ tValidation loss : 0.505\n",
            "\\ nEPOCH 38:\\ tTraining loss : 0.424\\ tValidation loss : 0.505\n",
            "\\ nEPOCH 39:\\ tTraining loss : 0.423\\ tValidation loss : 0.506\n",
            "\\ nEPOCH 40:\\ tTraining loss : 0.422\\ tValidation loss : 0.506\n",
            "\\ nEPOCH 41:\\ tTraining loss : 0.422\\ tValidation loss : 0.506\n",
            "\\ nEPOCH 42:\\ tTraining loss : 0.421\\ tValidation loss : 0.507\n",
            "\\ nEPOCH 43:\\ tTraining loss : 0.421\\ tValidation loss : 0.507\n",
            "\\ nEPOCH 44:\\ tTraining loss : 0.420\\ tValidation loss : 0.507\n",
            "\\ nEPOCH 45:\\ tTraining loss : 0.420\\ tValidation loss : 0.508\n",
            "\\ nEPOCH 46:\\ tTraining loss : 0.420\\ tValidation loss : 0.508\n",
            "\\ nEPOCH 47:\\ tTraining loss : 0.419\\ tValidation loss : 0.509\n",
            "\\ nEPOCH 48:\\ tTraining loss : 0.419\\ tValidation loss : 0.509\n",
            "\\ nEPOCH 49:\\ tTraining loss : 0.418\\ tValidation loss : 0.509\n",
            "\\ nEPOCH 50:\\ tTraining loss : 0.418\\ tValidation loss : 0.510\n",
            "\\ nEPOCH 51:\\ tTraining loss : 0.418\\ tValidation loss : 0.510\n",
            "\\ nEPOCH 52:\\ tTraining loss : 0.417\\ tValidation loss : 0.510\n",
            "\\ nEPOCH 53:\\ tTraining loss : 0.417\\ tValidation loss : 0.510\n",
            "\\ nEPOCH 54:\\ tTraining loss : 0.417\\ tValidation loss : 0.511\n",
            "\\ nEPOCH 55:\\ tTraining loss : 0.417\\ tValidation loss : 0.511\n",
            "\\ nEPOCH 56:\\ tTraining loss : 0.416\\ tValidation loss : 0.511\n",
            "\\ nEPOCH 57:\\ tTraining loss : 0.416\\ tValidation loss : 0.512\n",
            "\\ nEPOCH 58:\\ tTraining loss : 0.416\\ tValidation loss : 0.512\n",
            "\\ nEPOCH 59:\\ tTraining loss : 0.416\\ tValidation loss : 0.512\n",
            "\\ nEPOCH 60:\\ tTraining loss : 0.416\\ tValidation loss : 0.512\n",
            "\\ nEPOCH 61:\\ tTraining loss : 0.415\\ tValidation loss : 0.513\n",
            "\\ nEPOCH 62:\\ tTraining loss : 0.415\\ tValidation loss : 0.513\n",
            "\\ nEPOCH 63:\\ tTraining loss : 0.415\\ tValidation loss : 0.513\n",
            "\\ nEPOCH 64:\\ tTraining loss : 0.415\\ tValidation loss : 0.513\n",
            "\\ nEPOCH 65:\\ tTraining loss : 0.415\\ tValidation loss : 0.514\n",
            "\\ nEPOCH 66:\\ tTraining loss : 0.415\\ tValidation loss : 0.514\n",
            "\\ nEPOCH 67:\\ tTraining loss : 0.415\\ tValidation loss : 0.514\n",
            "\\ nEPOCH 68:\\ tTraining loss : 0.414\\ tValidation loss : 0.514\n",
            "\\ nEPOCH 69:\\ tTraining loss : 0.414\\ tValidation loss : 0.514\n",
            "\\ nEPOCH 70:\\ tTraining loss : 0.414\\ tValidation loss : 0.515\n",
            "\\ nEPOCH 71:\\ tTraining loss : 0.414\\ tValidation loss : 0.515\n",
            "\\ nEPOCH 72:\\ tTraining loss : 0.414\\ tValidation loss : 0.515\n",
            "\\ nEPOCH 73:\\ tTraining loss : 0.414\\ tValidation loss : 0.515\n",
            "\\ nEPOCH 74:\\ tTraining loss : 0.414\\ tValidation loss : 0.515\n",
            "\\ nEPOCH 75:\\ tTraining loss : 0.414\\ tValidation loss : 0.516\n",
            "\\ nEPOCH 76:\\ tTraining loss : 0.414\\ tValidation loss : 0.516\n",
            "\\ nEPOCH 77:\\ tTraining loss : 0.413\\ tValidation loss : 0.516\n",
            "\\ nEPOCH 78:\\ tTraining loss : 0.413\\ tValidation loss : 0.516\n",
            "\\ nEPOCH 79:\\ tTraining loss : 0.413\\ tValidation loss : 0.516\n",
            "\\ nEPOCH 80:\\ tTraining loss : 0.413\\ tValidation loss : 0.517\n",
            "\\ nEPOCH 81:\\ tTraining loss : 0.413\\ tValidation loss : 0.517\n",
            "\\ nEPOCH 82:\\ tTraining loss : 0.413\\ tValidation loss : 0.517\n",
            "\\ nEPOCH 83:\\ tTraining loss : 0.413\\ tValidation loss : 0.517\n",
            "\\ nEPOCH 84:\\ tTraining loss : 0.413\\ tValidation loss : 0.517\n",
            "\\ nEPOCH 85:\\ tTraining loss : 0.413\\ tValidation loss : 0.517\n",
            "\\ nEPOCH 86:\\ tTraining loss : 0.413\\ tValidation loss : 0.517\n",
            "\\ nEPOCH 87:\\ tTraining loss : 0.413\\ tValidation loss : 0.518\n",
            "\\ nEPOCH 88:\\ tTraining loss : 0.413\\ tValidation loss : 0.518\n",
            "\\ nEPOCH 89:\\ tTraining loss : 0.413\\ tValidation loss : 0.518\n",
            "\\ nEPOCH 90:\\ tTraining loss : 0.413\\ tValidation loss : 0.518\n",
            "\\ nEPOCH 91:\\ tTraining loss : 0.413\\ tValidation loss : 0.518\n",
            "\\ nEPOCH 92:\\ tTraining loss : 0.413\\ tValidation loss : 0.518\n",
            "\\ nEPOCH 93:\\ tTraining loss : 0.413\\ tValidation loss : 0.518\n",
            "\\ nEPOCH 94:\\ tTraining loss : 0.412\\ tValidation loss : 0.519\n",
            "\\ nEPOCH 95:\\ tTraining loss : 0.412\\ tValidation loss : 0.519\n",
            "\\ nEPOCH 96:\\ tTraining loss : 0.412\\ tValidation loss : 0.519\n",
            "\\ nEPOCH 97:\\ tTraining loss : 0.412\\ tValidation loss : 0.519\n",
            "\\ nEPOCH 98:\\ tTraining loss : 0.412\\ tValidation loss : 0.519\n",
            "\\ nEPOCH 99:\\ tTraining loss : 0.412\\ tValidation loss : 0.519\n",
            "\\ nEPOCH 100:\\ tTraining loss : 0.412\\ tValidation loss : 0.519\n"
          ]
        }
      ]
    },
    {
      "cell_type": "markdown",
      "source": [
        "###Visualize"
      ],
      "metadata": {
        "id": "p-9stDmXxBAH"
      }
    },
    {
      "cell_type": "code",
      "source": [
        "fig , ax = plt . subplots (2, 2, figsize =(12 , 10))\n",
        "ax[0, 0].plot(train_losses)\n",
        "ax[0, 0].set(xlabel ='Epoch', ylabel ='Loss')\n",
        "ax[0, 0].set_title('Training Loss')\n",
        "\n",
        "ax[1, 0].plot(train_accs)\n",
        "ax[1, 0].set(xlabel ='Epoch', ylabel ='Accuracy')\n",
        "ax[1, 0].set_title('Training Accuracy')\n",
        "\n",
        "ax[0, 1].plot(val_losses, 'orange')\n",
        "ax[0, 1].set(xlabel ='Epoch', ylabel ='Loss')\n",
        "ax[0, 1].set_title('Validation Loss')\n",
        "\n",
        "ax[1, 1].plot(val_accs, 'orange')\n",
        "ax[1, 1].set(xlabel ='Epoch', ylabel ='Accuracy')\n",
        "ax[1, 1].set_title('Validation Accuracy')\n",
        "\n",
        "plt.show()"
      ],
      "metadata": {
        "colab": {
          "base_uri": "https://localhost:8080/",
          "height": 872
        },
        "id": "cwpTftFCxAzO",
        "outputId": "4bd4268d-0d17-4f97-b125-4d8498721cfc"
      },
      "execution_count": 53,
      "outputs": [
        {
          "output_type": "display_data",
          "data": {
            "text/plain": [
              "<Figure size 1200x1000 with 4 Axes>"
            ],
            "image/png": "[encoded data removed]"
          },
          "metadata": {}
        }
      ]
    },
    {
      "cell_type": "markdown",
      "source": [
        "###Evaluate the model"
      ],
      "metadata": {
        "id": "rlN_qAz12rAD"
      }
    },
    {
      "cell_type": "code",
      "source": [
        "val_set_acc = compute_accuracy (X_val , y_val , theta )\n",
        "test_set_acc = compute_accuracy ( X_test , y_test , theta )\n",
        "print('Evaluation on validation and test set:')\n",
        "print(f'Accuracy : { val_set_acc }')\n",
        "print(f'Accuracy : { test_set_acc }')"
      ],
      "metadata": {
        "colab": {
          "base_uri": "https://localhost:8080/"
        },
        "id": "S-attABl2tlT",
        "outputId": "4713a33c-0a79-4a19-ce6e-135200d8070d"
      },
      "execution_count": 56,
      "outputs": [
        {
          "output_type": "stream",
          "name": "stdout",
          "text": [
            "Evaluation on validation and test set:\n",
            "Accuracy : 0.770949720670391\n",
            "Accuracy : 0.7752808988764045\n"
          ]
        }
      ]
    },
    {
      "cell_type": "markdown",
      "source": [
        "#Twitter Sentiment Analysis"
      ],
      "metadata": {
        "id": "Y3kLqKPf264D"
      }
    },
    {
      "cell_type": "code",
      "source": [
        "import re\n",
        "import nltk\n",
        "from nltk.tokenize import TweetTokenizer\n",
        "from collections import defaultdict"
      ],
      "metadata": {
        "id": "GS2B_p7e3YnT"
      },
      "execution_count": null,
      "outputs": []
    },
    {
      "cell_type": "markdown",
      "source": [
        "##Data"
      ],
      "metadata": {
        "id": "8KB5tCk029uq"
      }
    },
    {
      "cell_type": "markdown",
      "source": [
        "###Load data"
      ],
      "metadata": {
        "id": "buQ4evWE39NJ"
      }
    },
    {
      "cell_type": "code",
      "source": [
        "df = pd.read_csv('./sentiment_analysis.csv', index_col = 'id')\n",
        "\n",
        "df.head()"
      ],
      "metadata": {
        "colab": {
          "base_uri": "https://localhost:8080/",
          "height": 237
        },
        "id": "jKg91hXa2-kK",
        "outputId": "8300161a-f174-44a8-934b-8e380e317eef"
      },
      "execution_count": 75,
      "outputs": [
        {
          "output_type": "execute_result",
          "data": {
            "text/plain": [
              "    label                                              tweet\n",
              "id                                                          \n",
              "1       0  #fingerprint #Pregnancy Test https://goo.gl/h1...\n",
              "2       0  Finally a transparant silicon case ^^ Thanks t...\n",
              "3       0  We love this! Would you go? #talk #makememorie...\n",
              "4       0  I'm wired I know I'm George I was made that wa...\n",
              "5       1  What amazing service! Apple won't even talk to..."
            ],
            "text/html": [
              "\n",
              "  <div id=\"df-6a8ff509-e9c3-42a9-aaf5-cae4dcef0701\" class=\"colab-df-container\">\n",
              "    <div>\n",
              "<style scoped>\n",
              "    .dataframe tbody tr th:only-of-type {\n",
              "        vertical-align: middle;\n",
              "    }\n",
              "\n",
              "    .dataframe tbody tr th {\n",
              "        vertical-align: top;\n",
              "    }\n",
              "\n",
              "    .dataframe thead th {\n",
              "        text-align: right;\n",
              "    }\n",
              "</style>\n",
              "<table border=\"1\" class=\"dataframe\">\n",
              "  <thead>\n",
              "    <tr style=\"text-align: right;\">\n",
              "      <th></th>\n",
              "      <th>label</th>\n",
              "      <th>tweet</th>\n",
              "    </tr>\n",
              "    <tr>\n",
              "      <th>id</th>\n",
              "      <th></th>\n",
              "      <th></th>\n",
              "    </tr>\n",
              "  </thead>\n",
              "  <tbody>\n",
              "    <tr>\n",
              "      <th>1</th>\n",
              "      <td>0</td>\n",
              "      <td>#fingerprint #Pregnancy Test https://goo.gl/h1...</td>\n",
              "    </tr>\n",
              "    <tr>\n",
              "      <th>2</th>\n",
              "      <td>0</td>\n",
              "      <td>Finally a transparant silicon case ^^ Thanks t...</td>\n",
              "    </tr>\n",
              "    <tr>\n",
              "      <th>3</th>\n",
              "      <td>0</td>\n",
              "      <td>We love this! Would you go? #talk #makememorie...</td>\n",
              "    </tr>\n",
              "    <tr>\n",
              "      <th>4</th>\n",
              "      <td>0</td>\n",
              "      <td>I'm wired I know I'm George I was made that wa...</td>\n",
              "    </tr>\n",
              "    <tr>\n",
              "      <th>5</th>\n",
              "      <td>1</td>\n",
              "      <td>What amazing service! Apple won't even talk to...</td>\n",
              "    </tr>\n",
              "  </tbody>\n",
              "</table>\n",
              "</div>\n",
              "    <div class=\"colab-df-buttons\">\n",
              "\n",
              "  <div class=\"colab-df-container\">\n",
              "    <button class=\"colab-df-convert\" onclick=\"convertToInteractive('df-6a8ff509-e9c3-42a9-aaf5-cae4dcef0701')\"\n",
              "            title=\"Convert this dataframe to an interactive table.\"\n",
              "            style=\"display:none;\">\n",
              "\n",
              "  <svg xmlns=\"http://www.w3.org/2000/svg\" height=\"24px\" viewBox=\"0 -960 960 960\">\n",
              "    <path d=\"M120-120v-720h720v720H120Zm60-500h600v-160H180v160Zm220 220h160v-160H400v160Zm0 220h160v-160H400v160ZM180-400h160v-160H180v160Zm440 0h160v-160H620v160ZM180-180h160v-160H180v160Zm440 0h160v-160H620v160Z\"/>\n",
              "  </svg>\n",
              "    </button>\n",
              "\n",
              "  <style>\n",
              "    .colab-df-container {\n",
              "      display:flex;\n",
              "      gap: 12px;\n",
              "    }\n",
              "\n",
              "    .colab-df-convert {\n",
              "      background-color: #E8F0FE;\n",
              "      border: none;\n",
              "      border-radius: 50%;\n",
              "      cursor: pointer;\n",
              "      display: none;\n",
              "      fill: #1967D2;\n",
              "      height: 32px;\n",
              "      padding: 0 0 0 0;\n",
              "      width: 32px;\n",
              "    }\n",
              "\n",
              "    .colab-df-convert:hover {\n",
              "      background-color: #E2EBFA;\n",
              "      box-shadow: 0px 1px 2px rgba(60, 64, 67, 0.3), 0px 1px 3px 1px rgba(60, 64, 67, 0.15);\n",
              "      fill: #174EA6;\n",
              "    }\n",
              "\n",
              "    .colab-df-buttons div {\n",
              "      margin-bottom: 4px;\n",
              "    }\n",
              "\n",
              "    [theme=dark] .colab-df-convert {\n",
              "      background-color: #3B4455;\n",
              "      fill: #D2E3FC;\n",
              "    }\n",
              "\n",
              "    [theme=dark] .colab-df-convert:hover {\n",
              "      background-color: #434B5C;\n",
              "      box-shadow: 0px 1px 3px 1px rgba(0, 0, 0, 0.15);\n",
              "      filter: drop-shadow(0px 1px 2px rgba(0, 0, 0, 0.3));\n",
              "      fill: #FFFFFF;\n",
              "    }\n",
              "  </style>\n",
              "\n",
              "    <script>\n",
              "      const buttonEl =\n",
              "        document.querySelector('#df-6a8ff509-e9c3-42a9-aaf5-cae4dcef0701 button.colab-df-convert');\n",
              "      buttonEl.style.display =\n",
              "        google.colab.kernel.accessAllowed ? 'block' : 'none';\n",
              "\n",
              "      async function convertToInteractive(key) {\n",
              "        const element = document.querySelector('#df-6a8ff509-e9c3-42a9-aaf5-cae4dcef0701');\n",
              "        const dataTable =\n",
              "          await google.colab.kernel.invokeFunction('convertToInteractive',\n",
              "                                                    [key], {});\n",
              "        if (!dataTable) return;\n",
              "\n",
              "        const docLinkHtml = 'Like what you see? Visit the ' +\n",
              "          '<a target=\"_blank\" href=https://colab.research.google.com/notebooks/data_table.ipynb>data table notebook</a>'\n",
              "          + ' to learn more about interactive tables.';\n",
              "        element.innerHTML = '';\n",
              "        dataTable['output_type'] = 'display_data';\n",
              "        await google.colab.output.renderOutput(dataTable, element);\n",
              "        const docLink = document.createElement('div');\n",
              "        docLink.innerHTML = docLinkHtml;\n",
              "        element.appendChild(docLink);\n",
              "      }\n",
              "    </script>\n",
              "  </div>\n",
              "\n",
              "\n",
              "<div id=\"df-b6e45a78-da03-4f8a-a324-ce5d3efc2a27\">\n",
              "  <button class=\"colab-df-quickchart\" onclick=\"quickchart('df-b6e45a78-da03-4f8a-a324-ce5d3efc2a27')\"\n",
              "            title=\"Suggest charts\"\n",
              "            style=\"display:none;\">\n",
              "\n",
              "<svg xmlns=\"http://www.w3.org/2000/svg\" height=\"24px\"viewBox=\"0 0 24 24\"\n",
              "     width=\"24px\">\n",
              "    <g>\n",
              "        <path d=\"M19 3H5c-1.1 0-2 .9-2 2v14c0 1.1.9 2 2 2h14c1.1 0 2-.9 2-2V5c0-1.1-.9-2-2-2zM9 17H7v-7h2v7zm4 0h-2V7h2v10zm4 0h-2v-4h2v4z\"/>\n",
              "    </g>\n",
              "</svg>\n",
              "  </button>\n",
              "\n",
              "<style>\n",
              "  .colab-df-quickchart {\n",
              "      --bg-color: #E8F0FE;\n",
              "      --fill-color: #1967D2;\n",
              "      --hover-bg-color: #E2EBFA;\n",
              "      --hover-fill-color: #174EA6;\n",
              "      --disabled-fill-color: #AAA;\n",
              "      --disabled-bg-color: #DDD;\n",
              "  }\n",
              "\n",
              "  [theme=dark] .colab-df-quickchart {\n",
              "      --bg-color: #3B4455;\n",
              "      --fill-color: #D2E3FC;\n",
              "      --hover-bg-color: #434B5C;\n",
              "      --hover-fill-color: #FFFFFF;\n",
              "      --disabled-bg-color: #3B4455;\n",
              "      --disabled-fill-color: #666;\n",
              "  }\n",
              "\n",
              "  .colab-df-quickchart {\n",
              "    background-color: var(--bg-color);\n",
              "    border: none;\n",
              "    border-radius: 50%;\n",
              "    cursor: pointer;\n",
              "    display: none;\n",
              "    fill: var(--fill-color);\n",
              "    height: 32px;\n",
              "    padding: 0;\n",
              "    width: 32px;\n",
              "  }\n",
              "\n",
              "  .colab-df-quickchart:hover {\n",
              "    background-color: var(--hover-bg-color);\n",
              "    box-shadow: 0 1px 2px rgba(60, 64, 67, 0.3), 0 1px 3px 1px rgba(60, 64, 67, 0.15);\n",
              "    fill: var(--button-hover-fill-color);\n",
              "  }\n",
              "\n",
              "  .colab-df-quickchart-complete:disabled,\n",
              "  .colab-df-quickchart-complete:disabled:hover {\n",
              "    background-color: var(--disabled-bg-color);\n",
              "    fill: var(--disabled-fill-color);\n",
              "    box-shadow: none;\n",
              "  }\n",
              "\n",
              "  .colab-df-spinner {\n",
              "    border: 2px solid var(--fill-color);\n",
              "    border-color: transparent;\n",
              "    border-bottom-color: var(--fill-color);\n",
              "    animation:\n",
              "      spin 1s steps(1) infinite;\n",
              "  }\n",
              "\n",
              "  @keyframes spin {\n",
              "    0% {\n",
              "      border-color: transparent;\n",
              "      border-bottom-color: var(--fill-color);\n",
              "      border-left-color: var(--fill-color);\n",
              "    }\n",
              "    20% {\n",
              "      border-color: transparent;\n",
              "      border-left-color: var(--fill-color);\n",
              "      border-top-color: var(--fill-color);\n",
              "    }\n",
              "    30% {\n",
              "      border-color: transparent;\n",
              "      border-left-color: var(--fill-color);\n",
              "      border-top-color: var(--fill-color);\n",
              "      border-right-color: var(--fill-color);\n",
              "    }\n",
              "    40% {\n",
              "      border-color: transparent;\n",
              "      border-right-color: var(--fill-color);\n",
              "      border-top-color: var(--fill-color);\n",
              "    }\n",
              "    60% {\n",
              "      border-color: transparent;\n",
              "      border-right-color: var(--fill-color);\n",
              "    }\n",
              "    80% {\n",
              "      border-color: transparent;\n",
              "      border-right-color: var(--fill-color);\n",
              "      border-bottom-color: var(--fill-color);\n",
              "    }\n",
              "    90% {\n",
              "      border-color: transparent;\n",
              "      border-bottom-color: var(--fill-color);\n",
              "    }\n",
              "  }\n",
              "</style>\n",
              "\n",
              "  <script>\n",
              "    async function quickchart(key) {\n",
              "      const quickchartButtonEl =\n",
              "        document.querySelector('#' + key + ' button');\n",
              "      quickchartButtonEl.disabled = true;  // To prevent multiple clicks.\n",
              "      quickchartButtonEl.classList.add('colab-df-spinner');\n",
              "      try {\n",
              "        const charts = await google.colab.kernel.invokeFunction(\n",
              "            'suggestCharts', [key], {});\n",
              "      } catch (error) {\n",
              "        console.error('Error during call to suggestCharts:', error);\n",
              "      }\n",
              "      quickchartButtonEl.classList.remove('colab-df-spinner');\n",
              "      quickchartButtonEl.classList.add('colab-df-quickchart-complete');\n",
              "    }\n",
              "    (() => {\n",
              "      let quickchartButtonEl =\n",
              "        document.querySelector('#df-b6e45a78-da03-4f8a-a324-ce5d3efc2a27 button');\n",
              "      quickchartButtonEl.style.display =\n",
              "        google.colab.kernel.accessAllowed ? 'block' : 'none';\n",
              "    })();\n",
              "  </script>\n",
              "</div>\n",
              "\n",
              "    </div>\n",
              "  </div>\n"
            ],
            "application/vnd.google.colaboratory.intrinsic+json": {
              "type": "dataframe",
              "variable_name": "df",
              "summary": "{\n  \"name\": \"df\",\n  \"rows\": 7920,\n  \"fields\": [\n    {\n      \"column\": \"id\",\n      \"properties\": {\n        \"dtype\": \"number\",\n        \"std\": 2286,\n        \"min\": 1,\n        \"max\": 7920,\n        \"num_unique_values\": 7920,\n        \"samples\": [\n          4897,\n          7540,\n          1678\n        ],\n        \"semantic_type\": \"\",\n        \"description\": \"\"\n      }\n    },\n    {\n      \"column\": \"label\",\n      \"properties\": {\n        \"dtype\": \"number\",\n        \"std\": 0,\n        \"min\": 0,\n        \"max\": 1,\n        \"num_unique_values\": 2,\n        \"samples\": [\n          1,\n          0\n        ],\n        \"semantic_type\": \"\",\n        \"description\": \"\"\n      }\n    },\n    {\n      \"column\": \"tweet\",\n      \"properties\": {\n        \"dtype\": \"string\",\n        \"num_unique_values\": 7918,\n        \"samples\": [\n          \"My face as dad gave me cards worth \\u00a320, 000.00 #gay #shopping #boy #macbook #apple #blonde #pickofthe http://instagr.am/p/Uo5Ue7H7A8/\",\n          \"@skullcandy your product is brutal, 1 headphone always stops working. Get it together #Sony ftw\"\n        ],\n        \"semantic_type\": \"\",\n        \"description\": \"\"\n      }\n    }\n  ]\n}"
            }
          },
          "metadata": {},
          "execution_count": 75
        }
      ]
    },
    {
      "cell_type": "markdown",
      "source": [
        "###Preprocess data"
      ],
      "metadata": {
        "id": "SqLwnh6l3-t3"
      }
    },
    {
      "cell_type": "code",
      "source": [
        "def text_normalize(text):\n",
        "  # Retweet old acronym \"RT\" removal\n",
        "  text = re.sub(r'^RT[\\s]+', '', text)\n",
        "\n",
        "  # Hyperlinks removal\n",
        "  text = re.sub(r'https?:\\/\\/.*[\\r\\n]*', '', text)\n",
        "\n",
        "  # Hashtag removal\n",
        "  text = re.sub(r'#', '', text)\n",
        "\n",
        "  # Punctuation removal\n",
        "  text = re.sub (r'[^\\ w\\s]', '', text )\n",
        "\n",
        "  #Tokenization\n",
        "  tokenizer = TweetTokenizer(\n",
        "    preserve_case =False,\n",
        "    strip_handles =True,\n",
        "    reduce_len = True\n",
        "  )\n",
        "  text_tokens = tokenizer.tokenize(text)\n",
        "\n",
        "  return text_tokens"
      ],
      "metadata": {
        "id": "8zaS3KDG4A0-"
      },
      "execution_count": 58,
      "outputs": []
    },
    {
      "cell_type": "code",
      "source": [
        "def get_freqs(df):\n",
        "  freqs = defaultdict (lambda : 0)\n",
        "  for idx, row in df.iterrows():\n",
        "    tweet = row ['tweet']\n",
        "    label = row ['label']\n",
        "\n",
        "    tokens = text_normalize (tweet)\n",
        "    for token in tokens :\n",
        "      pair = (token, label)\n",
        "      freqs[pair] += 1\n",
        "\n",
        "  return freqs"
      ],
      "metadata": {
        "id": "w838V_2J45RC"
      },
      "execution_count": 59,
      "outputs": []
    },
    {
      "cell_type": "code",
      "source": [
        "def get_feature (text, freqs ):\n",
        "  tokens = text_normalize(text)\n",
        "\n",
        "  X = np.zeros(3)\n",
        "  X[0] = 1\n",
        "\n",
        "  for token in tokens:\n",
        "    pair = (token, 1)\n",
        "    X[1] += freqs[pair]\n",
        "    X[2] += freqs[pair]\n",
        "\n",
        "  return X"
      ],
      "metadata": {
        "id": "7_zRnYM25isO"
      },
      "execution_count": 60,
      "outputs": []
    },
    {
      "cell_type": "code",
      "source": [
        "X = []\n",
        "y = []\n",
        "freqs = get_freqs(df)\n",
        "\n",
        "for idx, row in df.iterrows():\n",
        "  tweet = row['tweet']\n",
        "  label = row['label']\n",
        "\n",
        "  X.append(get_feature(tweet, freqs))\n",
        "  y.append(label)\n",
        "\n",
        "X = np.array(X)\n",
        "y = np.array(y)"
      ],
      "metadata": {
        "id": "NZLVA0VP6ST1"
      },
      "execution_count": null,
      "outputs": []
    },
    {
      "cell_type": "markdown",
      "source": [
        "###Split the data"
      ],
      "metadata": {
        "id": "Gq7tLKQO6cyN"
      }
    },
    {
      "cell_type": "code",
      "source": [
        "val_size = 0.2\n",
        "test_size = 0.125\n",
        "random_state = 2\n",
        "is_shuffle = True\n",
        "\n",
        "X_train, X_val, y_train, y_val = train_test_split(X, y,\n",
        "                                                  test_size=val_size,\n",
        "                                                  random_state=random_state,\n",
        "                                                  shuffle=is_shuffle)\n",
        "\n",
        "X_train, X_test, y_train, y_test = train_test_split(X_train, y_train,\n",
        "                                                  test_size=test_size,\n",
        "                                                  random_state=random_state,\n",
        "                                                  shuffle=is_shuffle)"
      ],
      "metadata": {
        "id": "FkVglRqh6eJ2"
      },
      "execution_count": 61,
      "outputs": []
    },
    {
      "cell_type": "markdown",
      "source": [
        "###Normalize the data"
      ],
      "metadata": {
        "id": "723BR-Jf6uDs"
      }
    },
    {
      "cell_type": "code",
      "source": [
        "scaler = StandardScaler()\n",
        "\n",
        "X_train[:, 1:] = scaler.fit_transform(X_train[:, 1:])\n",
        "X_val[:, 1:] = scaler.transform(X_val[:, 1:])\n",
        "X_test[:, 1:] = scaler.transform(X_test[:, 1:])"
      ],
      "metadata": {
        "id": "aLRblCR-6vji"
      },
      "execution_count": 62,
      "outputs": []
    },
    {
      "cell_type": "markdown",
      "source": [
        "##Model"
      ],
      "metadata": {
        "id": "84_OrpIv62HA"
      }
    },
    {
      "cell_type": "markdown",
      "source": [
        "###Run the model"
      ],
      "metadata": {
        "id": "sA01cwDZ7MwH"
      }
    },
    {
      "cell_type": "code",
      "source": [
        "lr = 0.01\n",
        "epochs = 200\n",
        "batch_size = 128\n",
        "\n",
        "np.random.seed(random_state)\n",
        "theta = np.random.uniform (\n",
        "  size = X_train.shape[1]\n",
        ")"
      ],
      "metadata": {
        "id": "MyCZx_mA63Qu"
      },
      "execution_count": 64,
      "outputs": []
    },
    {
      "cell_type": "code",
      "source": [
        "train_losses, train_accs, val_losses, val_accs, theta = LogisticRegression(X_train, y_train,\n",
        "                                                                         X_val, y_val,\n",
        "                                                                         theta, batch_size,\n",
        "                                                                        learning_rate, epochs)"
      ],
      "metadata": {
        "colab": {
          "base_uri": "https://localhost:8080/"
        },
        "id": "Tp52lST47BqL",
        "outputId": "b2732e0e-6499-4ac8-9ccf-f967f6839564"
      },
      "execution_count": 65,
      "outputs": [
        {
          "output_type": "stream",
          "name": "stdout",
          "text": [
            "\\ nEPOCH 1:\\ tTraining loss : 0.956\\ tValidation loss : 0.835\n",
            "\\ nEPOCH 2:\\ tTraining loss : 0.917\\ tValidation loss : 0.807\n",
            "\\ nEPOCH 3:\\ tTraining loss : 0.882\\ tValidation loss : 0.782\n",
            "\\ nEPOCH 4:\\ tTraining loss : 0.851\\ tValidation loss : 0.761\n",
            "\\ nEPOCH 5:\\ tTraining loss : 0.823\\ tValidation loss : 0.742\n",
            "\\ nEPOCH 6:\\ tTraining loss : 0.799\\ tValidation loss : 0.726\n",
            "\\ nEPOCH 7:\\ tTraining loss : 0.777\\ tValidation loss : 0.712\n",
            "\\ nEPOCH 8:\\ tTraining loss : 0.757\\ tValidation loss : 0.700\n",
            "\\ nEPOCH 9:\\ tTraining loss : 0.739\\ tValidation loss : 0.690\n",
            "\\ nEPOCH 10:\\ tTraining loss : 0.723\\ tValidation loss : 0.681\n",
            "\\ nEPOCH 11:\\ tTraining loss : 0.709\\ tValidation loss : 0.673\n",
            "\\ nEPOCH 12:\\ tTraining loss : 0.696\\ tValidation loss : 0.667\n",
            "\\ nEPOCH 13:\\ tTraining loss : 0.684\\ tValidation loss : 0.661\n",
            "\\ nEPOCH 14:\\ tTraining loss : 0.673\\ tValidation loss : 0.656\n",
            "\\ nEPOCH 15:\\ tTraining loss : 0.663\\ tValidation loss : 0.651\n",
            "\\ nEPOCH 16:\\ tTraining loss : 0.654\\ tValidation loss : 0.647\n",
            "\\ nEPOCH 17:\\ tTraining loss : 0.646\\ tValidation loss : 0.644\n",
            "\\ nEPOCH 18:\\ tTraining loss : 0.639\\ tValidation loss : 0.641\n",
            "\\ nEPOCH 19:\\ tTraining loss : 0.632\\ tValidation loss : 0.638\n",
            "\\ nEPOCH 20:\\ tTraining loss : 0.625\\ tValidation loss : 0.635\n",
            "\\ nEPOCH 21:\\ tTraining loss : 0.619\\ tValidation loss : 0.633\n",
            "\\ nEPOCH 22:\\ tTraining loss : 0.614\\ tValidation loss : 0.631\n",
            "\\ nEPOCH 23:\\ tTraining loss : 0.609\\ tValidation loss : 0.630\n",
            "\\ nEPOCH 24:\\ tTraining loss : 0.604\\ tValidation loss : 0.628\n",
            "\\ nEPOCH 25:\\ tTraining loss : 0.599\\ tValidation loss : 0.626\n",
            "\\ nEPOCH 26:\\ tTraining loss : 0.595\\ tValidation loss : 0.625\n",
            "\\ nEPOCH 27:\\ tTraining loss : 0.591\\ tValidation loss : 0.624\n",
            "\\ nEPOCH 28:\\ tTraining loss : 0.587\\ tValidation loss : 0.623\n",
            "\\ nEPOCH 29:\\ tTraining loss : 0.583\\ tValidation loss : 0.621\n",
            "\\ nEPOCH 30:\\ tTraining loss : 0.580\\ tValidation loss : 0.620\n",
            "\\ nEPOCH 31:\\ tTraining loss : 0.577\\ tValidation loss : 0.619\n",
            "\\ nEPOCH 32:\\ tTraining loss : 0.574\\ tValidation loss : 0.618\n",
            "\\ nEPOCH 33:\\ tTraining loss : 0.571\\ tValidation loss : 0.617\n",
            "\\ nEPOCH 34:\\ tTraining loss : 0.568\\ tValidation loss : 0.617\n",
            "\\ nEPOCH 35:\\ tTraining loss : 0.565\\ tValidation loss : 0.616\n",
            "\\ nEPOCH 36:\\ tTraining loss : 0.562\\ tValidation loss : 0.615\n",
            "\\ nEPOCH 37:\\ tTraining loss : 0.560\\ tValidation loss : 0.614\n",
            "\\ nEPOCH 38:\\ tTraining loss : 0.557\\ tValidation loss : 0.613\n",
            "\\ nEPOCH 39:\\ tTraining loss : 0.555\\ tValidation loss : 0.612\n",
            "\\ nEPOCH 40:\\ tTraining loss : 0.553\\ tValidation loss : 0.611\n",
            "\\ nEPOCH 41:\\ tTraining loss : 0.551\\ tValidation loss : 0.611\n",
            "\\ nEPOCH 42:\\ tTraining loss : 0.548\\ tValidation loss : 0.610\n",
            "\\ nEPOCH 43:\\ tTraining loss : 0.546\\ tValidation loss : 0.609\n",
            "\\ nEPOCH 44:\\ tTraining loss : 0.544\\ tValidation loss : 0.608\n",
            "\\ nEPOCH 45:\\ tTraining loss : 0.542\\ tValidation loss : 0.608\n",
            "\\ nEPOCH 46:\\ tTraining loss : 0.541\\ tValidation loss : 0.607\n",
            "\\ nEPOCH 47:\\ tTraining loss : 0.539\\ tValidation loss : 0.606\n",
            "\\ nEPOCH 48:\\ tTraining loss : 0.537\\ tValidation loss : 0.605\n",
            "\\ nEPOCH 49:\\ tTraining loss : 0.535\\ tValidation loss : 0.604\n",
            "\\ nEPOCH 50:\\ tTraining loss : 0.533\\ tValidation loss : 0.604\n",
            "\\ nEPOCH 51:\\ tTraining loss : 0.532\\ tValidation loss : 0.603\n",
            "\\ nEPOCH 52:\\ tTraining loss : 0.530\\ tValidation loss : 0.602\n",
            "\\ nEPOCH 53:\\ tTraining loss : 0.529\\ tValidation loss : 0.601\n",
            "\\ nEPOCH 54:\\ tTraining loss : 0.527\\ tValidation loss : 0.601\n",
            "\\ nEPOCH 55:\\ tTraining loss : 0.526\\ tValidation loss : 0.600\n",
            "\\ nEPOCH 56:\\ tTraining loss : 0.524\\ tValidation loss : 0.599\n",
            "\\ nEPOCH 57:\\ tTraining loss : 0.523\\ tValidation loss : 0.598\n",
            "\\ nEPOCH 58:\\ tTraining loss : 0.521\\ tValidation loss : 0.598\n",
            "\\ nEPOCH 59:\\ tTraining loss : 0.520\\ tValidation loss : 0.597\n",
            "\\ nEPOCH 60:\\ tTraining loss : 0.518\\ tValidation loss : 0.596\n",
            "\\ nEPOCH 61:\\ tTraining loss : 0.517\\ tValidation loss : 0.596\n",
            "\\ nEPOCH 62:\\ tTraining loss : 0.516\\ tValidation loss : 0.595\n",
            "\\ nEPOCH 63:\\ tTraining loss : 0.514\\ tValidation loss : 0.594\n",
            "\\ nEPOCH 64:\\ tTraining loss : 0.513\\ tValidation loss : 0.593\n",
            "\\ nEPOCH 65:\\ tTraining loss : 0.512\\ tValidation loss : 0.593\n",
            "\\ nEPOCH 66:\\ tTraining loss : 0.511\\ tValidation loss : 0.592\n",
            "\\ nEPOCH 67:\\ tTraining loss : 0.510\\ tValidation loss : 0.591\n",
            "\\ nEPOCH 68:\\ tTraining loss : 0.508\\ tValidation loss : 0.591\n",
            "\\ nEPOCH 69:\\ tTraining loss : 0.507\\ tValidation loss : 0.590\n",
            "\\ nEPOCH 70:\\ tTraining loss : 0.506\\ tValidation loss : 0.589\n",
            "\\ nEPOCH 71:\\ tTraining loss : 0.505\\ tValidation loss : 0.589\n",
            "\\ nEPOCH 72:\\ tTraining loss : 0.504\\ tValidation loss : 0.588\n",
            "\\ nEPOCH 73:\\ tTraining loss : 0.503\\ tValidation loss : 0.587\n",
            "\\ nEPOCH 74:\\ tTraining loss : 0.502\\ tValidation loss : 0.587\n",
            "\\ nEPOCH 75:\\ tTraining loss : 0.501\\ tValidation loss : 0.586\n",
            "\\ nEPOCH 76:\\ tTraining loss : 0.500\\ tValidation loss : 0.586\n",
            "\\ nEPOCH 77:\\ tTraining loss : 0.499\\ tValidation loss : 0.585\n",
            "\\ nEPOCH 78:\\ tTraining loss : 0.498\\ tValidation loss : 0.584\n",
            "\\ nEPOCH 79:\\ tTraining loss : 0.497\\ tValidation loss : 0.584\n",
            "\\ nEPOCH 80:\\ tTraining loss : 0.496\\ tValidation loss : 0.583\n",
            "\\ nEPOCH 81:\\ tTraining loss : 0.495\\ tValidation loss : 0.583\n",
            "\\ nEPOCH 82:\\ tTraining loss : 0.494\\ tValidation loss : 0.582\n",
            "\\ nEPOCH 83:\\ tTraining loss : 0.493\\ tValidation loss : 0.581\n",
            "\\ nEPOCH 84:\\ tTraining loss : 0.493\\ tValidation loss : 0.581\n",
            "\\ nEPOCH 85:\\ tTraining loss : 0.492\\ tValidation loss : 0.580\n",
            "\\ nEPOCH 86:\\ tTraining loss : 0.491\\ tValidation loss : 0.580\n",
            "\\ nEPOCH 87:\\ tTraining loss : 0.490\\ tValidation loss : 0.579\n",
            "\\ nEPOCH 88:\\ tTraining loss : 0.489\\ tValidation loss : 0.579\n",
            "\\ nEPOCH 89:\\ tTraining loss : 0.488\\ tValidation loss : 0.578\n",
            "\\ nEPOCH 90:\\ tTraining loss : 0.488\\ tValidation loss : 0.578\n",
            "\\ nEPOCH 91:\\ tTraining loss : 0.487\\ tValidation loss : 0.577\n",
            "\\ nEPOCH 92:\\ tTraining loss : 0.486\\ tValidation loss : 0.577\n",
            "\\ nEPOCH 93:\\ tTraining loss : 0.485\\ tValidation loss : 0.576\n",
            "\\ nEPOCH 94:\\ tTraining loss : 0.485\\ tValidation loss : 0.576\n",
            "\\ nEPOCH 95:\\ tTraining loss : 0.484\\ tValidation loss : 0.575\n",
            "\\ nEPOCH 96:\\ tTraining loss : 0.483\\ tValidation loss : 0.575\n",
            "\\ nEPOCH 97:\\ tTraining loss : 0.482\\ tValidation loss : 0.574\n",
            "\\ nEPOCH 98:\\ tTraining loss : 0.482\\ tValidation loss : 0.574\n",
            "\\ nEPOCH 99:\\ tTraining loss : 0.481\\ tValidation loss : 0.573\n",
            "\\ nEPOCH 100:\\ tTraining loss : 0.480\\ tValidation loss : 0.573\n",
            "\\ nEPOCH 101:\\ tTraining loss : 0.480\\ tValidation loss : 0.572\n",
            "\\ nEPOCH 102:\\ tTraining loss : 0.479\\ tValidation loss : 0.572\n",
            "\\ nEPOCH 103:\\ tTraining loss : 0.478\\ tValidation loss : 0.572\n",
            "\\ nEPOCH 104:\\ tTraining loss : 0.478\\ tValidation loss : 0.571\n",
            "\\ nEPOCH 105:\\ tTraining loss : 0.477\\ tValidation loss : 0.571\n",
            "\\ nEPOCH 106:\\ tTraining loss : 0.477\\ tValidation loss : 0.570\n",
            "\\ nEPOCH 107:\\ tTraining loss : 0.476\\ tValidation loss : 0.570\n",
            "\\ nEPOCH 108:\\ tTraining loss : 0.475\\ tValidation loss : 0.569\n",
            "\\ nEPOCH 109:\\ tTraining loss : 0.475\\ tValidation loss : 0.569\n",
            "\\ nEPOCH 110:\\ tTraining loss : 0.474\\ tValidation loss : 0.569\n",
            "\\ nEPOCH 111:\\ tTraining loss : 0.474\\ tValidation loss : 0.568\n",
            "\\ nEPOCH 112:\\ tTraining loss : 0.473\\ tValidation loss : 0.568\n",
            "\\ nEPOCH 113:\\ tTraining loss : 0.473\\ tValidation loss : 0.568\n",
            "\\ nEPOCH 114:\\ tTraining loss : 0.472\\ tValidation loss : 0.567\n",
            "\\ nEPOCH 115:\\ tTraining loss : 0.472\\ tValidation loss : 0.567\n",
            "\\ nEPOCH 116:\\ tTraining loss : 0.471\\ tValidation loss : 0.567\n",
            "\\ nEPOCH 117:\\ tTraining loss : 0.471\\ tValidation loss : 0.566\n",
            "\\ nEPOCH 118:\\ tTraining loss : 0.470\\ tValidation loss : 0.566\n",
            "\\ nEPOCH 119:\\ tTraining loss : 0.470\\ tValidation loss : 0.565\n",
            "\\ nEPOCH 120:\\ tTraining loss : 0.469\\ tValidation loss : 0.565\n",
            "\\ nEPOCH 121:\\ tTraining loss : 0.469\\ tValidation loss : 0.565\n",
            "\\ nEPOCH 122:\\ tTraining loss : 0.468\\ tValidation loss : 0.565\n",
            "\\ nEPOCH 123:\\ tTraining loss : 0.468\\ tValidation loss : 0.564\n",
            "\\ nEPOCH 124:\\ tTraining loss : 0.467\\ tValidation loss : 0.564\n",
            "\\ nEPOCH 125:\\ tTraining loss : 0.467\\ tValidation loss : 0.564\n",
            "\\ nEPOCH 126:\\ tTraining loss : 0.466\\ tValidation loss : 0.563\n",
            "\\ nEPOCH 127:\\ tTraining loss : 0.466\\ tValidation loss : 0.563\n",
            "\\ nEPOCH 128:\\ tTraining loss : 0.465\\ tValidation loss : 0.563\n",
            "\\ nEPOCH 129:\\ tTraining loss : 0.465\\ tValidation loss : 0.562\n",
            "\\ nEPOCH 130:\\ tTraining loss : 0.464\\ tValidation loss : 0.562\n",
            "\\ nEPOCH 131:\\ tTraining loss : 0.464\\ tValidation loss : 0.562\n",
            "\\ nEPOCH 132:\\ tTraining loss : 0.464\\ tValidation loss : 0.562\n",
            "\\ nEPOCH 133:\\ tTraining loss : 0.463\\ tValidation loss : 0.561\n",
            "\\ nEPOCH 134:\\ tTraining loss : 0.463\\ tValidation loss : 0.561\n",
            "\\ nEPOCH 135:\\ tTraining loss : 0.462\\ tValidation loss : 0.561\n",
            "\\ nEPOCH 136:\\ tTraining loss : 0.462\\ tValidation loss : 0.561\n",
            "\\ nEPOCH 137:\\ tTraining loss : 0.462\\ tValidation loss : 0.560\n",
            "\\ nEPOCH 138:\\ tTraining loss : 0.461\\ tValidation loss : 0.560\n",
            "\\ nEPOCH 139:\\ tTraining loss : 0.461\\ tValidation loss : 0.560\n",
            "\\ nEPOCH 140:\\ tTraining loss : 0.461\\ tValidation loss : 0.560\n",
            "\\ nEPOCH 141:\\ tTraining loss : 0.460\\ tValidation loss : 0.559\n",
            "\\ nEPOCH 142:\\ tTraining loss : 0.460\\ tValidation loss : 0.559\n",
            "\\ nEPOCH 143:\\ tTraining loss : 0.459\\ tValidation loss : 0.559\n",
            "\\ nEPOCH 144:\\ tTraining loss : 0.459\\ tValidation loss : 0.559\n",
            "\\ nEPOCH 145:\\ tTraining loss : 0.459\\ tValidation loss : 0.558\n",
            "\\ nEPOCH 146:\\ tTraining loss : 0.458\\ tValidation loss : 0.558\n",
            "\\ nEPOCH 147:\\ tTraining loss : 0.458\\ tValidation loss : 0.558\n",
            "\\ nEPOCH 148:\\ tTraining loss : 0.458\\ tValidation loss : 0.558\n",
            "\\ nEPOCH 149:\\ tTraining loss : 0.457\\ tValidation loss : 0.558\n",
            "\\ nEPOCH 150:\\ tTraining loss : 0.457\\ tValidation loss : 0.557\n",
            "\\ nEPOCH 151:\\ tTraining loss : 0.457\\ tValidation loss : 0.557\n",
            "\\ nEPOCH 152:\\ tTraining loss : 0.456\\ tValidation loss : 0.557\n",
            "\\ nEPOCH 153:\\ tTraining loss : 0.456\\ tValidation loss : 0.557\n",
            "\\ nEPOCH 154:\\ tTraining loss : 0.456\\ tValidation loss : 0.557\n",
            "\\ nEPOCH 155:\\ tTraining loss : 0.456\\ tValidation loss : 0.556\n",
            "\\ nEPOCH 156:\\ tTraining loss : 0.455\\ tValidation loss : 0.556\n",
            "\\ nEPOCH 157:\\ tTraining loss : 0.455\\ tValidation loss : 0.556\n",
            "\\ nEPOCH 158:\\ tTraining loss : 0.455\\ tValidation loss : 0.556\n",
            "\\ nEPOCH 159:\\ tTraining loss : 0.454\\ tValidation loss : 0.556\n",
            "\\ nEPOCH 160:\\ tTraining loss : 0.454\\ tValidation loss : 0.556\n",
            "\\ nEPOCH 161:\\ tTraining loss : 0.454\\ tValidation loss : 0.555\n",
            "\\ nEPOCH 162:\\ tTraining loss : 0.454\\ tValidation loss : 0.555\n",
            "\\ nEPOCH 163:\\ tTraining loss : 0.453\\ tValidation loss : 0.555\n",
            "\\ nEPOCH 164:\\ tTraining loss : 0.453\\ tValidation loss : 0.555\n",
            "\\ nEPOCH 165:\\ tTraining loss : 0.453\\ tValidation loss : 0.555\n",
            "\\ nEPOCH 166:\\ tTraining loss : 0.452\\ tValidation loss : 0.555\n",
            "\\ nEPOCH 167:\\ tTraining loss : 0.452\\ tValidation loss : 0.554\n",
            "\\ nEPOCH 168:\\ tTraining loss : 0.452\\ tValidation loss : 0.554\n",
            "\\ nEPOCH 169:\\ tTraining loss : 0.452\\ tValidation loss : 0.554\n",
            "\\ nEPOCH 170:\\ tTraining loss : 0.451\\ tValidation loss : 0.554\n",
            "\\ nEPOCH 171:\\ tTraining loss : 0.451\\ tValidation loss : 0.554\n",
            "\\ nEPOCH 172:\\ tTraining loss : 0.451\\ tValidation loss : 0.554\n",
            "\\ nEPOCH 173:\\ tTraining loss : 0.451\\ tValidation loss : 0.554\n",
            "\\ nEPOCH 174:\\ tTraining loss : 0.450\\ tValidation loss : 0.553\n",
            "\\ nEPOCH 175:\\ tTraining loss : 0.450\\ tValidation loss : 0.553\n",
            "\\ nEPOCH 176:\\ tTraining loss : 0.450\\ tValidation loss : 0.553\n",
            "\\ nEPOCH 177:\\ tTraining loss : 0.450\\ tValidation loss : 0.553\n",
            "\\ nEPOCH 178:\\ tTraining loss : 0.449\\ tValidation loss : 0.553\n",
            "\\ nEPOCH 179:\\ tTraining loss : 0.449\\ tValidation loss : 0.553\n",
            "\\ nEPOCH 180:\\ tTraining loss : 0.449\\ tValidation loss : 0.553\n",
            "\\ nEPOCH 181:\\ tTraining loss : 0.449\\ tValidation loss : 0.553\n",
            "\\ nEPOCH 182:\\ tTraining loss : 0.449\\ tValidation loss : 0.552\n",
            "\\ nEPOCH 183:\\ tTraining loss : 0.448\\ tValidation loss : 0.552\n",
            "\\ nEPOCH 184:\\ tTraining loss : 0.448\\ tValidation loss : 0.552\n",
            "\\ nEPOCH 185:\\ tTraining loss : 0.448\\ tValidation loss : 0.552\n",
            "\\ nEPOCH 186:\\ tTraining loss : 0.448\\ tValidation loss : 0.552\n",
            "\\ nEPOCH 187:\\ tTraining loss : 0.448\\ tValidation loss : 0.552\n",
            "\\ nEPOCH 188:\\ tTraining loss : 0.447\\ tValidation loss : 0.552\n",
            "\\ nEPOCH 189:\\ tTraining loss : 0.447\\ tValidation loss : 0.552\n",
            "\\ nEPOCH 190:\\ tTraining loss : 0.447\\ tValidation loss : 0.552\n",
            "\\ nEPOCH 191:\\ tTraining loss : 0.447\\ tValidation loss : 0.551\n",
            "\\ nEPOCH 192:\\ tTraining loss : 0.447\\ tValidation loss : 0.551\n",
            "\\ nEPOCH 193:\\ tTraining loss : 0.446\\ tValidation loss : 0.551\n",
            "\\ nEPOCH 194:\\ tTraining loss : 0.446\\ tValidation loss : 0.551\n",
            "\\ nEPOCH 195:\\ tTraining loss : 0.446\\ tValidation loss : 0.551\n",
            "\\ nEPOCH 196:\\ tTraining loss : 0.446\\ tValidation loss : 0.551\n",
            "\\ nEPOCH 197:\\ tTraining loss : 0.446\\ tValidation loss : 0.551\n",
            "\\ nEPOCH 198:\\ tTraining loss : 0.445\\ tValidation loss : 0.551\n",
            "\\ nEPOCH 199:\\ tTraining loss : 0.445\\ tValidation loss : 0.551\n",
            "\\ nEPOCH 200:\\ tTraining loss : 0.445\\ tValidation loss : 0.551\n"
          ]
        }
      ]
    },
    {
      "cell_type": "markdown",
      "source": [
        "###Visualize"
      ],
      "metadata": {
        "id": "-tSOXNx27JsE"
      }
    },
    {
      "cell_type": "code",
      "source": [
        "fig , ax = plt . subplots (2, 2, figsize =(12 , 10))\n",
        "ax[0, 0].plot(train_losses)\n",
        "ax[0, 0].set(xlabel ='Epoch', ylabel ='Loss')\n",
        "ax[0, 0].set_title('Training Loss')\n",
        "\n",
        "ax[1, 0].plot(train_accs)\n",
        "ax[1, 0].set(xlabel ='Epoch', ylabel ='Accuracy')\n",
        "ax[1, 0].set_title('Training Accuracy')\n",
        "\n",
        "ax[0, 1].plot(val_losses, 'orange')\n",
        "ax[0, 1].set(xlabel ='Epoch', ylabel ='Loss')\n",
        "ax[0, 1].set_title('Validation Loss')\n",
        "\n",
        "ax[1, 1].plot(val_accs, 'orange')\n",
        "ax[1, 1].set(xlabel ='Epoch', ylabel ='Accuracy')\n",
        "ax[1, 1].set_title('Validation Accuracy')\n",
        "\n",
        "plt.show()"
      ],
      "metadata": {
        "colab": {
          "base_uri": "https://localhost:8080/",
          "height": 872
        },
        "id": "xyH1BvVu7IZK",
        "outputId": "1fe38e30-808d-444b-afa4-74dd467eebc0"
      },
      "execution_count": 66,
      "outputs": [
        {
          "output_type": "display_data",
          "data": {
            "text/plain": [
              "<Figure size 1200x1000 with 4 Axes>"
            ],
            "image/png": "[encoded data removed]"
          },
          "metadata": {}
        }
      ]
    },
    {
      "cell_type": "markdown",
      "source": [
        "###Evaluate"
      ],
      "metadata": {
        "id": "o6cHPTm67cnQ"
      }
    },
    {
      "cell_type": "code",
      "source": [
        "val_set_acc = compute_accuracy (X_val , y_val , theta )\n",
        "test_set_acc = compute_accuracy ( X_test , y_test , theta )\n",
        "print('Evaluation on validation and test set:')\n",
        "print(f'Accuracy : { val_set_acc }')\n",
        "print(f'Accuracy : { test_set_acc }')"
      ],
      "metadata": {
        "colab": {
          "base_uri": "https://localhost:8080/"
        },
        "id": "GFxG63DN7eC3",
        "outputId": "6f6977a2-d63d-4a0a-a07d-f9c633a969a0"
      },
      "execution_count": 67,
      "outputs": [
        {
          "output_type": "stream",
          "name": "stdout",
          "text": [
            "Evaluation on validation and test set:\n",
            "Accuracy : 0.7541899441340782\n",
            "Accuracy : 0.7640449438202247\n"
          ]
        }
      ]
    }
  ]
}