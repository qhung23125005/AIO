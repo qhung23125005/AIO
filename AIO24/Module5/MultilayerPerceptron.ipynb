{
  "nbformat": 4,
  "nbformat_minor": 0,
  "metadata": {
    "colab": {
      "provenance": [],
      "gpuType": "T4",
      "toc_visible": true,
      "authorship_tag": "ABX9TyM23p+ki6UUfvq/EPJLAeF6",
      "include_colab_link": true
    },
    "kernelspec": {
      "name": "python3",
      "display_name": "Python 3"
    },
    "language_info": {
      "name": "python"
    },
    "accelerator": "GPU"
  },
  "cells": [
    {
      "cell_type": "markdown",
      "metadata": {
        "id": "view-in-github",
        "colab_type": "text"
      },
      "source": [
        "<a href=\"https://colab.research.google.com/github/qhung23125005/AIO/blob/main/AIO24/Module5/MultilayerPerceptron.ipynb\" target=\"_parent\"><img src=\"https://colab.research.google.com/assets/colab-badge.svg\" alt=\"Open In Colab\"/></a>"
      ]
    },
    {
      "cell_type": "markdown",
      "source": [
        "## **Multi-Layer Perceptron (MLP)**\n",
        "A **Multi-Layer Perceptron (MLP)** is a type of **artificial neural network (ANN)** composed of multiple layers of neurons. It is commonly used for classification and regression tasks.\n",
        "\n",
        "---\n",
        "\n",
        "### **1. Architecture of MLP**\n",
        "An MLP consists of:\n",
        "- **Input Layer:** Accepts feature vectors as input.\n",
        "- **One or More Hidden Layers:** Each hidden layer applies a linear transformation followed by a non-linear activation function.\n",
        "- **Output Layer:** Produces the final predictions.\n",
        "\n",
        "A fully connected MLP with one hidden layer can be represented mathematically as:\n",
        "\n",
        "$$\n",
        "z^{[l]} = W^{[l]} a^{[l-1]} + b^{[l]}\n",
        "$$\n",
        "\n",
        "$$\n",
        "a^{[l]} = f(z^{[l]})\n",
        "$$\n",
        "\n",
        "where:\n",
        "- $ W^{[l]} $ is the **weight matrix** connecting layer $ l-1 $ to layer $ l $.\n",
        "- $ b^{[l]} $ is the **bias vector**.\n",
        "- $ a^{[l]} $ is the **activation output**.\n",
        "- $ f(\\cdot) $ is the **activation function** (e.g., ReLU, Sigmoid).\n",
        "\n",
        "---\n",
        "\n",
        "### **2. Activation Functions**\n",
        "Activation functions introduce non-linearity, allowing MLPs to learn complex patterns.\n",
        "\n",
        "| Activation Function | Formula | Use Case |\n",
        "|----------------------|--------------------------------|----------------|\n",
        "| **Sigmoid** | $f(x)$ = $\\frac{1}{1 + e^{-x}}$ | Binary classification |\n",
        "| **ReLU** | $f(x)$ = $\\max$$(0, x)$ | Hidden layers (faster training) |\n",
        "| **Tanh** | $f(x)$ = $\\frac{e^x - e^{-x}}{e^x + e^{-x}}$ | Centered around 0, useful for deep networks |\n",
        "| **Softmax** | $f(x)_i$ = $\\frac{e^{x_i}}{\\sum_j e^{x_j}}$ | Multi-class classification |\n",
        "\n",
        "---\n",
        "\n",
        "### **3. Forward Propagation**\n",
        "During forward propagation:\n",
        "1. Input passes through each layer.\n",
        "2. Each layer applies a linear transformation followed by an activation function.\n",
        "3. The output layer produces the final prediction.\n",
        "\n",
        "For a **3-layer MLP** with **1 hidden layer**, forward propagation follows:\n",
        "\n",
        "$$\n",
        "z^{[1]} = W^{[1]} X + b^{[1]}\n",
        "$$\n",
        "\n",
        "$$\n",
        "a^{[1]} = f(z^{[1]})\n",
        "$$\n",
        "\n",
        "$$\n",
        "z^{[2]} = W^{[2]} a^{[1]} + b^{[2]}\n",
        "$$\n",
        "\n",
        "$$\n",
        "\\hat{y} = f(z^{[2]})\n",
        "$$\n",
        "\n",
        "where:\n",
        "- $ X $ is the input.\n",
        "- $ \\hat{y} $ is the predicted output.\n",
        "\n",
        "---\n",
        "\n",
        "### **4. Backpropagation and Optimization**\n",
        "MLPs learn by minimizing a **loss function** using **gradient descent** via **backpropagation**:\n",
        "- Compute loss $ L(\\hat{y}, y) $.\n",
        "- Compute gradients using **chain rule**.\n",
        "- Update weights using **Stochastic Gradient Descent (SGD)**:\n",
        "\n",
        "$$\n",
        "W = W - \\eta \\frac{\\partial L}{\\partial W}\n",
        "$$\n",
        "\n",
        "where $ \\eta $ is the learning rate.\n",
        "\n",
        "Popular optimizers:\n",
        "- **SGD** (Stochastic Gradient Descent)\n",
        "- **Adam** (Adaptive Moment Estimation)\n",
        "- **RMSprop** (Root Mean Square Propagation)\n",
        "\n",
        "\n"
      ],
      "metadata": {
        "id": "guOKtzNz0po1"
      }
    },
    {
      "cell_type": "markdown",
      "source": [
        "#Auto_MPG_data"
      ],
      "metadata": {
        "id": "CrCEGISN1okd"
      }
    },
    {
      "cell_type": "markdown",
      "source": [
        "##Setup"
      ],
      "metadata": {
        "id": "n_lL48qc2z6s"
      }
    },
    {
      "cell_type": "code",
      "execution_count": 1,
      "metadata": {
        "colab": {
          "base_uri": "https://localhost:8080/"
        },
        "id": "UZgPIqAY0GFa",
        "outputId": "96ea9775-9636-4996-ba9e-4b285589dd3f"
      },
      "outputs": [
        {
          "output_type": "stream",
          "name": "stdout",
          "text": [
            "/usr/local/lib/python3.11/dist-packages/gdown/__main__.py:140: FutureWarning: Option `--id` was deprecated in version 4.3.1 and will be removed in 5.0. You don't need to pass it anymore to use a file ID.\n",
            "  warnings.warn(\n",
            "Downloading...\n",
            "From: https://drive.google.com/uc?id=1qiUDDoYyRLBiKOoYWdFl_5WByHE8Cugu\n",
            "To: /content/Auto_MPG_data.csv\n",
            "100% 15.4k/15.4k [00:00<00:00, 35.7MB/s]\n"
          ]
        }
      ],
      "source": [
        "! gdown --id 1qiUDDoYyRLBiKOoYWdFl_5WByHE8Cugu"
      ]
    },
    {
      "cell_type": "code",
      "source": [
        "import numpy as np\n",
        "import pandas as pd\n",
        "import matplotlib.pyplot as plt\n",
        "import torch\n",
        "import torch.nn as nn\n",
        "import torch.nn.functional as F\n",
        "from torch.utils.data import Dataset, DataLoader\n",
        "\n",
        "from sklearn.model_selection import train_test_split\n",
        "from sklearn.preprocessing import StandardScaler"
      ],
      "metadata": {
        "id": "NRxzzaYL2hHv"
      },
      "execution_count": 2,
      "outputs": []
    },
    {
      "cell_type": "code",
      "source": [
        "random_state = 59\n",
        "np.random.seed(random_state)\n",
        "torch.manual_seed(random_state)\n",
        "if torch.cuda.is_available() :\n",
        "  torch.cuda.manual_seed(random_state)"
      ],
      "metadata": {
        "id": "sqp8bKVi21EP"
      },
      "execution_count": 3,
      "outputs": []
    },
    {
      "cell_type": "code",
      "source": [
        "device = torch.device(\"cuda\" if torch.cuda.is_available() else \"cpu\")\n",
        "\n",
        "device"
      ],
      "metadata": {
        "colab": {
          "base_uri": "https://localhost:8080/"
        },
        "id": "86nUmOd13Dg0",
        "outputId": "35b150f7-5c4d-4e7a-f04a-1f090b1cdc9b"
      },
      "execution_count": 4,
      "outputs": [
        {
          "output_type": "execute_result",
          "data": {
            "text/plain": [
              "device(type='cuda')"
            ]
          },
          "metadata": {},
          "execution_count": 4
        }
      ]
    },
    {
      "cell_type": "markdown",
      "source": [
        "##Data"
      ],
      "metadata": {
        "id": "EJCamyPs3lFu"
      }
    },
    {
      "cell_type": "markdown",
      "source": [
        "###Load data"
      ],
      "metadata": {
        "id": "4vCuBmoL3yzt"
      }
    },
    {
      "cell_type": "code",
      "source": [
        "df = pd.read_csv('Auto_MPG_data.csv')\n",
        "\n",
        "df"
      ],
      "metadata": {
        "colab": {
          "base_uri": "https://localhost:8080/",
          "height": 423
        },
        "id": "xNWuPjAa3g5K",
        "outputId": "ada79cb5-a77c-4dac-901e-6889402cd6e1"
      },
      "execution_count": 5,
      "outputs": [
        {
          "output_type": "execute_result",
          "data": {
            "text/plain": [
              "      MPG  Cylinders  Displacement  Horsepower  Weight  Acceleration  \\\n",
              "0    18.0          8         307.0       130.0  3504.0          12.0   \n",
              "1    15.0          8         350.0       165.0  3693.0          11.5   \n",
              "2    18.0          8         318.0       150.0  3436.0          11.0   \n",
              "3    16.0          8         304.0       150.0  3433.0          12.0   \n",
              "4    17.0          8         302.0       140.0  3449.0          10.5   \n",
              "..    ...        ...           ...         ...     ...           ...   \n",
              "387  27.0          4         140.0        86.0  2790.0          15.6   \n",
              "388  44.0          4          97.0        52.0  2130.0          24.6   \n",
              "389  32.0          4         135.0        84.0  2295.0          11.6   \n",
              "390  28.0          4         120.0        79.0  2625.0          18.6   \n",
              "391  31.0          4         119.0        82.0  2720.0          19.4   \n",
              "\n",
              "     Model Year  Europe  Japan  USA  \n",
              "0            70       0      0    1  \n",
              "1            70       0      0    1  \n",
              "2            70       0      0    1  \n",
              "3            70       0      0    1  \n",
              "4            70       0      0    1  \n",
              "..          ...     ...    ...  ...  \n",
              "387          82       0      0    1  \n",
              "388          82       1      0    0  \n",
              "389          82       0      0    1  \n",
              "390          82       0      0    1  \n",
              "391          82       0      0    1  \n",
              "\n",
              "[392 rows x 10 columns]"
            ],
            "text/html": [
              "\n",
              "  <div id=\"df-fd370a26-675d-4a83-b3f5-5315f6160adc\" class=\"colab-df-container\">\n",
              "    <div>\n",
              "<style scoped>\n",
              "    .dataframe tbody tr th:only-of-type {\n",
              "        vertical-align: middle;\n",
              "    }\n",
              "\n",
              "    .dataframe tbody tr th {\n",
              "        vertical-align: top;\n",
              "    }\n",
              "\n",
              "    .dataframe thead th {\n",
              "        text-align: right;\n",
              "    }\n",
              "</style>\n",
              "<table border=\"1\" class=\"dataframe\">\n",
              "  <thead>\n",
              "    <tr style=\"text-align: right;\">\n",
              "      <th></th>\n",
              "      <th>MPG</th>\n",
              "      <th>Cylinders</th>\n",
              "      <th>Displacement</th>\n",
              "      <th>Horsepower</th>\n",
              "      <th>Weight</th>\n",
              "      <th>Acceleration</th>\n",
              "      <th>Model Year</th>\n",
              "      <th>Europe</th>\n",
              "      <th>Japan</th>\n",
              "      <th>USA</th>\n",
              "    </tr>\n",
              "  </thead>\n",
              "  <tbody>\n",
              "    <tr>\n",
              "      <th>0</th>\n",
              "      <td>18.0</td>\n",
              "      <td>8</td>\n",
              "      <td>307.0</td>\n",
              "      <td>130.0</td>\n",
              "      <td>3504.0</td>\n",
              "      <td>12.0</td>\n",
              "      <td>70</td>\n",
              "      <td>0</td>\n",
              "      <td>0</td>\n",
              "      <td>1</td>\n",
              "    </tr>\n",
              "    <tr>\n",
              "      <th>1</th>\n",
              "      <td>15.0</td>\n",
              "      <td>8</td>\n",
              "      <td>350.0</td>\n",
              "      <td>165.0</td>\n",
              "      <td>3693.0</td>\n",
              "      <td>11.5</td>\n",
              "      <td>70</td>\n",
              "      <td>0</td>\n",
              "      <td>0</td>\n",
              "      <td>1</td>\n",
              "    </tr>\n",
              "    <tr>\n",
              "      <th>2</th>\n",
              "      <td>18.0</td>\n",
              "      <td>8</td>\n",
              "      <td>318.0</td>\n",
              "      <td>150.0</td>\n",
              "      <td>3436.0</td>\n",
              "      <td>11.0</td>\n",
              "      <td>70</td>\n",
              "      <td>0</td>\n",
              "      <td>0</td>\n",
              "      <td>1</td>\n",
              "    </tr>\n",
              "    <tr>\n",
              "      <th>3</th>\n",
              "      <td>16.0</td>\n",
              "      <td>8</td>\n",
              "      <td>304.0</td>\n",
              "      <td>150.0</td>\n",
              "      <td>3433.0</td>\n",
              "      <td>12.0</td>\n",
              "      <td>70</td>\n",
              "      <td>0</td>\n",
              "      <td>0</td>\n",
              "      <td>1</td>\n",
              "    </tr>\n",
              "    <tr>\n",
              "      <th>4</th>\n",
              "      <td>17.0</td>\n",
              "      <td>8</td>\n",
              "      <td>302.0</td>\n",
              "      <td>140.0</td>\n",
              "      <td>3449.0</td>\n",
              "      <td>10.5</td>\n",
              "      <td>70</td>\n",
              "      <td>0</td>\n",
              "      <td>0</td>\n",
              "      <td>1</td>\n",
              "    </tr>\n",
              "    <tr>\n",
              "      <th>...</th>\n",
              "      <td>...</td>\n",
              "      <td>...</td>\n",
              "      <td>...</td>\n",
              "      <td>...</td>\n",
              "      <td>...</td>\n",
              "      <td>...</td>\n",
              "      <td>...</td>\n",
              "      <td>...</td>\n",
              "      <td>...</td>\n",
              "      <td>...</td>\n",
              "    </tr>\n",
              "    <tr>\n",
              "      <th>387</th>\n",
              "      <td>27.0</td>\n",
              "      <td>4</td>\n",
              "      <td>140.0</td>\n",
              "      <td>86.0</td>\n",
              "      <td>2790.0</td>\n",
              "      <td>15.6</td>\n",
              "      <td>82</td>\n",
              "      <td>0</td>\n",
              "      <td>0</td>\n",
              "      <td>1</td>\n",
              "    </tr>\n",
              "    <tr>\n",
              "      <th>388</th>\n",
              "      <td>44.0</td>\n",
              "      <td>4</td>\n",
              "      <td>97.0</td>\n",
              "      <td>52.0</td>\n",
              "      <td>2130.0</td>\n",
              "      <td>24.6</td>\n",
              "      <td>82</td>\n",
              "      <td>1</td>\n",
              "      <td>0</td>\n",
              "      <td>0</td>\n",
              "    </tr>\n",
              "    <tr>\n",
              "      <th>389</th>\n",
              "      <td>32.0</td>\n",
              "      <td>4</td>\n",
              "      <td>135.0</td>\n",
              "      <td>84.0</td>\n",
              "      <td>2295.0</td>\n",
              "      <td>11.6</td>\n",
              "      <td>82</td>\n",
              "      <td>0</td>\n",
              "      <td>0</td>\n",
              "      <td>1</td>\n",
              "    </tr>\n",
              "    <tr>\n",
              "      <th>390</th>\n",
              "      <td>28.0</td>\n",
              "      <td>4</td>\n",
              "      <td>120.0</td>\n",
              "      <td>79.0</td>\n",
              "      <td>2625.0</td>\n",
              "      <td>18.6</td>\n",
              "      <td>82</td>\n",
              "      <td>0</td>\n",
              "      <td>0</td>\n",
              "      <td>1</td>\n",
              "    </tr>\n",
              "    <tr>\n",
              "      <th>391</th>\n",
              "      <td>31.0</td>\n",
              "      <td>4</td>\n",
              "      <td>119.0</td>\n",
              "      <td>82.0</td>\n",
              "      <td>2720.0</td>\n",
              "      <td>19.4</td>\n",
              "      <td>82</td>\n",
              "      <td>0</td>\n",
              "      <td>0</td>\n",
              "      <td>1</td>\n",
              "    </tr>\n",
              "  </tbody>\n",
              "</table>\n",
              "<p>392 rows × 10 columns</p>\n",
              "</div>\n",
              "    <div class=\"colab-df-buttons\">\n",
              "\n",
              "  <div class=\"colab-df-container\">\n",
              "    <button class=\"colab-df-convert\" onclick=\"convertToInteractive('df-fd370a26-675d-4a83-b3f5-5315f6160adc')\"\n",
              "            title=\"Convert this dataframe to an interactive table.\"\n",
              "            style=\"display:none;\">\n",
              "\n",
              "  <svg xmlns=\"http://www.w3.org/2000/svg\" height=\"24px\" viewBox=\"0 -960 960 960\">\n",
              "    <path d=\"M120-120v-720h720v720H120Zm60-500h600v-160H180v160Zm220 220h160v-160H400v160Zm0 220h160v-160H400v160ZM180-400h160v-160H180v160Zm440 0h160v-160H620v160ZM180-180h160v-160H180v160Zm440 0h160v-160H620v160Z\"/>\n",
              "  </svg>\n",
              "    </button>\n",
              "\n",
              "  <style>\n",
              "    .colab-df-container {\n",
              "      display:flex;\n",
              "      gap: 12px;\n",
              "    }\n",
              "\n",
              "    .colab-df-convert {\n",
              "      background-color: #E8F0FE;\n",
              "      border: none;\n",
              "      border-radius: 50%;\n",
              "      cursor: pointer;\n",
              "      display: none;\n",
              "      fill: #1967D2;\n",
              "      height: 32px;\n",
              "      padding: 0 0 0 0;\n",
              "      width: 32px;\n",
              "    }\n",
              "\n",
              "    .colab-df-convert:hover {\n",
              "      background-color: #E2EBFA;\n",
              "      box-shadow: 0px 1px 2px rgba(60, 64, 67, 0.3), 0px 1px 3px 1px rgba(60, 64, 67, 0.15);\n",
              "      fill: #174EA6;\n",
              "    }\n",
              "\n",
              "    .colab-df-buttons div {\n",
              "      margin-bottom: 4px;\n",
              "    }\n",
              "\n",
              "    [theme=dark] .colab-df-convert {\n",
              "      background-color: #3B4455;\n",
              "      fill: #D2E3FC;\n",
              "    }\n",
              "\n",
              "    [theme=dark] .colab-df-convert:hover {\n",
              "      background-color: #434B5C;\n",
              "      box-shadow: 0px 1px 3px 1px rgba(0, 0, 0, 0.15);\n",
              "      filter: drop-shadow(0px 1px 2px rgba(0, 0, 0, 0.3));\n",
              "      fill: #FFFFFF;\n",
              "    }\n",
              "  </style>\n",
              "\n",
              "    <script>\n",
              "      const buttonEl =\n",
              "        document.querySelector('#df-fd370a26-675d-4a83-b3f5-5315f6160adc button.colab-df-convert');\n",
              "      buttonEl.style.display =\n",
              "        google.colab.kernel.accessAllowed ? 'block' : 'none';\n",
              "\n",
              "      async function convertToInteractive(key) {\n",
              "        const element = document.querySelector('#df-fd370a26-675d-4a83-b3f5-5315f6160adc');\n",
              "        const dataTable =\n",
              "          await google.colab.kernel.invokeFunction('convertToInteractive',\n",
              "                                                    [key], {});\n",
              "        if (!dataTable) return;\n",
              "\n",
              "        const docLinkHtml = 'Like what you see? Visit the ' +\n",
              "          '<a target=\"_blank\" href=https://colab.research.google.com/notebooks/data_table.ipynb>data table notebook</a>'\n",
              "          + ' to learn more about interactive tables.';\n",
              "        element.innerHTML = '';\n",
              "        dataTable['output_type'] = 'display_data';\n",
              "        await google.colab.output.renderOutput(dataTable, element);\n",
              "        const docLink = document.createElement('div');\n",
              "        docLink.innerHTML = docLinkHtml;\n",
              "        element.appendChild(docLink);\n",
              "      }\n",
              "    </script>\n",
              "  </div>\n",
              "\n",
              "\n",
              "<div id=\"df-71811cdf-c22e-49f4-8af4-9f97b8ec7214\">\n",
              "  <button class=\"colab-df-quickchart\" onclick=\"quickchart('df-71811cdf-c22e-49f4-8af4-9f97b8ec7214')\"\n",
              "            title=\"Suggest charts\"\n",
              "            style=\"display:none;\">\n",
              "\n",
              "<svg xmlns=\"http://www.w3.org/2000/svg\" height=\"24px\"viewBox=\"0 0 24 24\"\n",
              "     width=\"24px\">\n",
              "    <g>\n",
              "        <path d=\"M19 3H5c-1.1 0-2 .9-2 2v14c0 1.1.9 2 2 2h14c1.1 0 2-.9 2-2V5c0-1.1-.9-2-2-2zM9 17H7v-7h2v7zm4 0h-2V7h2v10zm4 0h-2v-4h2v4z\"/>\n",
              "    </g>\n",
              "</svg>\n",
              "  </button>\n",
              "\n",
              "<style>\n",
              "  .colab-df-quickchart {\n",
              "      --bg-color: #E8F0FE;\n",
              "      --fill-color: #1967D2;\n",
              "      --hover-bg-color: #E2EBFA;\n",
              "      --hover-fill-color: #174EA6;\n",
              "      --disabled-fill-color: #AAA;\n",
              "      --disabled-bg-color: #DDD;\n",
              "  }\n",
              "\n",
              "  [theme=dark] .colab-df-quickchart {\n",
              "      --bg-color: #3B4455;\n",
              "      --fill-color: #D2E3FC;\n",
              "      --hover-bg-color: #434B5C;\n",
              "      --hover-fill-color: #FFFFFF;\n",
              "      --disabled-bg-color: #3B4455;\n",
              "      --disabled-fill-color: #666;\n",
              "  }\n",
              "\n",
              "  .colab-df-quickchart {\n",
              "    background-color: var(--bg-color);\n",
              "    border: none;\n",
              "    border-radius: 50%;\n",
              "    cursor: pointer;\n",
              "    display: none;\n",
              "    fill: var(--fill-color);\n",
              "    height: 32px;\n",
              "    padding: 0;\n",
              "    width: 32px;\n",
              "  }\n",
              "\n",
              "  .colab-df-quickchart:hover {\n",
              "    background-color: var(--hover-bg-color);\n",
              "    box-shadow: 0 1px 2px rgba(60, 64, 67, 0.3), 0 1px 3px 1px rgba(60, 64, 67, 0.15);\n",
              "    fill: var(--button-hover-fill-color);\n",
              "  }\n",
              "\n",
              "  .colab-df-quickchart-complete:disabled,\n",
              "  .colab-df-quickchart-complete:disabled:hover {\n",
              "    background-color: var(--disabled-bg-color);\n",
              "    fill: var(--disabled-fill-color);\n",
              "    box-shadow: none;\n",
              "  }\n",
              "\n",
              "  .colab-df-spinner {\n",
              "    border: 2px solid var(--fill-color);\n",
              "    border-color: transparent;\n",
              "    border-bottom-color: var(--fill-color);\n",
              "    animation:\n",
              "      spin 1s steps(1) infinite;\n",
              "  }\n",
              "\n",
              "  @keyframes spin {\n",
              "    0% {\n",
              "      border-color: transparent;\n",
              "      border-bottom-color: var(--fill-color);\n",
              "      border-left-color: var(--fill-color);\n",
              "    }\n",
              "    20% {\n",
              "      border-color: transparent;\n",
              "      border-left-color: var(--fill-color);\n",
              "      border-top-color: var(--fill-color);\n",
              "    }\n",
              "    30% {\n",
              "      border-color: transparent;\n",
              "      border-left-color: var(--fill-color);\n",
              "      border-top-color: var(--fill-color);\n",
              "      border-right-color: var(--fill-color);\n",
              "    }\n",
              "    40% {\n",
              "      border-color: transparent;\n",
              "      border-right-color: var(--fill-color);\n",
              "      border-top-color: var(--fill-color);\n",
              "    }\n",
              "    60% {\n",
              "      border-color: transparent;\n",
              "      border-right-color: var(--fill-color);\n",
              "    }\n",
              "    80% {\n",
              "      border-color: transparent;\n",
              "      border-right-color: var(--fill-color);\n",
              "      border-bottom-color: var(--fill-color);\n",
              "    }\n",
              "    90% {\n",
              "      border-color: transparent;\n",
              "      border-bottom-color: var(--fill-color);\n",
              "    }\n",
              "  }\n",
              "</style>\n",
              "\n",
              "  <script>\n",
              "    async function quickchart(key) {\n",
              "      const quickchartButtonEl =\n",
              "        document.querySelector('#' + key + ' button');\n",
              "      quickchartButtonEl.disabled = true;  // To prevent multiple clicks.\n",
              "      quickchartButtonEl.classList.add('colab-df-spinner');\n",
              "      try {\n",
              "        const charts = await google.colab.kernel.invokeFunction(\n",
              "            'suggestCharts', [key], {});\n",
              "      } catch (error) {\n",
              "        console.error('Error during call to suggestCharts:', error);\n",
              "      }\n",
              "      quickchartButtonEl.classList.remove('colab-df-spinner');\n",
              "      quickchartButtonEl.classList.add('colab-df-quickchart-complete');\n",
              "    }\n",
              "    (() => {\n",
              "      let quickchartButtonEl =\n",
              "        document.querySelector('#df-71811cdf-c22e-49f4-8af4-9f97b8ec7214 button');\n",
              "      quickchartButtonEl.style.display =\n",
              "        google.colab.kernel.accessAllowed ? 'block' : 'none';\n",
              "    })();\n",
              "  </script>\n",
              "</div>\n",
              "\n",
              "  <div id=\"id_1dc536b7-d642-4a85-8f9a-43ef9e08528e\">\n",
              "    <style>\n",
              "      .colab-df-generate {\n",
              "        background-color: #E8F0FE;\n",
              "        border: none;\n",
              "        border-radius: 50%;\n",
              "        cursor: pointer;\n",
              "        display: none;\n",
              "        fill: #1967D2;\n",
              "        height: 32px;\n",
              "        padding: 0 0 0 0;\n",
              "        width: 32px;\n",
              "      }\n",
              "\n",
              "      .colab-df-generate:hover {\n",
              "        background-color: #E2EBFA;\n",
              "        box-shadow: 0px 1px 2px rgba(60, 64, 67, 0.3), 0px 1px 3px 1px rgba(60, 64, 67, 0.15);\n",
              "        fill: #174EA6;\n",
              "      }\n",
              "\n",
              "      [theme=dark] .colab-df-generate {\n",
              "        background-color: #3B4455;\n",
              "        fill: #D2E3FC;\n",
              "      }\n",
              "\n",
              "      [theme=dark] .colab-df-generate:hover {\n",
              "        background-color: #434B5C;\n",
              "        box-shadow: 0px 1px 3px 1px rgba(0, 0, 0, 0.15);\n",
              "        filter: drop-shadow(0px 1px 2px rgba(0, 0, 0, 0.3));\n",
              "        fill: #FFFFFF;\n",
              "      }\n",
              "    </style>\n",
              "    <button class=\"colab-df-generate\" onclick=\"generateWithVariable('df')\"\n",
              "            title=\"Generate code using this dataframe.\"\n",
              "            style=\"display:none;\">\n",
              "\n",
              "  <svg xmlns=\"http://www.w3.org/2000/svg\" height=\"24px\"viewBox=\"0 0 24 24\"\n",
              "       width=\"24px\">\n",
              "    <path d=\"M7,19H8.4L18.45,9,17,7.55,7,17.6ZM5,21V16.75L18.45,3.32a2,2,0,0,1,2.83,0l1.4,1.43a1.91,1.91,0,0,1,.58,1.4,1.91,1.91,0,0,1-.58,1.4L9.25,21ZM18.45,9,17,7.55Zm-12,3A5.31,5.31,0,0,0,4.9,8.1,5.31,5.31,0,0,0,1,6.5,5.31,5.31,0,0,0,4.9,4.9,5.31,5.31,0,0,0,6.5,1,5.31,5.31,0,0,0,8.1,4.9,5.31,5.31,0,0,0,12,6.5,5.46,5.46,0,0,0,6.5,12Z\"/>\n",
              "  </svg>\n",
              "    </button>\n",
              "    <script>\n",
              "      (() => {\n",
              "      const buttonEl =\n",
              "        document.querySelector('#id_1dc536b7-d642-4a85-8f9a-43ef9e08528e button.colab-df-generate');\n",
              "      buttonEl.style.display =\n",
              "        google.colab.kernel.accessAllowed ? 'block' : 'none';\n",
              "\n",
              "      buttonEl.onclick = () => {\n",
              "        google.colab.notebook.generateWithVariable('df');\n",
              "      }\n",
              "      })();\n",
              "    </script>\n",
              "  </div>\n",
              "\n",
              "    </div>\n",
              "  </div>\n"
            ],
            "application/vnd.google.colaboratory.intrinsic+json": {
              "type": "dataframe",
              "variable_name": "df",
              "summary": "{\n  \"name\": \"df\",\n  \"rows\": 392,\n  \"fields\": [\n    {\n      \"column\": \"MPG\",\n      \"properties\": {\n        \"dtype\": \"number\",\n        \"std\": 7.805007486571799,\n        \"min\": 9.0,\n        \"max\": 46.6,\n        \"num_unique_values\": 127,\n        \"samples\": [\n          17.5,\n          35.1,\n          28.8\n        ],\n        \"semantic_type\": \"\",\n        \"description\": \"\"\n      }\n    },\n    {\n      \"column\": \"Cylinders\",\n      \"properties\": {\n        \"dtype\": \"number\",\n        \"std\": 1,\n        \"min\": 3,\n        \"max\": 8,\n        \"num_unique_values\": 5,\n        \"samples\": [\n          4,\n          5,\n          6\n        ],\n        \"semantic_type\": \"\",\n        \"description\": \"\"\n      }\n    },\n    {\n      \"column\": \"Displacement\",\n      \"properties\": {\n        \"dtype\": \"number\",\n        \"std\": 104.64400390890465,\n        \"min\": 68.0,\n        \"max\": 455.0,\n        \"num_unique_values\": 81,\n        \"samples\": [\n          116.0,\n          307.0,\n          360.0\n        ],\n        \"semantic_type\": \"\",\n        \"description\": \"\"\n      }\n    },\n    {\n      \"column\": \"Horsepower\",\n      \"properties\": {\n        \"dtype\": \"number\",\n        \"std\": 38.49115993282855,\n        \"min\": 46.0,\n        \"max\": 230.0,\n        \"num_unique_values\": 93,\n        \"samples\": [\n          92.0,\n          100.0,\n          52.0\n        ],\n        \"semantic_type\": \"\",\n        \"description\": \"\"\n      }\n    },\n    {\n      \"column\": \"Weight\",\n      \"properties\": {\n        \"dtype\": \"number\",\n        \"std\": 849.4025600429494,\n        \"min\": 1613.0,\n        \"max\": 5140.0,\n        \"num_unique_values\": 346,\n        \"samples\": [\n          2472.0,\n          3221.0,\n          2700.0\n        ],\n        \"semantic_type\": \"\",\n        \"description\": \"\"\n      }\n    },\n    {\n      \"column\": \"Acceleration\",\n      \"properties\": {\n        \"dtype\": \"number\",\n        \"std\": 2.7588641191880816,\n        \"min\": 8.0,\n        \"max\": 24.8,\n        \"num_unique_values\": 95,\n        \"samples\": [\n          14.7,\n          18.0,\n          14.3\n        ],\n        \"semantic_type\": \"\",\n        \"description\": \"\"\n      }\n    },\n    {\n      \"column\": \"Model Year\",\n      \"properties\": {\n        \"dtype\": \"number\",\n        \"std\": 3,\n        \"min\": 70,\n        \"max\": 82,\n        \"num_unique_values\": 13,\n        \"samples\": [\n          81,\n          79,\n          70\n        ],\n        \"semantic_type\": \"\",\n        \"description\": \"\"\n      }\n    },\n    {\n      \"column\": \"Europe\",\n      \"properties\": {\n        \"dtype\": \"number\",\n        \"std\": 0,\n        \"min\": 0,\n        \"max\": 1,\n        \"num_unique_values\": 2,\n        \"samples\": [\n          1,\n          0\n        ],\n        \"semantic_type\": \"\",\n        \"description\": \"\"\n      }\n    },\n    {\n      \"column\": \"Japan\",\n      \"properties\": {\n        \"dtype\": \"number\",\n        \"std\": 0,\n        \"min\": 0,\n        \"max\": 1,\n        \"num_unique_values\": 2,\n        \"samples\": [\n          1,\n          0\n        ],\n        \"semantic_type\": \"\",\n        \"description\": \"\"\n      }\n    },\n    {\n      \"column\": \"USA\",\n      \"properties\": {\n        \"dtype\": \"number\",\n        \"std\": 0,\n        \"min\": 0,\n        \"max\": 1,\n        \"num_unique_values\": 2,\n        \"samples\": [\n          0,\n          1\n        ],\n        \"semantic_type\": \"\",\n        \"description\": \"\"\n      }\n    }\n  ]\n}"
            }
          },
          "metadata": {},
          "execution_count": 5
        }
      ]
    },
    {
      "cell_type": "markdown",
      "source": [
        "###Split X, y"
      ],
      "metadata": {
        "id": "KGL3tZR030IS"
      }
    },
    {
      "cell_type": "code",
      "source": [
        "X = df.drop(columns = ['MPG']).values\n",
        "y = df['MPG'].values\n",
        "\n",
        "X"
      ],
      "metadata": {
        "colab": {
          "base_uri": "https://localhost:8080/"
        },
        "id": "RrXt_2zy3uB6",
        "outputId": "3364871c-f2ad-43ee-dab1-5ac89f278a6d"
      },
      "execution_count": 6,
      "outputs": [
        {
          "output_type": "execute_result",
          "data": {
            "text/plain": [
              "array([[  8., 307., 130., ...,   0.,   0.,   1.],\n",
              "       [  8., 350., 165., ...,   0.,   0.,   1.],\n",
              "       [  8., 318., 150., ...,   0.,   0.,   1.],\n",
              "       ...,\n",
              "       [  4., 135.,  84., ...,   0.,   0.,   1.],\n",
              "       [  4., 120.,  79., ...,   0.,   0.,   1.],\n",
              "       [  4., 119.,  82., ...,   0.,   0.,   1.]])"
            ]
          },
          "metadata": {},
          "execution_count": 6
        }
      ]
    },
    {
      "cell_type": "markdown",
      "source": [
        "###Split train, val and test"
      ],
      "metadata": {
        "id": "8OJ0xPo84JI8"
      }
    },
    {
      "cell_type": "code",
      "source": [
        "val_size = 0.2\n",
        "test_size = 0.125\n",
        "is_shuffle = True\n",
        "\n",
        "X_train, X_val, y_train, y_val = train_test_split(\n",
        "    X, y,\n",
        "    test_size = val_size,\n",
        "    shuffle = is_shuffle\n",
        ")\n",
        "\n",
        "X_train, X_test, y_train, y_test = train_test_split(\n",
        "    X_train, y_train,\n",
        "    test_size = test_size,\n",
        "    shuffle = is_shuffle\n",
        ")"
      ],
      "metadata": {
        "id": "zmKmxVnv4LnF"
      },
      "execution_count": 7,
      "outputs": []
    },
    {
      "cell_type": "markdown",
      "source": [
        "###Normalize the data"
      ],
      "metadata": {
        "id": "8D-g6mqG4fLB"
      }
    },
    {
      "cell_type": "code",
      "source": [
        "normalizer = StandardScaler()\n",
        "\n",
        "X_train = normalizer.fit_transform(X_train)\n",
        "X_val = normalizer.transform(X_val)\n",
        "X_test = normalizer.transform(X_test)"
      ],
      "metadata": {
        "id": "F6jkr4EA4gd7"
      },
      "execution_count": 8,
      "outputs": []
    },
    {
      "cell_type": "markdown",
      "source": [
        "###Convert to tensor"
      ],
      "metadata": {
        "id": "mADpwN5X4onw"
      }
    },
    {
      "cell_type": "code",
      "source": [
        "X_train = torch.tensor(X_train, dtype = torch.float32)\n",
        "y_train = torch.tensor(y_train, dtype = torch.float32)\n",
        "\n",
        "X_val = torch.tensor(X_val, dtype = torch.float32)\n",
        "y_val = torch.tensor(y_val, dtype = torch.float32)\n",
        "\n",
        "X_test = torch.tensor(X_test, dtype = torch.float32)\n",
        "y_test = torch.tensor(y_test, dtype = torch.float32)"
      ],
      "metadata": {
        "id": "dNRedLsU4oLc"
      },
      "execution_count": 9,
      "outputs": []
    },
    {
      "cell_type": "markdown",
      "source": [
        "###Build custom Dataset class"
      ],
      "metadata": {
        "id": "c7cMOosc5JFx"
      }
    },
    {
      "cell_type": "code",
      "source": [
        "class CustomDataset(Dataset):\n",
        "  def __init__(self, X, y):\n",
        "    self.X = X\n",
        "    self.y = y\n",
        "\n",
        "  def __len__(self):\n",
        "    return len(self.X)\n",
        "\n",
        "  def __getitem__(self, idx):\n",
        "    return self.X[idx], self.y[idx]"
      ],
      "metadata": {
        "id": "y8Ym-p3v5K2U"
      },
      "execution_count": 10,
      "outputs": []
    },
    {
      "cell_type": "code",
      "source": [
        "batch_size = 32\n",
        "train_dataset = CustomDataset(X_train, y_train)\n",
        "val_dataset = CustomDataset(X_val, y_val)\n",
        "test_dataset = CustomDataset(X_test, y_test)\n",
        "\n",
        "train_loader = DataLoader(train_dataset,\n",
        "                          batch_size = batch_size,\n",
        "                          shuffle = True)\n",
        "val_loader = DataLoader(val_dataset,\n",
        "                        batch_size = batch_size,\n",
        "                        shuffle = False)"
      ],
      "metadata": {
        "id": "OVsnDuC15hFx"
      },
      "execution_count": 11,
      "outputs": []
    },
    {
      "cell_type": "markdown",
      "source": [
        "##Build Model"
      ],
      "metadata": {
        "id": "tc4VKBKF51rw"
      }
    },
    {
      "cell_type": "markdown",
      "source": [
        "###Build Model class"
      ],
      "metadata": {
        "id": "6BU2SzmE9BNv"
      }
    },
    {
      "cell_type": "code",
      "source": [
        "class MLP(nn.Module):\n",
        "  def __init__(self, input_dims , hidden_dims , output_dims):\n",
        "    super().__init__()\n",
        "    self.linear1 = nn.Linear(input_dims, hidden_dims)\n",
        "    self.linear2 = nn.Linear(hidden_dims, hidden_dims)\n",
        "    self.output = nn.Linear(hidden_dims, output_dims)\n",
        "\n",
        "  def forward(self, x):\n",
        "    x = self.linear1(x)\n",
        "    x = F.relu(x)\n",
        "    x = self.linear2(x)\n",
        "    x = F.relu(x)\n",
        "    out = self.output(x)\n",
        "    return out.squeeze(1)"
      ],
      "metadata": {
        "id": "DvsIh41X5_iW"
      },
      "execution_count": 12,
      "outputs": []
    },
    {
      "cell_type": "markdown",
      "source": [
        "###Init model"
      ],
      "metadata": {
        "id": "CJxBYrKB9C5C"
      }
    },
    {
      "cell_type": "code",
      "source": [
        "input_dims = X_train.shape[1]\n",
        "output_dims = 1\n",
        "hidden_dims = 64\n",
        "\n",
        "model = MLP (input_dims = input_dims,\n",
        "             hidden_dims = hidden_dims,\n",
        "             output_dims = output_dims).to(device)"
      ],
      "metadata": {
        "id": "83KsatcX78Pb"
      },
      "execution_count": 13,
      "outputs": []
    },
    {
      "cell_type": "markdown",
      "source": [
        "###Define lr, loss and optimizer"
      ],
      "metadata": {
        "id": "-8zLmi0h9EAo"
      }
    },
    {
      "cell_type": "code",
      "source": [
        "lr = 1e-2\n",
        "criterion = nn.MSELoss()\n",
        "optimizer = torch.optim.SGD(model.parameters(), lr=lr)"
      ],
      "metadata": {
        "id": "5YaSbeYb8xiR"
      },
      "execution_count": 14,
      "outputs": []
    },
    {
      "cell_type": "markdown",
      "source": [
        "###Evaluate by R2"
      ],
      "metadata": {
        "id": "AwT6Sj3T9Gq3"
      }
    },
    {
      "cell_type": "code",
      "source": [
        "def r_squared(y_true, y_pred):\n",
        "  y_true = torch.Tensor(y_true).to(device)\n",
        "  y_pred = torch.Tensor(y_pred).to(device)\n",
        "  mean_true = torch.mean(y_true)\n",
        "  ss_res = torch.sum((y_true - y_pred)**2)\n",
        "  ss_tot = torch.sum((y_true - mean_true)**2)\n",
        "  r2 = 1 - ( ss_res / ss_tot )\n",
        "  return r2.cpu().detach().numpy()"
      ],
      "metadata": {
        "id": "PjszQGkx9GSO"
      },
      "execution_count": 15,
      "outputs": []
    },
    {
      "cell_type": "markdown",
      "source": [
        "##Train model"
      ],
      "metadata": {
        "id": "0S0hbcT09rkd"
      }
    },
    {
      "cell_type": "code",
      "source": [
        "epochs = 100\n",
        "train_losses = []\n",
        "val_losses = []\n",
        "train_r2 = []\n",
        "val_r2 = []"
      ],
      "metadata": {
        "id": "Om5bXbhz9tTe"
      },
      "execution_count": 16,
      "outputs": []
    },
    {
      "cell_type": "code",
      "source": [
        "for epoch in range(epochs):\n",
        "  train_loss = 0\n",
        "  train_target = []\n",
        "  train_predict = []\n",
        "  val_target = []\n",
        "  val_predict = []\n",
        "  for X_samples, y_samples in train_loader:\n",
        "    X_samples = X_samples.to(device)\n",
        "    y_samples = y_samples.to(device)\n",
        "\n",
        "    optimizer.zero_grad()\n",
        "    outputs = model(X_samples)\n",
        "    loss = criterion(outputs, y_samples)\n",
        "    loss.backward()\n",
        "    optimizer.step()\n",
        "\n",
        "    train_loss += loss.item()\n",
        "    train_target += y_samples.tolist()\n",
        "    train_predict += outputs.tolist()\n",
        "\n",
        "  train_loss = train_loss / len(train_loader)\n",
        "  train_losses.append(train_loss)\n",
        "  train_r2.append(r_squared(train_target, train_predict))\n",
        "\n",
        "  #Valididate\n",
        "  model.eval()\n",
        "  val_loss = 0.0\n",
        "  with torch.no_grad():\n",
        "    for X_samples, y_samples in val_loader:\n",
        "      X_samples = X_samples.to(device)\n",
        "      y_samples = y_samples.to(device)\n",
        "\n",
        "      outputs = model(X_samples)\n",
        "      loss = criterion(outputs, y_samples)\n",
        "\n",
        "      val_loss += loss.item()\n",
        "      val_target += y_samples.tolist()\n",
        "      val_predict += outputs.tolist()\n",
        "\n",
        "  val_loss = val_loss / len(val_loader)\n",
        "  val_losses.append(val_loss)\n",
        "  val_r2.append(r_squared(val_target, val_predict))\n",
        "  print (f'\\nEPOCH {epoch + 1}:\\tTraining loss: {train_loss :.3f} \\tValidation loss : {val_loss :.3f}')"
      ],
      "metadata": {
        "colab": {
          "base_uri": "https://localhost:8080/"
        },
        "id": "Gtd6nm6X93lT",
        "outputId": "7fa90e96-984f-44e1-b560-11f3439e8486"
      },
      "execution_count": 17,
      "outputs": [
        {
          "output_type": "stream",
          "name": "stdout",
          "text": [
            "\n",
            "EPOCH 1:\tTraining loss: 301.327 \tValidation loss : 552.065\n",
            "\n",
            "EPOCH 2:\tTraining loss: 339.867 \tValidation loss : 390.276\n",
            "\n",
            "EPOCH 3:\tTraining loss: 137.645 \tValidation loss : 119.592\n",
            "\n",
            "EPOCH 4:\tTraining loss: 68.875 \tValidation loss : 16.040\n",
            "\n",
            "EPOCH 5:\tTraining loss: 20.056 \tValidation loss : 12.192\n",
            "\n",
            "EPOCH 6:\tTraining loss: 15.418 \tValidation loss : 114.436\n",
            "\n",
            "EPOCH 7:\tTraining loss: 43.813 \tValidation loss : 13.907\n",
            "\n",
            "EPOCH 8:\tTraining loss: 16.684 \tValidation loss : 9.963\n",
            "\n",
            "EPOCH 9:\tTraining loss: 12.470 \tValidation loss : 26.884\n",
            "\n",
            "EPOCH 10:\tTraining loss: 11.821 \tValidation loss : 6.104\n",
            "\n",
            "EPOCH 11:\tTraining loss: 8.200 \tValidation loss : 7.497\n",
            "\n",
            "EPOCH 12:\tTraining loss: 7.118 \tValidation loss : 7.597\n",
            "\n",
            "EPOCH 13:\tTraining loss: 9.715 \tValidation loss : 20.825\n",
            "\n",
            "EPOCH 14:\tTraining loss: 16.930 \tValidation loss : 8.075\n",
            "\n",
            "EPOCH 15:\tTraining loss: 7.737 \tValidation loss : 10.945\n",
            "\n",
            "EPOCH 16:\tTraining loss: 9.193 \tValidation loss : 8.228\n",
            "\n",
            "EPOCH 17:\tTraining loss: 6.663 \tValidation loss : 5.162\n",
            "\n",
            "EPOCH 18:\tTraining loss: 14.147 \tValidation loss : 6.716\n",
            "\n",
            "EPOCH 19:\tTraining loss: 9.349 \tValidation loss : 5.520\n",
            "\n",
            "EPOCH 20:\tTraining loss: 6.599 \tValidation loss : 7.011\n",
            "\n",
            "EPOCH 21:\tTraining loss: 6.509 \tValidation loss : 6.060\n",
            "\n",
            "EPOCH 22:\tTraining loss: 8.670 \tValidation loss : 15.372\n",
            "\n",
            "EPOCH 23:\tTraining loss: 8.661 \tValidation loss : 10.145\n",
            "\n",
            "EPOCH 24:\tTraining loss: 8.586 \tValidation loss : 7.327\n",
            "\n",
            "EPOCH 25:\tTraining loss: 6.951 \tValidation loss : 9.970\n",
            "\n",
            "EPOCH 26:\tTraining loss: 10.517 \tValidation loss : 8.334\n",
            "\n",
            "EPOCH 27:\tTraining loss: 7.001 \tValidation loss : 5.661\n",
            "\n",
            "EPOCH 28:\tTraining loss: 6.810 \tValidation loss : 5.255\n",
            "\n",
            "EPOCH 29:\tTraining loss: 6.897 \tValidation loss : 10.579\n",
            "\n",
            "EPOCH 30:\tTraining loss: 9.636 \tValidation loss : 7.435\n",
            "\n",
            "EPOCH 31:\tTraining loss: 7.996 \tValidation loss : 20.485\n",
            "\n",
            "EPOCH 32:\tTraining loss: 9.139 \tValidation loss : 6.462\n",
            "\n",
            "EPOCH 33:\tTraining loss: 6.262 \tValidation loss : 6.135\n",
            "\n",
            "EPOCH 34:\tTraining loss: 6.203 \tValidation loss : 5.787\n",
            "\n",
            "EPOCH 35:\tTraining loss: 5.927 \tValidation loss : 5.344\n",
            "\n",
            "EPOCH 36:\tTraining loss: 5.774 \tValidation loss : 5.307\n",
            "\n",
            "EPOCH 37:\tTraining loss: 5.758 \tValidation loss : 5.427\n",
            "\n",
            "EPOCH 38:\tTraining loss: 5.975 \tValidation loss : 5.171\n",
            "\n",
            "EPOCH 39:\tTraining loss: 9.160 \tValidation loss : 10.022\n",
            "\n",
            "EPOCH 40:\tTraining loss: 6.395 \tValidation loss : 5.198\n",
            "\n",
            "EPOCH 41:\tTraining loss: 6.036 \tValidation loss : 7.028\n",
            "\n",
            "EPOCH 42:\tTraining loss: 6.738 \tValidation loss : 5.155\n",
            "\n",
            "EPOCH 43:\tTraining loss: 5.554 \tValidation loss : 5.461\n",
            "\n",
            "EPOCH 44:\tTraining loss: 6.445 \tValidation loss : 5.970\n",
            "\n",
            "EPOCH 45:\tTraining loss: 5.680 \tValidation loss : 10.049\n",
            "\n",
            "EPOCH 46:\tTraining loss: 6.175 \tValidation loss : 5.804\n",
            "\n",
            "EPOCH 47:\tTraining loss: 5.835 \tValidation loss : 4.840\n",
            "\n",
            "EPOCH 48:\tTraining loss: 5.796 \tValidation loss : 7.230\n",
            "\n",
            "EPOCH 49:\tTraining loss: 8.556 \tValidation loss : 9.138\n",
            "\n",
            "EPOCH 50:\tTraining loss: 6.854 \tValidation loss : 9.898\n",
            "\n",
            "EPOCH 51:\tTraining loss: 8.573 \tValidation loss : 4.524\n",
            "\n",
            "EPOCH 52:\tTraining loss: 7.130 \tValidation loss : 12.665\n",
            "\n",
            "EPOCH 53:\tTraining loss: 6.494 \tValidation loss : 9.242\n",
            "\n",
            "EPOCH 54:\tTraining loss: 6.662 \tValidation loss : 10.462\n",
            "\n",
            "EPOCH 55:\tTraining loss: 6.351 \tValidation loss : 4.661\n",
            "\n",
            "EPOCH 56:\tTraining loss: 5.709 \tValidation loss : 6.290\n",
            "\n",
            "EPOCH 57:\tTraining loss: 6.017 \tValidation loss : 6.063\n",
            "\n",
            "EPOCH 58:\tTraining loss: 6.435 \tValidation loss : 14.846\n",
            "\n",
            "EPOCH 59:\tTraining loss: 7.292 \tValidation loss : 25.230\n",
            "\n",
            "EPOCH 60:\tTraining loss: 8.740 \tValidation loss : 6.128\n",
            "\n",
            "EPOCH 61:\tTraining loss: 6.709 \tValidation loss : 15.640\n",
            "\n",
            "EPOCH 62:\tTraining loss: 6.522 \tValidation loss : 4.620\n",
            "\n",
            "EPOCH 63:\tTraining loss: 5.079 \tValidation loss : 6.902\n",
            "\n",
            "EPOCH 64:\tTraining loss: 5.517 \tValidation loss : 4.635\n",
            "\n",
            "EPOCH 65:\tTraining loss: 6.083 \tValidation loss : 5.065\n",
            "\n",
            "EPOCH 66:\tTraining loss: 5.171 \tValidation loss : 5.759\n",
            "\n",
            "EPOCH 67:\tTraining loss: 5.322 \tValidation loss : 7.131\n",
            "\n",
            "EPOCH 68:\tTraining loss: 6.743 \tValidation loss : 4.885\n",
            "\n",
            "EPOCH 69:\tTraining loss: 5.522 \tValidation loss : 5.189\n",
            "\n",
            "EPOCH 70:\tTraining loss: 5.539 \tValidation loss : 6.065\n",
            "\n",
            "EPOCH 71:\tTraining loss: 6.302 \tValidation loss : 5.521\n",
            "\n",
            "EPOCH 72:\tTraining loss: 5.484 \tValidation loss : 6.227\n",
            "\n",
            "EPOCH 73:\tTraining loss: 5.383 \tValidation loss : 5.925\n",
            "\n",
            "EPOCH 74:\tTraining loss: 6.067 \tValidation loss : 5.175\n",
            "\n",
            "EPOCH 75:\tTraining loss: 4.950 \tValidation loss : 5.786\n",
            "\n",
            "EPOCH 76:\tTraining loss: 5.086 \tValidation loss : 7.188\n",
            "\n",
            "EPOCH 77:\tTraining loss: 6.546 \tValidation loss : 8.410\n",
            "\n",
            "EPOCH 78:\tTraining loss: 5.577 \tValidation loss : 5.828\n",
            "\n",
            "EPOCH 79:\tTraining loss: 6.041 \tValidation loss : 6.512\n",
            "\n",
            "EPOCH 80:\tTraining loss: 7.445 \tValidation loss : 5.468\n",
            "\n",
            "EPOCH 81:\tTraining loss: 6.518 \tValidation loss : 5.193\n",
            "\n",
            "EPOCH 82:\tTraining loss: 5.354 \tValidation loss : 5.774\n",
            "\n",
            "EPOCH 83:\tTraining loss: 6.129 \tValidation loss : 14.755\n",
            "\n",
            "EPOCH 84:\tTraining loss: 8.142 \tValidation loss : 5.283\n",
            "\n",
            "EPOCH 85:\tTraining loss: 5.413 \tValidation loss : 5.252\n",
            "\n",
            "EPOCH 86:\tTraining loss: 5.946 \tValidation loss : 10.756\n",
            "\n",
            "EPOCH 87:\tTraining loss: 5.161 \tValidation loss : 4.830\n",
            "\n",
            "EPOCH 88:\tTraining loss: 4.880 \tValidation loss : 9.453\n",
            "\n",
            "EPOCH 89:\tTraining loss: 5.810 \tValidation loss : 5.364\n",
            "\n",
            "EPOCH 90:\tTraining loss: 7.594 \tValidation loss : 7.221\n",
            "\n",
            "EPOCH 91:\tTraining loss: 5.445 \tValidation loss : 5.080\n",
            "\n",
            "EPOCH 92:\tTraining loss: 5.235 \tValidation loss : 5.456\n",
            "\n",
            "EPOCH 93:\tTraining loss: 5.063 \tValidation loss : 5.138\n",
            "\n",
            "EPOCH 94:\tTraining loss: 5.269 \tValidation loss : 15.414\n",
            "\n",
            "EPOCH 95:\tTraining loss: 7.364 \tValidation loss : 4.779\n",
            "\n",
            "EPOCH 96:\tTraining loss: 4.865 \tValidation loss : 6.554\n",
            "\n",
            "EPOCH 97:\tTraining loss: 4.876 \tValidation loss : 6.348\n",
            "\n",
            "EPOCH 98:\tTraining loss: 6.599 \tValidation loss : 10.544\n",
            "\n",
            "EPOCH 99:\tTraining loss: 6.296 \tValidation loss : 6.918\n",
            "\n",
            "EPOCH 100:\tTraining loss: 5.235 \tValidation loss : 5.989\n"
          ]
        }
      ]
    },
    {
      "cell_type": "markdown",
      "source": [
        "##Visualize"
      ],
      "metadata": {
        "id": "tbqABkP1BOgC"
      }
    },
    {
      "cell_type": "code",
      "source": [
        "fig, ax = plt.subplots(2, 2, figsize = (12, 10))\n",
        "ax[0, 0].plot(train_losses)\n",
        "ax[0, 0].set(xlabel ='Epoch', ylabel = 'Loss')\n",
        "ax[0, 0].set_title ('Training Loss')\n",
        "\n",
        "ax[0, 1].plot (val_losses, 'orange')\n",
        "ax[0, 1].set ( xlabel = 'Epoch', ylabel = 'Loss')\n",
        "ax[0, 1].set_title ('Validation Loss')\n",
        "\n",
        "ax[1, 0].plot ( train_r2 )\n",
        "ax[1, 0].set ( xlabel ='Epoch', ylabel = 'Accuracy')\n",
        "ax[1, 0].set_title ('Training R2')\n",
        "\n",
        "ax[1, 1].plot (val_r2, 'orange')\n",
        "ax[1, 1].set ( xlabel ='Epoch', ylabel = 'Accuracy')\n",
        "ax[1, 1].set_title ('Validation R2')\n",
        "\n",
        "plt.show()"
      ],
      "metadata": {
        "colab": {
          "base_uri": "https://localhost:8080/",
          "height": 872
        },
        "id": "m_iy56IsBPd0",
        "outputId": "e8112801-a542-4c8c-b907-7be0c55d9fac"
      },
      "execution_count": 18,
      "outputs": [
        {
          "output_type": "display_data",
          "data": {
            "text/plain": [
              "<Figure size 1200x1000 with 4 Axes>"
            ],
            "image/png": "[encoded data removed]"
          },
          "metadata": {}
        }
      ]
    },
    {
      "cell_type": "markdown",
      "source": [
        "##Evaluate"
      ],
      "metadata": {
        "id": "Xo4S2ewSAjVm"
      }
    },
    {
      "cell_type": "code",
      "source": [
        "model.eval()\n",
        "with torch.no_grad():\n",
        "  y_hat = model(X_test.to(device))\n",
        "  test_set_r2 = r_squared(y_hat, y_test)\n",
        "  print('Evaluation on test set :')\n",
        "  print(f'R2: { test_set_r2 }')"
      ],
      "metadata": {
        "colab": {
          "base_uri": "https://localhost:8080/"
        },
        "id": "QcZycKk1AkXP",
        "outputId": "9bafe847-e996-494f-afe7-6c40e9968a4a"
      },
      "execution_count": 19,
      "outputs": [
        {
          "output_type": "stream",
          "name": "stdout",
          "text": [
            "Evaluation on test set :\n",
            "R2: 0.8083164691925049\n"
          ]
        }
      ]
    },
    {
      "cell_type": "markdown",
      "source": [
        "#Non-linear data"
      ],
      "metadata": {
        "id": "5xYO3aVNko-j"
      }
    },
    {
      "cell_type": "markdown",
      "source": [
        "##Setup"
      ],
      "metadata": {
        "id": "Hu0JGwZzkq_X"
      }
    },
    {
      "cell_type": "code",
      "source": [
        "! gdown --id 1SqSn_8rxkk-Qvu4JLMcN_3ZFGDNa6P_V"
      ],
      "metadata": {
        "colab": {
          "base_uri": "https://localhost:8080/"
        },
        "id": "xggRCCUqkqPG",
        "outputId": "88531c49-acc3-476c-e97d-e98ae7d6be46"
      },
      "execution_count": 20,
      "outputs": [
        {
          "output_type": "stream",
          "name": "stdout",
          "text": [
            "/usr/local/lib/python3.11/dist-packages/gdown/__main__.py:140: FutureWarning: Option `--id` was deprecated in version 4.3.1 and will be removed in 5.0. You don't need to pass it anymore to use a file ID.\n",
            "  warnings.warn(\n",
            "Downloading...\n",
            "From: https://drive.google.com/uc?id=1SqSn_8rxkk-Qvu4JLMcN_3ZFGDNa6P_V\n",
            "To: /content/NonLinear_data.npy\n",
            "100% 5.57k/5.57k [00:00<00:00, 23.8MB/s]\n"
          ]
        }
      ]
    },
    {
      "cell_type": "code",
      "source": [
        "import numpy as np\n",
        "import pandas as pd\n",
        "import matplotlib.pyplot as plt\n",
        "import torch\n",
        "import torch.nn as nn\n",
        "import torch.nn.functional as F\n",
        "from torch.utils.data import Dataset , DataLoader\n",
        "\n",
        "from sklearn.model_selection import train_test_split\n",
        "from sklearn.preprocessing import StandardScaler"
      ],
      "metadata": {
        "id": "ppxNMX5lk2td"
      },
      "execution_count": 21,
      "outputs": []
    },
    {
      "cell_type": "code",
      "source": [
        "device = torch.device ('cuda:0' if torch.cuda.is_available () else 'cpu')\n",
        "\n",
        "device"
      ],
      "metadata": {
        "colab": {
          "base_uri": "https://localhost:8080/"
        },
        "id": "KYZYCdkck_Jf",
        "outputId": "a5fa34b0-0c4a-475d-ba08-163ee613076d"
      },
      "execution_count": 23,
      "outputs": [
        {
          "output_type": "execute_result",
          "data": {
            "text/plain": [
              "device(type='cuda', index=0)"
            ]
          },
          "metadata": {},
          "execution_count": 23
        }
      ]
    },
    {
      "cell_type": "code",
      "source": [
        "random_state = 59\n",
        "np.random.seed (random_state)\n",
        "torch.manual_seed(random_state)\n",
        "if torch.cuda.is_available () :\n",
        "  torch.cuda.manual_seed(random_state)"
      ],
      "metadata": {
        "id": "N8x-KzOxlQ44"
      },
      "execution_count": 24,
      "outputs": []
    },
    {
      "cell_type": "markdown",
      "source": [
        "##Data"
      ],
      "metadata": {
        "id": "_9MRjzmslSrH"
      }
    },
    {
      "cell_type": "markdown",
      "source": [
        "###Load data"
      ],
      "metadata": {
        "id": "itTV18K1l7EC"
      }
    },
    {
      "cell_type": "code",
      "source": [
        "data = np.load('NonLinear_data.npy', allow_pickle = True).item()"
      ],
      "metadata": {
        "id": "n8k9-AeSlTfm"
      },
      "execution_count": 51,
      "outputs": []
    },
    {
      "cell_type": "code",
      "source": [
        "X, y = data['X'], data['labels']\n",
        "\n",
        "print(X.shape)\n",
        "print(y.shape)"
      ],
      "metadata": {
        "colab": {
          "base_uri": "https://localhost:8080/"
        },
        "id": "8EhefHWDlnfk",
        "outputId": "04f875d9-ae20-4e9a-ce5b-cfd830826a03"
      },
      "execution_count": 52,
      "outputs": [
        {
          "output_type": "stream",
          "name": "stdout",
          "text": [
            "(300, 2)\n",
            "(300,)\n"
          ]
        }
      ]
    },
    {
      "cell_type": "markdown",
      "source": [
        "###Split into train, val, test"
      ],
      "metadata": {
        "id": "hbEJCh99l8Ze"
      }
    },
    {
      "cell_type": "code",
      "source": [
        "val_size = 0.2\n",
        "test_size = 0.125\n",
        "shuffle = True\n",
        "\n",
        "X_train, X_val, y_train, y_val = train_test_split(\n",
        "    X, y,\n",
        "    test_size = val_size,\n",
        "    shuffle = shuffle\n",
        ")\n",
        "\n",
        "X_train, X_test, y_train, y_test = train_test_split(\n",
        "    X_train, y_train,\n",
        "    test_size = test_size,\n",
        "    shuffle = shuffle\n",
        ")"
      ],
      "metadata": {
        "id": "2xu00Lxsl9_C"
      },
      "execution_count": 54,
      "outputs": []
    },
    {
      "cell_type": "markdown",
      "source": [
        "###Normalize data"
      ],
      "metadata": {
        "id": "C-CzZp8xmJ6D"
      }
    },
    {
      "cell_type": "code",
      "source": [
        "normalizer = StandardScaler()\n",
        "\n",
        "X_train = normalizer.fit_transform(X_train)\n",
        "X_val = normalizer.transform(X_val)\n",
        "X_test = normalizer.transform(X_test)"
      ],
      "metadata": {
        "id": "kM34q7uNmLVp"
      },
      "execution_count": 55,
      "outputs": []
    },
    {
      "cell_type": "markdown",
      "source": [
        "###Change to tensor"
      ],
      "metadata": {
        "id": "EeK9J1fymPZ1"
      }
    },
    {
      "cell_type": "code",
      "source": [
        "X_train = torch.tensor(X_train, dtype = torch.float32)\n",
        "y_train = torch.tensor(y_train, dtype = torch.long)\n",
        "\n",
        "X_val = torch.tensor(X_val, dtype = torch.float32)\n",
        "y_val = torch.tensor(y_val, dtype = torch.long)\n",
        "\n",
        "X_test = torch.tensor(X_test, dtype = torch.float32)\n",
        "y_test = torch.tensor(y_test, dtype = torch.long)"
      ],
      "metadata": {
        "id": "s44WCDoYmQpV"
      },
      "execution_count": 56,
      "outputs": []
    },
    {
      "cell_type": "markdown",
      "source": [
        "###Build Custom Dataloader"
      ],
      "metadata": {
        "id": "E5c7AwQUmeGB"
      }
    },
    {
      "cell_type": "code",
      "source": [
        "class CustomDataset(Dataset):\n",
        "  def __init__(self, X, y):\n",
        "    self.X = X\n",
        "    self.y = y\n",
        "\n",
        "  def __len__(self):\n",
        "    return len(self.X)\n",
        "\n",
        "  def __getitem__(self, idx):\n",
        "    return self.X[idx], self.y[idx]"
      ],
      "metadata": {
        "id": "6058busTmgTx"
      },
      "execution_count": 57,
      "outputs": []
    },
    {
      "cell_type": "code",
      "source": [
        "batch_size = 32\n",
        "train_dataset = CustomDataset(X_train, y_train)\n",
        "val_dataset = CustomDataset(X_val, y_val)\n",
        "test_dataset = CustomDataset(X_test, y_test)\n",
        "\n",
        "train_loader = DataLoader(train_dataset,\n",
        "                          batch_size = batch_size,\n",
        "                          shuffle = True)\n",
        "val_loader = DataLoader(val_dataset,\n",
        "                        batch_size = batch_size,\n",
        "                        shuffle = False)\n",
        "test_loader = DataLoader(test_dataset,\n",
        "                         batch_size = batch_size,\n",
        "                         shuffle = False)"
      ],
      "metadata": {
        "id": "KZTtMNPjmmFz"
      },
      "execution_count": 58,
      "outputs": []
    },
    {
      "cell_type": "markdown",
      "source": [
        "##Build Model"
      ],
      "metadata": {
        "id": "1xB1x5YQmyX1"
      }
    },
    {
      "cell_type": "markdown",
      "source": [
        "###Build Model class"
      ],
      "metadata": {
        "id": "nAuWbnBEnAza"
      }
    },
    {
      "cell_type": "code",
      "source": [
        "class MLP(nn.Module):\n",
        "  def __init__(self, input_dims, hidden_dims, output_dims):\n",
        "    super().__init__()\n",
        "    self.linear1 = nn.Linear(input_dims, hidden_dims)\n",
        "    self.output = nn. Linear(hidden_dims, output_dims)\n",
        "    self.relu = nn.ReLU()\n",
        "\n",
        "  def forward(self, x):\n",
        "    x = self.linear1(x)\n",
        "    x = self.relu(x)\n",
        "    out = self.output(x)\n",
        "    return out"
      ],
      "metadata": {
        "id": "d-nkJ90pm0XI"
      },
      "execution_count": 59,
      "outputs": []
    },
    {
      "cell_type": "markdown",
      "source": [
        "###Init model"
      ],
      "metadata": {
        "id": "hiW7bksInC7a"
      }
    },
    {
      "cell_type": "code",
      "source": [
        "input_dims = X_train.shape[1]\n",
        "output_dims = torch.unique(y_train).shape[0]\n",
        "hidden_dims = 128\n",
        "\n",
        "model = MLP(input_dims = input_dims,\n",
        "            hidden_dims = hidden_dims,\n",
        "            output_dims = output_dims).to(device)"
      ],
      "metadata": {
        "id": "tR2j2K4ynDte"
      },
      "execution_count": 70,
      "outputs": []
    },
    {
      "cell_type": "markdown",
      "source": [
        "###Define loss, lr"
      ],
      "metadata": {
        "id": "KgIQPZ-Knq5V"
      }
    },
    {
      "cell_type": "code",
      "source": [
        "lr = 1e-1\n",
        "criterion = nn.CrossEntropyLoss()\n",
        "optimizer = torch.optim.SGD(model.parameters(), lr = lr)"
      ],
      "metadata": {
        "id": "0vY3RLFZnRot"
      },
      "execution_count": 71,
      "outputs": []
    },
    {
      "cell_type": "markdown",
      "source": [
        "###Build accuracy function"
      ],
      "metadata": {
        "id": "8v1gsS4Sn2IR"
      }
    },
    {
      "cell_type": "code",
      "source": [
        "def accuracy(y_true, y_pred):\n",
        "  _, y_hat = torch.max(y_pred, dim =1)\n",
        "  correct = (y_hat == y_true).sum().item()\n",
        "  acc = correct/len(y_true)\n",
        "  return acc"
      ],
      "metadata": {
        "id": "QdLV10Ttn5D-"
      },
      "execution_count": 72,
      "outputs": []
    },
    {
      "cell_type": "markdown",
      "source": [
        "##Train model"
      ],
      "metadata": {
        "id": "HwGUuclsoG1r"
      }
    },
    {
      "cell_type": "code",
      "source": [
        "epochs = 100\n",
        "train_losses = []\n",
        "val_losses = []\n",
        "train_accs = []\n",
        "val_accs = []"
      ],
      "metadata": {
        "id": "aX_TI4zdoH6u"
      },
      "execution_count": 73,
      "outputs": []
    },
    {
      "cell_type": "code",
      "source": [
        "for epoch in range(epochs):\n",
        "  train_loss = 0.0\n",
        "  train_target = []\n",
        "  train_predict = []\n",
        "  val_target = []\n",
        "  val_predict = []\n",
        "  for X_samples, y_samples in train_loader:\n",
        "    X_samples = X_samples.to(device)\n",
        "    y_samples = y_samples.to(device)\n",
        "    optimizer.zero_grad()\n",
        "    outputs = model(X_samples)\n",
        "    loss = criterion(outputs, y_samples)\n",
        "    loss.backward()\n",
        "    optimizer.step()\n",
        "    train_loss += loss.item()\n",
        "    train_predict.append(outputs.detach().cpu())\n",
        "    train_target.append( y_samples.cpu())\n",
        "\n",
        "  train_predict = torch.cat(train_predict)\n",
        "  train_target = torch.cat(train_target)\n",
        "  train_loss = train_loss / len(train_loader)\n",
        "  train_losses.append(train_loss)\n",
        "  train_acc = accuracy(train_target, train_predict)\n",
        "  train_accs.append(train_acc)\n",
        "\n",
        "  model.eval()\n",
        "  val_loss = 0.0\n",
        "  with torch.no_grad():\n",
        "    for X_samples, y_samples in val_loader:\n",
        "      X_samples = X_samples.to(device)\n",
        "      y_samples = y_samples.to(device)\n",
        "      outputs = model(X_samples)\n",
        "      loss = criterion(outputs, y_samples)\n",
        "      val_loss += loss.item()\n",
        "      val_predict.append(outputs.detach().cpu())\n",
        "      val_target.append(y_samples.cpu())\n",
        "\n",
        "  val_loss = val_loss / len(val_loader)\n",
        "  val_losses.append(val_loss)\n",
        "  val_predict = torch.cat(val_predict)\n",
        "  val_target = torch.cat(val_target)\n",
        "  val_acc = accuracy(val_target, val_predict)\n",
        "  val_accs.append(val_acc)\n",
        "  print(f'\\nEPOCH {epoch + 1}:\\tTraining loss: {train_loss :.3f} \\tValidation loss : {val_loss :.3f}')"
      ],
      "metadata": {
        "colab": {
          "base_uri": "https://localhost:8080/"
        },
        "id": "-4VNZDHLoMZo",
        "outputId": "f1e23d50-0813-45f1-a4ce-3eaa7b2a78f4"
      },
      "execution_count": 74,
      "outputs": [
        {
          "output_type": "stream",
          "name": "stdout",
          "text": [
            "\n",
            "EPOCH 1:\tTraining loss: 0.939 \tValidation loss : 0.869\n",
            "\n",
            "EPOCH 2:\tTraining loss: 0.766 \tValidation loss : 0.866\n",
            "\n",
            "EPOCH 3:\tTraining loss: 0.701 \tValidation loss : 0.815\n",
            "\n",
            "EPOCH 4:\tTraining loss: 0.679 \tValidation loss : 0.864\n",
            "\n",
            "EPOCH 5:\tTraining loss: 0.666 \tValidation loss : 0.807\n",
            "\n",
            "EPOCH 6:\tTraining loss: 0.648 \tValidation loss : 0.808\n",
            "\n",
            "EPOCH 7:\tTraining loss: 0.614 \tValidation loss : 0.782\n",
            "\n",
            "EPOCH 8:\tTraining loss: 0.597 \tValidation loss : 0.805\n",
            "\n",
            "EPOCH 9:\tTraining loss: 0.599 \tValidation loss : 0.698\n",
            "\n",
            "EPOCH 10:\tTraining loss: 0.565 \tValidation loss : 0.712\n",
            "\n",
            "EPOCH 11:\tTraining loss: 0.544 \tValidation loss : 0.722\n",
            "\n",
            "EPOCH 12:\tTraining loss: 0.548 \tValidation loss : 0.671\n",
            "\n",
            "EPOCH 13:\tTraining loss: 0.533 \tValidation loss : 0.677\n",
            "\n",
            "EPOCH 14:\tTraining loss: 0.520 \tValidation loss : 0.678\n",
            "\n",
            "EPOCH 15:\tTraining loss: 0.509 \tValidation loss : 0.615\n",
            "\n",
            "EPOCH 16:\tTraining loss: 0.502 \tValidation loss : 0.621\n",
            "\n",
            "EPOCH 17:\tTraining loss: 0.482 \tValidation loss : 0.687\n",
            "\n",
            "EPOCH 18:\tTraining loss: 0.478 \tValidation loss : 0.586\n",
            "\n",
            "EPOCH 19:\tTraining loss: 0.467 \tValidation loss : 0.596\n",
            "\n",
            "EPOCH 20:\tTraining loss: 0.461 \tValidation loss : 0.571\n",
            "\n",
            "EPOCH 21:\tTraining loss: 0.456 \tValidation loss : 0.572\n",
            "\n",
            "EPOCH 22:\tTraining loss: 0.449 \tValidation loss : 0.529\n",
            "\n",
            "EPOCH 23:\tTraining loss: 0.431 \tValidation loss : 0.520\n",
            "\n",
            "EPOCH 24:\tTraining loss: 0.435 \tValidation loss : 0.539\n",
            "\n",
            "EPOCH 25:\tTraining loss: 0.396 \tValidation loss : 0.548\n",
            "\n",
            "EPOCH 26:\tTraining loss: 0.405 \tValidation loss : 0.517\n",
            "\n",
            "EPOCH 27:\tTraining loss: 0.391 \tValidation loss : 0.520\n",
            "\n",
            "EPOCH 28:\tTraining loss: 0.385 \tValidation loss : 0.516\n",
            "\n",
            "EPOCH 29:\tTraining loss: 0.372 \tValidation loss : 0.506\n",
            "\n",
            "EPOCH 30:\tTraining loss: 0.376 \tValidation loss : 0.498\n",
            "\n",
            "EPOCH 31:\tTraining loss: 0.356 \tValidation loss : 0.504\n",
            "\n",
            "EPOCH 32:\tTraining loss: 0.359 \tValidation loss : 0.471\n",
            "\n",
            "EPOCH 33:\tTraining loss: 0.358 \tValidation loss : 0.459\n",
            "\n",
            "EPOCH 34:\tTraining loss: 0.348 \tValidation loss : 0.450\n",
            "\n",
            "EPOCH 35:\tTraining loss: 0.337 \tValidation loss : 0.476\n",
            "\n",
            "EPOCH 36:\tTraining loss: 0.337 \tValidation loss : 0.451\n",
            "\n",
            "EPOCH 37:\tTraining loss: 0.331 \tValidation loss : 0.442\n",
            "\n",
            "EPOCH 38:\tTraining loss: 0.320 \tValidation loss : 0.437\n",
            "\n",
            "EPOCH 39:\tTraining loss: 0.320 \tValidation loss : 0.450\n",
            "\n",
            "EPOCH 40:\tTraining loss: 0.319 \tValidation loss : 0.450\n",
            "\n",
            "EPOCH 41:\tTraining loss: 0.305 \tValidation loss : 0.434\n",
            "\n",
            "EPOCH 42:\tTraining loss: 0.308 \tValidation loss : 0.429\n",
            "\n",
            "EPOCH 43:\tTraining loss: 0.304 \tValidation loss : 0.444\n",
            "\n",
            "EPOCH 44:\tTraining loss: 0.299 \tValidation loss : 0.414\n",
            "\n",
            "EPOCH 45:\tTraining loss: 0.289 \tValidation loss : 0.410\n",
            "\n",
            "EPOCH 46:\tTraining loss: 0.290 \tValidation loss : 0.419\n",
            "\n",
            "EPOCH 47:\tTraining loss: 0.284 \tValidation loss : 0.424\n",
            "\n",
            "EPOCH 48:\tTraining loss: 0.277 \tValidation loss : 0.408\n",
            "\n",
            "EPOCH 49:\tTraining loss: 0.274 \tValidation loss : 0.413\n",
            "\n",
            "EPOCH 50:\tTraining loss: 0.279 \tValidation loss : 0.394\n",
            "\n",
            "EPOCH 51:\tTraining loss: 0.275 \tValidation loss : 0.394\n",
            "\n",
            "EPOCH 52:\tTraining loss: 0.265 \tValidation loss : 0.401\n",
            "\n",
            "EPOCH 53:\tTraining loss: 0.265 \tValidation loss : 0.400\n",
            "\n",
            "EPOCH 54:\tTraining loss: 0.267 \tValidation loss : 0.411\n",
            "\n",
            "EPOCH 55:\tTraining loss: 0.258 \tValidation loss : 0.412\n",
            "\n",
            "EPOCH 56:\tTraining loss: 0.253 \tValidation loss : 0.385\n",
            "\n",
            "EPOCH 57:\tTraining loss: 0.251 \tValidation loss : 0.390\n",
            "\n",
            "EPOCH 58:\tTraining loss: 0.262 \tValidation loss : 0.362\n",
            "\n",
            "EPOCH 59:\tTraining loss: 0.241 \tValidation loss : 0.370\n",
            "\n",
            "EPOCH 60:\tTraining loss: 0.239 \tValidation loss : 0.379\n",
            "\n",
            "EPOCH 61:\tTraining loss: 0.242 \tValidation loss : 0.374\n",
            "\n",
            "EPOCH 62:\tTraining loss: 0.239 \tValidation loss : 0.376\n",
            "\n",
            "EPOCH 63:\tTraining loss: 0.253 \tValidation loss : 0.349\n",
            "\n",
            "EPOCH 64:\tTraining loss: 0.232 \tValidation loss : 0.362\n",
            "\n",
            "EPOCH 65:\tTraining loss: 0.232 \tValidation loss : 0.353\n",
            "\n",
            "EPOCH 66:\tTraining loss: 0.229 \tValidation loss : 0.366\n",
            "\n",
            "EPOCH 67:\tTraining loss: 0.227 \tValidation loss : 0.381\n",
            "\n",
            "EPOCH 68:\tTraining loss: 0.227 \tValidation loss : 0.366\n",
            "\n",
            "EPOCH 69:\tTraining loss: 0.227 \tValidation loss : 0.373\n",
            "\n",
            "EPOCH 70:\tTraining loss: 0.218 \tValidation loss : 0.357\n",
            "\n",
            "EPOCH 71:\tTraining loss: 0.224 \tValidation loss : 0.360\n",
            "\n",
            "EPOCH 72:\tTraining loss: 0.222 \tValidation loss : 0.349\n",
            "\n",
            "EPOCH 73:\tTraining loss: 0.225 \tValidation loss : 0.360\n",
            "\n",
            "EPOCH 74:\tTraining loss: 0.212 \tValidation loss : 0.367\n",
            "\n",
            "EPOCH 75:\tTraining loss: 0.217 \tValidation loss : 0.363\n",
            "\n",
            "EPOCH 76:\tTraining loss: 0.212 \tValidation loss : 0.336\n",
            "\n",
            "EPOCH 77:\tTraining loss: 0.217 \tValidation loss : 0.334\n",
            "\n",
            "EPOCH 78:\tTraining loss: 0.203 \tValidation loss : 0.340\n",
            "\n",
            "EPOCH 79:\tTraining loss: 0.205 \tValidation loss : 0.344\n",
            "\n",
            "EPOCH 80:\tTraining loss: 0.209 \tValidation loss : 0.346\n",
            "\n",
            "EPOCH 81:\tTraining loss: 0.202 \tValidation loss : 0.337\n",
            "\n",
            "EPOCH 82:\tTraining loss: 0.198 \tValidation loss : 0.340\n",
            "\n",
            "EPOCH 83:\tTraining loss: 0.193 \tValidation loss : 0.333\n",
            "\n",
            "EPOCH 84:\tTraining loss: 0.196 \tValidation loss : 0.332\n",
            "\n",
            "EPOCH 85:\tTraining loss: 0.198 \tValidation loss : 0.333\n",
            "\n",
            "EPOCH 86:\tTraining loss: 0.197 \tValidation loss : 0.345\n",
            "\n",
            "EPOCH 87:\tTraining loss: 0.189 \tValidation loss : 0.339\n",
            "\n",
            "EPOCH 88:\tTraining loss: 0.188 \tValidation loss : 0.322\n",
            "\n",
            "EPOCH 89:\tTraining loss: 0.191 \tValidation loss : 0.316\n",
            "\n",
            "EPOCH 90:\tTraining loss: 0.189 \tValidation loss : 0.339\n",
            "\n",
            "EPOCH 91:\tTraining loss: 0.189 \tValidation loss : 0.327\n",
            "\n",
            "EPOCH 92:\tTraining loss: 0.181 \tValidation loss : 0.328\n",
            "\n",
            "EPOCH 93:\tTraining loss: 0.185 \tValidation loss : 0.331\n",
            "\n",
            "EPOCH 94:\tTraining loss: 0.185 \tValidation loss : 0.334\n",
            "\n",
            "EPOCH 95:\tTraining loss: 0.182 \tValidation loss : 0.324\n",
            "\n",
            "EPOCH 96:\tTraining loss: 0.176 \tValidation loss : 0.329\n",
            "\n",
            "EPOCH 97:\tTraining loss: 0.176 \tValidation loss : 0.328\n",
            "\n",
            "EPOCH 98:\tTraining loss: 0.177 \tValidation loss : 0.322\n",
            "\n",
            "EPOCH 99:\tTraining loss: 0.169 \tValidation loss : 0.327\n",
            "\n",
            "EPOCH 100:\tTraining loss: 0.177 \tValidation loss : 0.317\n"
          ]
        }
      ]
    },
    {
      "cell_type": "markdown",
      "source": [
        "##Visualize"
      ],
      "metadata": {
        "id": "uOYlJBikqTrn"
      }
    },
    {
      "cell_type": "code",
      "source": [
        "fig, ax = plt.subplots(2, 2, figsize = (12, 10))\n",
        "ax[0, 0].plot(train_losses)\n",
        "ax[0, 0].set(xlabel ='Epoch', ylabel = 'Loss')\n",
        "ax[0, 0].set_title ('Training Loss')\n",
        "\n",
        "ax[0, 1].plot (val_losses, 'orange')\n",
        "ax[0, 1].set ( xlabel = 'Epoch', ylabel = 'Loss')\n",
        "ax[0, 1].set_title ('Validation Loss')\n",
        "\n",
        "ax[1, 0].plot ( train_accs )\n",
        "ax[1, 0].set ( xlabel ='Epoch', ylabel = 'Accuracy')\n",
        "ax[1, 0].set_title ('Training Accuracy')\n",
        "\n",
        "ax[1, 1].plot (val_accs, 'orange')\n",
        "ax[1, 1].set ( xlabel ='Epoch', ylabel = 'Accuracy')\n",
        "ax[1, 1].set_title ('Validation Accuracy')\n",
        "\n",
        "plt.show()"
      ],
      "metadata": {
        "colab": {
          "base_uri": "https://localhost:8080/",
          "height": 872
        },
        "id": "ge6oMahAqVY9",
        "outputId": "9069b843-0dd0-40cb-a44a-605cd3a57b8c"
      },
      "execution_count": 75,
      "outputs": [
        {
          "output_type": "display_data",
          "data": {
            "text/plain": [
              "<Figure size 1200x1000 with 4 Axes>"
            ],
            "image/png": "[encoded data removed]"
          },
          "metadata": {}
        }
      ]
    },
    {
      "cell_type": "markdown",
      "source": [
        "##Evaluate"
      ],
      "metadata": {
        "id": "Tr6S5s_8q3Vt"
      }
    },
    {
      "cell_type": "code",
      "source": [
        "test_target = []\n",
        "test_predict = []\n",
        "model.eval()\n",
        "\n",
        "with torch.no_grad():\n",
        "  for X_samples, y_samples in test_loader:\n",
        "    X_samples = X_samples.to(device)\n",
        "    y_samples = y_samples.to(device)\n",
        "    outputs = model(X_samples)\n",
        "\n",
        "    test_predict.append(outputs.cpu())\n",
        "    test_target.append (y_samples.cpu())\n",
        "\n",
        "test_predict = torch.cat(test_predict)\n",
        "test_target = torch.cat(test_target)\n",
        "test_acc = accuracy(test_target, test_predict)\n",
        "print(f'Test accuracy: {test_acc}')"
      ],
      "metadata": {
        "colab": {
          "base_uri": "https://localhost:8080/"
        },
        "id": "z6Qt9Ip-q4ul",
        "outputId": "97d40ed9-7499-4b47-e7b9-48be149b938e"
      },
      "execution_count": 76,
      "outputs": [
        {
          "output_type": "stream",
          "name": "stdout",
          "text": [
            "Test accuracy: 0.9333333333333333\n"
          ]
        }
      ]
    }
  ]
}