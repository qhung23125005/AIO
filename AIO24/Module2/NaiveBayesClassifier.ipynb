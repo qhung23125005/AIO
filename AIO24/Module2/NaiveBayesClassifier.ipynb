{
  "nbformat": 4,
  "nbformat_minor": 0,
  "metadata": {
    "colab": {
      "provenance": [],
      "authorship_tag": "ABX9TyO7QoppKd3AQwexaNi2WmqW",
      "include_colab_link": true
    },
    "kernelspec": {
      "name": "python3",
      "display_name": "Python 3"
    },
    "language_info": {
      "name": "python"
    }
  },
  "cells": [
    {
      "cell_type": "markdown",
      "metadata": {
        "id": "view-in-github",
        "colab_type": "text"
      },
      "source": [
        "<a href=\"https://colab.research.google.com/github/qhung23125005/AIO/blob/main/AIO24/Module2/NaiveBayesClassifier.ipynb\" target=\"_parent\"><img src=\"https://colab.research.google.com/assets/colab-badge.svg\" alt=\"Open In Colab\"/></a>"
      ]
    },
    {
      "cell_type": "markdown",
      "source": [
        "**This notebook will implement basic Naive Bayes Classifier.**\n",
        "**The data is given from AIO 2024 - Module 2 - Week 3 Exercise**"
      ],
      "metadata": {
        "id": "beDIqx1ufj4V"
      }
    },
    {
      "cell_type": "markdown",
      "source": [
        "Load the data"
      ],
      "metadata": {
        "id": "ijB24A0Tf73E"
      }
    },
    {
      "cell_type": "code",
      "execution_count": 59,
      "metadata": {
        "colab": {
          "base_uri": "https://localhost:8080/"
        },
        "id": "1hLydJxASZjn",
        "outputId": "c1c2624c-84be-482f-f9d0-72baf60e9a6c"
      },
      "outputs": [
        {
          "output_type": "stream",
          "name": "stdout",
          "text": [
            "[['Sunny' 'Hot' 'High' 'Weak' 'no']\n",
            " ['Sunny' 'Hot' 'High' 'Strong' 'no']\n",
            " ['Overcast' 'Hot' 'High' 'Weak' 'yes']\n",
            " ['Rain' 'Mild' 'High' 'Weak' 'yes']\n",
            " ['Rain' 'Cool' 'Normal' 'Weak' 'yes']\n",
            " ['Rain' 'Cool' 'Normal' 'Strong' 'no']\n",
            " ['Overcast' 'Cool' 'Normal' 'Strong' 'yes']\n",
            " ['Overcast' 'Mild' 'High' 'Weak' 'no']\n",
            " ['Sunny' 'Cool' 'Normal' 'Weak' 'yes']\n",
            " ['Rain' 'Mild' 'Normal' 'Weak' 'yes']]\n"
          ]
        }
      ],
      "source": [
        "import numpy as np\n",
        "\n",
        "def create_train_data():\n",
        "\n",
        "  #Use data from the given example\n",
        "  data = [[ 'Sunny', 'Hot', 'High', 'Weak', 'no'],\n",
        "          ['Sunny', 'Hot', 'High', 'Strong', 'no'],\n",
        "          ['Overcast', 'Hot', 'High', 'Weak', 'yes'],\n",
        "          ['Rain', 'Mild', 'High', 'Weak', 'yes'],\n",
        "          ['Rain', 'Cool', 'Normal', 'Weak', 'yes'],\n",
        "          ['Rain', 'Cool', 'Normal', 'Strong', 'no'],\n",
        "          ['Overcast', 'Cool', 'Normal', 'Strong', 'yes'],\n",
        "          ['Overcast', 'Mild', 'High', 'Weak', 'no'],\n",
        "          ['Sunny', 'Cool', 'Normal', 'Weak', 'yes'],\n",
        "          ['Rain', 'Mild', 'Normal', 'Weak', 'yes']]\n",
        "  return np.array(data)\n",
        "\n",
        "train_data = create_train_data()\n",
        "print ( train_data )"
      ]
    },
    {
      "cell_type": "markdown",
      "source": [
        "Compute prior probability"
      ],
      "metadata": {
        "id": "TYT3K2cDgBbb"
      }
    },
    {
      "cell_type": "code",
      "source": [
        "def compute_prior_probablity(train_data):\n",
        "  y_unique = np.unique(train_data[:,-1])\n",
        "  prior_probability = np . zeros (len ( y_unique ))\n",
        "  prior_probability[0] = np.sum(train_data[:,-1] == y_unique[0]) / len(train_data)\n",
        "  prior_probability[1] = np.sum(train_data[:,-1] == y_unique[1]) / len(train_data)\n",
        "  return prior_probability\n",
        "\n",
        "prior_probablity = compute_prior_probablity ( train_data )\n",
        "print(\"P(play tennis = No) = \", prior_probablity[0])\n",
        "print(\"P(play tennis = Yes) = \", prior_probablity[1])\n"
      ],
      "metadata": {
        "colab": {
          "base_uri": "https://localhost:8080/"
        },
        "id": "98zc5gemT1vH",
        "outputId": "3158d4ea-70eb-4104-9e9e-63394be57674"
      },
      "execution_count": 53,
      "outputs": [
        {
          "output_type": "stream",
          "name": "stdout",
          "text": [
            "P(play tennis = No) =  0.4\n",
            "P(play tennis = Yes) =  0.6\n"
          ]
        }
      ]
    },
    {
      "cell_type": "markdown",
      "source": [
        "Compute Conditional Probability"
      ],
      "metadata": {
        "id": "LfU1462xgEe3"
      }
    },
    {
      "cell_type": "code",
      "source": [
        "def compute_conditional_probability(train_data):\n",
        "  y_unique = np.unique(train_data[:,-1])\n",
        "  conditional_probability = []\n",
        "  list_x_name = []\n",
        "  for i in range (train_data.shape[1]):\n",
        "    x_unique = np.unique(train_data [: , i ])\n",
        "    list_x_name.append(x_unique)\n",
        "\n",
        "    x_conditional_probability = np.zeros((len(y_unique), len(x_unique)))\n",
        "    for j in range(len(y_unique)):\n",
        "      for k in range(len(x_unique)):\n",
        "        x_conditional_probability[j, k] = np.sum((train_data[:, i] == x_unique[k]) & (train_data[:, -1] == y_unique[j])) / np.sum(train_data[:, -1] == y_unique[j])\n",
        "\n",
        "    conditional_probability.append(x_conditional_probability)\n",
        "\n",
        "  return conditional_probability, list_x_name"
      ],
      "metadata": {
        "id": "m4BWsufhVjgM"
      },
      "execution_count": 54,
      "outputs": []
    },
    {
      "cell_type": "code",
      "source": [
        "def get_index_from_value(feature_name , list_features):\n",
        "  return np.where ( list_features == feature_name) [0][0]"
      ],
      "metadata": {
        "id": "Cf_ufU6TYU1a"
      },
      "execution_count": 55,
      "outputs": []
    },
    {
      "cell_type": "markdown",
      "source": [
        "Testing"
      ],
      "metadata": {
        "id": "EEuIHf1NgH0C"
      }
    },
    {
      "cell_type": "code",
      "source": [
        "train_data = create_train_data()\n",
        "conditional_probability, list_x_name = compute_conditional_probability(train_data)\n",
        "\n",
        "x1 = get_index_from_value (\"Sunny\", list_x_name [0])\n",
        "print (\"P('Outlook'= 'Sunny' | Play Tennis = 'Yes') = \",\n",
        "       np.round(conditional_probability[0][1, x1] ,2) )\n",
        "\n",
        "print (\"P('Outlook'= 'Sunny' | Play Tennis = 'No') = \",\n",
        "       np.round(conditional_probability[0][0, x1] ,2) )\n"
      ],
      "metadata": {
        "colab": {
          "base_uri": "https://localhost:8080/"
        },
        "id": "NU3iDBoVYiid",
        "outputId": "ee861ce1-53af-4a82-b5d3-3c5417a111ed"
      },
      "execution_count": 38,
      "outputs": [
        {
          "output_type": "stream",
          "name": "stdout",
          "text": [
            "P('Outlook'= 'Sunny' | Play Tennis = 'Yes') =  0.17\n",
            "P('Outlook'= 'Sunny' | Play Tennis = 'No') =  0.5\n"
          ]
        }
      ]
    },
    {
      "cell_type": "markdown",
      "source": [
        "Naive Bayes Implementation"
      ],
      "metadata": {
        "id": "O0YrnpB1gJL5"
      }
    },
    {
      "cell_type": "code",
      "source": [
        "def train_naive_bayes(train_data):\n",
        "  # Step 1: Calculate Prior Probability\n",
        "  y_unique = np.unique(train_data[:,-1])\n",
        "  prior_probability = compute_prior_probablity(train_data)\n",
        "\n",
        "  # Step 2: Calculate Conditional Probability\n",
        "  conditional_probability, list_x_name = compute_conditional_probability(train_data)\n",
        "\n",
        "  return prior_probability , conditional_probability , list_x_name"
      ],
      "metadata": {
        "id": "8d29BVKobBDf"
      },
      "execution_count": 56,
      "outputs": []
    },
    {
      "cell_type": "code",
      "source": [
        "def prediction_play_tennis (X , list_x_name , prior_probability , conditional_probability ):\n",
        "  #Initialize\n",
        "  y_pred = np.copy(prior_probability)\n",
        "  x_index = np.array([get_index_from_value(x_val, list_x_name[i])\n",
        "                   for i, x_val in enumerate(X)])\n",
        "\n",
        "  #Calculate\n",
        "  for i in range (x_index.shape[0]):\n",
        "    for j in range (prior_probability.shape[0]):\n",
        "      y_pred[j] *= (conditional_probability[i][j, x_index[i]])\n",
        "\n",
        "  pred = np.argmax(y_pred)\n",
        "  return pred"
      ],
      "metadata": {
        "id": "2h7MLOnubzA-"
      },
      "execution_count": 58,
      "outputs": []
    },
    {
      "cell_type": "markdown",
      "source": [
        "Prediction"
      ],
      "metadata": {
        "id": "wv8JVMQXgMJH"
      }
    },
    {
      "cell_type": "code",
      "source": [
        "X = ['Sunny','Cool', 'High', 'Strong']\n",
        "\n",
        "data = create_train_data ()\n",
        "prior_probability , conditional_probability , list_x_name = train_naive_bayes ( data )\n",
        "pred = prediction_play_tennis (X , list_x_name , prior_probability ,conditional_probability )\n",
        "\n",
        "if (pred == 1):\n",
        "  print ((\"Ad should go!\"))\n",
        "else:\n",
        "  print (\"Ad should not go!\")"
      ],
      "metadata": {
        "colab": {
          "base_uri": "https://localhost:8080/"
        },
        "id": "RtKsINk-dL98",
        "outputId": "997e1922-207a-4f6a-924d-e6dcbffdb483"
      },
      "execution_count": 60,
      "outputs": [
        {
          "output_type": "stream",
          "name": "stdout",
          "text": [
            "Ad should not go!\n"
          ]
        }
      ]
    }
  ]
}