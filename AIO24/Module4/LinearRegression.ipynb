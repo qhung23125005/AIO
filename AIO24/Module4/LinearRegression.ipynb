{
  "nbformat": 4,
  "nbformat_minor": 0,
  "metadata": {
    "colab": {
      "provenance": [],
      "toc_visible": true,
      "authorship_tag": "ABX9TyPGfMHeW3kMs24Q9VFTpn/c",
      "include_colab_link": true
    },
    "kernelspec": {
      "name": "python3",
      "display_name": "Python 3"
    },
    "language_info": {
      "name": "python"
    }
  },
  "cells": [
    {
      "cell_type": "markdown",
      "metadata": {
        "id": "view-in-github",
        "colab_type": "text"
      },
      "source": [
        "<a href=\"https://colab.research.google.com/github/qhung23125005/AIO/blob/main/AIO24/Module4/LinearRegression.ipynb\" target=\"_parent\"><img src=\"https://colab.research.google.com/assets/colab-badge.svg\" alt=\"Open In Colab\"/></a>"
      ]
    },
    {
      "cell_type": "markdown",
      "source": [
        "# Linear Regression\n",
        "\n",
        "Linear Regression is a fundamental statistical method used for modeling the relationship between a dependent variable and one or more independent variables. It offers a straightforward way to understand how the value of the dependent variable changes when one or more independent variables are varied.\n",
        "\n",
        "## The Linear Regression Model\n",
        "\n",
        "In its general form, the linear regression model is expressed as:\n",
        "\n",
        "$$\n",
        "y = \\beta_0 + \\beta_1 x_1 + \\beta_2 x_2 + \\cdots + \\beta_n x_n + \\epsilon\n",
        "$$\n",
        "\n",
        "Where:\n",
        "\n",
        "- **$ y $**: The dependent (target) variable.\n",
        "- **$ x_1, x_2, \\ldots, x_n $**: The independent (feature) variables.\n",
        "- **$ \\beta_0 $**: The intercept, representing the value of $ y $ when all $ x $ variables are zero.\n",
        "- **$ \\beta_1, \\beta_2, \\ldots, \\beta_n $**: The coefficients that measure the change in $ y $ with a one-unit change in the corresponding $ x $ variable.\n",
        "- **$ \\epsilon $**: The error term, accounting for the difference between the observed and predicted values.\n",
        "\n",
        "## Evaluating the Model\n",
        "\n",
        "Common metrics used to evaluate the performance of a linear regression model include:\n",
        "\n",
        "- **Mean Squared Error (MSE)**: Measures the average squared difference between the actual and predicted values.\n",
        "- **Root Mean Squared Error (RMSE)**: The square root of MSE, providing an error metric in the same units as the target variable.\n",
        "- **Coefficient of Determination (R²)**: Indicates the proportion of the variance in the dependent variable that is predictable from the independent variables.\n"
      ],
      "metadata": {
        "id": "EBXy1yHPVh4g"
      }
    },
    {
      "cell_type": "markdown",
      "source": [
        "#Code"
      ],
      "metadata": {
        "id": "A67kMTYNV9LH"
      }
    },
    {
      "cell_type": "markdown",
      "source": [
        "We will implement basic Linear Regression model for a data containing 3 features and 200 rows"
      ],
      "metadata": {
        "id": "kYgpJTJUWENe"
      }
    },
    {
      "cell_type": "code",
      "source": [
        "import numpy as np\n",
        "import pandas as pd\n",
        "import matplotlib.pyplot as plt\n",
        "import random"
      ],
      "metadata": {
        "id": "aYTyAl9aWQk9"
      },
      "execution_count": 22,
      "outputs": []
    },
    {
      "cell_type": "markdown",
      "source": [
        "##Load data"
      ],
      "metadata": {
        "id": "G8dH_5BNU5-k"
      }
    },
    {
      "cell_type": "code",
      "execution_count": 2,
      "metadata": {
        "colab": {
          "base_uri": "https://localhost:8080/",
          "height": 206
        },
        "id": "eo1ACeRCU1Y9",
        "outputId": "9a36db02-f2e3-43a7-d97a-dee055893ea4"
      },
      "outputs": [
        {
          "output_type": "execute_result",
          "data": {
            "text/plain": [
              "      TV  Radio  Newspaper  Sales\n",
              "0  230.1   37.8       69.2   22.1\n",
              "1   44.5   39.3       45.1   10.4\n",
              "2   17.2   45.9       69.3   12.0\n",
              "3  151.5   41.3       58.5   16.5\n",
              "4  180.8   10.8       58.4   17.9"
            ],
            "text/html": [
              "\n",
              "  <div id=\"df-6a366e1a-c393-4409-91d6-4aee0b26c159\" class=\"colab-df-container\">\n",
              "    <div>\n",
              "<style scoped>\n",
              "    .dataframe tbody tr th:only-of-type {\n",
              "        vertical-align: middle;\n",
              "    }\n",
              "\n",
              "    .dataframe tbody tr th {\n",
              "        vertical-align: top;\n",
              "    }\n",
              "\n",
              "    .dataframe thead th {\n",
              "        text-align: right;\n",
              "    }\n",
              "</style>\n",
              "<table border=\"1\" class=\"dataframe\">\n",
              "  <thead>\n",
              "    <tr style=\"text-align: right;\">\n",
              "      <th></th>\n",
              "      <th>TV</th>\n",
              "      <th>Radio</th>\n",
              "      <th>Newspaper</th>\n",
              "      <th>Sales</th>\n",
              "    </tr>\n",
              "  </thead>\n",
              "  <tbody>\n",
              "    <tr>\n",
              "      <th>0</th>\n",
              "      <td>230.1</td>\n",
              "      <td>37.8</td>\n",
              "      <td>69.2</td>\n",
              "      <td>22.1</td>\n",
              "    </tr>\n",
              "    <tr>\n",
              "      <th>1</th>\n",
              "      <td>44.5</td>\n",
              "      <td>39.3</td>\n",
              "      <td>45.1</td>\n",
              "      <td>10.4</td>\n",
              "    </tr>\n",
              "    <tr>\n",
              "      <th>2</th>\n",
              "      <td>17.2</td>\n",
              "      <td>45.9</td>\n",
              "      <td>69.3</td>\n",
              "      <td>12.0</td>\n",
              "    </tr>\n",
              "    <tr>\n",
              "      <th>3</th>\n",
              "      <td>151.5</td>\n",
              "      <td>41.3</td>\n",
              "      <td>58.5</td>\n",
              "      <td>16.5</td>\n",
              "    </tr>\n",
              "    <tr>\n",
              "      <th>4</th>\n",
              "      <td>180.8</td>\n",
              "      <td>10.8</td>\n",
              "      <td>58.4</td>\n",
              "      <td>17.9</td>\n",
              "    </tr>\n",
              "  </tbody>\n",
              "</table>\n",
              "</div>\n",
              "    <div class=\"colab-df-buttons\">\n",
              "\n",
              "  <div class=\"colab-df-container\">\n",
              "    <button class=\"colab-df-convert\" onclick=\"convertToInteractive('df-6a366e1a-c393-4409-91d6-4aee0b26c159')\"\n",
              "            title=\"Convert this dataframe to an interactive table.\"\n",
              "            style=\"display:none;\">\n",
              "\n",
              "  <svg xmlns=\"http://www.w3.org/2000/svg\" height=\"24px\" viewBox=\"0 -960 960 960\">\n",
              "    <path d=\"M120-120v-720h720v720H120Zm60-500h600v-160H180v160Zm220 220h160v-160H400v160Zm0 220h160v-160H400v160ZM180-400h160v-160H180v160Zm440 0h160v-160H620v160ZM180-180h160v-160H180v160Zm440 0h160v-160H620v160Z\"/>\n",
              "  </svg>\n",
              "    </button>\n",
              "\n",
              "  <style>\n",
              "    .colab-df-container {\n",
              "      display:flex;\n",
              "      gap: 12px;\n",
              "    }\n",
              "\n",
              "    .colab-df-convert {\n",
              "      background-color: #E8F0FE;\n",
              "      border: none;\n",
              "      border-radius: 50%;\n",
              "      cursor: pointer;\n",
              "      display: none;\n",
              "      fill: #1967D2;\n",
              "      height: 32px;\n",
              "      padding: 0 0 0 0;\n",
              "      width: 32px;\n",
              "    }\n",
              "\n",
              "    .colab-df-convert:hover {\n",
              "      background-color: #E2EBFA;\n",
              "      box-shadow: 0px 1px 2px rgba(60, 64, 67, 0.3), 0px 1px 3px 1px rgba(60, 64, 67, 0.15);\n",
              "      fill: #174EA6;\n",
              "    }\n",
              "\n",
              "    .colab-df-buttons div {\n",
              "      margin-bottom: 4px;\n",
              "    }\n",
              "\n",
              "    [theme=dark] .colab-df-convert {\n",
              "      background-color: #3B4455;\n",
              "      fill: #D2E3FC;\n",
              "    }\n",
              "\n",
              "    [theme=dark] .colab-df-convert:hover {\n",
              "      background-color: #434B5C;\n",
              "      box-shadow: 0px 1px 3px 1px rgba(0, 0, 0, 0.15);\n",
              "      filter: drop-shadow(0px 1px 2px rgba(0, 0, 0, 0.3));\n",
              "      fill: #FFFFFF;\n",
              "    }\n",
              "  </style>\n",
              "\n",
              "    <script>\n",
              "      const buttonEl =\n",
              "        document.querySelector('#df-6a366e1a-c393-4409-91d6-4aee0b26c159 button.colab-df-convert');\n",
              "      buttonEl.style.display =\n",
              "        google.colab.kernel.accessAllowed ? 'block' : 'none';\n",
              "\n",
              "      async function convertToInteractive(key) {\n",
              "        const element = document.querySelector('#df-6a366e1a-c393-4409-91d6-4aee0b26c159');\n",
              "        const dataTable =\n",
              "          await google.colab.kernel.invokeFunction('convertToInteractive',\n",
              "                                                    [key], {});\n",
              "        if (!dataTable) return;\n",
              "\n",
              "        const docLinkHtml = 'Like what you see? Visit the ' +\n",
              "          '<a target=\"_blank\" href=https://colab.research.google.com/notebooks/data_table.ipynb>data table notebook</a>'\n",
              "          + ' to learn more about interactive tables.';\n",
              "        element.innerHTML = '';\n",
              "        dataTable['output_type'] = 'display_data';\n",
              "        await google.colab.output.renderOutput(dataTable, element);\n",
              "        const docLink = document.createElement('div');\n",
              "        docLink.innerHTML = docLinkHtml;\n",
              "        element.appendChild(docLink);\n",
              "      }\n",
              "    </script>\n",
              "  </div>\n",
              "\n",
              "\n",
              "<div id=\"df-ad89623e-11a0-4159-a252-b5a3cdd0057b\">\n",
              "  <button class=\"colab-df-quickchart\" onclick=\"quickchart('df-ad89623e-11a0-4159-a252-b5a3cdd0057b')\"\n",
              "            title=\"Suggest charts\"\n",
              "            style=\"display:none;\">\n",
              "\n",
              "<svg xmlns=\"http://www.w3.org/2000/svg\" height=\"24px\"viewBox=\"0 0 24 24\"\n",
              "     width=\"24px\">\n",
              "    <g>\n",
              "        <path d=\"M19 3H5c-1.1 0-2 .9-2 2v14c0 1.1.9 2 2 2h14c1.1 0 2-.9 2-2V5c0-1.1-.9-2-2-2zM9 17H7v-7h2v7zm4 0h-2V7h2v10zm4 0h-2v-4h2v4z\"/>\n",
              "    </g>\n",
              "</svg>\n",
              "  </button>\n",
              "\n",
              "<style>\n",
              "  .colab-df-quickchart {\n",
              "      --bg-color: #E8F0FE;\n",
              "      --fill-color: #1967D2;\n",
              "      --hover-bg-color: #E2EBFA;\n",
              "      --hover-fill-color: #174EA6;\n",
              "      --disabled-fill-color: #AAA;\n",
              "      --disabled-bg-color: #DDD;\n",
              "  }\n",
              "\n",
              "  [theme=dark] .colab-df-quickchart {\n",
              "      --bg-color: #3B4455;\n",
              "      --fill-color: #D2E3FC;\n",
              "      --hover-bg-color: #434B5C;\n",
              "      --hover-fill-color: #FFFFFF;\n",
              "      --disabled-bg-color: #3B4455;\n",
              "      --disabled-fill-color: #666;\n",
              "  }\n",
              "\n",
              "  .colab-df-quickchart {\n",
              "    background-color: var(--bg-color);\n",
              "    border: none;\n",
              "    border-radius: 50%;\n",
              "    cursor: pointer;\n",
              "    display: none;\n",
              "    fill: var(--fill-color);\n",
              "    height: 32px;\n",
              "    padding: 0;\n",
              "    width: 32px;\n",
              "  }\n",
              "\n",
              "  .colab-df-quickchart:hover {\n",
              "    background-color: var(--hover-bg-color);\n",
              "    box-shadow: 0 1px 2px rgba(60, 64, 67, 0.3), 0 1px 3px 1px rgba(60, 64, 67, 0.15);\n",
              "    fill: var(--button-hover-fill-color);\n",
              "  }\n",
              "\n",
              "  .colab-df-quickchart-complete:disabled,\n",
              "  .colab-df-quickchart-complete:disabled:hover {\n",
              "    background-color: var(--disabled-bg-color);\n",
              "    fill: var(--disabled-fill-color);\n",
              "    box-shadow: none;\n",
              "  }\n",
              "\n",
              "  .colab-df-spinner {\n",
              "    border: 2px solid var(--fill-color);\n",
              "    border-color: transparent;\n",
              "    border-bottom-color: var(--fill-color);\n",
              "    animation:\n",
              "      spin 1s steps(1) infinite;\n",
              "  }\n",
              "\n",
              "  @keyframes spin {\n",
              "    0% {\n",
              "      border-color: transparent;\n",
              "      border-bottom-color: var(--fill-color);\n",
              "      border-left-color: var(--fill-color);\n",
              "    }\n",
              "    20% {\n",
              "      border-color: transparent;\n",
              "      border-left-color: var(--fill-color);\n",
              "      border-top-color: var(--fill-color);\n",
              "    }\n",
              "    30% {\n",
              "      border-color: transparent;\n",
              "      border-left-color: var(--fill-color);\n",
              "      border-top-color: var(--fill-color);\n",
              "      border-right-color: var(--fill-color);\n",
              "    }\n",
              "    40% {\n",
              "      border-color: transparent;\n",
              "      border-right-color: var(--fill-color);\n",
              "      border-top-color: var(--fill-color);\n",
              "    }\n",
              "    60% {\n",
              "      border-color: transparent;\n",
              "      border-right-color: var(--fill-color);\n",
              "    }\n",
              "    80% {\n",
              "      border-color: transparent;\n",
              "      border-right-color: var(--fill-color);\n",
              "      border-bottom-color: var(--fill-color);\n",
              "    }\n",
              "    90% {\n",
              "      border-color: transparent;\n",
              "      border-bottom-color: var(--fill-color);\n",
              "    }\n",
              "  }\n",
              "</style>\n",
              "\n",
              "  <script>\n",
              "    async function quickchart(key) {\n",
              "      const quickchartButtonEl =\n",
              "        document.querySelector('#' + key + ' button');\n",
              "      quickchartButtonEl.disabled = true;  // To prevent multiple clicks.\n",
              "      quickchartButtonEl.classList.add('colab-df-spinner');\n",
              "      try {\n",
              "        const charts = await google.colab.kernel.invokeFunction(\n",
              "            'suggestCharts', [key], {});\n",
              "      } catch (error) {\n",
              "        console.error('Error during call to suggestCharts:', error);\n",
              "      }\n",
              "      quickchartButtonEl.classList.remove('colab-df-spinner');\n",
              "      quickchartButtonEl.classList.add('colab-df-quickchart-complete');\n",
              "    }\n",
              "    (() => {\n",
              "      let quickchartButtonEl =\n",
              "        document.querySelector('#df-ad89623e-11a0-4159-a252-b5a3cdd0057b button');\n",
              "      quickchartButtonEl.style.display =\n",
              "        google.colab.kernel.accessAllowed ? 'block' : 'none';\n",
              "    })();\n",
              "  </script>\n",
              "</div>\n",
              "\n",
              "    </div>\n",
              "  </div>\n"
            ],
            "application/vnd.google.colaboratory.intrinsic+json": {
              "type": "dataframe",
              "variable_name": "df",
              "summary": "{\n  \"name\": \"df\",\n  \"rows\": 200,\n  \"fields\": [\n    {\n      \"column\": \"TV\",\n      \"properties\": {\n        \"dtype\": \"number\",\n        \"std\": 85.8542363149081,\n        \"min\": 0.7,\n        \"max\": 296.4,\n        \"num_unique_values\": 190,\n        \"samples\": [\n          287.6,\n          286.0,\n          78.2\n        ],\n        \"semantic_type\": \"\",\n        \"description\": \"\"\n      }\n    },\n    {\n      \"column\": \"Radio\",\n      \"properties\": {\n        \"dtype\": \"number\",\n        \"std\": 14.846809176168723,\n        \"min\": 0.0,\n        \"max\": 49.6,\n        \"num_unique_values\": 167,\n        \"samples\": [\n          8.2,\n          36.9,\n          44.5\n        ],\n        \"semantic_type\": \"\",\n        \"description\": \"\"\n      }\n    },\n    {\n      \"column\": \"Newspaper\",\n      \"properties\": {\n        \"dtype\": \"number\",\n        \"std\": 21.778620838522833,\n        \"min\": 0.3,\n        \"max\": 114.0,\n        \"num_unique_values\": 172,\n        \"samples\": [\n          22.3,\n          5.7,\n          17.0\n        ],\n        \"semantic_type\": \"\",\n        \"description\": \"\"\n      }\n    },\n    {\n      \"column\": \"Sales\",\n      \"properties\": {\n        \"dtype\": \"number\",\n        \"std\": 5.283892252561874,\n        \"min\": 1.6,\n        \"max\": 27.0,\n        \"num_unique_values\": 121,\n        \"samples\": [\n          19.8,\n          22.6,\n          17.9\n        ],\n        \"semantic_type\": \"\",\n        \"description\": \"\"\n      }\n    }\n  ]\n}"
            }
          },
          "metadata": {},
          "execution_count": 2
        }
      ],
      "source": [
        "df = pd.read_csv('advertising.csv')\n",
        "\n",
        "df.head()"
      ]
    },
    {
      "cell_type": "code",
      "source": [
        "X_data = df.drop(['Sales'] , axis = 1)\n",
        "y_data = df['Sales']"
      ],
      "metadata": {
        "id": "SIi7lCnTXZwo"
      },
      "execution_count": 4,
      "outputs": []
    },
    {
      "cell_type": "markdown",
      "source": [
        "Testing"
      ],
      "metadata": {
        "id": "J2dAbpXzYrlN"
      }
    },
    {
      "cell_type": "code",
      "source": [
        "arr = [X_data.iloc[:5, 0].sum(), X_data.iloc[:5, 1].sum(),\n",
        "       X_data.iloc[:5, 2].sum(), y_data.iloc[:5].sum()]\n",
        "\n",
        "print(arr)"
      ],
      "metadata": {
        "colab": {
          "base_uri": "https://localhost:8080/"
        },
        "id": "lEZsXiLyYo2q",
        "outputId": "1c5f4ede-877f-4077-83dd-6da2e2e7b4b5"
      },
      "execution_count": 10,
      "outputs": [
        {
          "output_type": "stream",
          "name": "stdout",
          "text": [
            "[624.1, 175.10000000000002, 300.5, 78.9]\n"
          ]
        }
      ]
    },
    {
      "cell_type": "markdown",
      "source": [
        "##Core functions"
      ],
      "metadata": {
        "id": "hibqsJa8eIfv"
      }
    },
    {
      "cell_type": "code",
      "source": [
        "def initialize_params(N):\n",
        "  #Uncomment these lines of code for general use.\n",
        "  #W = np.array([random.gauss ( mu =0.0 , sigma =0.01) for _ in range(N)])\n",
        "  #b = random.gauss ( mu =0.0 , sigma =0.01)\n",
        "\n",
        "  #In this case, I will use the provided params\n",
        "  W = np.array([0.016992259082509283 , 0.0070783670518262355 , -0.002307860847821344])\n",
        "  b = 0\n",
        "\n",
        "  return W, b"
      ],
      "metadata": {
        "id": "77es6l_Hb6Nr"
      },
      "execution_count": 25,
      "outputs": []
    },
    {
      "cell_type": "code",
      "source": [
        "def predict(X_data , w , b):\n",
        "  return np.dot(X_data , w) + b\n",
        "\n",
        "y = predict(X_data = [1, 1, 1], w = [0, 0.5, 0], b = 0.5)\n",
        "print(y)"
      ],
      "metadata": {
        "colab": {
          "base_uri": "https://localhost:8080/"
        },
        "id": "dhZnqhH1X1u5",
        "outputId": "1273a529-bb12-4bce-afc2-0fbdc504a35e"
      },
      "execution_count": 12,
      "outputs": [
        {
          "output_type": "stream",
          "name": "stdout",
          "text": [
            "1.0\n"
          ]
        }
      ]
    },
    {
      "cell_type": "code",
      "source": [
        "def compute_loss(y_hat, y):\n",
        "  loss = (y_hat - y)**2\n",
        "  return loss\n",
        "\n",
        "l = compute_loss ( y_hat =1 , y =0.5)\n",
        "print ( l )"
      ],
      "metadata": {
        "colab": {
          "base_uri": "https://localhost:8080/"
        },
        "id": "8yUM20oIX_Wc",
        "outputId": "deb2a759-71e0-4669-fc57-cc3e6b7d30db"
      },
      "execution_count": 14,
      "outputs": [
        {
          "output_type": "stream",
          "name": "stdout",
          "text": [
            "0.25\n"
          ]
        }
      ]
    },
    {
      "cell_type": "code",
      "source": [
        "def compute_gradient_w(X, y, y_hat):\n",
        "  dl_dw = np.array(X) * 2 * (y_hat - y)\n",
        "  return dl_dw\n",
        "\n",
        "g_wi = compute_gradient_w(X = [1.0] , y = 1.0 , y_hat =0.5)\n",
        "print ( g_wi )"
      ],
      "metadata": {
        "colab": {
          "base_uri": "https://localhost:8080/"
        },
        "id": "LRcn1Z2AZ1pK",
        "outputId": "fdb6d363-3f97-4a3f-f142-d5b7ffcf1134"
      },
      "execution_count": 44,
      "outputs": [
        {
          "output_type": "stream",
          "name": "stdout",
          "text": [
            "[-1.]\n"
          ]
        }
      ]
    },
    {
      "cell_type": "code",
      "source": [
        "def compute_gradient_b(y, y_hat):\n",
        "  dl_db = 2 * (y_hat - y)\n",
        "  return dl_db\n",
        "\n",
        "g_b = compute_gradient_b ( y =1.0 , y_hat =0.5)\n",
        "print (g_b)"
      ],
      "metadata": {
        "colab": {
          "base_uri": "https://localhost:8080/"
        },
        "id": "UulyuRfrazB9",
        "outputId": "e9dd5a50-68ae-4e74-c397-cab321113cb5"
      },
      "execution_count": 16,
      "outputs": [
        {
          "output_type": "stream",
          "name": "stdout",
          "text": [
            "-1.0\n"
          ]
        }
      ]
    },
    {
      "cell_type": "code",
      "source": [
        "def update_weight_w(w, dl_dw, lr):\n",
        "  w = np.array(w)\n",
        "  dl_dw = np.array(dl_dw)\n",
        "  return w - lr * dl_dw\n",
        "\n",
        "after_wi = update_weight_w ( w = [1.0] , dl_dw = [-0.5] , lr = 1e-5)\n",
        "print ( after_wi )"
      ],
      "metadata": {
        "colab": {
          "base_uri": "https://localhost:8080/"
        },
        "id": "gfS3BnSvbJDu",
        "outputId": "635aedbe-aa13-4eeb-efe3-10016ff23664"
      },
      "execution_count": 46,
      "outputs": [
        {
          "output_type": "stream",
          "name": "stdout",
          "text": [
            "[1.000005]\n"
          ]
        }
      ]
    },
    {
      "cell_type": "code",
      "source": [
        "def update_weight_b(b, dl_db, lr):\n",
        "  return b - lr * dl_db\n",
        "\n",
        "after_b = update_weight_b ( b =0.5 , dl_db = -1.0 , lr = 1e-5)\n",
        "print ( after_b )"
      ],
      "metadata": {
        "colab": {
          "base_uri": "https://localhost:8080/"
        },
        "id": "2-Rd5Xlebrwt",
        "outputId": "8cde0a88-7cb7-40e3-b7b8-4a9e4d3c6df8"
      },
      "execution_count": 21,
      "outputs": [
        {
          "output_type": "stream",
          "name": "stdout",
          "text": [
            "0.50001\n"
          ]
        }
      ]
    },
    {
      "cell_type": "markdown",
      "source": [
        "##Linear Regression (One sample)"
      ],
      "metadata": {
        "id": "Z0OR1tKsXNYT"
      }
    },
    {
      "cell_type": "markdown",
      "source": [
        "###Implementation"
      ],
      "metadata": {
        "id": "v_Xubtl6fBL2"
      }
    },
    {
      "cell_type": "code",
      "source": [
        "def implement_linear_regression(X_data , y_data , epoch_max = 50 , lr = 1e-5):\n",
        "  losses = []\n",
        "\n",
        "  N = X_data.shape[0]\n",
        "  n_features = X_data.shape[1]\n",
        "  W, b = initialize_params(n_features)\n",
        "\n",
        "  for epoch in range(epoch_max):\n",
        "    for i in range(N):\n",
        "      x_i = X_data[i]\n",
        "      y_i = y_data[i]\n",
        "\n",
        "      y_pred = predict(x_i , W , b)\n",
        "\n",
        "      loss = (y_pred - y_i)**2\n",
        "\n",
        "      losses.append(loss)\n",
        "\n",
        "      dl_dw = compute_gradient_w(x_i , y_i , y_pred)\n",
        "      W = update_weight_w(W , dl_dw , lr)\n",
        "\n",
        "      dl_db = compute_gradient_b(y_i , y_pred)\n",
        "      b = update_weight_b(b , dl_db , lr)\n",
        "\n",
        "  return W, b, losses"
      ],
      "metadata": {
        "id": "a2LmQkiZXQ3K"
      },
      "execution_count": 47,
      "outputs": []
    },
    {
      "cell_type": "markdown",
      "source": [
        "###Evaluate\n"
      ],
      "metadata": {
        "id": "b4EawvgmdMsg"
      }
    },
    {
      "cell_type": "code",
      "source": [
        "W, b, losses = implement_linear_regression(X_data.to_numpy(), y_data.to_numpy(),\n",
        "                                           epoch_max = 50 , lr = 1e-5)\n",
        "\n",
        "print(W)\n",
        "print(b)"
      ],
      "metadata": {
        "colab": {
          "base_uri": "https://localhost:8080/"
        },
        "id": "hO--bIzFdHTi",
        "outputId": "db67b607-3080-47fb-b441-7f55da7d9626"
      },
      "execution_count": 48,
      "outputs": [
        {
          "output_type": "stream",
          "name": "stdout",
          "text": [
            "[0.07405984 0.1591736  0.0175612 ]\n",
            "0.13924260940219846\n"
          ]
        }
      ]
    },
    {
      "cell_type": "code",
      "source": [
        "tv = 19.2\n",
        "radio = 35.9\n",
        "newspaper = 51.3\n",
        "\n",
        "y_pred = predict([tv , radio , newspaper] , W , b)\n",
        "print(y_pred)"
      ],
      "metadata": {
        "colab": {
          "base_uri": "https://localhost:8080/"
        },
        "id": "x9hQxSWtdv9V",
        "outputId": "16d7edfa-2eea-437a-b173-e51f2e90a119"
      },
      "execution_count": 49,
      "outputs": [
        {
          "output_type": "stream",
          "name": "stdout",
          "text": [
            "8.176413319549823\n"
          ]
        }
      ]
    },
    {
      "cell_type": "code",
      "source": [
        "plt.plot(losses[:100])\n",
        "plt.show()"
      ],
      "metadata": {
        "colab": {
          "base_uri": "https://localhost:8080/",
          "height": 430
        },
        "id": "KdNxxgzYdptv",
        "outputId": "55272445-cf39-4928-c0e7-7b30c41178aa"
      },
      "execution_count": 50,
      "outputs": [
        {
          "output_type": "display_data",
          "data": {
            "text/plain": [
              "<Figure size 640x480 with 1 Axes>"
            ],
            "image/png": "[encoded data removed]"
          },
          "metadata": {}
        }
      ]
    },
    {
      "cell_type": "markdown",
      "source": [
        "##Linear Regression (N samples)"
      ],
      "metadata": {
        "id": "P8DenyaleppW"
      }
    },
    {
      "cell_type": "markdown",
      "source": [
        "###Implementation"
      ],
      "metadata": {
        "id": "xm5rVNSagP3M"
      }
    },
    {
      "cell_type": "code",
      "source": [
        "def implement_linear_regression_nsamples(X_data, y_data, epoch_max=50, lr=1e-5):\n",
        "  losses = []\n",
        "  N = X_data.shape[0]\n",
        "  n_features = X_data.shape[1]\n",
        "  W, b = initialize_params(n_features)\n",
        "\n",
        "  for epoch in range(epoch_max):\n",
        "    loss_total = 0.0\n",
        "    # Initialize dl_dwi_total with the correct shape (3,)\n",
        "    dl_dwi_total = np.zeros(n_features)\n",
        "    dl_db_total = 0.0\n",
        "\n",
        "    for i in range(N):\n",
        "      x_i = X_data[i]\n",
        "      y_i = y_data[i]\n",
        "\n",
        "      y_pred = predict(x_i, W, b)\n",
        "      loss = (y_pred - y_i)**2\n",
        "\n",
        "      loss_total += loss\n",
        "\n",
        "      dl_dwi = compute_gradient_w(x_i, y_i, y_pred)\n",
        "      dl_dwi_total += dl_dwi  # Now the shapes are compatible\n",
        "\n",
        "      dl_db = compute_gradient_b(y_i, y_pred)\n",
        "      dl_db_total += dl_db\n",
        "\n",
        "    # Update W for each feature using the averaged total gradient\n",
        "    W = update_weight_w(W, dl_dwi_total / N, lr)\n",
        "\n",
        "    losses.append(loss_total/N)\n",
        "\n",
        "  return W, b, losses"
      ],
      "metadata": {
        "id": "ZmiKAQeJesEo"
      },
      "execution_count": 57,
      "outputs": []
    },
    {
      "cell_type": "markdown",
      "source": [
        "###Evaluate"
      ],
      "metadata": {
        "id": "7WsSf8HcgSaz"
      }
    },
    {
      "cell_type": "code",
      "source": [
        "W, b, losses = implement_linear_regression_nsamples(X_data.to_numpy(),\n",
        "                                                    y_data.to_numpy(),\n",
        "                                                    epoch_max = 1000,\n",
        "                                                    lr = 1e-5)\n",
        "\n",
        "print(W)\n",
        "print(b)"
      ],
      "metadata": {
        "colab": {
          "base_uri": "https://localhost:8080/"
        },
        "id": "5UwdyS_TgTvq",
        "outputId": "696b7d5c-5a28-4891-a05f-1ae9cd5e8690"
      },
      "execution_count": 58,
      "outputs": [
        {
          "output_type": "stream",
          "name": "stdout",
          "text": [
            "[0.06715466 0.15771389 0.02971895]\n",
            "0\n"
          ]
        }
      ]
    },
    {
      "cell_type": "code",
      "source": [
        "plt.plot(losses)\n",
        "plt.xlabel('Epochs')\n",
        "plt.ylabel('Loss')\n",
        "plt.show()"
      ],
      "metadata": {
        "colab": {
          "base_uri": "https://localhost:8080/",
          "height": 449
        },
        "id": "u1Y-RQuqjhhj",
        "outputId": "047cc44d-0330-47cf-aedd-61f9afffdfa8"
      },
      "execution_count": 60,
      "outputs": [
        {
          "output_type": "display_data",
          "data": {
            "text/plain": [
              "<Figure size 640x480 with 1 Axes>"
            ],
            "image/png": "[encoded data removed]"
          },
          "metadata": {}
        }
      ]
    }
  ]
}