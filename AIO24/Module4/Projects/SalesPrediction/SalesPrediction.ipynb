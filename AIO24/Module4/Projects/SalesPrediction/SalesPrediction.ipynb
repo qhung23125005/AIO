{
  "nbformat": 4,
  "nbformat_minor": 0,
  "metadata": {
    "colab": {
      "provenance": [],
      "authorship_tag": "ABX9TyNRe9Vqnq01ClTFL/nKDtAS",
      "include_colab_link": true
    },
    "kernelspec": {
      "name": "python3",
      "display_name": "Python 3"
    },
    "language_info": {
      "name": "python"
    }
  },
  "cells": [
    {
      "cell_type": "markdown",
      "metadata": {
        "id": "view-in-github",
        "colab_type": "text"
      },
      "source": [
        "<a href=\"https://colab.research.google.com/github/qhung23125005/AIO/blob/main/AIO24/Module4/Projects/SalesPrediction/SalesPrediction.ipynb\" target=\"_parent\"><img src=\"https://colab.research.google.com/assets/colab-badge.svg\" alt=\"Open In Colab\"/></a>"
      ]
    },
    {
      "cell_type": "markdown",
      "source": [
        "# **Linear Regression**\n",
        "Linear Regression assumes that the relationship between **input (X) and output (Y)** is a **straight line**.\n",
        "\n",
        "## **Mathematical Model**\n",
        "\n",
        "$$ Y = \\beta_0 + \\beta_1 X_1 + \\beta_2 X_2 + ... + \\beta_n X_n + \\epsilon $$\n",
        "\n",
        "Where:\n",
        "- $ Y $ → Predicted output (dependent variable)\n",
        "- $ X $ → Feature(s) (independent variable)\n",
        "- $ \\beta_0 $ → Intercept\n",
        "- $ \\beta_n $ → Coefficients (weights)\n",
        "- $ \\epsilon $ → Error term\n",
        "\n",
        "---\n",
        "\n",
        "# **Nonlinear Regression**\n",
        "Nonlinear Regression is used when the relationship between **X and Y is not a straight line**. It models more complex patterns.\n",
        "\n",
        "## **Mathematical Model**\n",
        "A nonlinear equation may look like:\n",
        "\n",
        "$$ Y = \\beta_0 + \\beta_1 X + \\beta_2 X^2 + \\beta_3 e^{X} + \\epsilon $$\n",
        "\n",
        "## **Examples of Nonlinear Models**\n",
        "- **Polynomial Regression**: $ Y = \\beta_0 + \\beta_1 X + \\beta_2 X^2 + ... $  \n",
        "- **Exponential Growth**: $ Y = \\beta_0 e^{\\beta_1 X} $  \n",
        "- **Logistic Growth**: $ Y = \\frac{1}{1 + e^{-(\\beta_0 + \\beta_1 X)}} $  "
      ],
      "metadata": {
        "id": "s7XAnxjWGweP"
      }
    },
    {
      "cell_type": "markdown",
      "source": [
        "#Code"
      ],
      "metadata": {
        "id": "5WxunkvRHQQE"
      }
    },
    {
      "cell_type": "code",
      "source": [
        "import numpy as np\n",
        "import pandas as pd\n",
        "import matplotlib.pyplot as plt"
      ],
      "metadata": {
        "id": "L8P_V38FKtuL"
      },
      "execution_count": 2,
      "outputs": []
    },
    {
      "cell_type": "markdown",
      "source": [
        "##Review Linear Regression Implementation"
      ],
      "metadata": {
        "id": "151cbzrUHsQR"
      }
    },
    {
      "cell_type": "code",
      "execution_count": 4,
      "metadata": {
        "id": "unBDCnr0Fu1n"
      },
      "outputs": [],
      "source": [
        "class CustomLinearRegression:\n",
        "  def __init__(self , X_data , y_target , learning_rate =0.01 , num_epochs =10000):\n",
        "    self.X_data = X_data\n",
        "    self.y_target = y_target\n",
        "    self.learning_rate = learning_rate\n",
        "    self.num_epochs = num_epochs\n",
        "\n",
        "    #Initial weights\n",
        "    self.theta = np.random.randn(self.X_data.shape [1], 1)\n",
        "    self.losses = []\n",
        "\n",
        "  def compute_loss(self, y_pred, y_target ):\n",
        "    loss = np.mean((y_pred - y_target) ** 2)\n",
        "    return loss\n",
        "\n",
        "  def predict(self, X_data):\n",
        "    y_pred = X_data.dot(theta)\n",
        "    return y_pred\n",
        "\n",
        "  def fit(self):\n",
        "    for epoch in range(num_epochs):\n",
        "      # predict\n",
        "      y_pred = self.predict(self.X_data)\n",
        "      # compute loss\n",
        "      loss = self.compute_loss(y_pred, self.y_target)\n",
        "      # compute gradient\n",
        "      loss_grad = 2*(y_pred - self.y_target)/self.num_samples\n",
        "      gradient = self.X_data.T.dot(loss_grad)\n",
        "      # update weights\n",
        "      self.theta = self.theta - self.learning_rate * gradient\n",
        "      # store loss\n",
        "      self.losses.append(loss)\n",
        "\n",
        "    return {\n",
        "      'loss': sum(self.losses)/len(self.losses),\n",
        "      'weight': self.theta\n",
        "    }"
      ]
    },
    {
      "cell_type": "code",
      "source": [
        "def r2score (y_pred, y):\n",
        "  rss = np.sum((y_pred - y)** 2)\n",
        "  tss = np.sum((y - y.mean())**2)\n",
        "  r2 = 1 - ( rss / tss )\n",
        "  return r2\n",
        "\n",
        "y_pred = np.array([1 , 2 , 3 , 4 , 5])\n",
        "y = np.array([1 , 2 , 3 , 4 , 5])\n",
        "print(r2score (y_pred , y))\n",
        "\n",
        "y_pred = np.array([1 , 2 , 3 , 4 , 5])\n",
        "y = np.array([3 , 5 , 5 , 2 , 4])\n",
        "print(r2score (y_pred , y))"
      ],
      "metadata": {
        "colab": {
          "base_uri": "https://localhost:8080/"
        },
        "id": "TRzbC89TK61w",
        "outputId": "9a817b64-c89e-42f4-999c-40c04e3a0405"
      },
      "execution_count": 5,
      "outputs": [
        {
          "output_type": "stream",
          "name": "stdout",
          "text": [
            "1.0\n",
            "-2.235294117647059\n"
          ]
        }
      ]
    },
    {
      "cell_type": "markdown",
      "source": [
        "##Non-linear Regression"
      ],
      "metadata": {
        "id": "pCtW_l2KNwzD"
      }
    },
    {
      "cell_type": "markdown",
      "source": [
        "We will try to create the polynomial features:\n",
        "\n",
        "![image.png](data:image/png;base64,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)"
      ],
      "metadata": {
        "id": "Olt4GQ9rOng-"
      }
    },
    {
      "cell_type": "code",
      "source": [
        "def create_polynomial_features (X , degree =2) :\n",
        "  \"\"\" Creates the polynomial features\n",
        "  Args :\n",
        "    X : A array for the data .\n",
        "    degree : A intege for the degree of\n",
        "    the generated polynomial function .\n",
        "  \"\"\"\n",
        "  X_mem = []\n",
        "  for X_sub in X.T:\n",
        "    X_sub = X_sub.T\n",
        "    X_new = X_sub\n",
        "    for d in range(2, degree+1):\n",
        "      X_new = np.c_[X_new, np.power(X_sub, d)]\n",
        "    X_mem.extend(X_new.T)\n",
        "  return np.c_[ X_mem ].T\n",
        "\n",
        "X = np.array([[1 , 2],\n",
        "              [2 , 3],\n",
        "              [3 , 4]])\n",
        "X_poly = create_polynomial_features(X)\n",
        "X_poly"
      ],
      "metadata": {
        "colab": {
          "base_uri": "https://localhost:8080/"
        },
        "id": "6279hhN8Lt9b",
        "outputId": "cecaef95-094a-4fda-bf83-9b8e09f44c9f"
      },
      "execution_count": 14,
      "outputs": [
        {
          "output_type": "execute_result",
          "data": {
            "text/plain": [
              "array([[ 1,  1,  2,  4],\n",
              "       [ 2,  4,  3,  9],\n",
              "       [ 3,  9,  4, 16]])"
            ]
          },
          "metadata": {},
          "execution_count": 14
        }
      ]
    },
    {
      "cell_type": "markdown",
      "source": [
        "##Sales Prediction"
      ],
      "metadata": {
        "id": "baHhPeXKRoPk"
      }
    },
    {
      "cell_type": "markdown",
      "source": [
        "###Data"
      ],
      "metadata": {
        "id": "YxMv_pqIR_s6"
      }
    },
    {
      "cell_type": "markdown",
      "source": [
        "####Load data"
      ],
      "metadata": {
        "id": "nRqsYdrAS_A_"
      }
    },
    {
      "cell_type": "code",
      "source": [
        "df = pd.read_csv('./SalesPrediction.csv')\n",
        "\n",
        "df.head()"
      ],
      "metadata": {
        "colab": {
          "base_uri": "https://localhost:8080/",
          "height": 206
        },
        "id": "q5uySm-gRxz5",
        "outputId": "a04fadde-e4b9-469d-d1dd-0f0d27e1155b"
      },
      "execution_count": 15,
      "outputs": [
        {
          "output_type": "execute_result",
          "data": {
            "text/plain": [
              "     TV      Radio  Social Media Influencer       Sales\n",
              "0  16.0   6.566231      2.907983       Mega   54.732757\n",
              "1  13.0   9.237765      2.409567       Mega   46.677897\n",
              "2  41.0  15.886446      2.913410       Mega  150.177829\n",
              "3  83.0  30.020028      6.922304       Mega  298.246340\n",
              "4  15.0   8.437408      1.405998      Micro   56.594181"
            ],
            "text/html": [
              "\n",
              "  <div id=\"df-8d32360c-cdcd-4e82-b34b-f4719e4d19a2\" class=\"colab-df-container\">\n",
              "    <div>\n",
              "<style scoped>\n",
              "    .dataframe tbody tr th:only-of-type {\n",
              "        vertical-align: middle;\n",
              "    }\n",
              "\n",
              "    .dataframe tbody tr th {\n",
              "        vertical-align: top;\n",
              "    }\n",
              "\n",
              "    .dataframe thead th {\n",
              "        text-align: right;\n",
              "    }\n",
              "</style>\n",
              "<table border=\"1\" class=\"dataframe\">\n",
              "  <thead>\n",
              "    <tr style=\"text-align: right;\">\n",
              "      <th></th>\n",
              "      <th>TV</th>\n",
              "      <th>Radio</th>\n",
              "      <th>Social Media</th>\n",
              "      <th>Influencer</th>\n",
              "      <th>Sales</th>\n",
              "    </tr>\n",
              "  </thead>\n",
              "  <tbody>\n",
              "    <tr>\n",
              "      <th>0</th>\n",
              "      <td>16.0</td>\n",
              "      <td>6.566231</td>\n",
              "      <td>2.907983</td>\n",
              "      <td>Mega</td>\n",
              "      <td>54.732757</td>\n",
              "    </tr>\n",
              "    <tr>\n",
              "      <th>1</th>\n",
              "      <td>13.0</td>\n",
              "      <td>9.237765</td>\n",
              "      <td>2.409567</td>\n",
              "      <td>Mega</td>\n",
              "      <td>46.677897</td>\n",
              "    </tr>\n",
              "    <tr>\n",
              "      <th>2</th>\n",
              "      <td>41.0</td>\n",
              "      <td>15.886446</td>\n",
              "      <td>2.913410</td>\n",
              "      <td>Mega</td>\n",
              "      <td>150.177829</td>\n",
              "    </tr>\n",
              "    <tr>\n",
              "      <th>3</th>\n",
              "      <td>83.0</td>\n",
              "      <td>30.020028</td>\n",
              "      <td>6.922304</td>\n",
              "      <td>Mega</td>\n",
              "      <td>298.246340</td>\n",
              "    </tr>\n",
              "    <tr>\n",
              "      <th>4</th>\n",
              "      <td>15.0</td>\n",
              "      <td>8.437408</td>\n",
              "      <td>1.405998</td>\n",
              "      <td>Micro</td>\n",
              "      <td>56.594181</td>\n",
              "    </tr>\n",
              "  </tbody>\n",
              "</table>\n",
              "</div>\n",
              "    <div class=\"colab-df-buttons\">\n",
              "\n",
              "  <div class=\"colab-df-container\">\n",
              "    <button class=\"colab-df-convert\" onclick=\"convertToInteractive('df-8d32360c-cdcd-4e82-b34b-f4719e4d19a2')\"\n",
              "            title=\"Convert this dataframe to an interactive table.\"\n",
              "            style=\"display:none;\">\n",
              "\n",
              "  <svg xmlns=\"http://www.w3.org/2000/svg\" height=\"24px\" viewBox=\"0 -960 960 960\">\n",
              "    <path d=\"M120-120v-720h720v720H120Zm60-500h600v-160H180v160Zm220 220h160v-160H400v160Zm0 220h160v-160H400v160ZM180-400h160v-160H180v160Zm440 0h160v-160H620v160ZM180-180h160v-160H180v160Zm440 0h160v-160H620v160Z\"/>\n",
              "  </svg>\n",
              "    </button>\n",
              "\n",
              "  <style>\n",
              "    .colab-df-container {\n",
              "      display:flex;\n",
              "      gap: 12px;\n",
              "    }\n",
              "\n",
              "    .colab-df-convert {\n",
              "      background-color: #E8F0FE;\n",
              "      border: none;\n",
              "      border-radius: 50%;\n",
              "      cursor: pointer;\n",
              "      display: none;\n",
              "      fill: #1967D2;\n",
              "      height: 32px;\n",
              "      padding: 0 0 0 0;\n",
              "      width: 32px;\n",
              "    }\n",
              "\n",
              "    .colab-df-convert:hover {\n",
              "      background-color: #E2EBFA;\n",
              "      box-shadow: 0px 1px 2px rgba(60, 64, 67, 0.3), 0px 1px 3px 1px rgba(60, 64, 67, 0.15);\n",
              "      fill: #174EA6;\n",
              "    }\n",
              "\n",
              "    .colab-df-buttons div {\n",
              "      margin-bottom: 4px;\n",
              "    }\n",
              "\n",
              "    [theme=dark] .colab-df-convert {\n",
              "      background-color: #3B4455;\n",
              "      fill: #D2E3FC;\n",
              "    }\n",
              "\n",
              "    [theme=dark] .colab-df-convert:hover {\n",
              "      background-color: #434B5C;\n",
              "      box-shadow: 0px 1px 3px 1px rgba(0, 0, 0, 0.15);\n",
              "      filter: drop-shadow(0px 1px 2px rgba(0, 0, 0, 0.3));\n",
              "      fill: #FFFFFF;\n",
              "    }\n",
              "  </style>\n",
              "\n",
              "    <script>\n",
              "      const buttonEl =\n",
              "        document.querySelector('#df-8d32360c-cdcd-4e82-b34b-f4719e4d19a2 button.colab-df-convert');\n",
              "      buttonEl.style.display =\n",
              "        google.colab.kernel.accessAllowed ? 'block' : 'none';\n",
              "\n",
              "      async function convertToInteractive(key) {\n",
              "        const element = document.querySelector('#df-8d32360c-cdcd-4e82-b34b-f4719e4d19a2');\n",
              "        const dataTable =\n",
              "          await google.colab.kernel.invokeFunction('convertToInteractive',\n",
              "                                                    [key], {});\n",
              "        if (!dataTable) return;\n",
              "\n",
              "        const docLinkHtml = 'Like what you see? Visit the ' +\n",
              "          '<a target=\"_blank\" href=https://colab.research.google.com/notebooks/data_table.ipynb>data table notebook</a>'\n",
              "          + ' to learn more about interactive tables.';\n",
              "        element.innerHTML = '';\n",
              "        dataTable['output_type'] = 'display_data';\n",
              "        await google.colab.output.renderOutput(dataTable, element);\n",
              "        const docLink = document.createElement('div');\n",
              "        docLink.innerHTML = docLinkHtml;\n",
              "        element.appendChild(docLink);\n",
              "      }\n",
              "    </script>\n",
              "  </div>\n",
              "\n",
              "\n",
              "<div id=\"df-821623e9-f3fd-48cd-b649-0b2efecd6cea\">\n",
              "  <button class=\"colab-df-quickchart\" onclick=\"quickchart('df-821623e9-f3fd-48cd-b649-0b2efecd6cea')\"\n",
              "            title=\"Suggest charts\"\n",
              "            style=\"display:none;\">\n",
              "\n",
              "<svg xmlns=\"http://www.w3.org/2000/svg\" height=\"24px\"viewBox=\"0 0 24 24\"\n",
              "     width=\"24px\">\n",
              "    <g>\n",
              "        <path d=\"M19 3H5c-1.1 0-2 .9-2 2v14c0 1.1.9 2 2 2h14c1.1 0 2-.9 2-2V5c0-1.1-.9-2-2-2zM9 17H7v-7h2v7zm4 0h-2V7h2v10zm4 0h-2v-4h2v4z\"/>\n",
              "    </g>\n",
              "</svg>\n",
              "  </button>\n",
              "\n",
              "<style>\n",
              "  .colab-df-quickchart {\n",
              "      --bg-color: #E8F0FE;\n",
              "      --fill-color: #1967D2;\n",
              "      --hover-bg-color: #E2EBFA;\n",
              "      --hover-fill-color: #174EA6;\n",
              "      --disabled-fill-color: #AAA;\n",
              "      --disabled-bg-color: #DDD;\n",
              "  }\n",
              "\n",
              "  [theme=dark] .colab-df-quickchart {\n",
              "      --bg-color: #3B4455;\n",
              "      --fill-color: #D2E3FC;\n",
              "      --hover-bg-color: #434B5C;\n",
              "      --hover-fill-color: #FFFFFF;\n",
              "      --disabled-bg-color: #3B4455;\n",
              "      --disabled-fill-color: #666;\n",
              "  }\n",
              "\n",
              "  .colab-df-quickchart {\n",
              "    background-color: var(--bg-color);\n",
              "    border: none;\n",
              "    border-radius: 50%;\n",
              "    cursor: pointer;\n",
              "    display: none;\n",
              "    fill: var(--fill-color);\n",
              "    height: 32px;\n",
              "    padding: 0;\n",
              "    width: 32px;\n",
              "  }\n",
              "\n",
              "  .colab-df-quickchart:hover {\n",
              "    background-color: var(--hover-bg-color);\n",
              "    box-shadow: 0 1px 2px rgba(60, 64, 67, 0.3), 0 1px 3px 1px rgba(60, 64, 67, 0.15);\n",
              "    fill: var(--button-hover-fill-color);\n",
              "  }\n",
              "\n",
              "  .colab-df-quickchart-complete:disabled,\n",
              "  .colab-df-quickchart-complete:disabled:hover {\n",
              "    background-color: var(--disabled-bg-color);\n",
              "    fill: var(--disabled-fill-color);\n",
              "    box-shadow: none;\n",
              "  }\n",
              "\n",
              "  .colab-df-spinner {\n",
              "    border: 2px solid var(--fill-color);\n",
              "    border-color: transparent;\n",
              "    border-bottom-color: var(--fill-color);\n",
              "    animation:\n",
              "      spin 1s steps(1) infinite;\n",
              "  }\n",
              "\n",
              "  @keyframes spin {\n",
              "    0% {\n",
              "      border-color: transparent;\n",
              "      border-bottom-color: var(--fill-color);\n",
              "      border-left-color: var(--fill-color);\n",
              "    }\n",
              "    20% {\n",
              "      border-color: transparent;\n",
              "      border-left-color: var(--fill-color);\n",
              "      border-top-color: var(--fill-color);\n",
              "    }\n",
              "    30% {\n",
              "      border-color: transparent;\n",
              "      border-left-color: var(--fill-color);\n",
              "      border-top-color: var(--fill-color);\n",
              "      border-right-color: var(--fill-color);\n",
              "    }\n",
              "    40% {\n",
              "      border-color: transparent;\n",
              "      border-right-color: var(--fill-color);\n",
              "      border-top-color: var(--fill-color);\n",
              "    }\n",
              "    60% {\n",
              "      border-color: transparent;\n",
              "      border-right-color: var(--fill-color);\n",
              "    }\n",
              "    80% {\n",
              "      border-color: transparent;\n",
              "      border-right-color: var(--fill-color);\n",
              "      border-bottom-color: var(--fill-color);\n",
              "    }\n",
              "    90% {\n",
              "      border-color: transparent;\n",
              "      border-bottom-color: var(--fill-color);\n",
              "    }\n",
              "  }\n",
              "</style>\n",
              "\n",
              "  <script>\n",
              "    async function quickchart(key) {\n",
              "      const quickchartButtonEl =\n",
              "        document.querySelector('#' + key + ' button');\n",
              "      quickchartButtonEl.disabled = true;  // To prevent multiple clicks.\n",
              "      quickchartButtonEl.classList.add('colab-df-spinner');\n",
              "      try {\n",
              "        const charts = await google.colab.kernel.invokeFunction(\n",
              "            'suggestCharts', [key], {});\n",
              "      } catch (error) {\n",
              "        console.error('Error during call to suggestCharts:', error);\n",
              "      }\n",
              "      quickchartButtonEl.classList.remove('colab-df-spinner');\n",
              "      quickchartButtonEl.classList.add('colab-df-quickchart-complete');\n",
              "    }\n",
              "    (() => {\n",
              "      let quickchartButtonEl =\n",
              "        document.querySelector('#df-821623e9-f3fd-48cd-b649-0b2efecd6cea button');\n",
              "      quickchartButtonEl.style.display =\n",
              "        google.colab.kernel.accessAllowed ? 'block' : 'none';\n",
              "    })();\n",
              "  </script>\n",
              "</div>\n",
              "\n",
              "    </div>\n",
              "  </div>\n"
            ],
            "application/vnd.google.colaboratory.intrinsic+json": {
              "type": "dataframe",
              "variable_name": "df",
              "summary": "{\n  \"name\": \"df\",\n  \"rows\": 4572,\n  \"fields\": [\n    {\n      \"column\": \"TV\",\n      \"properties\": {\n        \"dtype\": \"number\",\n        \"std\": 26.125053891841453,\n        \"min\": 10.0,\n        \"max\": 100.0,\n        \"num_unique_values\": 91,\n        \"samples\": [\n          32.0,\n          75.0,\n          97.0\n        ],\n        \"semantic_type\": \"\",\n        \"description\": \"\"\n      }\n    },\n    {\n      \"column\": \"Radio\",\n      \"properties\": {\n        \"dtype\": \"number\",\n        \"std\": 9.676958456095425,\n        \"min\": 0.000683948,\n        \"max\": 48.87116125,\n        \"num_unique_values\": 4568,\n        \"samples\": [\n          14.39599154,\n          37.26381865,\n          12.38447814\n        ],\n        \"semantic_type\": \"\",\n        \"description\": \"\"\n      }\n    },\n    {\n      \"column\": \"Social Media\",\n      \"properties\": {\n        \"dtype\": \"number\",\n        \"std\": 2.2126702639216544,\n        \"min\": 3.13e-05,\n        \"max\": 13.98166208,\n        \"num_unique_values\": 4566,\n        \"samples\": [\n          0.89945807,\n          4.628289393,\n          1.970540402\n        ],\n        \"semantic_type\": \"\",\n        \"description\": \"\"\n      }\n    },\n    {\n      \"column\": \"Influencer\",\n      \"properties\": {\n        \"dtype\": \"category\",\n        \"num_unique_values\": 4,\n        \"samples\": [\n          \"Micro\",\n          \"Macro\",\n          \"Mega\"\n        ],\n        \"semantic_type\": \"\",\n        \"description\": \"\"\n      }\n    },\n    {\n      \"column\": \"Sales\",\n      \"properties\": {\n        \"dtype\": \"number\",\n        \"std\": 93.13309168784251,\n        \"min\": 31.19940869,\n        \"max\": 364.0797515,\n        \"num_unique_values\": 4566,\n        \"samples\": [\n          127.6646972,\n          180.3746086,\n          75.12415924\n        ],\n        \"semantic_type\": \"\",\n        \"description\": \"\"\n      }\n    }\n  ]\n}"
            }
          },
          "metadata": {},
          "execution_count": 15
        }
      ]
    },
    {
      "cell_type": "markdown",
      "source": [
        "####Preprocessing"
      ],
      "metadata": {
        "id": "7Ft3Jyk4TA6H"
      }
    },
    {
      "cell_type": "markdown",
      "source": [
        "We can see that the Influencer Column is category, so we have to encode it"
      ],
      "metadata": {
        "id": "sNg5BjVfTCfL"
      }
    },
    {
      "cell_type": "code",
      "source": [
        "df = pd . get_dummies(df)\n",
        "df.head()"
      ],
      "metadata": {
        "colab": {
          "base_uri": "https://localhost:8080/",
          "height": 206
        },
        "id": "3wPPOYnKSic-",
        "outputId": "03ca985d-ab7d-44f8-8906-c5735075f56c"
      },
      "execution_count": 17,
      "outputs": [
        {
          "output_type": "execute_result",
          "data": {
            "text/plain": [
              "     TV      Radio  Social Media       Sales  Influencer_Macro  \\\n",
              "0  16.0   6.566231      2.907983   54.732757             False   \n",
              "1  13.0   9.237765      2.409567   46.677897             False   \n",
              "2  41.0  15.886446      2.913410  150.177829             False   \n",
              "3  83.0  30.020028      6.922304  298.246340             False   \n",
              "4  15.0   8.437408      1.405998   56.594181             False   \n",
              "\n",
              "   Influencer_Mega  Influencer_Micro  Influencer_Nano  \n",
              "0             True             False            False  \n",
              "1             True             False            False  \n",
              "2             True             False            False  \n",
              "3             True             False            False  \n",
              "4            False              True            False  "
            ],
            "text/html": [
              "\n",
              "  <div id=\"df-20435407-d2dc-44c4-9a85-b32a8ac20aee\" class=\"colab-df-container\">\n",
              "    <div>\n",
              "<style scoped>\n",
              "    .dataframe tbody tr th:only-of-type {\n",
              "        vertical-align: middle;\n",
              "    }\n",
              "\n",
              "    .dataframe tbody tr th {\n",
              "        vertical-align: top;\n",
              "    }\n",
              "\n",
              "    .dataframe thead th {\n",
              "        text-align: right;\n",
              "    }\n",
              "</style>\n",
              "<table border=\"1\" class=\"dataframe\">\n",
              "  <thead>\n",
              "    <tr style=\"text-align: right;\">\n",
              "      <th></th>\n",
              "      <th>TV</th>\n",
              "      <th>Radio</th>\n",
              "      <th>Social Media</th>\n",
              "      <th>Sales</th>\n",
              "      <th>Influencer_Macro</th>\n",
              "      <th>Influencer_Mega</th>\n",
              "      <th>Influencer_Micro</th>\n",
              "      <th>Influencer_Nano</th>\n",
              "    </tr>\n",
              "  </thead>\n",
              "  <tbody>\n",
              "    <tr>\n",
              "      <th>0</th>\n",
              "      <td>16.0</td>\n",
              "      <td>6.566231</td>\n",
              "      <td>2.907983</td>\n",
              "      <td>54.732757</td>\n",
              "      <td>False</td>\n",
              "      <td>True</td>\n",
              "      <td>False</td>\n",
              "      <td>False</td>\n",
              "    </tr>\n",
              "    <tr>\n",
              "      <th>1</th>\n",
              "      <td>13.0</td>\n",
              "      <td>9.237765</td>\n",
              "      <td>2.409567</td>\n",
              "      <td>46.677897</td>\n",
              "      <td>False</td>\n",
              "      <td>True</td>\n",
              "      <td>False</td>\n",
              "      <td>False</td>\n",
              "    </tr>\n",
              "    <tr>\n",
              "      <th>2</th>\n",
              "      <td>41.0</td>\n",
              "      <td>15.886446</td>\n",
              "      <td>2.913410</td>\n",
              "      <td>150.177829</td>\n",
              "      <td>False</td>\n",
              "      <td>True</td>\n",
              "      <td>False</td>\n",
              "      <td>False</td>\n",
              "    </tr>\n",
              "    <tr>\n",
              "      <th>3</th>\n",
              "      <td>83.0</td>\n",
              "      <td>30.020028</td>\n",
              "      <td>6.922304</td>\n",
              "      <td>298.246340</td>\n",
              "      <td>False</td>\n",
              "      <td>True</td>\n",
              "      <td>False</td>\n",
              "      <td>False</td>\n",
              "    </tr>\n",
              "    <tr>\n",
              "      <th>4</th>\n",
              "      <td>15.0</td>\n",
              "      <td>8.437408</td>\n",
              "      <td>1.405998</td>\n",
              "      <td>56.594181</td>\n",
              "      <td>False</td>\n",
              "      <td>False</td>\n",
              "      <td>True</td>\n",
              "      <td>False</td>\n",
              "    </tr>\n",
              "  </tbody>\n",
              "</table>\n",
              "</div>\n",
              "    <div class=\"colab-df-buttons\">\n",
              "\n",
              "  <div class=\"colab-df-container\">\n",
              "    <button class=\"colab-df-convert\" onclick=\"convertToInteractive('df-20435407-d2dc-44c4-9a85-b32a8ac20aee')\"\n",
              "            title=\"Convert this dataframe to an interactive table.\"\n",
              "            style=\"display:none;\">\n",
              "\n",
              "  <svg xmlns=\"http://www.w3.org/2000/svg\" height=\"24px\" viewBox=\"0 -960 960 960\">\n",
              "    <path d=\"M120-120v-720h720v720H120Zm60-500h600v-160H180v160Zm220 220h160v-160H400v160Zm0 220h160v-160H400v160ZM180-400h160v-160H180v160Zm440 0h160v-160H620v160ZM180-180h160v-160H180v160Zm440 0h160v-160H620v160Z\"/>\n",
              "  </svg>\n",
              "    </button>\n",
              "\n",
              "  <style>\n",
              "    .colab-df-container {\n",
              "      display:flex;\n",
              "      gap: 12px;\n",
              "    }\n",
              "\n",
              "    .colab-df-convert {\n",
              "      background-color: #E8F0FE;\n",
              "      border: none;\n",
              "      border-radius: 50%;\n",
              "      cursor: pointer;\n",
              "      display: none;\n",
              "      fill: #1967D2;\n",
              "      height: 32px;\n",
              "      padding: 0 0 0 0;\n",
              "      width: 32px;\n",
              "    }\n",
              "\n",
              "    .colab-df-convert:hover {\n",
              "      background-color: #E2EBFA;\n",
              "      box-shadow: 0px 1px 2px rgba(60, 64, 67, 0.3), 0px 1px 3px 1px rgba(60, 64, 67, 0.15);\n",
              "      fill: #174EA6;\n",
              "    }\n",
              "\n",
              "    .colab-df-buttons div {\n",
              "      margin-bottom: 4px;\n",
              "    }\n",
              "\n",
              "    [theme=dark] .colab-df-convert {\n",
              "      background-color: #3B4455;\n",
              "      fill: #D2E3FC;\n",
              "    }\n",
              "\n",
              "    [theme=dark] .colab-df-convert:hover {\n",
              "      background-color: #434B5C;\n",
              "      box-shadow: 0px 1px 3px 1px rgba(0, 0, 0, 0.15);\n",
              "      filter: drop-shadow(0px 1px 2px rgba(0, 0, 0, 0.3));\n",
              "      fill: #FFFFFF;\n",
              "    }\n",
              "  </style>\n",
              "\n",
              "    <script>\n",
              "      const buttonEl =\n",
              "        document.querySelector('#df-20435407-d2dc-44c4-9a85-b32a8ac20aee button.colab-df-convert');\n",
              "      buttonEl.style.display =\n",
              "        google.colab.kernel.accessAllowed ? 'block' : 'none';\n",
              "\n",
              "      async function convertToInteractive(key) {\n",
              "        const element = document.querySelector('#df-20435407-d2dc-44c4-9a85-b32a8ac20aee');\n",
              "        const dataTable =\n",
              "          await google.colab.kernel.invokeFunction('convertToInteractive',\n",
              "                                                    [key], {});\n",
              "        if (!dataTable) return;\n",
              "\n",
              "        const docLinkHtml = 'Like what you see? Visit the ' +\n",
              "          '<a target=\"_blank\" href=https://colab.research.google.com/notebooks/data_table.ipynb>data table notebook</a>'\n",
              "          + ' to learn more about interactive tables.';\n",
              "        element.innerHTML = '';\n",
              "        dataTable['output_type'] = 'display_data';\n",
              "        await google.colab.output.renderOutput(dataTable, element);\n",
              "        const docLink = document.createElement('div');\n",
              "        docLink.innerHTML = docLinkHtml;\n",
              "        element.appendChild(docLink);\n",
              "      }\n",
              "    </script>\n",
              "  </div>\n",
              "\n",
              "\n",
              "<div id=\"df-0bd32293-9c3e-4c46-9bb3-efacaa489477\">\n",
              "  <button class=\"colab-df-quickchart\" onclick=\"quickchart('df-0bd32293-9c3e-4c46-9bb3-efacaa489477')\"\n",
              "            title=\"Suggest charts\"\n",
              "            style=\"display:none;\">\n",
              "\n",
              "<svg xmlns=\"http://www.w3.org/2000/svg\" height=\"24px\"viewBox=\"0 0 24 24\"\n",
              "     width=\"24px\">\n",
              "    <g>\n",
              "        <path d=\"M19 3H5c-1.1 0-2 .9-2 2v14c0 1.1.9 2 2 2h14c1.1 0 2-.9 2-2V5c0-1.1-.9-2-2-2zM9 17H7v-7h2v7zm4 0h-2V7h2v10zm4 0h-2v-4h2v4z\"/>\n",
              "    </g>\n",
              "</svg>\n",
              "  </button>\n",
              "\n",
              "<style>\n",
              "  .colab-df-quickchart {\n",
              "      --bg-color: #E8F0FE;\n",
              "      --fill-color: #1967D2;\n",
              "      --hover-bg-color: #E2EBFA;\n",
              "      --hover-fill-color: #174EA6;\n",
              "      --disabled-fill-color: #AAA;\n",
              "      --disabled-bg-color: #DDD;\n",
              "  }\n",
              "\n",
              "  [theme=dark] .colab-df-quickchart {\n",
              "      --bg-color: #3B4455;\n",
              "      --fill-color: #D2E3FC;\n",
              "      --hover-bg-color: #434B5C;\n",
              "      --hover-fill-color: #FFFFFF;\n",
              "      --disabled-bg-color: #3B4455;\n",
              "      --disabled-fill-color: #666;\n",
              "  }\n",
              "\n",
              "  .colab-df-quickchart {\n",
              "    background-color: var(--bg-color);\n",
              "    border: none;\n",
              "    border-radius: 50%;\n",
              "    cursor: pointer;\n",
              "    display: none;\n",
              "    fill: var(--fill-color);\n",
              "    height: 32px;\n",
              "    padding: 0;\n",
              "    width: 32px;\n",
              "  }\n",
              "\n",
              "  .colab-df-quickchart:hover {\n",
              "    background-color: var(--hover-bg-color);\n",
              "    box-shadow: 0 1px 2px rgba(60, 64, 67, 0.3), 0 1px 3px 1px rgba(60, 64, 67, 0.15);\n",
              "    fill: var(--button-hover-fill-color);\n",
              "  }\n",
              "\n",
              "  .colab-df-quickchart-complete:disabled,\n",
              "  .colab-df-quickchart-complete:disabled:hover {\n",
              "    background-color: var(--disabled-bg-color);\n",
              "    fill: var(--disabled-fill-color);\n",
              "    box-shadow: none;\n",
              "  }\n",
              "\n",
              "  .colab-df-spinner {\n",
              "    border: 2px solid var(--fill-color);\n",
              "    border-color: transparent;\n",
              "    border-bottom-color: var(--fill-color);\n",
              "    animation:\n",
              "      spin 1s steps(1) infinite;\n",
              "  }\n",
              "\n",
              "  @keyframes spin {\n",
              "    0% {\n",
              "      border-color: transparent;\n",
              "      border-bottom-color: var(--fill-color);\n",
              "      border-left-color: var(--fill-color);\n",
              "    }\n",
              "    20% {\n",
              "      border-color: transparent;\n",
              "      border-left-color: var(--fill-color);\n",
              "      border-top-color: var(--fill-color);\n",
              "    }\n",
              "    30% {\n",
              "      border-color: transparent;\n",
              "      border-left-color: var(--fill-color);\n",
              "      border-top-color: var(--fill-color);\n",
              "      border-right-color: var(--fill-color);\n",
              "    }\n",
              "    40% {\n",
              "      border-color: transparent;\n",
              "      border-right-color: var(--fill-color);\n",
              "      border-top-color: var(--fill-color);\n",
              "    }\n",
              "    60% {\n",
              "      border-color: transparent;\n",
              "      border-right-color: var(--fill-color);\n",
              "    }\n",
              "    80% {\n",
              "      border-color: transparent;\n",
              "      border-right-color: var(--fill-color);\n",
              "      border-bottom-color: var(--fill-color);\n",
              "    }\n",
              "    90% {\n",
              "      border-color: transparent;\n",
              "      border-bottom-color: var(--fill-color);\n",
              "    }\n",
              "  }\n",
              "</style>\n",
              "\n",
              "  <script>\n",
              "    async function quickchart(key) {\n",
              "      const quickchartButtonEl =\n",
              "        document.querySelector('#' + key + ' button');\n",
              "      quickchartButtonEl.disabled = true;  // To prevent multiple clicks.\n",
              "      quickchartButtonEl.classList.add('colab-df-spinner');\n",
              "      try {\n",
              "        const charts = await google.colab.kernel.invokeFunction(\n",
              "            'suggestCharts', [key], {});\n",
              "      } catch (error) {\n",
              "        console.error('Error during call to suggestCharts:', error);\n",
              "      }\n",
              "      quickchartButtonEl.classList.remove('colab-df-spinner');\n",
              "      quickchartButtonEl.classList.add('colab-df-quickchart-complete');\n",
              "    }\n",
              "    (() => {\n",
              "      let quickchartButtonEl =\n",
              "        document.querySelector('#df-0bd32293-9c3e-4c46-9bb3-efacaa489477 button');\n",
              "      quickchartButtonEl.style.display =\n",
              "        google.colab.kernel.accessAllowed ? 'block' : 'none';\n",
              "    })();\n",
              "  </script>\n",
              "</div>\n",
              "\n",
              "    </div>\n",
              "  </div>\n"
            ],
            "application/vnd.google.colaboratory.intrinsic+json": {
              "type": "dataframe",
              "variable_name": "df",
              "summary": "{\n  \"name\": \"df\",\n  \"rows\": 4572,\n  \"fields\": [\n    {\n      \"column\": \"TV\",\n      \"properties\": {\n        \"dtype\": \"number\",\n        \"std\": 26.125053891841453,\n        \"min\": 10.0,\n        \"max\": 100.0,\n        \"num_unique_values\": 91,\n        \"samples\": [\n          32.0,\n          75.0,\n          97.0\n        ],\n        \"semantic_type\": \"\",\n        \"description\": \"\"\n      }\n    },\n    {\n      \"column\": \"Radio\",\n      \"properties\": {\n        \"dtype\": \"number\",\n        \"std\": 9.676958456095425,\n        \"min\": 0.000683948,\n        \"max\": 48.87116125,\n        \"num_unique_values\": 4568,\n        \"samples\": [\n          14.39599154,\n          37.26381865,\n          12.38447814\n        ],\n        \"semantic_type\": \"\",\n        \"description\": \"\"\n      }\n    },\n    {\n      \"column\": \"Social Media\",\n      \"properties\": {\n        \"dtype\": \"number\",\n        \"std\": 2.2126702639216544,\n        \"min\": 3.13e-05,\n        \"max\": 13.98166208,\n        \"num_unique_values\": 4566,\n        \"samples\": [\n          0.89945807,\n          4.628289393,\n          1.970540402\n        ],\n        \"semantic_type\": \"\",\n        \"description\": \"\"\n      }\n    },\n    {\n      \"column\": \"Sales\",\n      \"properties\": {\n        \"dtype\": \"number\",\n        \"std\": 93.13309168784251,\n        \"min\": 31.19940869,\n        \"max\": 364.0797515,\n        \"num_unique_values\": 4566,\n        \"samples\": [\n          127.6646972,\n          180.3746086,\n          75.12415924\n        ],\n        \"semantic_type\": \"\",\n        \"description\": \"\"\n      }\n    },\n    {\n      \"column\": \"Influencer_Macro\",\n      \"properties\": {\n        \"dtype\": \"boolean\",\n        \"num_unique_values\": 2,\n        \"samples\": [\n          true,\n          false\n        ],\n        \"semantic_type\": \"\",\n        \"description\": \"\"\n      }\n    },\n    {\n      \"column\": \"Influencer_Mega\",\n      \"properties\": {\n        \"dtype\": \"boolean\",\n        \"num_unique_values\": 2,\n        \"samples\": [\n          false,\n          true\n        ],\n        \"semantic_type\": \"\",\n        \"description\": \"\"\n      }\n    },\n    {\n      \"column\": \"Influencer_Micro\",\n      \"properties\": {\n        \"dtype\": \"boolean\",\n        \"num_unique_values\": 2,\n        \"samples\": [\n          true,\n          false\n        ],\n        \"semantic_type\": \"\",\n        \"description\": \"\"\n      }\n    },\n    {\n      \"column\": \"Influencer_Nano\",\n      \"properties\": {\n        \"dtype\": \"boolean\",\n        \"num_unique_values\": 2,\n        \"samples\": [\n          true,\n          false\n        ],\n        \"semantic_type\": \"\",\n        \"description\": \"\"\n      }\n    }\n  ]\n}"
            }
          },
          "metadata": {},
          "execution_count": 17
        }
      ]
    },
    {
      "cell_type": "markdown",
      "source": [
        "We also fill the NaN with the mean"
      ],
      "metadata": {
        "id": "jqJIkCaXTJ-O"
      }
    },
    {
      "cell_type": "code",
      "source": [
        "df = df.fillna (df.mean())"
      ],
      "metadata": {
        "id": "uogBtATpTMST"
      },
      "execution_count": 18,
      "outputs": []
    },
    {
      "cell_type": "markdown",
      "source": [
        "Now split the data"
      ],
      "metadata": {
        "id": "jPTgzfn4TVB_"
      }
    },
    {
      "cell_type": "code",
      "source": [
        "X = df [['TV', 'Radio', 'Social Media', 'Influencer_Macro', 'Influencer_Mega',\n",
        "         'Influencer_Micro', 'Influencer_Nano']]\n",
        "y = df [['Sales']]"
      ],
      "metadata": {
        "id": "BSrubAHHTWKQ"
      },
      "execution_count": 24,
      "outputs": []
    },
    {
      "cell_type": "code",
      "source": [
        "from sklearn.model_selection import train_test_split\n",
        "\n",
        "X_train, X_test, y_train, y_test = train_test_split(X, y,\n",
        "                                                    test_size=0.33,\n",
        "                                                    random_state=0)\n"
      ],
      "metadata": {
        "id": "dyElNHN4TusQ"
      },
      "execution_count": 25,
      "outputs": []
    },
    {
      "cell_type": "markdown",
      "source": [
        "Scale the data"
      ],
      "metadata": {
        "id": "wuCStdgBT2XJ"
      }
    },
    {
      "cell_type": "code",
      "source": [
        "from sklearn.preprocessing import StandardScaler\n",
        "\n",
        "scaler = StandardScaler ()\n",
        "X_train_processed = scaler.fit_transform ( X_train )\n",
        "X_test_processed = scaler.transform (X_test)\n",
        "scaler.mean_[0]"
      ],
      "metadata": {
        "colab": {
          "base_uri": "https://localhost:8080/"
        },
        "id": "36e_rTuDT4sH",
        "outputId": "9bc38680-1c61-4824-e3c9-080c61724c45"
      },
      "execution_count": 27,
      "outputs": [
        {
          "output_type": "execute_result",
          "data": {
            "text/plain": [
              "54.173577723283785"
            ]
          },
          "metadata": {},
          "execution_count": 27
        }
      ]
    },
    {
      "cell_type": "markdown",
      "source": [
        "Make polynomial features"
      ],
      "metadata": {
        "id": "nQGkAXjpUvRw"
      }
    },
    {
      "cell_type": "code",
      "source": [
        "from sklearn.preprocessing import PolynomialFeatures\n",
        "\n",
        "poly_features = PolynomialFeatures(degree = 2)\n",
        "X_train_poly = poly_features.fit_transform ( X_train_processed )\n",
        "X_test_poly = poly_features.transform ( X_test_processed )"
      ],
      "metadata": {
        "id": "-1puPzYlUu-G"
      },
      "execution_count": 36,
      "outputs": []
    },
    {
      "cell_type": "markdown",
      "source": [
        "###Model"
      ],
      "metadata": {
        "id": "TCNf9UY6VA99"
      }
    },
    {
      "cell_type": "markdown",
      "source": [
        "####Linear Regression"
      ],
      "metadata": {
        "id": "ipIIvI8xVL_u"
      }
    },
    {
      "cell_type": "code",
      "source": [
        "from sklearn.linear_model import LinearRegression\n",
        "from sklearn.metrics import r2_score\n",
        "\n",
        "model = LinearRegression()\n",
        "model.fit(X_train_processed, y_train)\n",
        "y_pred = model.predict(X_test_processed)\n",
        "r2_score(y_test , y_pred)"
      ],
      "metadata": {
        "colab": {
          "base_uri": "https://localhost:8080/"
        },
        "id": "Qq4YsDyJVLD5",
        "outputId": "dec5f019-f93a-4e82-e709-f412c1490a74"
      },
      "execution_count": 32,
      "outputs": [
        {
          "output_type": "execute_result",
          "data": {
            "text/plain": [
              "0.9952672000833009"
            ]
          },
          "metadata": {},
          "execution_count": 32
        }
      ]
    },
    {
      "cell_type": "markdown",
      "source": [
        "####Nonlinear Regression"
      ],
      "metadata": {
        "id": "-66xll8qVcjE"
      }
    },
    {
      "cell_type": "code",
      "source": [
        "from sklearn.linear_model import LinearRegression\n",
        "from sklearn.metrics import r2_score\n",
        "\n",
        "model = LinearRegression()\n",
        "model.fit(X_train_poly, y_train)\n",
        "y_pred = model.predict(X_test_poly)\n",
        "r2_score(y_test , y_pred)"
      ],
      "metadata": {
        "colab": {
          "base_uri": "https://localhost:8080/"
        },
        "id": "n5ixTFS2U_5R",
        "outputId": "b360e763-11c2-4a57-9878-4da94c232918"
      },
      "execution_count": 37,
      "outputs": [
        {
          "output_type": "execute_result",
          "data": {
            "text/plain": [
              "0.9951771750974792"
            ]
          },
          "metadata": {},
          "execution_count": 37
        }
      ]
    }
  ]
}