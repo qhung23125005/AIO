{
  "nbformat": 4,
  "nbformat_minor": 0,
  "metadata": {
    "colab": {
      "provenance": [],
      "authorship_tag": "ABX9TyMn2IWtaXdM+MayaOVi90hv",
      "include_colab_link": true
    },
    "kernelspec": {
      "name": "python3",
      "display_name": "Python 3"
    },
    "language_info": {
      "name": "python"
    }
  },
  "cells": [
    {
      "cell_type": "markdown",
      "metadata": {
        "id": "view-in-github",
        "colab_type": "text"
      },
      "source": [
        "<a href=\"https://colab.research.google.com/github/qhung23125005/AIO/blob/main/AIO24/Module6/RNN/SentimentAnalysisForFinancialNews.ipynb\" target=\"_parent\"><img src=\"https://colab.research.google.com/assets/colab-badge.svg\" alt=\"Open In Colab\"/></a>"
      ]
    },
    {
      "cell_type": "code",
      "source": [
        "!pip install unidecode"
      ],
      "metadata": {
        "colab": {
          "base_uri": "https://localhost:8080/"
        },
        "id": "uvb1yScolMcu",
        "outputId": "3fc5cd07-278f-4f89-f4c5-84d1500b7364"
      },
      "execution_count": 2,
      "outputs": [
        {
          "output_type": "stream",
          "name": "stdout",
          "text": [
            "Collecting unidecode\n",
            "  Downloading Unidecode-1.3.8-py3-none-any.whl.metadata (13 kB)\n",
            "Downloading Unidecode-1.3.8-py3-none-any.whl (235 kB)\n",
            "\u001b[?25l   \u001b[90m━━━━━━━━━━━━━━━━━━━━━━━━━━━━━━━━━━━━━━━━\u001b[0m \u001b[32m0.0/235.5 kB\u001b[0m \u001b[31m?\u001b[0m eta \u001b[36m-:--:--\u001b[0m\r\u001b[2K   \u001b[90m━━━━━━━━━━━━━━━━━━━━━━━━━━━━━━━━━━━━━━━━\u001b[0m \u001b[32m235.5/235.5 kB\u001b[0m \u001b[31m7.8 MB/s\u001b[0m eta \u001b[36m0:00:00\u001b[0m\n",
            "\u001b[?25hInstalling collected packages: unidecode\n",
            "Successfully installed unidecode-1.3.8\n"
          ]
        }
      ]
    },
    {
      "cell_type": "code",
      "execution_count": 3,
      "metadata": {
        "colab": {
          "base_uri": "https://localhost:8080/"
        },
        "id": "ANxkjLSlkgkO",
        "outputId": "150ec977-2ae0-478b-83cb-77f52d6d110a"
      },
      "outputs": [
        {
          "output_type": "stream",
          "name": "stderr",
          "text": [
            "[nltk_data] Downloading package stopwords to /root/nltk_data...\n",
            "[nltk_data]   Unzipping corpora/stopwords.zip.\n"
          ]
        }
      ],
      "source": [
        "import torch\n",
        "import torch.nn as nn\n",
        "\n",
        "seed = 1\n",
        "torch.manual_seed(seed)\n",
        "\n",
        "import os\n",
        "import numpy as np\n",
        "import pandas as pd\n",
        "import matplotlib.pyplot as plt\n",
        "import re\n",
        "import nltk\n",
        "import unidecode\n",
        "\n",
        "nltk.download('stopwords')\n",
        "\n",
        "from nltk.corpus import stopwords\n",
        "from nltk.stem.porter import PorterStemmer\n",
        "\n",
        "from torch.utils.data import Dataset, DataLoader\n",
        "from sklearn.model_selection import train_test_split"
      ]
    },
    {
      "cell_type": "markdown",
      "source": [
        "#Data"
      ],
      "metadata": {
        "id": "krishonQllmX"
      }
    },
    {
      "cell_type": "markdown",
      "source": [
        "##Download data"
      ],
      "metadata": {
        "id": "HuOiKNIPlmoh"
      }
    },
    {
      "cell_type": "code",
      "source": [
        "!gdown 1uYXI4O3oWBA6QC8ZJ-r6yaTTfkdAnl_Q"
      ],
      "metadata": {
        "colab": {
          "base_uri": "https://localhost:8080/"
        },
        "id": "pW4qXd1ElhEo",
        "outputId": "3ec5f487-5d58-4b84-c7a6-9ab2d3d075d7"
      },
      "execution_count": 4,
      "outputs": [
        {
          "output_type": "stream",
          "name": "stdout",
          "text": [
            "Downloading...\n",
            "From: https://drive.google.com/uc?id=1uYXI4O3oWBA6QC8ZJ-r6yaTTfkdAnl_Q\n",
            "To: /content/dataset.zip\n",
            "\r  0% 0.00/230k [00:00<?, ?B/s]\r100% 230k/230k [00:00<00:00, 5.34MB/s]\n"
          ]
        }
      ]
    },
    {
      "cell_type": "code",
      "source": [
        "!unzip dataset.zip"
      ],
      "metadata": {
        "colab": {
          "base_uri": "https://localhost:8080/"
        },
        "id": "4J-5RS1slt82",
        "outputId": "58d039a4-5be6-4d71-a8d4-14014305cc83"
      },
      "execution_count": 5,
      "outputs": [
        {
          "output_type": "stream",
          "name": "stdout",
          "text": [
            "Archive:  dataset.zip\n",
            "   creating: dataset/\n",
            "  inflating: dataset/all-data.csv    \n"
          ]
        }
      ]
    },
    {
      "cell_type": "markdown",
      "source": [
        "##Load data"
      ],
      "metadata": {
        "id": "_Yqbpa-GlxKf"
      }
    },
    {
      "cell_type": "code",
      "source": [
        "dataset_path = './dataset/all-data.csv'\n",
        "headers = ['sentiment', 'content']\n",
        "\n",
        "df = pd.read_csv(\n",
        "    dataset_path,\n",
        "    names=headers,\n",
        "    encoding = 'ISO-8859-1'\n",
        ")\n",
        "\n",
        "df"
      ],
      "metadata": {
        "colab": {
          "base_uri": "https://localhost:8080/",
          "height": 423
        },
        "id": "JG_9v8l0l8OX",
        "outputId": "d6b13f20-f7d8-4fd4-80d7-eb0ef9a32958"
      },
      "execution_count": 67,
      "outputs": [
        {
          "output_type": "execute_result",
          "data": {
            "text/plain": [
              "     sentiment                                            content\n",
              "0      neutral  According to Gran , the company has no plans t...\n",
              "1      neutral  Technopolis plans to develop in stages an area...\n",
              "2     negative  The international electronic industry company ...\n",
              "3     positive  With the new production plant the company woul...\n",
              "4     positive  According to the company 's updated strategy f...\n",
              "...        ...                                                ...\n",
              "4841  negative  LONDON MarketWatch -- Share prices ended lower...\n",
              "4842   neutral  Rinkuskiai 's beer sales fell by 6.5 per cent ...\n",
              "4843  negative  Operating profit fell to EUR 35.4 mn from EUR ...\n",
              "4844  negative  Net sales of the Paper segment decreased to EU...\n",
              "4845  negative  Sales in Finland decreased by 10.5 % in Januar...\n",
              "\n",
              "[4846 rows x 2 columns]"
            ],
            "text/html": [
              "\n",
              "  <div id=\"df-550e814c-a793-4a70-879e-f408f3a009ba\" class=\"colab-df-container\">\n",
              "    <div>\n",
              "<style scoped>\n",
              "    .dataframe tbody tr th:only-of-type {\n",
              "        vertical-align: middle;\n",
              "    }\n",
              "\n",
              "    .dataframe tbody tr th {\n",
              "        vertical-align: top;\n",
              "    }\n",
              "\n",
              "    .dataframe thead th {\n",
              "        text-align: right;\n",
              "    }\n",
              "</style>\n",
              "<table border=\"1\" class=\"dataframe\">\n",
              "  <thead>\n",
              "    <tr style=\"text-align: right;\">\n",
              "      <th></th>\n",
              "      <th>sentiment</th>\n",
              "      <th>content</th>\n",
              "    </tr>\n",
              "  </thead>\n",
              "  <tbody>\n",
              "    <tr>\n",
              "      <th>0</th>\n",
              "      <td>neutral</td>\n",
              "      <td>According to Gran , the company has no plans t...</td>\n",
              "    </tr>\n",
              "    <tr>\n",
              "      <th>1</th>\n",
              "      <td>neutral</td>\n",
              "      <td>Technopolis plans to develop in stages an area...</td>\n",
              "    </tr>\n",
              "    <tr>\n",
              "      <th>2</th>\n",
              "      <td>negative</td>\n",
              "      <td>The international electronic industry company ...</td>\n",
              "    </tr>\n",
              "    <tr>\n",
              "      <th>3</th>\n",
              "      <td>positive</td>\n",
              "      <td>With the new production plant the company woul...</td>\n",
              "    </tr>\n",
              "    <tr>\n",
              "      <th>4</th>\n",
              "      <td>positive</td>\n",
              "      <td>According to the company 's updated strategy f...</td>\n",
              "    </tr>\n",
              "    <tr>\n",
              "      <th>...</th>\n",
              "      <td>...</td>\n",
              "      <td>...</td>\n",
              "    </tr>\n",
              "    <tr>\n",
              "      <th>4841</th>\n",
              "      <td>negative</td>\n",
              "      <td>LONDON MarketWatch -- Share prices ended lower...</td>\n",
              "    </tr>\n",
              "    <tr>\n",
              "      <th>4842</th>\n",
              "      <td>neutral</td>\n",
              "      <td>Rinkuskiai 's beer sales fell by 6.5 per cent ...</td>\n",
              "    </tr>\n",
              "    <tr>\n",
              "      <th>4843</th>\n",
              "      <td>negative</td>\n",
              "      <td>Operating profit fell to EUR 35.4 mn from EUR ...</td>\n",
              "    </tr>\n",
              "    <tr>\n",
              "      <th>4844</th>\n",
              "      <td>negative</td>\n",
              "      <td>Net sales of the Paper segment decreased to EU...</td>\n",
              "    </tr>\n",
              "    <tr>\n",
              "      <th>4845</th>\n",
              "      <td>negative</td>\n",
              "      <td>Sales in Finland decreased by 10.5 % in Januar...</td>\n",
              "    </tr>\n",
              "  </tbody>\n",
              "</table>\n",
              "<p>4846 rows × 2 columns</p>\n",
              "</div>\n",
              "    <div class=\"colab-df-buttons\">\n",
              "\n",
              "  <div class=\"colab-df-container\">\n",
              "    <button class=\"colab-df-convert\" onclick=\"convertToInteractive('df-550e814c-a793-4a70-879e-f408f3a009ba')\"\n",
              "            title=\"Convert this dataframe to an interactive table.\"\n",
              "            style=\"display:none;\">\n",
              "\n",
              "  <svg xmlns=\"http://www.w3.org/2000/svg\" height=\"24px\" viewBox=\"0 -960 960 960\">\n",
              "    <path d=\"M120-120v-720h720v720H120Zm60-500h600v-160H180v160Zm220 220h160v-160H400v160Zm0 220h160v-160H400v160ZM180-400h160v-160H180v160Zm440 0h160v-160H620v160ZM180-180h160v-160H180v160Zm440 0h160v-160H620v160Z\"/>\n",
              "  </svg>\n",
              "    </button>\n",
              "\n",
              "  <style>\n",
              "    .colab-df-container {\n",
              "      display:flex;\n",
              "      gap: 12px;\n",
              "    }\n",
              "\n",
              "    .colab-df-convert {\n",
              "      background-color: #E8F0FE;\n",
              "      border: none;\n",
              "      border-radius: 50%;\n",
              "      cursor: pointer;\n",
              "      display: none;\n",
              "      fill: #1967D2;\n",
              "      height: 32px;\n",
              "      padding: 0 0 0 0;\n",
              "      width: 32px;\n",
              "    }\n",
              "\n",
              "    .colab-df-convert:hover {\n",
              "      background-color: #E2EBFA;\n",
              "      box-shadow: 0px 1px 2px rgba(60, 64, 67, 0.3), 0px 1px 3px 1px rgba(60, 64, 67, 0.15);\n",
              "      fill: #174EA6;\n",
              "    }\n",
              "\n",
              "    .colab-df-buttons div {\n",
              "      margin-bottom: 4px;\n",
              "    }\n",
              "\n",
              "    [theme=dark] .colab-df-convert {\n",
              "      background-color: #3B4455;\n",
              "      fill: #D2E3FC;\n",
              "    }\n",
              "\n",
              "    [theme=dark] .colab-df-convert:hover {\n",
              "      background-color: #434B5C;\n",
              "      box-shadow: 0px 1px 3px 1px rgba(0, 0, 0, 0.15);\n",
              "      filter: drop-shadow(0px 1px 2px rgba(0, 0, 0, 0.3));\n",
              "      fill: #FFFFFF;\n",
              "    }\n",
              "  </style>\n",
              "\n",
              "    <script>\n",
              "      const buttonEl =\n",
              "        document.querySelector('#df-550e814c-a793-4a70-879e-f408f3a009ba button.colab-df-convert');\n",
              "      buttonEl.style.display =\n",
              "        google.colab.kernel.accessAllowed ? 'block' : 'none';\n",
              "\n",
              "      async function convertToInteractive(key) {\n",
              "        const element = document.querySelector('#df-550e814c-a793-4a70-879e-f408f3a009ba');\n",
              "        const dataTable =\n",
              "          await google.colab.kernel.invokeFunction('convertToInteractive',\n",
              "                                                    [key], {});\n",
              "        if (!dataTable) return;\n",
              "\n",
              "        const docLinkHtml = 'Like what you see? Visit the ' +\n",
              "          '<a target=\"_blank\" href=https://colab.research.google.com/notebooks/data_table.ipynb>data table notebook</a>'\n",
              "          + ' to learn more about interactive tables.';\n",
              "        element.innerHTML = '';\n",
              "        dataTable['output_type'] = 'display_data';\n",
              "        await google.colab.output.renderOutput(dataTable, element);\n",
              "        const docLink = document.createElement('div');\n",
              "        docLink.innerHTML = docLinkHtml;\n",
              "        element.appendChild(docLink);\n",
              "      }\n",
              "    </script>\n",
              "  </div>\n",
              "\n",
              "\n",
              "<div id=\"df-fdedaed4-fd94-4c90-867b-2eee0ae63dd6\">\n",
              "  <button class=\"colab-df-quickchart\" onclick=\"quickchart('df-fdedaed4-fd94-4c90-867b-2eee0ae63dd6')\"\n",
              "            title=\"Suggest charts\"\n",
              "            style=\"display:none;\">\n",
              "\n",
              "<svg xmlns=\"http://www.w3.org/2000/svg\" height=\"24px\"viewBox=\"0 0 24 24\"\n",
              "     width=\"24px\">\n",
              "    <g>\n",
              "        <path d=\"M19 3H5c-1.1 0-2 .9-2 2v14c0 1.1.9 2 2 2h14c1.1 0 2-.9 2-2V5c0-1.1-.9-2-2-2zM9 17H7v-7h2v7zm4 0h-2V7h2v10zm4 0h-2v-4h2v4z\"/>\n",
              "    </g>\n",
              "</svg>\n",
              "  </button>\n",
              "\n",
              "<style>\n",
              "  .colab-df-quickchart {\n",
              "      --bg-color: #E8F0FE;\n",
              "      --fill-color: #1967D2;\n",
              "      --hover-bg-color: #E2EBFA;\n",
              "      --hover-fill-color: #174EA6;\n",
              "      --disabled-fill-color: #AAA;\n",
              "      --disabled-bg-color: #DDD;\n",
              "  }\n",
              "\n",
              "  [theme=dark] .colab-df-quickchart {\n",
              "      --bg-color: #3B4455;\n",
              "      --fill-color: #D2E3FC;\n",
              "      --hover-bg-color: #434B5C;\n",
              "      --hover-fill-color: #FFFFFF;\n",
              "      --disabled-bg-color: #3B4455;\n",
              "      --disabled-fill-color: #666;\n",
              "  }\n",
              "\n",
              "  .colab-df-quickchart {\n",
              "    background-color: var(--bg-color);\n",
              "    border: none;\n",
              "    border-radius: 50%;\n",
              "    cursor: pointer;\n",
              "    display: none;\n",
              "    fill: var(--fill-color);\n",
              "    height: 32px;\n",
              "    padding: 0;\n",
              "    width: 32px;\n",
              "  }\n",
              "\n",
              "  .colab-df-quickchart:hover {\n",
              "    background-color: var(--hover-bg-color);\n",
              "    box-shadow: 0 1px 2px rgba(60, 64, 67, 0.3), 0 1px 3px 1px rgba(60, 64, 67, 0.15);\n",
              "    fill: var(--button-hover-fill-color);\n",
              "  }\n",
              "\n",
              "  .colab-df-quickchart-complete:disabled,\n",
              "  .colab-df-quickchart-complete:disabled:hover {\n",
              "    background-color: var(--disabled-bg-color);\n",
              "    fill: var(--disabled-fill-color);\n",
              "    box-shadow: none;\n",
              "  }\n",
              "\n",
              "  .colab-df-spinner {\n",
              "    border: 2px solid var(--fill-color);\n",
              "    border-color: transparent;\n",
              "    border-bottom-color: var(--fill-color);\n",
              "    animation:\n",
              "      spin 1s steps(1) infinite;\n",
              "  }\n",
              "\n",
              "  @keyframes spin {\n",
              "    0% {\n",
              "      border-color: transparent;\n",
              "      border-bottom-color: var(--fill-color);\n",
              "      border-left-color: var(--fill-color);\n",
              "    }\n",
              "    20% {\n",
              "      border-color: transparent;\n",
              "      border-left-color: var(--fill-color);\n",
              "      border-top-color: var(--fill-color);\n",
              "    }\n",
              "    30% {\n",
              "      border-color: transparent;\n",
              "      border-left-color: var(--fill-color);\n",
              "      border-top-color: var(--fill-color);\n",
              "      border-right-color: var(--fill-color);\n",
              "    }\n",
              "    40% {\n",
              "      border-color: transparent;\n",
              "      border-right-color: var(--fill-color);\n",
              "      border-top-color: var(--fill-color);\n",
              "    }\n",
              "    60% {\n",
              "      border-color: transparent;\n",
              "      border-right-color: var(--fill-color);\n",
              "    }\n",
              "    80% {\n",
              "      border-color: transparent;\n",
              "      border-right-color: var(--fill-color);\n",
              "      border-bottom-color: var(--fill-color);\n",
              "    }\n",
              "    90% {\n",
              "      border-color: transparent;\n",
              "      border-bottom-color: var(--fill-color);\n",
              "    }\n",
              "  }\n",
              "</style>\n",
              "\n",
              "  <script>\n",
              "    async function quickchart(key) {\n",
              "      const quickchartButtonEl =\n",
              "        document.querySelector('#' + key + ' button');\n",
              "      quickchartButtonEl.disabled = true;  // To prevent multiple clicks.\n",
              "      quickchartButtonEl.classList.add('colab-df-spinner');\n",
              "      try {\n",
              "        const charts = await google.colab.kernel.invokeFunction(\n",
              "            'suggestCharts', [key], {});\n",
              "      } catch (error) {\n",
              "        console.error('Error during call to suggestCharts:', error);\n",
              "      }\n",
              "      quickchartButtonEl.classList.remove('colab-df-spinner');\n",
              "      quickchartButtonEl.classList.add('colab-df-quickchart-complete');\n",
              "    }\n",
              "    (() => {\n",
              "      let quickchartButtonEl =\n",
              "        document.querySelector('#df-fdedaed4-fd94-4c90-867b-2eee0ae63dd6 button');\n",
              "      quickchartButtonEl.style.display =\n",
              "        google.colab.kernel.accessAllowed ? 'block' : 'none';\n",
              "    })();\n",
              "  </script>\n",
              "</div>\n",
              "\n",
              "  <div id=\"id_02190a0a-2f65-4031-badd-7aa27463f744\">\n",
              "    <style>\n",
              "      .colab-df-generate {\n",
              "        background-color: #E8F0FE;\n",
              "        border: none;\n",
              "        border-radius: 50%;\n",
              "        cursor: pointer;\n",
              "        display: none;\n",
              "        fill: #1967D2;\n",
              "        height: 32px;\n",
              "        padding: 0 0 0 0;\n",
              "        width: 32px;\n",
              "      }\n",
              "\n",
              "      .colab-df-generate:hover {\n",
              "        background-color: #E2EBFA;\n",
              "        box-shadow: 0px 1px 2px rgba(60, 64, 67, 0.3), 0px 1px 3px 1px rgba(60, 64, 67, 0.15);\n",
              "        fill: #174EA6;\n",
              "      }\n",
              "\n",
              "      [theme=dark] .colab-df-generate {\n",
              "        background-color: #3B4455;\n",
              "        fill: #D2E3FC;\n",
              "      }\n",
              "\n",
              "      [theme=dark] .colab-df-generate:hover {\n",
              "        background-color: #434B5C;\n",
              "        box-shadow: 0px 1px 3px 1px rgba(0, 0, 0, 0.15);\n",
              "        filter: drop-shadow(0px 1px 2px rgba(0, 0, 0, 0.3));\n",
              "        fill: #FFFFFF;\n",
              "      }\n",
              "    </style>\n",
              "    <button class=\"colab-df-generate\" onclick=\"generateWithVariable('df')\"\n",
              "            title=\"Generate code using this dataframe.\"\n",
              "            style=\"display:none;\">\n",
              "\n",
              "  <svg xmlns=\"http://www.w3.org/2000/svg\" height=\"24px\"viewBox=\"0 0 24 24\"\n",
              "       width=\"24px\">\n",
              "    <path d=\"M7,19H8.4L18.45,9,17,7.55,7,17.6ZM5,21V16.75L18.45,3.32a2,2,0,0,1,2.83,0l1.4,1.43a1.91,1.91,0,0,1,.58,1.4,1.91,1.91,0,0,1-.58,1.4L9.25,21ZM18.45,9,17,7.55Zm-12,3A5.31,5.31,0,0,0,4.9,8.1,5.31,5.31,0,0,0,1,6.5,5.31,5.31,0,0,0,4.9,4.9,5.31,5.31,0,0,0,6.5,1,5.31,5.31,0,0,0,8.1,4.9,5.31,5.31,0,0,0,12,6.5,5.46,5.46,0,0,0,6.5,12Z\"/>\n",
              "  </svg>\n",
              "    </button>\n",
              "    <script>\n",
              "      (() => {\n",
              "      const buttonEl =\n",
              "        document.querySelector('#id_02190a0a-2f65-4031-badd-7aa27463f744 button.colab-df-generate');\n",
              "      buttonEl.style.display =\n",
              "        google.colab.kernel.accessAllowed ? 'block' : 'none';\n",
              "\n",
              "      buttonEl.onclick = () => {\n",
              "        google.colab.notebook.generateWithVariable('df');\n",
              "      }\n",
              "      })();\n",
              "    </script>\n",
              "  </div>\n",
              "\n",
              "    </div>\n",
              "  </div>\n"
            ],
            "application/vnd.google.colaboratory.intrinsic+json": {
              "type": "dataframe",
              "variable_name": "df",
              "summary": "{\n  \"name\": \"df\",\n  \"rows\": 4846,\n  \"fields\": [\n    {\n      \"column\": \"sentiment\",\n      \"properties\": {\n        \"dtype\": \"category\",\n        \"num_unique_values\": 3,\n        \"samples\": [\n          \"neutral\",\n          \"negative\",\n          \"positive\"\n        ],\n        \"semantic_type\": \"\",\n        \"description\": \"\"\n      }\n    },\n    {\n      \"column\": \"content\",\n      \"properties\": {\n        \"dtype\": \"string\",\n        \"num_unique_values\": 4838,\n        \"samples\": [\n          \"The Company serves approximately 3,000 customers in over 100 countries .\",\n          \"On Dec. 1 , Grimaldi acquired 1.5 million shares and a 50.1-percent stake in Finnlines .\",\n          \"The extracted filtrates are very high in clarity while the dried filter cakes meet required transport moisture limits (TMLs)for their ore grades .\"\n        ],\n        \"semantic_type\": \"\",\n        \"description\": \"\"\n      }\n    }\n  ]\n}"
            }
          },
          "metadata": {},
          "execution_count": 67
        }
      ]
    },
    {
      "cell_type": "code",
      "source": [
        "classes = {\n",
        "    class_name: idx\n",
        "    for idx, class_name in enumerate(df.sentiment.unique().tolist())\n",
        "}\n",
        "\n",
        "df['sentiment'] = df['sentiment'].apply(lambda x: classes[x])\n",
        "\n",
        "classes"
      ],
      "metadata": {
        "colab": {
          "base_uri": "https://localhost:8080/"
        },
        "id": "k_Lmg1D3lyVV",
        "outputId": "c16d27ff-96ba-4a21-889a-a54e9994ff9c"
      },
      "execution_count": 68,
      "outputs": [
        {
          "output_type": "execute_result",
          "data": {
            "text/plain": [
              "{'neutral': 0, 'negative': 1, 'positive': 2}"
            ]
          },
          "metadata": {},
          "execution_count": 68
        }
      ]
    },
    {
      "cell_type": "markdown",
      "source": [
        "##Preprocess"
      ],
      "metadata": {
        "id": "4snDZVEfmsGq"
      }
    },
    {
      "cell_type": "code",
      "source": [
        "english_stopwords = stopwords.words('english')\n",
        "stemmer = PorterStemmer()\n",
        "\n",
        "def normalize_text(text):\n",
        "  text = text.lower()\n",
        "  text = unidecode.unidecode(text)\n",
        "  text = re.sub(r'[^\\w\\s]', '', text)\n",
        "  text = ' '.join([\n",
        "      word for word in text.split(' ') if word not in english_stopwords\n",
        "  ])\n",
        "  text = ' '.join([stemmer.stem(word) for word in text.split(' ')])\n",
        "  return text"
      ],
      "metadata": {
        "id": "vgcqFXNRmteW"
      },
      "execution_count": 69,
      "outputs": []
    },
    {
      "cell_type": "code",
      "source": [
        "df['content'] = df['content'].apply(lambda x: normalize_text(x))\n",
        "df"
      ],
      "metadata": {
        "colab": {
          "base_uri": "https://localhost:8080/",
          "height": 423
        },
        "id": "PTZiKpGBq384",
        "outputId": "66a5b149-a2e1-4b66-dcb1-7285d800533f"
      },
      "execution_count": 70,
      "outputs": [
        {
          "output_type": "execute_result",
          "data": {
            "text/plain": [
              "      sentiment                                            content\n",
              "0             0  accord gran  compani plan move product russia ...\n",
              "1             0  technopoli plan develop stage area less 100000...\n",
              "2             1  intern electron industri compani elcoteq laid ...\n",
              "3             2  new product plant compani would increas capac ...\n",
              "4             2  accord compani updat strategi year 20092012  b...\n",
              "...         ...                                                ...\n",
              "4841          1  london marketwatch  share price end lower lond...\n",
              "4842          0  rinkuskiai beer sale fell 65 per cent 416 mill...\n",
              "4843          1  oper profit fell eur 354 mn eur 688 mn 2007  i...\n",
              "4844          1  net sale paper segment decreas eur 2216 mn sec...\n",
              "4845          1  sale finland decreas 105  januari  sale outsid...\n",
              "\n",
              "[4846 rows x 2 columns]"
            ],
            "text/html": [
              "\n",
              "  <div id=\"df-c00611da-1e62-4bb7-9290-a2f5614e6c5a\" class=\"colab-df-container\">\n",
              "    <div>\n",
              "<style scoped>\n",
              "    .dataframe tbody tr th:only-of-type {\n",
              "        vertical-align: middle;\n",
              "    }\n",
              "\n",
              "    .dataframe tbody tr th {\n",
              "        vertical-align: top;\n",
              "    }\n",
              "\n",
              "    .dataframe thead th {\n",
              "        text-align: right;\n",
              "    }\n",
              "</style>\n",
              "<table border=\"1\" class=\"dataframe\">\n",
              "  <thead>\n",
              "    <tr style=\"text-align: right;\">\n",
              "      <th></th>\n",
              "      <th>sentiment</th>\n",
              "      <th>content</th>\n",
              "    </tr>\n",
              "  </thead>\n",
              "  <tbody>\n",
              "    <tr>\n",
              "      <th>0</th>\n",
              "      <td>0</td>\n",
              "      <td>accord gran  compani plan move product russia ...</td>\n",
              "    </tr>\n",
              "    <tr>\n",
              "      <th>1</th>\n",
              "      <td>0</td>\n",
              "      <td>technopoli plan develop stage area less 100000...</td>\n",
              "    </tr>\n",
              "    <tr>\n",
              "      <th>2</th>\n",
              "      <td>1</td>\n",
              "      <td>intern electron industri compani elcoteq laid ...</td>\n",
              "    </tr>\n",
              "    <tr>\n",
              "      <th>3</th>\n",
              "      <td>2</td>\n",
              "      <td>new product plant compani would increas capac ...</td>\n",
              "    </tr>\n",
              "    <tr>\n",
              "      <th>4</th>\n",
              "      <td>2</td>\n",
              "      <td>accord compani updat strategi year 20092012  b...</td>\n",
              "    </tr>\n",
              "    <tr>\n",
              "      <th>...</th>\n",
              "      <td>...</td>\n",
              "      <td>...</td>\n",
              "    </tr>\n",
              "    <tr>\n",
              "      <th>4841</th>\n",
              "      <td>1</td>\n",
              "      <td>london marketwatch  share price end lower lond...</td>\n",
              "    </tr>\n",
              "    <tr>\n",
              "      <th>4842</th>\n",
              "      <td>0</td>\n",
              "      <td>rinkuskiai beer sale fell 65 per cent 416 mill...</td>\n",
              "    </tr>\n",
              "    <tr>\n",
              "      <th>4843</th>\n",
              "      <td>1</td>\n",
              "      <td>oper profit fell eur 354 mn eur 688 mn 2007  i...</td>\n",
              "    </tr>\n",
              "    <tr>\n",
              "      <th>4844</th>\n",
              "      <td>1</td>\n",
              "      <td>net sale paper segment decreas eur 2216 mn sec...</td>\n",
              "    </tr>\n",
              "    <tr>\n",
              "      <th>4845</th>\n",
              "      <td>1</td>\n",
              "      <td>sale finland decreas 105  januari  sale outsid...</td>\n",
              "    </tr>\n",
              "  </tbody>\n",
              "</table>\n",
              "<p>4846 rows × 2 columns</p>\n",
              "</div>\n",
              "    <div class=\"colab-df-buttons\">\n",
              "\n",
              "  <div class=\"colab-df-container\">\n",
              "    <button class=\"colab-df-convert\" onclick=\"convertToInteractive('df-c00611da-1e62-4bb7-9290-a2f5614e6c5a')\"\n",
              "            title=\"Convert this dataframe to an interactive table.\"\n",
              "            style=\"display:none;\">\n",
              "\n",
              "  <svg xmlns=\"http://www.w3.org/2000/svg\" height=\"24px\" viewBox=\"0 -960 960 960\">\n",
              "    <path d=\"M120-120v-720h720v720H120Zm60-500h600v-160H180v160Zm220 220h160v-160H400v160Zm0 220h160v-160H400v160ZM180-400h160v-160H180v160Zm440 0h160v-160H620v160ZM180-180h160v-160H180v160Zm440 0h160v-160H620v160Z\"/>\n",
              "  </svg>\n",
              "    </button>\n",
              "\n",
              "  <style>\n",
              "    .colab-df-container {\n",
              "      display:flex;\n",
              "      gap: 12px;\n",
              "    }\n",
              "\n",
              "    .colab-df-convert {\n",
              "      background-color: #E8F0FE;\n",
              "      border: none;\n",
              "      border-radius: 50%;\n",
              "      cursor: pointer;\n",
              "      display: none;\n",
              "      fill: #1967D2;\n",
              "      height: 32px;\n",
              "      padding: 0 0 0 0;\n",
              "      width: 32px;\n",
              "    }\n",
              "\n",
              "    .colab-df-convert:hover {\n",
              "      background-color: #E2EBFA;\n",
              "      box-shadow: 0px 1px 2px rgba(60, 64, 67, 0.3), 0px 1px 3px 1px rgba(60, 64, 67, 0.15);\n",
              "      fill: #174EA6;\n",
              "    }\n",
              "\n",
              "    .colab-df-buttons div {\n",
              "      margin-bottom: 4px;\n",
              "    }\n",
              "\n",
              "    [theme=dark] .colab-df-convert {\n",
              "      background-color: #3B4455;\n",
              "      fill: #D2E3FC;\n",
              "    }\n",
              "\n",
              "    [theme=dark] .colab-df-convert:hover {\n",
              "      background-color: #434B5C;\n",
              "      box-shadow: 0px 1px 3px 1px rgba(0, 0, 0, 0.15);\n",
              "      filter: drop-shadow(0px 1px 2px rgba(0, 0, 0, 0.3));\n",
              "      fill: #FFFFFF;\n",
              "    }\n",
              "  </style>\n",
              "\n",
              "    <script>\n",
              "      const buttonEl =\n",
              "        document.querySelector('#df-c00611da-1e62-4bb7-9290-a2f5614e6c5a button.colab-df-convert');\n",
              "      buttonEl.style.display =\n",
              "        google.colab.kernel.accessAllowed ? 'block' : 'none';\n",
              "\n",
              "      async function convertToInteractive(key) {\n",
              "        const element = document.querySelector('#df-c00611da-1e62-4bb7-9290-a2f5614e6c5a');\n",
              "        const dataTable =\n",
              "          await google.colab.kernel.invokeFunction('convertToInteractive',\n",
              "                                                    [key], {});\n",
              "        if (!dataTable) return;\n",
              "\n",
              "        const docLinkHtml = 'Like what you see? Visit the ' +\n",
              "          '<a target=\"_blank\" href=https://colab.research.google.com/notebooks/data_table.ipynb>data table notebook</a>'\n",
              "          + ' to learn more about interactive tables.';\n",
              "        element.innerHTML = '';\n",
              "        dataTable['output_type'] = 'display_data';\n",
              "        await google.colab.output.renderOutput(dataTable, element);\n",
              "        const docLink = document.createElement('div');\n",
              "        docLink.innerHTML = docLinkHtml;\n",
              "        element.appendChild(docLink);\n",
              "      }\n",
              "    </script>\n",
              "  </div>\n",
              "\n",
              "\n",
              "<div id=\"df-54cc4acc-f202-457d-bf07-4d1b57618cc3\">\n",
              "  <button class=\"colab-df-quickchart\" onclick=\"quickchart('df-54cc4acc-f202-457d-bf07-4d1b57618cc3')\"\n",
              "            title=\"Suggest charts\"\n",
              "            style=\"display:none;\">\n",
              "\n",
              "<svg xmlns=\"http://www.w3.org/2000/svg\" height=\"24px\"viewBox=\"0 0 24 24\"\n",
              "     width=\"24px\">\n",
              "    <g>\n",
              "        <path d=\"M19 3H5c-1.1 0-2 .9-2 2v14c0 1.1.9 2 2 2h14c1.1 0 2-.9 2-2V5c0-1.1-.9-2-2-2zM9 17H7v-7h2v7zm4 0h-2V7h2v10zm4 0h-2v-4h2v4z\"/>\n",
              "    </g>\n",
              "</svg>\n",
              "  </button>\n",
              "\n",
              "<style>\n",
              "  .colab-df-quickchart {\n",
              "      --bg-color: #E8F0FE;\n",
              "      --fill-color: #1967D2;\n",
              "      --hover-bg-color: #E2EBFA;\n",
              "      --hover-fill-color: #174EA6;\n",
              "      --disabled-fill-color: #AAA;\n",
              "      --disabled-bg-color: #DDD;\n",
              "  }\n",
              "\n",
              "  [theme=dark] .colab-df-quickchart {\n",
              "      --bg-color: #3B4455;\n",
              "      --fill-color: #D2E3FC;\n",
              "      --hover-bg-color: #434B5C;\n",
              "      --hover-fill-color: #FFFFFF;\n",
              "      --disabled-bg-color: #3B4455;\n",
              "      --disabled-fill-color: #666;\n",
              "  }\n",
              "\n",
              "  .colab-df-quickchart {\n",
              "    background-color: var(--bg-color);\n",
              "    border: none;\n",
              "    border-radius: 50%;\n",
              "    cursor: pointer;\n",
              "    display: none;\n",
              "    fill: var(--fill-color);\n",
              "    height: 32px;\n",
              "    padding: 0;\n",
              "    width: 32px;\n",
              "  }\n",
              "\n",
              "  .colab-df-quickchart:hover {\n",
              "    background-color: var(--hover-bg-color);\n",
              "    box-shadow: 0 1px 2px rgba(60, 64, 67, 0.3), 0 1px 3px 1px rgba(60, 64, 67, 0.15);\n",
              "    fill: var(--button-hover-fill-color);\n",
              "  }\n",
              "\n",
              "  .colab-df-quickchart-complete:disabled,\n",
              "  .colab-df-quickchart-complete:disabled:hover {\n",
              "    background-color: var(--disabled-bg-color);\n",
              "    fill: var(--disabled-fill-color);\n",
              "    box-shadow: none;\n",
              "  }\n",
              "\n",
              "  .colab-df-spinner {\n",
              "    border: 2px solid var(--fill-color);\n",
              "    border-color: transparent;\n",
              "    border-bottom-color: var(--fill-color);\n",
              "    animation:\n",
              "      spin 1s steps(1) infinite;\n",
              "  }\n",
              "\n",
              "  @keyframes spin {\n",
              "    0% {\n",
              "      border-color: transparent;\n",
              "      border-bottom-color: var(--fill-color);\n",
              "      border-left-color: var(--fill-color);\n",
              "    }\n",
              "    20% {\n",
              "      border-color: transparent;\n",
              "      border-left-color: var(--fill-color);\n",
              "      border-top-color: var(--fill-color);\n",
              "    }\n",
              "    30% {\n",
              "      border-color: transparent;\n",
              "      border-left-color: var(--fill-color);\n",
              "      border-top-color: var(--fill-color);\n",
              "      border-right-color: var(--fill-color);\n",
              "    }\n",
              "    40% {\n",
              "      border-color: transparent;\n",
              "      border-right-color: var(--fill-color);\n",
              "      border-top-color: var(--fill-color);\n",
              "    }\n",
              "    60% {\n",
              "      border-color: transparent;\n",
              "      border-right-color: var(--fill-color);\n",
              "    }\n",
              "    80% {\n",
              "      border-color: transparent;\n",
              "      border-right-color: var(--fill-color);\n",
              "      border-bottom-color: var(--fill-color);\n",
              "    }\n",
              "    90% {\n",
              "      border-color: transparent;\n",
              "      border-bottom-color: var(--fill-color);\n",
              "    }\n",
              "  }\n",
              "</style>\n",
              "\n",
              "  <script>\n",
              "    async function quickchart(key) {\n",
              "      const quickchartButtonEl =\n",
              "        document.querySelector('#' + key + ' button');\n",
              "      quickchartButtonEl.disabled = true;  // To prevent multiple clicks.\n",
              "      quickchartButtonEl.classList.add('colab-df-spinner');\n",
              "      try {\n",
              "        const charts = await google.colab.kernel.invokeFunction(\n",
              "            'suggestCharts', [key], {});\n",
              "      } catch (error) {\n",
              "        console.error('Error during call to suggestCharts:', error);\n",
              "      }\n",
              "      quickchartButtonEl.classList.remove('colab-df-spinner');\n",
              "      quickchartButtonEl.classList.add('colab-df-quickchart-complete');\n",
              "    }\n",
              "    (() => {\n",
              "      let quickchartButtonEl =\n",
              "        document.querySelector('#df-54cc4acc-f202-457d-bf07-4d1b57618cc3 button');\n",
              "      quickchartButtonEl.style.display =\n",
              "        google.colab.kernel.accessAllowed ? 'block' : 'none';\n",
              "    })();\n",
              "  </script>\n",
              "</div>\n",
              "\n",
              "  <div id=\"id_a85507a8-349e-43db-890b-dd992d2bbc6f\">\n",
              "    <style>\n",
              "      .colab-df-generate {\n",
              "        background-color: #E8F0FE;\n",
              "        border: none;\n",
              "        border-radius: 50%;\n",
              "        cursor: pointer;\n",
              "        display: none;\n",
              "        fill: #1967D2;\n",
              "        height: 32px;\n",
              "        padding: 0 0 0 0;\n",
              "        width: 32px;\n",
              "      }\n",
              "\n",
              "      .colab-df-generate:hover {\n",
              "        background-color: #E2EBFA;\n",
              "        box-shadow: 0px 1px 2px rgba(60, 64, 67, 0.3), 0px 1px 3px 1px rgba(60, 64, 67, 0.15);\n",
              "        fill: #174EA6;\n",
              "      }\n",
              "\n",
              "      [theme=dark] .colab-df-generate {\n",
              "        background-color: #3B4455;\n",
              "        fill: #D2E3FC;\n",
              "      }\n",
              "\n",
              "      [theme=dark] .colab-df-generate:hover {\n",
              "        background-color: #434B5C;\n",
              "        box-shadow: 0px 1px 3px 1px rgba(0, 0, 0, 0.15);\n",
              "        filter: drop-shadow(0px 1px 2px rgba(0, 0, 0, 0.3));\n",
              "        fill: #FFFFFF;\n",
              "      }\n",
              "    </style>\n",
              "    <button class=\"colab-df-generate\" onclick=\"generateWithVariable('df')\"\n",
              "            title=\"Generate code using this dataframe.\"\n",
              "            style=\"display:none;\">\n",
              "\n",
              "  <svg xmlns=\"http://www.w3.org/2000/svg\" height=\"24px\"viewBox=\"0 0 24 24\"\n",
              "       width=\"24px\">\n",
              "    <path d=\"M7,19H8.4L18.45,9,17,7.55,7,17.6ZM5,21V16.75L18.45,3.32a2,2,0,0,1,2.83,0l1.4,1.43a1.91,1.91,0,0,1,.58,1.4,1.91,1.91,0,0,1-.58,1.4L9.25,21ZM18.45,9,17,7.55Zm-12,3A5.31,5.31,0,0,0,4.9,8.1,5.31,5.31,0,0,0,1,6.5,5.31,5.31,0,0,0,4.9,4.9,5.31,5.31,0,0,0,6.5,1,5.31,5.31,0,0,0,8.1,4.9,5.31,5.31,0,0,0,12,6.5,5.46,5.46,0,0,0,6.5,12Z\"/>\n",
              "  </svg>\n",
              "    </button>\n",
              "    <script>\n",
              "      (() => {\n",
              "      const buttonEl =\n",
              "        document.querySelector('#id_a85507a8-349e-43db-890b-dd992d2bbc6f button.colab-df-generate');\n",
              "      buttonEl.style.display =\n",
              "        google.colab.kernel.accessAllowed ? 'block' : 'none';\n",
              "\n",
              "      buttonEl.onclick = () => {\n",
              "        google.colab.notebook.generateWithVariable('df');\n",
              "      }\n",
              "      })();\n",
              "    </script>\n",
              "  </div>\n",
              "\n",
              "    </div>\n",
              "  </div>\n"
            ],
            "application/vnd.google.colaboratory.intrinsic+json": {
              "type": "dataframe",
              "variable_name": "df",
              "summary": "{\n  \"name\": \"df\",\n  \"rows\": 4846,\n  \"fields\": [\n    {\n      \"column\": \"sentiment\",\n      \"properties\": {\n        \"dtype\": \"number\",\n        \"std\": 0,\n        \"min\": 0,\n        \"max\": 2,\n        \"num_unique_values\": 3,\n        \"samples\": [\n          0,\n          1,\n          2\n        ],\n        \"semantic_type\": \"\",\n        \"description\": \"\"\n      }\n    },\n    {\n      \"column\": \"content\",\n      \"properties\": {\n        \"dtype\": \"string\",\n        \"num_unique_values\": 4828,\n        \"samples\": [\n          \"increas trust client yit seen apart sale acceler \",\n          \"reus back pet bottl also steadili increas rate use strap tape pick dip 2005  petcor said previous \",\n          \"vaisala also said expect net sale eur 2532 million 2010  compar eur 2522 million record 2009 \"\n        ],\n        \"semantic_type\": \"\",\n        \"description\": \"\"\n      }\n    }\n  ]\n}"
            }
          },
          "metadata": {},
          "execution_count": 70
        }
      ]
    },
    {
      "cell_type": "markdown",
      "source": [
        "##Create dictionary"
      ],
      "metadata": {
        "id": "1w0ZEBwbrHOE"
      }
    },
    {
      "cell_type": "code",
      "source": [
        "vocab = []\n",
        "\n",
        "for sentence in df['content'].tolist():\n",
        "  tokens = sentence.split(' ')\n",
        "  for token in tokens:\n",
        "    if token not in vocab:\n",
        "      vocab.append(token)\n",
        "\n",
        "vocab.append('UNK')\n",
        "vocab.append('PAD')\n",
        "word_to_idx = {word: idx for idx, word in enumerate(vocab)}\n",
        "vocab_size = len(vocab)\n",
        "\n",
        "vocab_size"
      ],
      "metadata": {
        "colab": {
          "base_uri": "https://localhost:8080/"
        },
        "id": "RQgvD-rcrGFZ",
        "outputId": "095a6880-920c-4f03-92ed-d363b0fb9cda"
      },
      "execution_count": 71,
      "outputs": [
        {
          "output_type": "execute_result",
          "data": {
            "text/plain": [
              "8909"
            ]
          },
          "metadata": {},
          "execution_count": 71
        }
      ]
    },
    {
      "cell_type": "markdown",
      "source": [
        "##Create transform text to tokens"
      ],
      "metadata": {
        "id": "GNkgffpSsNZY"
      }
    },
    {
      "cell_type": "code",
      "source": [
        "def transform(text, word_to_idx, max_seq_len):\n",
        "  tokens = []\n",
        "  for token in text.split(' '):\n",
        "    try:\n",
        "      w_idx = word_to_idx[token]\n",
        "    except:\n",
        "      w_idx = word_to_idx['UNK']\n",
        "    tokens.append(w_idx)\n",
        "\n",
        "  if len(tokens) < max_seq_len:\n",
        "    tokens += [word_to_idx['PAD']] * (max_seq_len - len(tokens))\n",
        "  elif len(tokens) > max_seq_len:\n",
        "    tokens = tokens[:max_seq_len]\n",
        "\n",
        "  return tokens"
      ],
      "metadata": {
        "id": "AikQ_QcAsLRz"
      },
      "execution_count": 72,
      "outputs": []
    },
    {
      "cell_type": "markdown",
      "source": [
        "##Split train, val, test"
      ],
      "metadata": {
        "id": "l-7g2H2asyGm"
      }
    },
    {
      "cell_type": "code",
      "source": [
        "val_size = 0.2\n",
        "test_size = 0.125\n",
        "is_shuffle = True\n",
        "texts = df['content'].tolist()\n",
        "labels = df['sentiment'].tolist()\n",
        "\n",
        "X_train, X_val, y_train, y_val = train_test_split(\n",
        "    texts, labels,\n",
        "    test_size=val_size,\n",
        "    random_state=seed,\n",
        "    shuffle=is_shuffle\n",
        ")\n",
        "\n",
        "X_train, X_test, y_train, y_test = train_test_split(\n",
        "    X_train, y_train,\n",
        "    test_size=test_size,\n",
        "    random_state=seed,\n",
        "    shuffle=is_shuffle\n",
        ")"
      ],
      "metadata": {
        "id": "kNcouYOrsxrS"
      },
      "execution_count": 82,
      "outputs": []
    },
    {
      "cell_type": "markdown",
      "source": [
        "##Create Pytorch Dataset"
      ],
      "metadata": {
        "id": "VhYFMQ9ytRCS"
      }
    },
    {
      "cell_type": "code",
      "source": [
        "class FinancialNews(Dataset):\n",
        "  def __init__(\n",
        "      self, X, y,\n",
        "      word_to_idx, max_seq_len,\n",
        "      transform = None\n",
        "    ):\n",
        "    self.texts = X\n",
        "    self.labels = y\n",
        "    self.word_to_idx = word_to_idx\n",
        "    self.max_seq_len = max_seq_len\n",
        "    self.transform = transform\n",
        "\n",
        "  def __len__(self):\n",
        "    return len(self.texts)\n",
        "\n",
        "  def __getitem__(self, idx):\n",
        "    text = self.texts[idx]\n",
        "    label = self.labels[idx]\n",
        "\n",
        "    if self.transform:\n",
        "      text = self.transform(\n",
        "          text,\n",
        "          self.word_to_idx,\n",
        "          self.max_seq_len\n",
        "      )\n",
        "    text = torch.tensor(text)\n",
        "    return text, label"
      ],
      "metadata": {
        "id": "LucRJJebtS3I"
      },
      "execution_count": 83,
      "outputs": []
    },
    {
      "cell_type": "markdown",
      "source": [
        "##Create Dataloader"
      ],
      "metadata": {
        "id": "8Rvg78met3ry"
      }
    },
    {
      "cell_type": "code",
      "source": [
        "max_seq_len = 32\n",
        "\n",
        "train_dataset = FinancialNews(\n",
        "    X_train, y_train,\n",
        "    word_to_idx, max_seq_len,\n",
        "    transform = transform\n",
        ")\n",
        "\n",
        "val_dataset = FinancialNews(\n",
        "    X_val, y_val,\n",
        "    word_to_idx, max_seq_len,\n",
        "    transform = transform\n",
        ")\n",
        "\n",
        "test_dataset=  FinancialNews(\n",
        "    X_test, y_test,\n",
        "    word_to_idx, max_seq_len,\n",
        "    transform = transform\n",
        ")\n",
        "\n",
        "train_batch_size = 128\n",
        "test_batch_size = 8\n",
        "\n",
        "train_dataloader = DataLoader(\n",
        "    train_dataset,\n",
        "    batch_size=train_batch_size,\n",
        "    shuffle=True\n",
        ")\n",
        "\n",
        "val_dataloader = DataLoader(\n",
        "    val_dataset,\n",
        "    batch_size=test_batch_size,\n",
        "    shuffle=False\n",
        ")\n",
        "\n",
        "test_dataloader = DataLoader(\n",
        "    test_dataset,\n",
        "    batch_size=test_batch_size,\n",
        "    shuffle=False\n",
        ")"
      ],
      "metadata": {
        "id": "WBopjhPbt44-"
      },
      "execution_count": 84,
      "outputs": []
    },
    {
      "cell_type": "markdown",
      "source": [
        "#Modeling"
      ],
      "metadata": {
        "id": "7uemKLuLuj74"
      }
    },
    {
      "cell_type": "markdown",
      "source": [
        "##Create Model class"
      ],
      "metadata": {
        "id": "EwO1XgZhuofw"
      }
    },
    {
      "cell_type": "markdown",
      "source": [
        "![image.png](data:image/png;base64,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)"
      ],
      "metadata": {
        "id": "8qMQlTwWuqrM"
      }
    },
    {
      "cell_type": "code",
      "source": [
        "class SentimentClassifier(nn.Module):\n",
        "  def __init__(\n",
        "      self, vocab_size, embedding_dims,\n",
        "      hidden_size, n_layers, n_classes,\n",
        "      dropout_prob\n",
        "  ):\n",
        "    super(SentimentClassifier, self).__init__()\n",
        "    self.embedding = nn.Embedding(vocab_size, embedding_dims)\n",
        "    self.gru = nn.GRU(\n",
        "        embedding_dims, hidden_size, n_layers,\n",
        "        batch_first=True, bidirectional= True\n",
        "    )\n",
        "    self.norm = nn.LayerNorm(2*hidden_size)\n",
        "    self.dropout = nn.Dropout(dropout_prob)\n",
        "    self.fc1 = nn.Linear(2*hidden_size, 16)\n",
        "    self.relu = nn.ReLU()\n",
        "    self.fc2 = nn.Linear(16, n_classes)\n",
        "\n",
        "  def forward(self, x):\n",
        "    x = self.embedding(x)\n",
        "    x, _ = self.gru(x)\n",
        "    x = x[:, -1, :]\n",
        "    x = self.norm(x)\n",
        "    x = self.dropout(x)\n",
        "    x = self.fc1(x)\n",
        "    x = self.relu(x)\n",
        "    x = self.fc2(x)\n",
        "    return x"
      ],
      "metadata": {
        "id": "0GNEUFH5ukxL"
      },
      "execution_count": 101,
      "outputs": []
    },
    {
      "cell_type": "markdown",
      "source": [
        "##Init model"
      ],
      "metadata": {
        "id": "2pu1KOePxRQE"
      }
    },
    {
      "cell_type": "code",
      "source": [
        "n_classes = len(list(classes.keys()))\n",
        "embedding_dim = 64\n",
        "hidden_size = 64\n",
        "n_layers = 2\n",
        "droput_prob = 0.2\n",
        "device = torch.device('cuda' if torch.cuda.is_available() else 'cpu')\n",
        "\n",
        "model = SentimentClassifier(\n",
        "    vocab_size=vocab_size,\n",
        "    embedding_dims=embedding_dim,\n",
        "    hidden_size=hidden_size,\n",
        "    n_layers=n_layers,\n",
        "    n_classes=n_classes,\n",
        "    dropout_prob=droput_prob\n",
        ").to(device)"
      ],
      "metadata": {
        "id": "uwCfOBlZxS4k"
      },
      "execution_count": 102,
      "outputs": []
    },
    {
      "cell_type": "code",
      "source": [
        "lr = 1e-4\n",
        "epochs = 50\n",
        "\n",
        "criterion = nn.CrossEntropyLoss()\n",
        "optimizer = torch.optim.Adam(model.parameters(), lr=lr)"
      ],
      "metadata": {
        "id": "og-Sd0MzxnT6"
      },
      "execution_count": 103,
      "outputs": []
    },
    {
      "cell_type": "markdown",
      "source": [
        "##Training function"
      ],
      "metadata": {
        "id": "Ps0EeZ08xv1a"
      }
    },
    {
      "cell_type": "code",
      "source": [
        "def evaluate(model, criterion, data_loader, device):\n",
        "  model.eval()\n",
        "  correct = 0\n",
        "  total = 0\n",
        "  losses = []\n",
        "  with torch.no_grad():\n",
        "    for inputs, labels in data_loader:\n",
        "      inputs = inputs.to(device)\n",
        "      labels = labels.to(device)\n",
        "      outputs = model(inputs)\n",
        "      loss = criterion(outputs, labels)\n",
        "      losses.append(loss.item())\n",
        "      _, predicted = torch.max(outputs.data, 1)\n",
        "      total += labels.size(0)\n",
        "      correct += (predicted == labels).sum().item()\n",
        "\n",
        "  loss = sum(losses)/len(losses)\n",
        "  accuracy = correct / total\n",
        "  return loss, accuracy"
      ],
      "metadata": {
        "id": "uLOHu5Nux9rf"
      },
      "execution_count": 79,
      "outputs": []
    },
    {
      "cell_type": "code",
      "source": [
        "def fit(\n",
        "    model,\n",
        "    criterion,\n",
        "    optimizer,\n",
        "    train_loader,\n",
        "    val_loader,\n",
        "    device,\n",
        "    epochs\n",
        "):\n",
        "  train_losses = []\n",
        "  val_losses = []\n",
        "  train_accs = []\n",
        "  val_accs = []\n",
        "\n",
        "  for epoch in range(epochs):\n",
        "    batch_train_losses = []\n",
        "    correct = 0\n",
        "    total = 0\n",
        "    model.train()\n",
        "    for inputs, labels in train_loader:\n",
        "      inputs = inputs.to(device)\n",
        "      labels = labels.to(device)\n",
        "      optimizer.zero_grad()\n",
        "      outputs = model(inputs)\n",
        "      loss = criterion(outputs, labels)\n",
        "      loss.backward()\n",
        "      optimizer.step()\n",
        "      batch_train_losses.append(loss.item())\n",
        "      _, predicted = torch.max(outputs.data, 1)\n",
        "      total += labels.size(0)\n",
        "      correct += (predicted == labels).sum().item()\n",
        "\n",
        "    train_loss = sum(batch_train_losses)/len(batch_train_losses)\n",
        "    train_losses.append(train_loss)\n",
        "    train_acc = correct / total\n",
        "    train_accs.append(train_acc)\n",
        "\n",
        "    val_loss, val_acc = evaluate(model, criterion, val_loader, device)\n",
        "    val_losses.append(val_loss)\n",
        "    val_accs.append(val_acc)\n",
        "\n",
        "    print(f'Epoch {epoch+1}/{epochs}')\n",
        "    print(f'Train Loss: {train_loss:.4f} | Train Acc: {train_acc:.4f}')\n",
        "    print(f'Val Loss: {val_loss:.4f} | Val Acc: {val_acc:.4f}')\n",
        "    print('-'*50)\n",
        "\n",
        "  return train_losses, val_losses, train_accs, val_accs"
      ],
      "metadata": {
        "id": "1plGOT3xxumd"
      },
      "execution_count": 80,
      "outputs": []
    },
    {
      "cell_type": "markdown",
      "source": [
        "##Train model"
      ],
      "metadata": {
        "id": "-DLJmBEe6xwm"
      }
    },
    {
      "cell_type": "code",
      "source": [
        "train_losses, val_losses, train_accs, val_accs = fit(\n",
        "    model,\n",
        "    criterion,\n",
        "    optimizer,\n",
        "    train_dataloader,\n",
        "    val_dataloader,\n",
        "    device,\n",
        "    epochs\n",
        ")"
      ],
      "metadata": {
        "colab": {
          "base_uri": "https://localhost:8080/"
        },
        "id": "441bRFo7z4qw",
        "outputId": "6d7d1408-f3f9-4575-fd5e-4bfd2745e4f6"
      },
      "execution_count": 104,
      "outputs": [
        {
          "output_type": "stream",
          "name": "stdout",
          "text": [
            "Epoch 1/50\n",
            "Train Loss: 1.0276 | Train Acc: 0.4707\n",
            "Val Loss: 0.9377 | Val Acc: 0.5773\n",
            "--------------------------------------------------\n",
            "Epoch 2/50\n",
            "Train Loss: 0.9353 | Train Acc: 0.5836\n",
            "Val Loss: 0.9315 | Val Acc: 0.5814\n",
            "--------------------------------------------------\n",
            "Epoch 3/50\n",
            "Train Loss: 0.9298 | Train Acc: 0.5868\n",
            "Val Loss: 0.9303 | Val Acc: 0.5845\n",
            "--------------------------------------------------\n",
            "Epoch 4/50\n",
            "Train Loss: 0.9309 | Train Acc: 0.5898\n",
            "Val Loss: 0.9291 | Val Acc: 0.5897\n",
            "--------------------------------------------------\n",
            "Epoch 5/50\n",
            "Train Loss: 0.9296 | Train Acc: 0.5892\n",
            "Val Loss: 0.9282 | Val Acc: 0.5907\n",
            "--------------------------------------------------\n",
            "Epoch 6/50\n",
            "Train Loss: 0.9273 | Train Acc: 0.5922\n",
            "Val Loss: 0.9278 | Val Acc: 0.5928\n",
            "--------------------------------------------------\n",
            "Epoch 7/50\n",
            "Train Loss: 0.9271 | Train Acc: 0.5907\n",
            "Val Loss: 0.9271 | Val Acc: 0.5928\n",
            "--------------------------------------------------\n",
            "Epoch 8/50\n",
            "Train Loss: 0.9261 | Train Acc: 0.5948\n",
            "Val Loss: 0.9265 | Val Acc: 0.5938\n",
            "--------------------------------------------------\n",
            "Epoch 9/50\n",
            "Train Loss: 0.9248 | Train Acc: 0.5942\n",
            "Val Loss: 0.9262 | Val Acc: 0.5948\n",
            "--------------------------------------------------\n",
            "Epoch 10/50\n",
            "Train Loss: 0.9232 | Train Acc: 0.5972\n",
            "Val Loss: 0.9258 | Val Acc: 0.5948\n",
            "--------------------------------------------------\n",
            "Epoch 11/50\n",
            "Train Loss: 0.9245 | Train Acc: 0.5975\n",
            "Val Loss: 0.9256 | Val Acc: 0.5948\n",
            "--------------------------------------------------\n",
            "Epoch 12/50\n",
            "Train Loss: 0.9240 | Train Acc: 0.5981\n",
            "Val Loss: 0.9253 | Val Acc: 0.5948\n",
            "--------------------------------------------------\n",
            "Epoch 13/50\n",
            "Train Loss: 0.9234 | Train Acc: 0.5992\n",
            "Val Loss: 0.9250 | Val Acc: 0.5959\n",
            "--------------------------------------------------\n",
            "Epoch 14/50\n",
            "Train Loss: 0.9211 | Train Acc: 0.5998\n",
            "Val Loss: 0.9244 | Val Acc: 0.5959\n",
            "--------------------------------------------------\n",
            "Epoch 15/50\n",
            "Train Loss: 0.9206 | Train Acc: 0.6004\n",
            "Val Loss: 0.9252 | Val Acc: 0.5969\n",
            "--------------------------------------------------\n",
            "Epoch 16/50\n",
            "Train Loss: 0.9195 | Train Acc: 0.6010\n",
            "Val Loss: 0.9248 | Val Acc: 0.5959\n",
            "--------------------------------------------------\n",
            "Epoch 17/50\n",
            "Train Loss: 0.9180 | Train Acc: 0.6028\n",
            "Val Loss: 0.9244 | Val Acc: 0.5938\n",
            "--------------------------------------------------\n",
            "Epoch 18/50\n",
            "Train Loss: 0.9184 | Train Acc: 0.6016\n",
            "Val Loss: 0.9250 | Val Acc: 0.5938\n",
            "--------------------------------------------------\n",
            "Epoch 19/50\n",
            "Train Loss: 0.9184 | Train Acc: 0.6045\n",
            "Val Loss: 0.9234 | Val Acc: 0.5959\n",
            "--------------------------------------------------\n",
            "Epoch 20/50\n",
            "Train Loss: 0.9141 | Train Acc: 0.6048\n",
            "Val Loss: 0.9232 | Val Acc: 0.5948\n",
            "--------------------------------------------------\n",
            "Epoch 21/50\n",
            "Train Loss: 0.9124 | Train Acc: 0.6054\n",
            "Val Loss: 0.9223 | Val Acc: 0.5959\n",
            "--------------------------------------------------\n",
            "Epoch 22/50\n",
            "Train Loss: 0.9157 | Train Acc: 0.6054\n",
            "Val Loss: 0.9222 | Val Acc: 0.5948\n",
            "--------------------------------------------------\n",
            "Epoch 23/50\n",
            "Train Loss: 0.9122 | Train Acc: 0.6054\n",
            "Val Loss: 0.9206 | Val Acc: 0.5948\n",
            "--------------------------------------------------\n",
            "Epoch 24/50\n",
            "Train Loss: 0.9076 | Train Acc: 0.6069\n",
            "Val Loss: 0.9194 | Val Acc: 0.5928\n",
            "--------------------------------------------------\n",
            "Epoch 25/50\n",
            "Train Loss: 0.9111 | Train Acc: 0.6066\n",
            "Val Loss: 0.9207 | Val Acc: 0.5948\n",
            "--------------------------------------------------\n",
            "Epoch 26/50\n",
            "Train Loss: 0.9033 | Train Acc: 0.6101\n",
            "Val Loss: 0.9137 | Val Acc: 0.5938\n",
            "--------------------------------------------------\n",
            "Epoch 27/50\n",
            "Train Loss: 0.8943 | Train Acc: 0.6131\n",
            "Val Loss: 0.9105 | Val Acc: 0.5938\n",
            "--------------------------------------------------\n",
            "Epoch 28/50\n",
            "Train Loss: 0.8830 | Train Acc: 0.6190\n",
            "Val Loss: 0.9082 | Val Acc: 0.6031\n",
            "--------------------------------------------------\n",
            "Epoch 29/50\n",
            "Train Loss: 0.8671 | Train Acc: 0.6272\n",
            "Val Loss: 0.8890 | Val Acc: 0.6134\n",
            "--------------------------------------------------\n",
            "Epoch 30/50\n",
            "Train Loss: 0.8490 | Train Acc: 0.6446\n",
            "Val Loss: 0.8793 | Val Acc: 0.6206\n",
            "--------------------------------------------------\n",
            "Epoch 31/50\n",
            "Train Loss: 0.8292 | Train Acc: 0.6517\n",
            "Val Loss: 0.8750 | Val Acc: 0.6299\n",
            "--------------------------------------------------\n",
            "Epoch 32/50\n",
            "Train Loss: 0.8164 | Train Acc: 0.6620\n",
            "Val Loss: 0.8705 | Val Acc: 0.6299\n",
            "--------------------------------------------------\n",
            "Epoch 33/50\n",
            "Train Loss: 0.8059 | Train Acc: 0.6641\n",
            "Val Loss: 0.8678 | Val Acc: 0.6320\n",
            "--------------------------------------------------\n",
            "Epoch 34/50\n",
            "Train Loss: 0.7928 | Train Acc: 0.6688\n",
            "Val Loss: 0.8680 | Val Acc: 0.6381\n",
            "--------------------------------------------------\n",
            "Epoch 35/50\n",
            "Train Loss: 0.7767 | Train Acc: 0.6759\n",
            "Val Loss: 0.8642 | Val Acc: 0.6330\n",
            "--------------------------------------------------\n",
            "Epoch 36/50\n",
            "Train Loss: 0.7704 | Train Acc: 0.6786\n",
            "Val Loss: 0.8727 | Val Acc: 0.6186\n",
            "--------------------------------------------------\n",
            "Epoch 37/50\n",
            "Train Loss: 0.7619 | Train Acc: 0.6883\n",
            "Val Loss: 0.8591 | Val Acc: 0.6361\n",
            "--------------------------------------------------\n",
            "Epoch 38/50\n",
            "Train Loss: 0.7458 | Train Acc: 0.6895\n",
            "Val Loss: 0.8617 | Val Acc: 0.6351\n",
            "--------------------------------------------------\n",
            "Epoch 39/50\n",
            "Train Loss: 0.7358 | Train Acc: 0.6921\n",
            "Val Loss: 0.8622 | Val Acc: 0.6309\n",
            "--------------------------------------------------\n",
            "Epoch 40/50\n",
            "Train Loss: 0.7230 | Train Acc: 0.7042\n",
            "Val Loss: 0.8715 | Val Acc: 0.6340\n",
            "--------------------------------------------------\n",
            "Epoch 41/50\n",
            "Train Loss: 0.7103 | Train Acc: 0.7095\n",
            "Val Loss: 0.8666 | Val Acc: 0.6361\n",
            "--------------------------------------------------\n",
            "Epoch 42/50\n",
            "Train Loss: 0.6913 | Train Acc: 0.7139\n",
            "Val Loss: 0.8739 | Val Acc: 0.6351\n",
            "--------------------------------------------------\n",
            "Epoch 43/50\n",
            "Train Loss: 0.6887 | Train Acc: 0.7222\n",
            "Val Loss: 0.8894 | Val Acc: 0.6412\n",
            "--------------------------------------------------\n",
            "Epoch 44/50\n",
            "Train Loss: 0.6752 | Train Acc: 0.7302\n",
            "Val Loss: 0.8795 | Val Acc: 0.6237\n",
            "--------------------------------------------------\n",
            "Epoch 45/50\n",
            "Train Loss: 0.6499 | Train Acc: 0.7393\n",
            "Val Loss: 0.8910 | Val Acc: 0.6330\n",
            "--------------------------------------------------\n",
            "Epoch 46/50\n",
            "Train Loss: 0.6390 | Train Acc: 0.7455\n",
            "Val Loss: 0.9011 | Val Acc: 0.6216\n",
            "--------------------------------------------------\n",
            "Epoch 47/50\n",
            "Train Loss: 0.6204 | Train Acc: 0.7567\n",
            "Val Loss: 0.9029 | Val Acc: 0.6402\n",
            "--------------------------------------------------\n",
            "Epoch 48/50\n",
            "Train Loss: 0.6109 | Train Acc: 0.7647\n",
            "Val Loss: 0.9081 | Val Acc: 0.6247\n",
            "--------------------------------------------------\n",
            "Epoch 49/50\n",
            "Train Loss: 0.5863 | Train Acc: 0.7667\n",
            "Val Loss: 0.9175 | Val Acc: 0.6278\n",
            "--------------------------------------------------\n",
            "Epoch 50/50\n",
            "Train Loss: 0.5677 | Train Acc: 0.7768\n",
            "Val Loss: 0.9322 | Val Acc: 0.6268\n",
            "--------------------------------------------------\n"
          ]
        }
      ]
    },
    {
      "cell_type": "markdown",
      "source": [
        "##Visualize"
      ],
      "metadata": {
        "id": "8pvW44VQ6vXj"
      }
    },
    {
      "cell_type": "code",
      "source": [
        "fig, ax = plt.subplots(1, 2, figsize=(15, 5))\n",
        "\n",
        "ax[0].plot(train_losses, label='Train Loss')\n",
        "ax[0].plot(val_losses, label='Val Loss')\n",
        "ax[0].set_xlabel('Epochs')\n",
        "ax[0].set_ylabel('Loss')\n",
        "ax[0].legend()\n",
        "\n",
        "ax[1].plot(train_accs, label='Train Acc')\n",
        "ax[1].plot(val_accs, label='Val Acc')\n",
        "ax[1].set_xlabel('Epochs')\n",
        "ax[1].set_ylabel('Accuracy')\n",
        "ax[1].legend()\n",
        "\n",
        "plt.show()"
      ],
      "metadata": {
        "colab": {
          "base_uri": "https://localhost:8080/",
          "height": 329
        },
        "id": "2rqOtOju6vLh",
        "outputId": "00ad2d0c-b5e9-4a82-a400-ef1375fbc014"
      },
      "execution_count": 105,
      "outputs": [
        {
          "output_type": "display_data",
          "data": {
            "text/plain": [
              "<Figure size 1500x500 with 2 Axes>"
            ],
            "image/png": "[encoded data removed]"
          },
          "metadata": {}
        }
      ]
    },
    {
      "cell_type": "markdown",
      "source": [
        "##Evaluate"
      ],
      "metadata": {
        "id": "gyifnVhR67SJ"
      }
    },
    {
      "cell_type": "code",
      "source": [
        "_, test_acc = evaluate(model, criterion, test_dataloader, device)\n",
        "print(f'Test Acc: {test_acc:.4f}')"
      ],
      "metadata": {
        "colab": {
          "base_uri": "https://localhost:8080/"
        },
        "id": "xax8gnrv663Z",
        "outputId": "c272b3df-e0c2-4b5b-8874-7219f0a0f685"
      },
      "execution_count": 106,
      "outputs": [
        {
          "output_type": "stream",
          "name": "stdout",
          "text": [
            "Test Acc: 0.6082\n"
          ]
        }
      ]
    },
    {
      "cell_type": "markdown",
      "source": [
        "##Inference"
      ],
      "metadata": {
        "id": "Iz1bk-vV7Bwt"
      }
    },
    {
      "cell_type": "code",
      "source": [
        "def inference(model, text, tokenizer, device):\n",
        "  model.eval()\n",
        "  text = normalize_text(text)\n",
        "  text = transform(text, word_to_idx, max_seq_len)\n",
        "  text = torch.tensor(text)\n",
        "  # Add an unsqueeze operation to create a batch dimension:\n",
        "  text = text.unsqueeze(0).to(device) # Reshape to (1, seq_len) for batch processing\n",
        "  output = model(text)\n",
        "  _, predicted = torch.max(output.data, 1)\n",
        "  if predicted.item() == 0:\n",
        "    return 'Negative'\n",
        "  elif predicted.item() == 1:\n",
        "    return 'Neutral'\n",
        "  else:\n",
        "    return 'Positive'\n",
        "\n",
        "text = 'With the new production plant the company would increase its capacity to meet the expected increase in demand and would improve the use of raw materials and therefore increase the production profitability .'\n",
        "print(inference(model, text, word_to_idx, device))"
      ],
      "metadata": {
        "colab": {
          "base_uri": "https://localhost:8080/"
        },
        "id": "meHVfvUH7Cn5",
        "outputId": "202bd553-d01f-4ed4-97ad-7b73b5f10d9f"
      },
      "execution_count": 112,
      "outputs": [
        {
          "output_type": "stream",
          "name": "stdout",
          "text": [
            "Positive\n"
          ]
        }
      ]
    }
  ]
}