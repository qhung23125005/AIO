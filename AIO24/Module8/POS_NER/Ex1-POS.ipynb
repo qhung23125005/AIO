{
 "cells": [
  {
   "cell_type": "markdown",
   "metadata": {},
   "source": [
    "In the first exercise, we will deal with **Part-of-Speech (POS) Tagging** problem. We will fine-tune model from Hugging face and fine tune it using Penn Tree Bank dataset"
   ]
  },
  {
   "cell_type": "markdown",
   "metadata": {},
   "source": [
    "# Import libs"
   ]
  },
  {
   "cell_type": "code",
   "execution_count": 1,
   "metadata": {},
   "outputs": [
    {
     "name": "stderr",
     "output_type": "stream",
     "text": [
      "[nltk_data] Downloading package treebank to\n",
      "[nltk_data]     C:\\Users\\admin\\AppData\\Roaming\\nltk_data...\n",
      "[nltk_data]   Package treebank is already up-to-date!\n"
     ]
    },
    {
     "data": {
      "text/plain": [
       "True"
      ]
     },
     "execution_count": 1,
     "metadata": {},
     "output_type": "execute_result"
    }
   ],
   "source": [
    "from typing import List\n",
    "import numpy as np\n",
    "from transformers import AutoTokenizer, AutoModelForTokenClassification\n",
    "import torch\n",
    "from torch.utils.data import Dataset, DataLoader\n",
    "from sklearn.model_selection import train_test_split\n",
    "import nltk\n",
    "\n",
    "nltk.download('treebank')"
   ]
  },
  {
   "cell_type": "markdown",
   "metadata": {},
   "source": [
    "# Data"
   ]
  },
  {
   "cell_type": "markdown",
   "metadata": {},
   "source": [
    "## Load data"
   ]
  },
  {
   "cell_type": "code",
   "execution_count": 2,
   "metadata": {},
   "outputs": [
    {
     "name": "stdout",
     "output_type": "stream",
     "text": [
      "Number of sentences in the corpus: 3914\n",
      "First sentence with tags: [('Pierre', 'NNP'), ('Vinken', 'NNP'), (',', ','), ('61', 'CD'), ('years', 'NNS'), ('old', 'JJ'), (',', ','), ('will', 'MD'), ('join', 'VB'), ('the', 'DT'), ('board', 'NN'), ('as', 'IN'), ('a', 'DT'), ('nonexecutive', 'JJ'), ('director', 'NN'), ('Nov.', 'NNP'), ('29', 'CD'), ('.', '.')]\n"
     ]
    }
   ],
   "source": [
    "tagged_sentences = nltk.corpus.treebank.tagged_sents()\n",
    "print(\"Number of sentences in the corpus:\", len(tagged_sentences))\n",
    "print(\"First sentence with tags:\", tagged_sentences[0])"
   ]
  },
  {
   "cell_type": "code",
   "execution_count": 3,
   "metadata": {},
   "outputs": [
    {
     "name": "stdout",
     "output_type": "stream",
     "text": [
      "First sentence: ['pierre', 'vinken', ',', '61', 'years', 'old', ',', 'will', 'join', 'the', 'board', 'as', 'a', 'nonexecutive', 'director', 'nov.', '29', '.']\n",
      "First sentence tags: ['NNP', 'NNP', ',', 'CD', 'NNS', 'JJ', ',', 'MD', 'VB', 'DT', 'NN', 'IN', 'DT', 'JJ', 'NN', 'NNP', 'CD', '.']\n"
     ]
    }
   ],
   "source": [
    "sentences, sentence_tags = [], []\n",
    "for tagged_sentence in tagged_sentences:\n",
    "    sentence, tags = zip(*tagged_sentence)\n",
    "    # Convert tags to BIO format\n",
    "    sentences.append([word.lower() for word in sentence])\n",
    "    sentence_tags.append([tag for tag in tags])\n",
    "\n",
    "# Print the first sentence and its tags\n",
    "print(\"First sentence:\", sentences[0])\n",
    "print(\"First sentence tags:\", sentence_tags[0])"
   ]
  },
  {
   "cell_type": "code",
   "execution_count": 4,
   "metadata": {},
   "outputs": [
    {
     "name": "stdout",
     "output_type": "stream",
     "text": [
      "Label to ID mapping: {'NNPS': 0, 'NN': 1, 'WP': 2, 'VBG': 3, 'PDT': 4, 'MD': 5, 'WDT': 6, 'VBD': 7, 'UH': 8, 'SYM': 9, '$': 10, 'VBZ': 11, 'EX': 12, 'WRB': 13, 'LS': 14, 'RP': 15, 'CD': 16, 'POS': 17, 'RBS': 18, 'PRP$': 19, 'VBP': 20, 'IN': 21, 'VB': 22, 'PRP': 23, 'TO': 24, '#': 25, '-RRB-': 26, '.': 27, 'NNP': 28, '``': 29, 'JJ': 30, '-NONE-': 31, ':': 32, \"''\": 33, 'CC': 34, 'RB': 35, ',': 36, '-LRB-': 37, 'NNS': 38, 'FW': 39, 'JJS': 40, 'VBN': 41, 'DT': 42, 'RBR': 43, 'JJR': 44, 'WP$': 45, 'O': 46}\n",
      "ID to label mapping: {0: 'NNPS', 1: 'NN', 2: 'WP', 3: 'VBG', 4: 'PDT', 5: 'MD', 6: 'WDT', 7: 'VBD', 8: 'UH', 9: 'SYM', 10: '$', 11: 'VBZ', 12: 'EX', 13: 'WRB', 14: 'LS', 15: 'RP', 16: 'CD', 17: 'POS', 18: 'RBS', 19: 'PRP$', 20: 'VBP', 21: 'IN', 22: 'VB', 23: 'PRP', 24: 'TO', 25: '#', 26: '-RRB-', 27: '.', 28: 'NNP', 29: '``', 30: 'JJ', 31: '-NONE-', 32: ':', 33: \"''\", 34: 'CC', 35: 'RB', 36: ',', 37: '-LRB-', 38: 'NNS', 39: 'FW', 40: 'JJS', 41: 'VBN', 42: 'DT', 43: 'RBR', 44: 'JJR', 45: 'WP$', 46: 'O'}\n"
     ]
    }
   ],
   "source": [
    "label2id = {tag: i for i, tag in enumerate(set(tag for tags in sentence_tags for tag in tags))}\n",
    "label2id['O'] = len(label2id)  # Add 'O' for outside tags\n",
    "id2label = {i: tag for tag, i in label2id.items()}\n",
    "\n",
    "\n",
    "print(\"Label to ID mapping:\", label2id)\n",
    "print(\"ID to label mapping:\", id2label)"
   ]
  },
  {
   "cell_type": "markdown",
   "metadata": {},
   "source": [
    "## Split data"
   ]
  },
  {
   "cell_type": "code",
   "execution_count": 5,
   "metadata": {},
   "outputs": [],
   "source": [
    "train_sentences, test_sentences, train_tags, test_tags = train_test_split(\n",
    "    sentences, sentence_tags, test_size=0.3\n",
    ")\n",
    "valid_sentences, test_sentences, valid_tags, test_tags = train_test_split(\n",
    "    test_sentences, test_tags, test_size=0.5\n",
    ")"
   ]
  },
  {
   "cell_type": "markdown",
   "metadata": {},
   "source": [
    "## Create Pytorch Dataset"
   ]
  },
  {
   "cell_type": "code",
   "execution_count": 6,
   "metadata": {},
   "outputs": [],
   "source": [
    "model_name = \"QCRI/bert-base-multilingual-cased-pos-english\"\n",
    "tokenizer = AutoTokenizer.from_pretrained(\n",
    "    model_name,\n",
    "    use_fast=True\n",
    ")\n",
    "\n",
    "MAX_LENGTH = 256\n",
    "\n",
    "class PosTaggingDataset(Dataset):\n",
    "    def __init__(self, \n",
    "                sentences: List[List[str]], \n",
    "                tags: List[List[str]], \n",
    "                tokenizer,\n",
    "                label2id,\n",
    "                max_length = MAX_LENGTH):\n",
    "        self.sentences = sentences\n",
    "        self.tags = tags\n",
    "        self.tokenizer = tokenizer\n",
    "        self.label2id = label2id\n",
    "        self.max_length = max_length\n",
    "\n",
    "    def __len__(self):\n",
    "        return len(self.sentences)\n",
    "    \n",
    "    def __getitem__(self, idx):\n",
    "        words = self.sentences[idx]\n",
    "        word_tags = self.tags[idx]\n",
    "\n",
    "        encoding = self.tokenizer(\n",
    "            words,\n",
    "            is_split_into_words=True,\n",
    "            return_attention_mask=True,\n",
    "            truncation=True,\n",
    "            padding='max_length',\n",
    "            max_length=self.max_length,\n",
    "            return_tensors='pt'\n",
    "        )\n",
    "\n",
    "        # Align labels with tokenized inputs\n",
    "        word_ids = encoding.word_ids(batch_index=0)  # Map token position to word index\n",
    "        labels = []\n",
    "        for word_id in word_ids:\n",
    "            if word_id is None:\n",
    "                labels.append(-100)  # Ignored by loss\n",
    "            else:\n",
    "                labels.append(self.label2id[word_tags[word_id]])\n",
    "\n",
    "        return {\n",
    "            'input_ids': encoding['input_ids'].squeeze(0),\n",
    "            'attention_mask': encoding['attention_mask'].squeeze(0),\n",
    "            'labels': torch.tensor(labels),\n",
    "        }"
   ]
  },
  {
   "cell_type": "code",
   "execution_count": 7,
   "metadata": {},
   "outputs": [],
   "source": [
    "train_dataset = PosTaggingDataset(\n",
    "    sentences=train_sentences,\n",
    "    tags=train_tags,\n",
    "    tokenizer=tokenizer,\n",
    "    label2id=label2id,\n",
    "    max_length=MAX_LENGTH\n",
    ")\n",
    "valid_dataset = PosTaggingDataset(\n",
    "    sentences=valid_sentences,\n",
    "    tags=valid_tags,\n",
    "    tokenizer=tokenizer,\n",
    "    label2id=label2id,\n",
    "    max_length=MAX_LENGTH\n",
    ")\n",
    "test_dataset = PosTaggingDataset(\n",
    "    sentences=test_sentences,\n",
    "    tags=test_tags,\n",
    "    tokenizer=tokenizer,\n",
    "    label2id=label2id,\n",
    "    max_length=MAX_LENGTH\n",
    ")"
   ]
  },
  {
   "cell_type": "markdown",
   "metadata": {},
   "source": [
    "# Modeling"
   ]
  },
  {
   "cell_type": "code",
   "execution_count": 8,
   "metadata": {},
   "outputs": [
    {
     "name": "stderr",
     "output_type": "stream",
     "text": [
      "Some weights of the model checkpoint at QCRI/bert-base-multilingual-cased-pos-english were not used when initializing BertForTokenClassification: ['bert.pooler.dense.bias', 'bert.pooler.dense.weight']\n",
      "- This IS expected if you are initializing BertForTokenClassification from the checkpoint of a model trained on another task or with another architecture (e.g. initializing a BertForSequenceClassification model from a BertForPreTraining model).\n",
      "- This IS NOT expected if you are initializing BertForTokenClassification from the checkpoint of a model that you expect to be exactly identical (initializing a BertForSequenceClassification model from a BertForSequenceClassification model).\n"
     ]
    }
   ],
   "source": [
    "model = AutoModelForTokenClassification.from_pretrained(\n",
    "    model_name,\n",
    ")\n"
   ]
  },
  {
   "cell_type": "code",
   "execution_count": null,
   "metadata": {},
   "outputs": [],
   "source": [
    "import evaluate\n",
    "import numpy as np\n",
    "\n",
    "ignore_label = -100\n",
    "accuracy = evaluate.load(\"accuracy\")\n",
    "\n",
    "def compute_metrics(eval_pred):\n",
    "    predictions, labels = eval_pred\n",
    "    predictions = np.argmax(predictions, axis=2)\n",
    "\n",
    "    true_predictions = [\n",
    "        id2label[p] for prediction, label in zip(predictions, labels)\n",
    "        for p, l in zip(prediction, label) if l != ignore_label\n",
    "    ]\n",
    "    true_labels = [\n",
    "        id2label[l] for prediction, label in zip(predictions, labels)\n",
    "        for p, l in zip(prediction, label) if l != ignore_label\n",
    "    ]\n",
    "\n",
    "    results = accuracy.compute(predictions=true_predictions, references=true_labels)\n",
    "    return {\"accuracy\": results[\"accuracy\"]}\n"
   ]
  },
  {
   "cell_type": "code",
   "execution_count": 10,
   "metadata": {},
   "outputs": [
    {
     "name": "stderr",
     "output_type": "stream",
     "text": [
      "C:\\Users\\admin\\AppData\\Local\\Packages\\PythonSoftwareFoundation.Python.3.11_qbz5n2kfra8p0\\LocalCache\\local-packages\\Python311\\site-packages\\transformers\\training_args.py:1611: FutureWarning: `evaluation_strategy` is deprecated and will be removed in version 4.46 of 🤗 Transformers. Use `eval_strategy` instead\n",
      "  warnings.warn(\n",
      "Using the `WANDB_DISABLED` environment variable is deprecated and will be removed in v5. Use the --report_to flag to control the integrations used for logging result (for instance --report_to none).\n",
      "C:\\Users\\admin\\AppData\\Local\\Temp\\ipykernel_19872\\1436446183.py:14: FutureWarning: `tokenizer` is deprecated and will be removed in version 5.0.0 for `Trainer.__init__`. Use `processing_class` instead.\n",
      "  trainer = Trainer(\n"
     ]
    },
    {
     "data": {
      "text/html": [
       "\n",
       "    <div>\n",
       "      \n",
       "      <progress value='173' max='1720' style='width:300px; height:20px; vertical-align: middle;'></progress>\n",
       "      [ 173/1720 00:40 < 06:10, 4.18 it/s, Epoch 1/10]\n",
       "    </div>\n",
       "    <table border=\"1\" class=\"dataframe\">\n",
       "  <thead>\n",
       " <tr style=\"text-align: left;\">\n",
       "      <th>Epoch</th>\n",
       "      <th>Training Loss</th>\n",
       "      <th>Validation Loss</th>\n",
       "    </tr>\n",
       "  </thead>\n",
       "  <tbody>\n",
       "  </tbody>\n",
       "</table><p>\n",
       "    <div>\n",
       "      \n",
       "      <progress value='37' max='37' style='width:300px; height:20px; vertical-align: middle;'></progress>\n",
       "      [37/37 00:04]\n",
       "    </div>\n",
       "    "
      ],
      "text/plain": [
       "<IPython.core.display.HTML object>"
      ]
     },
     "metadata": {},
     "output_type": "display_data"
    },
    {
     "ename": "ValueError",
     "evalue": "Predictions and/or references don't match the expected format.\nExpected format: {'predictions': Value(dtype='int32', id=None), 'references': Value(dtype='int32', id=None)},\nInput predictions: [['NNS', 'NNS', 'VBD', '-NONE-', 'NNS', 'RB', 'VBD', 'VBN', '-NONE-', '-NONE-', '-NONE-', 'IN', 'JJ', 'NNS', 'NNS', 'IN', 'DT', 'NNP', 'JJ', 'NN', 'VBZ', 'IN', 'DT', 'NN', 'NN', 'IN', '-NONE-', 'VBG', 'JJ', 'JJ', 'JJ', 'NN', 'NN', 'IN', 'DT', 'NNP', 'NNP', 'NNP', 'NNP', '.'], ['JJR', 'NNS', 'NNS', 'MD', 'VB', 'VB', '-NONE-', 'NNS', 'NNS', 'IN', 'JJR', 'NNS', 'NNS', 'WP', '-NONE-', '-NONE-', '-NONE-', '-NONE-', '-NONE-', 'VBP', 'JJR', 'NNS', 'NNS', 'VB', 'CC', 'VB', ',', 'PRP', 'VBP', '-NONE-', '-NONE-', '-NONE-', '-NONE-', '-NONE-', '.'], ['JJ', 'TO', 'RB', 'RB', 'JJ', 'NN', 'NNS', 'VBN', '-NONE-', 'TO', 'NN', 'NN', 'IN', 'DT', 'NNP', 'NNP', 'NNP', 'NNP', 'NN', ',', 'NN', 'NN', 'NN', 'VBD', 'VBN', '-NONE-', '-NONE-', '-NONE-', 'IN', 'NN', 'CC', 'NN', 'NNS', ',', 'WDT', 'NNS', 'NNS', 'VBD', '-NONE-', '-NONE-', '-NONE-', '-NONE-', '-NONE-', 'DT', '``', '``', 'JJ', \"''\", \"''\", 'NN', 'RB', 'VBN', '-NONE-', 'WRB', 'DT', 'NN', 'VBZ', 'VBN', '-NONE-', '-NONE-', '-NONE-', 'TO', 'VB', '-NONE-', '-NONE-', '-NONE-', '-NONE-', '-NONE-', 'CC', 'IN', 'NNS', 'IN', 'NN', '.'], ..., ['IN', 'NN', ',', 'VBZ', 'VBP', 'NNS', 'IN', 'DT', 'NNP', 'NNP', 'NNP', 'CD', 'NNS', 'NNS', 'NN', 'CC', 'IN', 'DT', 'NNP', 'NNP', 'NNP', 'CD', 'NN', '.'], ['IN', 'IN', ',', 'NNP', 'NNP', 'VBZ', '-NONE-', '-NONE-', '-NONE-', '-NONE-', '-NONE-', '-NONE-', ',', 'NN', 'NNS', 'NNS', 'VBP', 'JJ', '-NONE-', 'VBG', 'VBG', 'VBG', 'IN', 'JJ', 'JJ', 'NNS', ':', ':', 'CD', 'JJ', 'JJ', 'NN', 'VBD', 'PRP', 'TO', 'DT', 'NNS', 'NNS', 'NNS', 'IN', 'NNP', 'NNP', '.'], ['DT', 'JJ', 'NNS', 'RB', ',', 'IN', 'DT', 'NNP', 'NNP', 'NNP', 'NNP', 'NNP', 'POS', 'POS', 'NN', ',', 'DT', 'NNS', 'VBG', 'VBG', 'VBG', 'VBG', 'DT', 'NN', 'RB', 'VBD', 'VBN', 'VBN', 'VBN', 'PRP$', 'NNP', 'JJ', 'JJ', 'NNP', 'NNS', 'IN', 'DT', 'JJ', 'NN', 'IN', 'JJ', 'NNP', 'NNP', '.']],\nInput references: [['NNS', 'NNS', 'VBD', '-NONE-', 'NNS', 'RB', 'VBD', 'VBN', '-NONE-', '-NONE-', '-NONE-', 'IN', 'JJ', 'NNS', 'NNS', 'IN', 'DT', 'NNP', 'NNP', 'NNP', 'VBZ', 'IN', 'DT', 'NN', 'NN', 'IN', '-NONE-', 'VBG', 'RBS', 'JJ', 'JJ', 'NN', 'NN', 'IN', 'DT', 'NNP', 'NNP', 'NNP', 'NNP', '.'], ['JJR', 'NNS', 'NNS', 'MD', 'VB', 'VB', 'RB', 'NNS', 'NNS', 'IN', 'JJR', 'NNS', 'NNS', 'WP', '-NONE-', '-NONE-', '-NONE-', '-NONE-', '-NONE-', 'VBP', 'JJR', 'NNS', 'NNS', 'VB', 'CC', 'VB', ',', 'PRP', 'VBP', '-NONE-', '-NONE-', '-NONE-', '-NONE-', '-NONE-', '.'], ['JJ', 'TO', 'RB', 'RB', 'JJ', 'NN', 'NNS', 'VBN', '-NONE-', 'TO', 'NN', 'NN', 'IN', 'DT', 'NNP', 'NNP', 'NNP', 'NNP', 'NN', ',', 'NN', 'NN', 'NN', 'VBD', 'VBN', '-NONE-', '-NONE-', '-NONE-', 'IN', 'NN', 'CC', 'NN', 'NNS', ',', 'WDT', 'NNS', 'NNS', 'VBD', '-NONE-', '-NONE-', '-NONE-', '-NONE-', '-NONE-', 'DT', '``', '``', 'JJ', \"''\", \"''\", 'NN', 'RB', 'VBN', '-NONE-', 'WRB', 'DT', 'NN', 'VBZ', 'VBN', '-NONE-', '-NONE-', '-NONE-', 'TO', 'VB', '-NONE-', '-NONE-', '-NONE-', '-NONE-', '-NONE-', 'CC', 'IN', 'NNS', 'IN', 'NN', '.'], ..., ['IN', 'NN', ',', 'EX', 'VBP', 'NNS', 'IN', 'DT', 'NNP', 'NNP', 'NNP', 'CD', 'NNS', 'NNS', 'NN', 'CC', 'IN', 'DT', 'NNP', 'NNP', 'NNP', 'CD', 'NN', '.'], ['IN', 'IN', ',', 'NNP', 'NNP', 'VBZ', '-NONE-', '-NONE-', '-NONE-', '-NONE-', '-NONE-', '-NONE-', ',', 'NN', 'NNS', 'NNS', 'VBP', 'IN', '-NONE-', 'VBG', 'VBG', 'VBG', 'IN', 'JJ', 'JJ', 'NNS', ':', ':', 'CD', 'JJ', 'JJ', 'NN', 'VBD', 'PRP', 'TO', 'DT', 'NNS', 'NNS', 'NNS', 'IN', 'NNP', 'NNP', '.'], ['DT', 'JJ', 'NNS', 'RB', ',', 'IN', 'DT', 'NNP', 'NNP', 'NNP', 'NNP', 'NN', 'POS', 'POS', 'NN', ',', 'DT', 'NNS', 'VBG', 'VBG', 'VBG', 'VBG', 'DT', 'NN', 'RB', 'VBD', 'VBN', 'VBN', 'VBN', 'PRP$', 'JJ', 'JJ', 'JJ', 'JJ', 'NNS', 'IN', 'DT', 'JJ', 'NN', 'IN', 'JJ', 'NNP', 'NNP', '.']]",
     "output_type": "error",
     "traceback": [
      "\u001b[31m---------------------------------------------------------------------------\u001b[39m",
      "\u001b[31mValueError\u001b[39m                                Traceback (most recent call last)",
      "\u001b[36mCell\u001b[39m\u001b[36m \u001b[39m\u001b[32mIn[10]\u001b[39m\u001b[32m, line 23\u001b[39m\n\u001b[32m      5\u001b[39m training_args = TrainingArguments(\n\u001b[32m      6\u001b[39m     output_dir=\u001b[33m\"\u001b[39m\u001b[33m./results\u001b[39m\u001b[33m\"\u001b[39m,\n\u001b[32m      7\u001b[39m     evaluation_strategy=\u001b[33m\"\u001b[39m\u001b[33mepoch\u001b[39m\u001b[33m\"\u001b[39m,\n\u001b[32m   (...)\u001b[39m\u001b[32m     11\u001b[39m     num_train_epochs=\u001b[32m10\u001b[39m,\n\u001b[32m     12\u001b[39m )\n\u001b[32m     14\u001b[39m trainer = Trainer(\n\u001b[32m     15\u001b[39m     model=model,\n\u001b[32m     16\u001b[39m     args=training_args,\n\u001b[32m   (...)\u001b[39m\u001b[32m     20\u001b[39m     tokenizer=tokenizer,\n\u001b[32m     21\u001b[39m )\n\u001b[32m---> \u001b[39m\u001b[32m23\u001b[39m \u001b[43mtrainer\u001b[49m\u001b[43m.\u001b[49m\u001b[43mtrain\u001b[49m\u001b[43m(\u001b[49m\u001b[43m)\u001b[49m\n",
      "\u001b[36mFile \u001b[39m\u001b[32m~\\AppData\\Local\\Packages\\PythonSoftwareFoundation.Python.3.11_qbz5n2kfra8p0\\LocalCache\\local-packages\\Python311\\site-packages\\transformers\\trainer.py:2245\u001b[39m, in \u001b[36mTrainer.train\u001b[39m\u001b[34m(self, resume_from_checkpoint, trial, ignore_keys_for_eval, **kwargs)\u001b[39m\n\u001b[32m   2243\u001b[39m         hf_hub_utils.enable_progress_bars()\n\u001b[32m   2244\u001b[39m \u001b[38;5;28;01melse\u001b[39;00m:\n\u001b[32m-> \u001b[39m\u001b[32m2245\u001b[39m     \u001b[38;5;28;01mreturn\u001b[39;00m \u001b[43minner_training_loop\u001b[49m\u001b[43m(\u001b[49m\n\u001b[32m   2246\u001b[39m \u001b[43m        \u001b[49m\u001b[43margs\u001b[49m\u001b[43m=\u001b[49m\u001b[43margs\u001b[49m\u001b[43m,\u001b[49m\n\u001b[32m   2247\u001b[39m \u001b[43m        \u001b[49m\u001b[43mresume_from_checkpoint\u001b[49m\u001b[43m=\u001b[49m\u001b[43mresume_from_checkpoint\u001b[49m\u001b[43m,\u001b[49m\n\u001b[32m   2248\u001b[39m \u001b[43m        \u001b[49m\u001b[43mtrial\u001b[49m\u001b[43m=\u001b[49m\u001b[43mtrial\u001b[49m\u001b[43m,\u001b[49m\n\u001b[32m   2249\u001b[39m \u001b[43m        \u001b[49m\u001b[43mignore_keys_for_eval\u001b[49m\u001b[43m=\u001b[49m\u001b[43mignore_keys_for_eval\u001b[49m\u001b[43m,\u001b[49m\n\u001b[32m   2250\u001b[39m \u001b[43m    \u001b[49m\u001b[43m)\u001b[49m\n",
      "\u001b[36mFile \u001b[39m\u001b[32m~\\AppData\\Local\\Packages\\PythonSoftwareFoundation.Python.3.11_qbz5n2kfra8p0\\LocalCache\\local-packages\\Python311\\site-packages\\transformers\\trainer.py:2647\u001b[39m, in \u001b[36mTrainer._inner_training_loop\u001b[39m\u001b[34m(self, batch_size, args, resume_from_checkpoint, trial, ignore_keys_for_eval)\u001b[39m\n\u001b[32m   2644\u001b[39m     \u001b[38;5;28mself\u001b[39m.control.should_training_stop = \u001b[38;5;28;01mTrue\u001b[39;00m\n\u001b[32m   2646\u001b[39m \u001b[38;5;28mself\u001b[39m.control = \u001b[38;5;28mself\u001b[39m.callback_handler.on_epoch_end(args, \u001b[38;5;28mself\u001b[39m.state, \u001b[38;5;28mself\u001b[39m.control)\n\u001b[32m-> \u001b[39m\u001b[32m2647\u001b[39m \u001b[38;5;28;43mself\u001b[39;49m\u001b[43m.\u001b[49m\u001b[43m_maybe_log_save_evaluate\u001b[49m\u001b[43m(\u001b[49m\u001b[43mtr_loss\u001b[49m\u001b[43m,\u001b[49m\u001b[43m \u001b[49m\u001b[43mgrad_norm\u001b[49m\u001b[43m,\u001b[49m\u001b[43m \u001b[49m\u001b[43mmodel\u001b[49m\u001b[43m,\u001b[49m\u001b[43m \u001b[49m\u001b[43mtrial\u001b[49m\u001b[43m,\u001b[49m\u001b[43m \u001b[49m\u001b[43mepoch\u001b[49m\u001b[43m,\u001b[49m\u001b[43m \u001b[49m\u001b[43mignore_keys_for_eval\u001b[49m\u001b[43m,\u001b[49m\u001b[43m \u001b[49m\u001b[43mstart_time\u001b[49m\u001b[43m)\u001b[49m\n\u001b[32m   2649\u001b[39m \u001b[38;5;28;01mif\u001b[39;00m DebugOption.TPU_METRICS_DEBUG \u001b[38;5;129;01min\u001b[39;00m \u001b[38;5;28mself\u001b[39m.args.debug:\n\u001b[32m   2650\u001b[39m     \u001b[38;5;28;01mif\u001b[39;00m is_torch_xla_available():\n\u001b[32m   2651\u001b[39m         \u001b[38;5;66;03m# tpu-comment: Logging debug metrics for PyTorch/XLA (compile, execute times, ops, etc.)\u001b[39;00m\n",
      "\u001b[36mFile \u001b[39m\u001b[32m~\\AppData\\Local\\Packages\\PythonSoftwareFoundation.Python.3.11_qbz5n2kfra8p0\\LocalCache\\local-packages\\Python311\\site-packages\\transformers\\trainer.py:3093\u001b[39m, in \u001b[36mTrainer._maybe_log_save_evaluate\u001b[39m\u001b[34m(self, tr_loss, grad_norm, model, trial, epoch, ignore_keys_for_eval, start_time)\u001b[39m\n\u001b[32m   3091\u001b[39m metrics = \u001b[38;5;28;01mNone\u001b[39;00m\n\u001b[32m   3092\u001b[39m \u001b[38;5;28;01mif\u001b[39;00m \u001b[38;5;28mself\u001b[39m.control.should_evaluate:\n\u001b[32m-> \u001b[39m\u001b[32m3093\u001b[39m     metrics = \u001b[38;5;28;43mself\u001b[39;49m\u001b[43m.\u001b[49m\u001b[43m_evaluate\u001b[49m\u001b[43m(\u001b[49m\u001b[43mtrial\u001b[49m\u001b[43m,\u001b[49m\u001b[43m \u001b[49m\u001b[43mignore_keys_for_eval\u001b[49m\u001b[43m)\u001b[49m\n\u001b[32m   3094\u001b[39m     is_new_best_metric = \u001b[38;5;28mself\u001b[39m._determine_best_metric(metrics=metrics, trial=trial)\n\u001b[32m   3096\u001b[39m     \u001b[38;5;28;01mif\u001b[39;00m \u001b[38;5;28mself\u001b[39m.args.save_strategy == SaveStrategy.BEST:\n",
      "\u001b[36mFile \u001b[39m\u001b[32m~\\AppData\\Local\\Packages\\PythonSoftwareFoundation.Python.3.11_qbz5n2kfra8p0\\LocalCache\\local-packages\\Python311\\site-packages\\transformers\\trainer.py:3047\u001b[39m, in \u001b[36mTrainer._evaluate\u001b[39m\u001b[34m(self, trial, ignore_keys_for_eval, skip_scheduler)\u001b[39m\n\u001b[32m   3046\u001b[39m \u001b[38;5;28;01mdef\u001b[39;00m\u001b[38;5;250m \u001b[39m\u001b[34m_evaluate\u001b[39m(\u001b[38;5;28mself\u001b[39m, trial, ignore_keys_for_eval, skip_scheduler=\u001b[38;5;28;01mFalse\u001b[39;00m):\n\u001b[32m-> \u001b[39m\u001b[32m3047\u001b[39m     metrics = \u001b[38;5;28;43mself\u001b[39;49m\u001b[43m.\u001b[49m\u001b[43mevaluate\u001b[49m\u001b[43m(\u001b[49m\u001b[43mignore_keys\u001b[49m\u001b[43m=\u001b[49m\u001b[43mignore_keys_for_eval\u001b[49m\u001b[43m)\u001b[49m\n\u001b[32m   3048\u001b[39m     \u001b[38;5;28mself\u001b[39m._report_to_hp_search(trial, \u001b[38;5;28mself\u001b[39m.state.global_step, metrics)\n\u001b[32m   3050\u001b[39m     \u001b[38;5;66;03m# Run delayed LR scheduler now that metrics are populated\u001b[39;00m\n",
      "\u001b[36mFile \u001b[39m\u001b[32m~\\AppData\\Local\\Packages\\PythonSoftwareFoundation.Python.3.11_qbz5n2kfra8p0\\LocalCache\\local-packages\\Python311\\site-packages\\transformers\\trainer.py:4136\u001b[39m, in \u001b[36mTrainer.evaluate\u001b[39m\u001b[34m(self, eval_dataset, ignore_keys, metric_key_prefix)\u001b[39m\n\u001b[32m   4133\u001b[39m start_time = time.time()\n\u001b[32m   4135\u001b[39m eval_loop = \u001b[38;5;28mself\u001b[39m.prediction_loop \u001b[38;5;28;01mif\u001b[39;00m \u001b[38;5;28mself\u001b[39m.args.use_legacy_prediction_loop \u001b[38;5;28;01melse\u001b[39;00m \u001b[38;5;28mself\u001b[39m.evaluation_loop\n\u001b[32m-> \u001b[39m\u001b[32m4136\u001b[39m output = \u001b[43meval_loop\u001b[49m\u001b[43m(\u001b[49m\n\u001b[32m   4137\u001b[39m \u001b[43m    \u001b[49m\u001b[43meval_dataloader\u001b[49m\u001b[43m,\u001b[49m\n\u001b[32m   4138\u001b[39m \u001b[43m    \u001b[49m\u001b[43mdescription\u001b[49m\u001b[43m=\u001b[49m\u001b[33;43m\"\u001b[39;49m\u001b[33;43mEvaluation\u001b[39;49m\u001b[33;43m\"\u001b[39;49m\u001b[43m,\u001b[49m\n\u001b[32m   4139\u001b[39m \u001b[43m    \u001b[49m\u001b[38;5;66;43;03m# No point gathering the predictions if there are no metrics, otherwise we defer to\u001b[39;49;00m\n\u001b[32m   4140\u001b[39m \u001b[43m    \u001b[49m\u001b[38;5;66;43;03m# self.args.prediction_loss_only\u001b[39;49;00m\n\u001b[32m   4141\u001b[39m \u001b[43m    \u001b[49m\u001b[43mprediction_loss_only\u001b[49m\u001b[43m=\u001b[49m\u001b[38;5;28;43;01mTrue\u001b[39;49;00m\u001b[43m \u001b[49m\u001b[38;5;28;43;01mif\u001b[39;49;00m\u001b[43m \u001b[49m\u001b[38;5;28;43mself\u001b[39;49m\u001b[43m.\u001b[49m\u001b[43mcompute_metrics\u001b[49m\u001b[43m \u001b[49m\u001b[38;5;129;43;01mis\u001b[39;49;00m\u001b[43m \u001b[49m\u001b[38;5;28;43;01mNone\u001b[39;49;00m\u001b[43m \u001b[49m\u001b[38;5;28;43;01melse\u001b[39;49;00m\u001b[43m \u001b[49m\u001b[38;5;28;43;01mNone\u001b[39;49;00m\u001b[43m,\u001b[49m\n\u001b[32m   4142\u001b[39m \u001b[43m    \u001b[49m\u001b[43mignore_keys\u001b[49m\u001b[43m=\u001b[49m\u001b[43mignore_keys\u001b[49m\u001b[43m,\u001b[49m\n\u001b[32m   4143\u001b[39m \u001b[43m    \u001b[49m\u001b[43mmetric_key_prefix\u001b[49m\u001b[43m=\u001b[49m\u001b[43mmetric_key_prefix\u001b[49m\u001b[43m,\u001b[49m\n\u001b[32m   4144\u001b[39m \u001b[43m\u001b[49m\u001b[43m)\u001b[49m\n\u001b[32m   4146\u001b[39m total_batch_size = \u001b[38;5;28mself\u001b[39m.args.eval_batch_size * \u001b[38;5;28mself\u001b[39m.args.world_size\n\u001b[32m   4147\u001b[39m \u001b[38;5;28;01mif\u001b[39;00m \u001b[33mf\u001b[39m\u001b[33m\"\u001b[39m\u001b[38;5;132;01m{\u001b[39;00mmetric_key_prefix\u001b[38;5;132;01m}\u001b[39;00m\u001b[33m_jit_compilation_time\u001b[39m\u001b[33m\"\u001b[39m \u001b[38;5;129;01min\u001b[39;00m output.metrics:\n",
      "\u001b[36mFile \u001b[39m\u001b[32m~\\AppData\\Local\\Packages\\PythonSoftwareFoundation.Python.3.11_qbz5n2kfra8p0\\LocalCache\\local-packages\\Python311\\site-packages\\transformers\\trainer.py:4425\u001b[39m, in \u001b[36mTrainer.evaluation_loop\u001b[39m\u001b[34m(self, dataloader, description, prediction_loss_only, ignore_keys, metric_key_prefix)\u001b[39m\n\u001b[32m   4423\u001b[39m     eval_set_kwargs[\u001b[33m\"\u001b[39m\u001b[33mlosses\u001b[39m\u001b[33m\"\u001b[39m] = all_losses \u001b[38;5;28;01mif\u001b[39;00m \u001b[33m\"\u001b[39m\u001b[33mloss\u001b[39m\u001b[33m\"\u001b[39m \u001b[38;5;129;01min\u001b[39;00m args.include_for_metrics \u001b[38;5;28;01melse\u001b[39;00m \u001b[38;5;28;01mNone\u001b[39;00m\n\u001b[32m   4424\u001b[39m     eval_set_kwargs[\u001b[33m\"\u001b[39m\u001b[33minputs\u001b[39m\u001b[33m\"\u001b[39m] = all_inputs \u001b[38;5;28;01mif\u001b[39;00m \u001b[33m\"\u001b[39m\u001b[33minputs\u001b[39m\u001b[33m\"\u001b[39m \u001b[38;5;129;01min\u001b[39;00m args.include_for_metrics \u001b[38;5;28;01melse\u001b[39;00m \u001b[38;5;28;01mNone\u001b[39;00m\n\u001b[32m-> \u001b[39m\u001b[32m4425\u001b[39m     metrics = \u001b[38;5;28;43mself\u001b[39;49m\u001b[43m.\u001b[49m\u001b[43mcompute_metrics\u001b[49m\u001b[43m(\u001b[49m\n\u001b[32m   4426\u001b[39m \u001b[43m        \u001b[49m\u001b[43mEvalPrediction\u001b[49m\u001b[43m(\u001b[49m\u001b[43mpredictions\u001b[49m\u001b[43m=\u001b[49m\u001b[43mall_preds\u001b[49m\u001b[43m,\u001b[49m\u001b[43m \u001b[49m\u001b[43mlabel_ids\u001b[49m\u001b[43m=\u001b[49m\u001b[43mall_labels\u001b[49m\u001b[43m,\u001b[49m\u001b[43m \u001b[49m\u001b[43m*\u001b[49m\u001b[43m*\u001b[49m\u001b[43meval_set_kwargs\u001b[49m\u001b[43m)\u001b[49m\n\u001b[32m   4427\u001b[39m \u001b[43m    \u001b[49m\u001b[43m)\u001b[49m\n\u001b[32m   4428\u001b[39m \u001b[38;5;28;01melif\u001b[39;00m metrics \u001b[38;5;129;01mis\u001b[39;00m \u001b[38;5;28;01mNone\u001b[39;00m:\n\u001b[32m   4429\u001b[39m     metrics = {}\n",
      "\u001b[36mCell\u001b[39m\u001b[36m \u001b[39m\u001b[32mIn[9]\u001b[39m\u001b[32m, line 18\u001b[39m, in \u001b[36mcompute_metrics\u001b[39m\u001b[34m(eval_pred)\u001b[39m\n\u001b[32m     10\u001b[39m true_predictions = [\n\u001b[32m     11\u001b[39m     [id2label[p] \u001b[38;5;28;01mfor\u001b[39;00m (p, l) \u001b[38;5;129;01min\u001b[39;00m \u001b[38;5;28mzip\u001b[39m(prediction, label) \u001b[38;5;28;01mif\u001b[39;00m l != ignore_label]\n\u001b[32m     12\u001b[39m     \u001b[38;5;28;01mfor\u001b[39;00m prediction, label \u001b[38;5;129;01min\u001b[39;00m \u001b[38;5;28mzip\u001b[39m(predictions, labels)\n\u001b[32m     13\u001b[39m ]\n\u001b[32m     14\u001b[39m true_labels = [\n\u001b[32m     15\u001b[39m     [id2label[l] \u001b[38;5;28;01mfor\u001b[39;00m (p, l) \u001b[38;5;129;01min\u001b[39;00m \u001b[38;5;28mzip\u001b[39m(prediction, label) \u001b[38;5;28;01mif\u001b[39;00m l != ignore_label]\n\u001b[32m     16\u001b[39m     \u001b[38;5;28;01mfor\u001b[39;00m prediction, label \u001b[38;5;129;01min\u001b[39;00m \u001b[38;5;28mzip\u001b[39m(predictions, labels)\n\u001b[32m     17\u001b[39m ]\n\u001b[32m---> \u001b[39m\u001b[32m18\u001b[39m results = \u001b[43maccuracy\u001b[49m\u001b[43m.\u001b[49m\u001b[43mcompute\u001b[49m\u001b[43m(\u001b[49m\u001b[43mpredictions\u001b[49m\u001b[43m=\u001b[49m\u001b[43mtrue_predictions\u001b[49m\u001b[43m,\u001b[49m\u001b[43m \u001b[49m\u001b[43mreferences\u001b[49m\u001b[43m=\u001b[49m\u001b[43mtrue_labels\u001b[49m\u001b[43m)\u001b[49m\n\u001b[32m     19\u001b[39m \u001b[38;5;28;01mreturn\u001b[39;00m {\u001b[33m\"\u001b[39m\u001b[33maccuracy\u001b[39m\u001b[33m\"\u001b[39m: results[\u001b[33m\"\u001b[39m\u001b[33maccuracy\u001b[39m\u001b[33m\"\u001b[39m]}\n",
      "\u001b[36mFile \u001b[39m\u001b[32m~\\AppData\\Local\\Packages\\PythonSoftwareFoundation.Python.3.11_qbz5n2kfra8p0\\LocalCache\\local-packages\\Python311\\site-packages\\evaluate\\module.py:455\u001b[39m, in \u001b[36mEvaluationModule.compute\u001b[39m\u001b[34m(self, predictions, references, **kwargs)\u001b[39m\n\u001b[32m    452\u001b[39m compute_kwargs = {k: kwargs[k] \u001b[38;5;28;01mfor\u001b[39;00m k \u001b[38;5;129;01min\u001b[39;00m kwargs \u001b[38;5;28;01mif\u001b[39;00m k \u001b[38;5;129;01mnot\u001b[39;00m \u001b[38;5;129;01min\u001b[39;00m \u001b[38;5;28mself\u001b[39m._feature_names()}\n\u001b[32m    454\u001b[39m \u001b[38;5;28;01mif\u001b[39;00m \u001b[38;5;28many\u001b[39m(v \u001b[38;5;129;01mis\u001b[39;00m \u001b[38;5;129;01mnot\u001b[39;00m \u001b[38;5;28;01mNone\u001b[39;00m \u001b[38;5;28;01mfor\u001b[39;00m v \u001b[38;5;129;01min\u001b[39;00m inputs.values()):\n\u001b[32m--> \u001b[39m\u001b[32m455\u001b[39m     \u001b[38;5;28;43mself\u001b[39;49m\u001b[43m.\u001b[49m\u001b[43madd_batch\u001b[49m\u001b[43m(\u001b[49m\u001b[43m*\u001b[49m\u001b[43m*\u001b[49m\u001b[43minputs\u001b[49m\u001b[43m)\u001b[49m\n\u001b[32m    456\u001b[39m \u001b[38;5;28mself\u001b[39m._finalize()\n\u001b[32m    458\u001b[39m \u001b[38;5;28mself\u001b[39m.cache_file_name = \u001b[38;5;28;01mNone\u001b[39;00m\n",
      "\u001b[36mFile \u001b[39m\u001b[32m~\\AppData\\Local\\Packages\\PythonSoftwareFoundation.Python.3.11_qbz5n2kfra8p0\\LocalCache\\local-packages\\Python311\\site-packages\\evaluate\\module.py:546\u001b[39m, in \u001b[36mEvaluationModule.add_batch\u001b[39m\u001b[34m(self, predictions, references, **kwargs)\u001b[39m\n\u001b[32m    539\u001b[39m \u001b[38;5;28;01melse\u001b[39;00m:\n\u001b[32m    540\u001b[39m     error_msg = (\n\u001b[32m    541\u001b[39m         \u001b[33mf\u001b[39m\u001b[33m\"\u001b[39m\u001b[33mPredictions and/or references don\u001b[39m\u001b[33m'\u001b[39m\u001b[33mt match the expected format.\u001b[39m\u001b[38;5;130;01m\\n\u001b[39;00m\u001b[33m\"\u001b[39m\n\u001b[32m    542\u001b[39m         \u001b[33mf\u001b[39m\u001b[33m\"\u001b[39m\u001b[33mExpected format: \u001b[39m\u001b[38;5;132;01m{\u001b[39;00m\u001b[38;5;28mself\u001b[39m.selected_feature_format\u001b[38;5;250m \u001b[39m\u001b[38;5;132;01m}\u001b[39;00m\u001b[33m,\u001b[39m\u001b[38;5;130;01m\\n\u001b[39;00m\u001b[33m\"\u001b[39m\n\u001b[32m    543\u001b[39m         \u001b[33mf\u001b[39m\u001b[33m\"\u001b[39m\u001b[33mInput predictions: \u001b[39m\u001b[38;5;132;01m{\u001b[39;00msummarize_if_long_list(predictions)\u001b[38;5;132;01m}\u001b[39;00m\u001b[33m,\u001b[39m\u001b[38;5;130;01m\\n\u001b[39;00m\u001b[33m\"\u001b[39m\n\u001b[32m    544\u001b[39m         \u001b[33mf\u001b[39m\u001b[33m\"\u001b[39m\u001b[33mInput references: \u001b[39m\u001b[38;5;132;01m{\u001b[39;00msummarize_if_long_list(references)\u001b[38;5;132;01m}\u001b[39;00m\u001b[33m\"\u001b[39m\n\u001b[32m    545\u001b[39m     )\n\u001b[32m--> \u001b[39m\u001b[32m546\u001b[39m \u001b[38;5;28;01mraise\u001b[39;00m \u001b[38;5;167;01mValueError\u001b[39;00m(error_msg) \u001b[38;5;28;01mfrom\u001b[39;00m\u001b[38;5;250m \u001b[39m\u001b[38;5;28;01mNone\u001b[39;00m\n",
      "\u001b[31mValueError\u001b[39m: Predictions and/or references don't match the expected format.\nExpected format: {'predictions': Value(dtype='int32', id=None), 'references': Value(dtype='int32', id=None)},\nInput predictions: [['NNS', 'NNS', 'VBD', '-NONE-', 'NNS', 'RB', 'VBD', 'VBN', '-NONE-', '-NONE-', '-NONE-', 'IN', 'JJ', 'NNS', 'NNS', 'IN', 'DT', 'NNP', 'JJ', 'NN', 'VBZ', 'IN', 'DT', 'NN', 'NN', 'IN', '-NONE-', 'VBG', 'JJ', 'JJ', 'JJ', 'NN', 'NN', 'IN', 'DT', 'NNP', 'NNP', 'NNP', 'NNP', '.'], ['JJR', 'NNS', 'NNS', 'MD', 'VB', 'VB', '-NONE-', 'NNS', 'NNS', 'IN', 'JJR', 'NNS', 'NNS', 'WP', '-NONE-', '-NONE-', '-NONE-', '-NONE-', '-NONE-', 'VBP', 'JJR', 'NNS', 'NNS', 'VB', 'CC', 'VB', ',', 'PRP', 'VBP', '-NONE-', '-NONE-', '-NONE-', '-NONE-', '-NONE-', '.'], ['JJ', 'TO', 'RB', 'RB', 'JJ', 'NN', 'NNS', 'VBN', '-NONE-', 'TO', 'NN', 'NN', 'IN', 'DT', 'NNP', 'NNP', 'NNP', 'NNP', 'NN', ',', 'NN', 'NN', 'NN', 'VBD', 'VBN', '-NONE-', '-NONE-', '-NONE-', 'IN', 'NN', 'CC', 'NN', 'NNS', ',', 'WDT', 'NNS', 'NNS', 'VBD', '-NONE-', '-NONE-', '-NONE-', '-NONE-', '-NONE-', 'DT', '``', '``', 'JJ', \"''\", \"''\", 'NN', 'RB', 'VBN', '-NONE-', 'WRB', 'DT', 'NN', 'VBZ', 'VBN', '-NONE-', '-NONE-', '-NONE-', 'TO', 'VB', '-NONE-', '-NONE-', '-NONE-', '-NONE-', '-NONE-', 'CC', 'IN', 'NNS', 'IN', 'NN', '.'], ..., ['IN', 'NN', ',', 'VBZ', 'VBP', 'NNS', 'IN', 'DT', 'NNP', 'NNP', 'NNP', 'CD', 'NNS', 'NNS', 'NN', 'CC', 'IN', 'DT', 'NNP', 'NNP', 'NNP', 'CD', 'NN', '.'], ['IN', 'IN', ',', 'NNP', 'NNP', 'VBZ', '-NONE-', '-NONE-', '-NONE-', '-NONE-', '-NONE-', '-NONE-', ',', 'NN', 'NNS', 'NNS', 'VBP', 'JJ', '-NONE-', 'VBG', 'VBG', 'VBG', 'IN', 'JJ', 'JJ', 'NNS', ':', ':', 'CD', 'JJ', 'JJ', 'NN', 'VBD', 'PRP', 'TO', 'DT', 'NNS', 'NNS', 'NNS', 'IN', 'NNP', 'NNP', '.'], ['DT', 'JJ', 'NNS', 'RB', ',', 'IN', 'DT', 'NNP', 'NNP', 'NNP', 'NNP', 'NNP', 'POS', 'POS', 'NN', ',', 'DT', 'NNS', 'VBG', 'VBG', 'VBG', 'VBG', 'DT', 'NN', 'RB', 'VBD', 'VBN', 'VBN', 'VBN', 'PRP$', 'NNP', 'JJ', 'JJ', 'NNP', 'NNS', 'IN', 'DT', 'JJ', 'NN', 'IN', 'JJ', 'NNP', 'NNP', '.']],\nInput references: [['NNS', 'NNS', 'VBD', '-NONE-', 'NNS', 'RB', 'VBD', 'VBN', '-NONE-', '-NONE-', '-NONE-', 'IN', 'JJ', 'NNS', 'NNS', 'IN', 'DT', 'NNP', 'NNP', 'NNP', 'VBZ', 'IN', 'DT', 'NN', 'NN', 'IN', '-NONE-', 'VBG', 'RBS', 'JJ', 'JJ', 'NN', 'NN', 'IN', 'DT', 'NNP', 'NNP', 'NNP', 'NNP', '.'], ['JJR', 'NNS', 'NNS', 'MD', 'VB', 'VB', 'RB', 'NNS', 'NNS', 'IN', 'JJR', 'NNS', 'NNS', 'WP', '-NONE-', '-NONE-', '-NONE-', '-NONE-', '-NONE-', 'VBP', 'JJR', 'NNS', 'NNS', 'VB', 'CC', 'VB', ',', 'PRP', 'VBP', '-NONE-', '-NONE-', '-NONE-', '-NONE-', '-NONE-', '.'], ['JJ', 'TO', 'RB', 'RB', 'JJ', 'NN', 'NNS', 'VBN', '-NONE-', 'TO', 'NN', 'NN', 'IN', 'DT', 'NNP', 'NNP', 'NNP', 'NNP', 'NN', ',', 'NN', 'NN', 'NN', 'VBD', 'VBN', '-NONE-', '-NONE-', '-NONE-', 'IN', 'NN', 'CC', 'NN', 'NNS', ',', 'WDT', 'NNS', 'NNS', 'VBD', '-NONE-', '-NONE-', '-NONE-', '-NONE-', '-NONE-', 'DT', '``', '``', 'JJ', \"''\", \"''\", 'NN', 'RB', 'VBN', '-NONE-', 'WRB', 'DT', 'NN', 'VBZ', 'VBN', '-NONE-', '-NONE-', '-NONE-', 'TO', 'VB', '-NONE-', '-NONE-', '-NONE-', '-NONE-', '-NONE-', 'CC', 'IN', 'NNS', 'IN', 'NN', '.'], ..., ['IN', 'NN', ',', 'EX', 'VBP', 'NNS', 'IN', 'DT', 'NNP', 'NNP', 'NNP', 'CD', 'NNS', 'NNS', 'NN', 'CC', 'IN', 'DT', 'NNP', 'NNP', 'NNP', 'CD', 'NN', '.'], ['IN', 'IN', ',', 'NNP', 'NNP', 'VBZ', '-NONE-', '-NONE-', '-NONE-', '-NONE-', '-NONE-', '-NONE-', ',', 'NN', 'NNS', 'NNS', 'VBP', 'IN', '-NONE-', 'VBG', 'VBG', 'VBG', 'IN', 'JJ', 'JJ', 'NNS', ':', ':', 'CD', 'JJ', 'JJ', 'NN', 'VBD', 'PRP', 'TO', 'DT', 'NNS', 'NNS', 'NNS', 'IN', 'NNP', 'NNP', '.'], ['DT', 'JJ', 'NNS', 'RB', ',', 'IN', 'DT', 'NNP', 'NNP', 'NNP', 'NNP', 'NN', 'POS', 'POS', 'NN', ',', 'DT', 'NNS', 'VBG', 'VBG', 'VBG', 'VBG', 'DT', 'NN', 'RB', 'VBD', 'VBN', 'VBN', 'VBN', 'PRP$', 'JJ', 'JJ', 'JJ', 'JJ', 'NNS', 'IN', 'DT', 'JJ', 'NN', 'IN', 'JJ', 'NNP', 'NNP', '.']]"
     ]
    }
   ],
   "source": [
    "from transformers import TrainingArguments, Trainer\n",
    "import os\n",
    "os.environ[\"WANDB_DISABLED\"] = \"true\"  # Disable wandb logging\n",
    "\n",
    "training_args = TrainingArguments(\n",
    "    output_dir=\"./results\",\n",
    "    evaluation_strategy=\"epoch\",\n",
    "    learning_rate=1e-5,\n",
    "    per_device_train_batch_size=16,\n",
    "    per_device_eval_batch_size=16,\n",
    "    num_train_epochs=10,\n",
    ")\n",
    "\n",
    "trainer = Trainer(\n",
    "    model=model,\n",
    "    args=training_args,\n",
    "    train_dataset=train_dataset,\n",
    "    eval_dataset=valid_dataset,\n",
    "    compute_metrics=compute_metrics,\n",
    "    tokenizer=tokenizer,\n",
    ")\n",
    "\n",
    "trainer.train()"
   ]
  }
 ],
 "metadata": {
  "kernelspec": {
   "display_name": "Python 3",
   "language": "python",
   "name": "python3"
  },
  "language_info": {
   "codemirror_mode": {
    "name": "ipython",
    "version": 3
   },
   "file_extension": ".py",
   "mimetype": "text/x-python",
   "name": "python",
   "nbconvert_exporter": "python",
   "pygments_lexer": "ipython3",
   "version": "3.11.9"
  }
 },
 "nbformat": 4,
 "nbformat_minor": 2
}
