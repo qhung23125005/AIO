{
  "nbformat": 4,
  "nbformat_minor": 0,
  "metadata": {
    "colab": {
      "provenance": [],
      "authorship_tag": "ABX9TyMDJPAuK90W76wknXRL3E2a",
      "include_colab_link": true
    },
    "kernelspec": {
      "name": "python3",
      "display_name": "Python 3"
    },
    "language_info": {
      "name": "python"
    }
  },
  "cells": [
    {
      "cell_type": "markdown",
      "metadata": {
        "id": "view-in-github",
        "colab_type": "text"
      },
      "source": [
        "<a href=\"https://colab.research.google.com/github/qhung23125005/AIO/blob/main/AIO25/Warmup/Exercises/BasicLinearRegression.ipynb\" target=\"_parent\"><img src=\"https://colab.research.google.com/assets/colab-badge.svg\" alt=\"Open In Colab\"/></a>"
      ]
    },
    {
      "cell_type": "code",
      "source": [
        "import numpy as np\n",
        "import matplotlib.pyplot as plt\n",
        "import random"
      ],
      "metadata": {
        "id": "GxFBUfO3wo80"
      },
      "execution_count": null,
      "outputs": []
    },
    {
      "cell_type": "markdown",
      "source": [
        "#LoadData"
      ],
      "metadata": {
        "id": "QBhPNw_bwSAf"
      }
    },
    {
      "cell_type": "code",
      "source": [
        "!gdown 1oIvHI5w8lCtm_OcxRi94ujqQdDijzWSo"
      ],
      "metadata": {
        "colab": {
          "base_uri": "https://localhost:8080/"
        },
        "id": "AJmsAFygwUqB",
        "outputId": "a95017f4-246c-439d-b037-10aaaf3485db"
      },
      "execution_count": null,
      "outputs": [
        {
          "output_type": "stream",
          "name": "stdout",
          "text": [
            "Downloading...\n",
            "From: https://drive.google.com/uc?id=1oIvHI5w8lCtm_OcxRi94ujqQdDijzWSo\n",
            "To: /content/advertising.csv\n",
            "\r  0% 0.00/4.06k [00:00<?, ?B/s]\r100% 4.06k/4.06k [00:00<00:00, 2.17MB/s]\n"
          ]
        }
      ]
    },
    {
      "cell_type": "code",
      "execution_count": null,
      "metadata": {
        "id": "05qtZjn6ufc_"
      },
      "outputs": [],
      "source": [
        "def get_column (data, index):\n",
        "  return data[:, index]\n",
        "\n",
        "def prepare_data(file_name_dataset):\n",
        "  data = np.genfromtxt( file_name_dataset ,\n",
        "                          delimiter = ',',\n",
        "                          skip_header = 1)\n",
        "  N = len(data)\n",
        "  tv_data = get_column(data , 0)\n",
        "\n",
        "  radio_data = get_column ( data , 1)\n",
        "\n",
        "  newspaper_data = get_column ( data , 2)\n",
        "\n",
        "  sales_data = get_column ( data , 3)\n",
        "\n",
        "  X = [ tv_data , radio_data , newspaper_data ]\n",
        "  y = sales_data\n",
        "  return X , y"
      ]
    },
    {
      "cell_type": "code",
      "source": [
        "X , y = prepare_data ('advertising.csv')\n",
        "list = [ sum ( X [0][:5]) , sum ( X [1][:5]) , sum ( X [2][:5]) , sum ( y [:5]) ]\n",
        "print ( list )"
      ],
      "metadata": {
        "colab": {
          "base_uri": "https://localhost:8080/"
        },
        "id": "sYkgZO_ywfmZ",
        "outputId": "cf02d3be-9d65-47d5-a144-319cdf8faf85"
      },
      "execution_count": null,
      "outputs": [
        {
          "output_type": "stream",
          "name": "stdout",
          "text": [
            "[624.1, 175.10000000000002, 300.5, 78.9]\n"
          ]
        }
      ]
    },
    {
      "cell_type": "markdown",
      "source": [
        "#Implement basic Linear Regression"
      ],
      "metadata": {
        "id": "ZVSLcHgYyl4Z"
      }
    },
    {
      "cell_type": "code",
      "source": [
        "def initialize_params () :\n",
        "  # w1 = random . gauss ( mu =0.0 , sigma =0.01)\n",
        "  # w2 = random . gauss ( mu =0.0 , sigma =0.01)\n",
        "  # w3 = random . gauss ( mu =0.0 , sigma =0.01)\n",
        "  # b = 0\n",
        "  w1 , w2 , w3 , b = (0.016992259082509283 , 0.0070783670518262355 ,\n",
        "                      -0.002307860847821344 , 0)\n",
        "  return w1 , w2 , w3 , b"
      ],
      "metadata": {
        "id": "K67hCloqxniY"
      },
      "execution_count": null,
      "outputs": []
    },
    {
      "cell_type": "code",
      "source": [
        "def predict( x1 , x2 , x3 , w1 , w2 , w3 , b ):\n",
        "  return w1 * x1 + w2 * x2 + w3 * x3 + b\n",
        "\n",
        "y_hat = predict ( x1 =1 , x2 =1 , x3 =1 , w1 =0 , w2 =0.5 , w3 =0 , b =0.5)\n",
        "print ( y_hat )"
      ],
      "metadata": {
        "colab": {
          "base_uri": "https://localhost:8080/"
        },
        "id": "o_ew0ksjyM6B",
        "outputId": "276c0e8c-ad50-495a-c66e-93d37bd3effc"
      },
      "execution_count": null,
      "outputs": [
        {
          "output_type": "stream",
          "name": "stdout",
          "text": [
            "1.0\n"
          ]
        }
      ]
    },
    {
      "cell_type": "code",
      "source": [
        "def compute_loss(y , y_hat):\n",
        "  return (y - y_hat) ** 2\n",
        "\n",
        "l = compute_loss ( y_hat =1 , y =0.5)\n",
        "print ( l )"
      ],
      "metadata": {
        "colab": {
          "base_uri": "https://localhost:8080/"
        },
        "id": "PJMrvE_bypjr",
        "outputId": "a1b18bfd-9e7b-4b69-d89d-33a733619b0a"
      },
      "execution_count": null,
      "outputs": [
        {
          "output_type": "stream",
          "name": "stdout",
          "text": [
            "0.25\n"
          ]
        }
      ]
    },
    {
      "cell_type": "code",
      "source": [
        "def compute_gradient_wi(xi, y, y_hat):\n",
        "  dl_dwi = 2*xi*(y_hat - y)\n",
        "  return dl_dwi\n",
        "\n",
        "def compute_gradient_b(y, y_hat):\n",
        "  dl_db = 2*(y_hat - y)\n",
        "  return dl_db\n",
        "\n",
        "g_wi = compute_gradient_wi ( xi =1.0 , y =1.0 , y_hat =0.5)\n",
        "print ( g_wi )\n",
        "\n",
        "g_b = compute_gradient_b ( y =2.0 , y_hat =0.5)\n",
        "print ( g_b )"
      ],
      "metadata": {
        "colab": {
          "base_uri": "https://localhost:8080/"
        },
        "id": "qMrL-snUyyyj",
        "outputId": "b6774537-cd50-48c0-a44c-7632fcc98490"
      },
      "execution_count": null,
      "outputs": [
        {
          "output_type": "stream",
          "name": "stdout",
          "text": [
            "-1.0\n",
            "-3.0\n"
          ]
        }
      ]
    },
    {
      "cell_type": "code",
      "source": [
        "def update_weight_wi (wi , dl_dwi , lr):\n",
        "  return wi - lr * dl_dwi\n",
        "\n",
        "def update_weight_b (b , dl_db , lr):\n",
        "  return b - lr * dl_db\n",
        "\n",
        "after_wi = update_weight_wi ( wi =1.0 , dl_dwi = -0.5 , lr = 1e-5)\n",
        "print ( after_wi )\n",
        "\n",
        "after_b = update_weight_b ( b =0.5 , dl_db = -1.0 , lr = 1e-5)\n",
        "print ( after_b )"
      ],
      "metadata": {
        "colab": {
          "base_uri": "https://localhost:8080/"
        },
        "id": "zSrPkXD7zgtA",
        "outputId": "218036fb-c80a-4996-8b2e-5ff67c3eaa2b"
      },
      "execution_count": null,
      "outputs": [
        {
          "output_type": "stream",
          "name": "stdout",
          "text": [
            "1.000005\n",
            "0.50001\n"
          ]
        }
      ]
    },
    {
      "cell_type": "code",
      "source": [
        "def implement_linear_regression(X_data , y_data , epoch_max = 50 , lr = 1e-5):\n",
        "  losses = []\n",
        "  w1, w2, w3, b = initialize_params()\n",
        "\n",
        "  N = len(y_data)\n",
        "\n",
        "  for epoch in range(epoch_max):\n",
        "    for i in range(N):\n",
        "      #get a sample\n",
        "      x1 = X_data[0][i]\n",
        "      x2 = X_data[1][i]\n",
        "      x3 = X_data[2][i]\n",
        "      y = y_data[i]\n",
        "\n",
        "      #compute output\n",
        "      y_hat = predict ( x1 , x2 , x3 , w1 , w2 , w3 , b )\n",
        "\n",
        "      #compute loss\n",
        "      loss = compute_loss (y , y_hat )\n",
        "\n",
        "      # compute_gradient\n",
        "      dl_dw1 = compute_gradient_wi(x1 , y , y_hat )\n",
        "      dl_dw2 = compute_gradient_wi(x2 , y , y_hat )\n",
        "      dl_dw3 = compute_gradient_wi(x3 , y , y_hat )\n",
        "      dl_db = compute_gradient_b(y , y_hat)\n",
        "\n",
        "      # update parameters\n",
        "\n",
        "      w1 = update_weight_wi(w1 , dl_dw1 , lr)\n",
        "      w2 = update_weight_wi(w2 , dl_dw2 , lr)\n",
        "      w3 = update_weight_wi(w3 , dl_dw3 , lr)\n",
        "      b = update_weight_b(b , dl_db , lr)\n",
        "\n",
        "      losses.append(loss)\n",
        "\n",
        "  return w1 , w2 , w3 , b , losses"
      ],
      "metadata": {
        "id": "WWS6tF3mxHG5"
      },
      "execution_count": null,
      "outputs": []
    },
    {
      "cell_type": "code",
      "source": [
        "X , y = prepare_data ('advertising.csv')\n",
        "( w1 , w2 , w3 ,b , losses ) = implement_linear_regression (X , y )\n",
        "print ( w1 , w2 , w3 )"
      ],
      "metadata": {
        "colab": {
          "base_uri": "https://localhost:8080/"
        },
        "id": "oG5GBJM60IIy",
        "outputId": "1bb291ee-b7e2-414a-9bb3-7d8f8fa1553c"
      },
      "execution_count": null,
      "outputs": [
        {
          "output_type": "stream",
          "name": "stdout",
          "text": [
            "0.07405984066396477 0.15917360263437663 0.017561197559948935\n"
          ]
        }
      ]
    },
    {
      "cell_type": "code",
      "source": [
        "tv = 19.2\n",
        "radio = 35.9\n",
        "newspaper = 51.3\n",
        "sales = predict ( tv , radio , newspaper , w1 , w2 , w3 , b )\n",
        "print (f'predicted sales is { sales }')"
      ],
      "metadata": {
        "colab": {
          "base_uri": "https://localhost:8080/"
        },
        "id": "Z0DPffeM0IFS",
        "outputId": "c0ce97f2-c165-4218-b201-1591dd9d1fde"
      },
      "execution_count": null,
      "outputs": [
        {
          "output_type": "stream",
          "name": "stdout",
          "text": [
            "predicted sales is 8.176413319549823\n"
          ]
        }
      ]
    }
  ]
}