{
  "nbformat": 4,
  "nbformat_minor": 0,
  "metadata": {
    "colab": {
      "provenance": [],
      "authorship_tag": "ABX9TyPL20eigAz7aggWSf343fc1",
      "include_colab_link": true
    },
    "kernelspec": {
      "name": "python3",
      "display_name": "Python 3"
    },
    "language_info": {
      "name": "python"
    }
  },
  "cells": [
    {
      "cell_type": "markdown",
      "metadata": {
        "id": "view-in-github",
        "colab_type": "text"
      },
      "source": [
        "<a href=\"https://colab.research.google.com/github/qhung23125005/AIO/blob/main/Warmup/ControllingRandomness.ipynb\" target=\"_parent\"><img src=\"https://colab.research.google.com/assets/colab-badge.svg\" alt=\"Open In Colab\"/></a>"
      ]
    },
    {
      "cell_type": "markdown",
      "source": [
        "#Gaussian function"
      ],
      "metadata": {
        "id": "rKG5aoOn2hPz"
      }
    },
    {
      "cell_type": "markdown",
      "source": [
        "##Implementations of Gaussian function"
      ],
      "metadata": {
        "id": "MzfOBXzT5J3i"
      }
    },
    {
      "cell_type": "code",
      "execution_count": 13,
      "metadata": {
        "id": "2Lv5yGNF2a3C"
      },
      "outputs": [],
      "source": [
        "import math\n",
        "\n",
        "def gaussian(x, mean, std):\n",
        "  result = 1/(std*math.sqrt(2*math.pi))*math.exp(-pow(x-mean,2)/(2*pow(std,2)))\n",
        "  return round(result,2)"
      ]
    },
    {
      "cell_type": "code",
      "source": [
        "def gaussian_list(numbers, mean, std):\n",
        "  result = []\n",
        "  for number in numbers:\n",
        "    result.append(gaussian(number,mean,std))\n",
        "  return result"
      ],
      "metadata": {
        "id": "itazpYSW3jxh"
      },
      "execution_count": 14,
      "outputs": []
    },
    {
      "cell_type": "code",
      "source": [
        "import numpy as np\n",
        "\n",
        "def gaussian_np(array , mean , std):\n",
        "  result = (1/(std*np.sqrt(2*np.pi)))*np.exp(-pow(array-mean,2)/(2*pow(std,2)))\n",
        "  return np.round(result, 2)"
      ],
      "metadata": {
        "id": "qS45eu9R4qBA"
      },
      "execution_count": 17,
      "outputs": []
    },
    {
      "cell_type": "markdown",
      "source": [
        "##Testing"
      ],
      "metadata": {
        "id": "g3hF7EHS5N60"
      }
    },
    {
      "cell_type": "code",
      "source": [
        "x = 1\n",
        "mean = 0\n",
        "std = 1\n",
        "\n",
        "print(gaussian(x,mean,std))"
      ],
      "metadata": {
        "colab": {
          "base_uri": "https://localhost:8080/"
        },
        "id": "lcubslnP26l1",
        "outputId": "4c27aad6-46ac-440d-bf9f-0a7936865453"
      },
      "execution_count": 15,
      "outputs": [
        {
          "output_type": "stream",
          "name": "stdout",
          "text": [
            "0.24\n"
          ]
        }
      ]
    },
    {
      "cell_type": "code",
      "source": [
        "numbers = [-3, 0.4, 2]\n",
        "mean = 0\n",
        "std = 2\n",
        "\n",
        "print(gaussian_list(numbers,mean,std))"
      ],
      "metadata": {
        "colab": {
          "base_uri": "https://localhost:8080/"
        },
        "id": "YgizmSo83oY3",
        "outputId": "017183c8-c4b6-4671-bff8-04b5ed362dd8"
      },
      "execution_count": 16,
      "outputs": [
        {
          "output_type": "stream",
          "name": "stdout",
          "text": [
            "[0.06, 0.2, 0.12]\n"
          ]
        }
      ]
    },
    {
      "cell_type": "code",
      "source": [
        "array = np.array([-0.1, 0.01, -3])\n",
        "mean = 0\n",
        "std = 3\n",
        "\n",
        "print(gaussian_np(array,mean,std))"
      ],
      "metadata": {
        "colab": {
          "base_uri": "https://localhost:8080/"
        },
        "id": "a4nwLdYj45PL",
        "outputId": "91ddae31-ea17-4395-b94b-d5a184ddd0a7"
      },
      "execution_count": 18,
      "outputs": [
        {
          "output_type": "stream",
          "name": "stdout",
          "text": [
            "[0.13 0.13 0.08]\n"
          ]
        }
      ]
    },
    {
      "cell_type": "markdown",
      "source": [
        "#Classical probability"
      ],
      "metadata": {
        "id": "UbO7mcjt5QCy"
      }
    },
    {
      "cell_type": "code",
      "source": [
        "import random\n",
        "\n",
        "def generate_dice_rolls (n , seed =0) :\n",
        "  random.seed(seed)\n",
        "  return [ random . randint (1 , 6) for _ in range ( n ) ]"
      ],
      "metadata": {
        "id": "JDIAvgII5XT7"
      },
      "execution_count": 20,
      "outputs": []
    },
    {
      "cell_type": "code",
      "source": [
        "def count_occurrences(dice_rolls, number):\n",
        "  result = dice_rolls.count(number)\n",
        "  return result"
      ],
      "metadata": {
        "id": "UkPVAvr052zT"
      },
      "execution_count": 21,
      "outputs": []
    },
    {
      "cell_type": "code",
      "source": [
        "def calculate_probability(dice_rolls, number):\n",
        "  return count_occurrences(dice_rolls, number)/len(dice_rolls)"
      ],
      "metadata": {
        "id": "3gkgNY1O6U54"
      },
      "execution_count": 23,
      "outputs": []
    },
    {
      "cell_type": "code",
      "source": [
        "n_rolls = 1000\n",
        "dice_rolls = generate_dice_rolls(n_rolls)"
      ],
      "metadata": {
        "id": "S5IsoBYs6DvR"
      },
      "execution_count": 24,
      "outputs": []
    },
    {
      "cell_type": "code",
      "source": [
        "number_of_interest = 6\n",
        "occurences = count_occurrences(dice_rolls, number_of_interest)\n",
        "print(occurences)"
      ],
      "metadata": {
        "colab": {
          "base_uri": "https://localhost:8080/"
        },
        "id": "dObuAN2n6eLt",
        "outputId": "79b2c049-6aef-4d41-f0d9-8a971b9ab36e"
      },
      "execution_count": 25,
      "outputs": [
        {
          "output_type": "stream",
          "name": "stdout",
          "text": [
            "169\n"
          ]
        }
      ]
    },
    {
      "cell_type": "code",
      "source": [
        "number_of_interest = 4\n",
        "probability = calculate_probability(dice_rolls, number_of_interest)\n",
        "print(probability)"
      ],
      "metadata": {
        "colab": {
          "base_uri": "https://localhost:8080/"
        },
        "id": "Pwtr-uwY6aDW",
        "outputId": "4660cdd6-e8a7-42b1-d60d-8b1b7b34a8fb"
      },
      "execution_count": 26,
      "outputs": [
        {
          "output_type": "stream",
          "name": "stdout",
          "text": [
            "0.17\n"
          ]
        }
      ]
    }
  ]
}
